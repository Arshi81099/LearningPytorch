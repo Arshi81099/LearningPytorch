{
  "nbformat": 4,
  "nbformat_minor": 0,
  "metadata": {
    "colab": {
      "provenance": [],
      "authorship_tag": "ABX9TyO6Q1DEyCWYz1gSeWnFXeob",
      "include_colab_link": true
    },
    "kernelspec": {
      "name": "python3",
      "display_name": "Python 3"
    },
    "language_info": {
      "name": "python"
    }
  },
  "cells": [
    {
      "cell_type": "markdown",
      "metadata": {
        "id": "view-in-github",
        "colab_type": "text"
      },
      "source": [
        "<a href=\"https://colab.research.google.com/github/dxvsh/LearningPytorch/blob/main/PytorchZTM/00_pytorch_fundamentals.ipynb\" target=\"_parent\"><img src=\"https://colab.research.google.com/assets/colab-badge.svg\" alt=\"Open In Colab\"/></a>"
      ]
    },
    {
      "cell_type": "markdown",
      "source": [
        "## 00. Pytorch Fundamentals\n",
        "\n",
        "Reference Chapter from the LearnPytorch website: https://www.learnpytorch.io/00_pytorch_fundamentals/"
      ],
      "metadata": {
        "id": "KCpxEUPyBA-W"
      }
    },
    {
      "cell_type": "code",
      "execution_count": null,
      "metadata": {
        "colab": {
          "base_uri": "https://localhost:8080/"
        },
        "id": "HHo4IS33A5gY",
        "outputId": "9eef0683-4378-4a5c-b6f2-838e6b69aa10"
      },
      "outputs": [
        {
          "output_type": "stream",
          "name": "stdout",
          "text": [
            "2.4.1+cu121\n"
          ]
        }
      ],
      "source": [
        "import torch\n",
        "import pandas as pd\n",
        "import numpy as np\n",
        "import matplotlib.pyplot as plt\n",
        "print(torch.__version__)"
      ]
    },
    {
      "cell_type": "markdown",
      "source": [
        "## Introduction to Tensor\n",
        "\n",
        "Creating Tensors\n",
        "\n",
        "Pytorch tensors are created using `torch.tensor`"
      ],
      "metadata": {
        "id": "USScGNUlBcUh"
      }
    },
    {
      "cell_type": "code",
      "source": [
        "# scalar\n",
        "scalar = torch.tensor(7)\n",
        "scalar"
      ],
      "metadata": {
        "colab": {
          "base_uri": "https://localhost:8080/"
        },
        "id": "7eYAf3N6BgJJ",
        "outputId": "f3a751a9-3a2c-493f-8004-fa1b90b3119f"
      },
      "execution_count": null,
      "outputs": [
        {
          "output_type": "execute_result",
          "data": {
            "text/plain": [
              "tensor(7)"
            ]
          },
          "metadata": {},
          "execution_count": 10
        }
      ]
    },
    {
      "cell_type": "markdown",
      "source": [
        "The `tensor.ndim` function gives the number of dimensions of the tensor"
      ],
      "metadata": {
        "id": "TFCg6x7vElph"
      }
    },
    {
      "cell_type": "code",
      "source": [
        "scalar.ndim # the number of dimensions of this scalar"
      ],
      "metadata": {
        "colab": {
          "base_uri": "https://localhost:8080/"
        },
        "id": "GPSvP3TiBzJ5",
        "outputId": "6771b272-ff86-4d47-ec1c-7c68348467fe"
      },
      "execution_count": null,
      "outputs": [
        {
          "output_type": "execute_result",
          "data": {
            "text/plain": [
              "0"
            ]
          },
          "metadata": {},
          "execution_count": 20
        }
      ]
    },
    {
      "cell_type": "code",
      "source": [
        "# retrieve the number from the Tensor as a python int\n",
        "scalar.item()"
      ],
      "metadata": {
        "colab": {
          "base_uri": "https://localhost:8080/"
        },
        "id": "KE0qpCdRCTOn",
        "outputId": "19c942ef-088b-4c7a-e068-013c725e5849"
      },
      "execution_count": null,
      "outputs": [
        {
          "output_type": "execute_result",
          "data": {
            "text/plain": [
              "7"
            ]
          },
          "metadata": {},
          "execution_count": 12
        }
      ]
    },
    {
      "cell_type": "code",
      "source": [
        "# Vector\n",
        "\n",
        "vector = torch.tensor([7,7,8,8])\n",
        "vector"
      ],
      "metadata": {
        "colab": {
          "base_uri": "https://localhost:8080/"
        },
        "id": "VyJPOrViCZJ0",
        "outputId": "305a038b-abe6-4564-86c3-19ba34b59e35"
      },
      "execution_count": null,
      "outputs": [
        {
          "output_type": "execute_result",
          "data": {
            "text/plain": [
              "tensor([7, 7, 8, 8])"
            ]
          },
          "metadata": {},
          "execution_count": 14
        }
      ]
    },
    {
      "cell_type": "markdown",
      "source": [
        "A vector just has a single dimension"
      ],
      "metadata": {
        "id": "lPpw9bjnE4D4"
      }
    },
    {
      "cell_type": "code",
      "source": [
        "# dimensions of the vector\n",
        "vector.ndim"
      ],
      "metadata": {
        "colab": {
          "base_uri": "https://localhost:8080/"
        },
        "id": "d-kVblu1CjvT",
        "outputId": "ee992bb2-db15-45b6-e0a5-11bff1fa2e90"
      },
      "execution_count": null,
      "outputs": [
        {
          "output_type": "execute_result",
          "data": {
            "text/plain": [
              "1"
            ]
          },
          "metadata": {},
          "execution_count": 16
        }
      ]
    },
    {
      "cell_type": "code",
      "source": [
        "# Inspecting the shape of a vector\n",
        "vector.shape"
      ],
      "metadata": {
        "colab": {
          "base_uri": "https://localhost:8080/"
        },
        "id": "rNlq-BnLCyiO",
        "outputId": "f227ef3b-6210-4bae-fd7b-6b1fd5660ed5"
      },
      "execution_count": null,
      "outputs": [
        {
          "output_type": "execute_result",
          "data": {
            "text/plain": [
              "torch.Size([4])"
            ]
          },
          "metadata": {},
          "execution_count": 17
        }
      ]
    },
    {
      "cell_type": "code",
      "source": [
        "# Matrix\n",
        "\n",
        "MATRIX = torch.tensor([[7,8],\n",
        "                       [9,10]])\n",
        "\n",
        "MATRIX"
      ],
      "metadata": {
        "colab": {
          "base_uri": "https://localhost:8080/"
        },
        "id": "xPgtWyJ_EMXx",
        "outputId": "9060feb3-ef7e-4274-bea3-5b22b79b0b40"
      },
      "execution_count": null,
      "outputs": [
        {
          "output_type": "execute_result",
          "data": {
            "text/plain": [
              "tensor([[ 7,  8],\n",
              "        [ 9, 10]])"
            ]
          },
          "metadata": {},
          "execution_count": 18
        }
      ]
    },
    {
      "cell_type": "code",
      "source": [
        "print(f\"The shape of the matrix is: {MATRIX.shape}\")\n",
        "print(f\"The number of dimensions in the matrix are: {MATRIX.ndim}\")"
      ],
      "metadata": {
        "colab": {
          "base_uri": "https://localhost:8080/"
        },
        "id": "2ZNHAXt3EZ4X",
        "outputId": "8120c9f4-63c6-48d1-daa9-90ebe47f1a6a"
      },
      "execution_count": null,
      "outputs": [
        {
          "output_type": "stream",
          "name": "stdout",
          "text": [
            "The shape of the matrix is: torch.Size([2, 2])\n",
            "The number of dimensions in the matrix are: 2\n"
          ]
        }
      ]
    },
    {
      "cell_type": "code",
      "source": [
        "# Tensor\n",
        "TENSOR = torch.tensor([[[1, 2, 3],\n",
        "                        [3, 6, 9],\n",
        "                        [2, 4, 5]]])\n",
        "TENSOR"
      ],
      "metadata": {
        "colab": {
          "base_uri": "https://localhost:8080/"
        },
        "id": "MxPIvzlxIH0w",
        "outputId": "54865877-a1e0-4cdb-8805-8ecb1236b060"
      },
      "execution_count": null,
      "outputs": [
        {
          "output_type": "execute_result",
          "data": {
            "text/plain": [
              "tensor([[[1, 2, 3],\n",
              "         [3, 6, 9],\n",
              "         [2, 4, 5]]])"
            ]
          },
          "metadata": {},
          "execution_count": 31
        }
      ]
    },
    {
      "cell_type": "code",
      "source": [
        "TENSOR.shape, TENSOR.ndim"
      ],
      "metadata": {
        "colab": {
          "base_uri": "https://localhost:8080/"
        },
        "id": "dAQCyQVNIHqz",
        "outputId": "3e78fbcc-bbde-4459-d8d0-05a964258593"
      },
      "execution_count": null,
      "outputs": [
        {
          "output_type": "execute_result",
          "data": {
            "text/plain": [
              "(torch.Size([1, 3, 3]), 3)"
            ]
          },
          "metadata": {},
          "execution_count": 32
        }
      ]
    },
    {
      "cell_type": "markdown",
      "source": [
        "\n",
        "So the shape is `torch.Size([1, 3, 3])`.\n",
        "\n",
        "Observe that the dimensions go outer to inner.\n",
        "\n",
        "That means there's 1 dimension of 3 by 3."
      ],
      "metadata": {
        "id": "kyAvu4nhITqZ"
      }
    },
    {
      "cell_type": "markdown",
      "source": [
        "![image.png](data:image/png;base64,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)"
      ],
      "metadata": {
        "id": "7uwf6HhkIfN4"
      }
    },
    {
      "cell_type": "markdown",
      "source": [
        "Lets try another example:"
      ],
      "metadata": {
        "id": "844fuK-3Iv8e"
      }
    },
    {
      "cell_type": "code",
      "source": [
        "# Tensor\n",
        "\n",
        "TENSOR = torch.tensor([[[1,2,3],\n",
        "                        [2,3,4]],\n",
        "\n",
        "                        [[3,4,5],\n",
        "                         [4,5,6]]])\n"
      ],
      "metadata": {
        "id": "VD18JOA4FVld"
      },
      "execution_count": null,
      "outputs": []
    },
    {
      "cell_type": "markdown",
      "source": [
        "What do you think are the shape and number of dimensions for this tensor?"
      ],
      "metadata": {
        "id": "ldH1_fg1HC0x"
      }
    },
    {
      "cell_type": "code",
      "source": [
        "print(f\"The shape of the Tensor is: {TENSOR.shape}\")\n",
        "print(f\"The number of dimensions in the Tensor are: {TENSOR.ndim}\")"
      ],
      "metadata": {
        "colab": {
          "base_uri": "https://localhost:8080/"
        },
        "id": "C3Dl6KOLG1jp",
        "outputId": "f24d4320-ed24-4167-bd74-078f3a3c424d"
      },
      "execution_count": null,
      "outputs": [
        {
          "output_type": "stream",
          "name": "stdout",
          "text": [
            "The shape of the Tensor is: torch.Size([2, 2, 3])\n",
            "The number of dimensions in the Tensor are: 3\n"
          ]
        }
      ]
    },
    {
      "cell_type": "markdown",
      "source": [
        "## Random Tensors\n",
        "\n",
        "We can also create tensors of random numbers using the `torch.rand()` function and passing in the size parameter."
      ],
      "metadata": {
        "id": "X_AD3ySDJICb"
      }
    },
    {
      "cell_type": "code",
      "source": [
        "# create a random tensor of size (3,4)\n",
        "\n",
        "random_tensor = torch.rand(size=(3,4))\n",
        "random_tensor, random_tensor.dtype"
      ],
      "metadata": {
        "colab": {
          "base_uri": "https://localhost:8080/"
        },
        "id": "n8iuIobuI92s",
        "outputId": "12d3501c-d103-47a2-c40d-dae71aaa258b"
      },
      "execution_count": null,
      "outputs": [
        {
          "output_type": "execute_result",
          "data": {
            "text/plain": [
              "(tensor([[0.5713, 0.0109, 0.9275, 0.7308],\n",
              "         [0.5432, 0.5834, 0.9125, 0.2550],\n",
              "         [0.3371, 0.6581, 0.5364, 0.7890]]),\n",
              " torch.float32)"
            ]
          },
          "metadata": {},
          "execution_count": 35
        }
      ]
    },
    {
      "cell_type": "code",
      "source": [
        "random_tensor.shape"
      ],
      "metadata": {
        "colab": {
          "base_uri": "https://localhost:8080/"
        },
        "id": "IcVdZWzELIK2",
        "outputId": "cbb3ad01-d133-498b-e4e4-1ae652e2964f"
      },
      "execution_count": null,
      "outputs": [
        {
          "output_type": "execute_result",
          "data": {
            "text/plain": [
              "torch.Size([3, 4])"
            ]
          },
          "metadata": {},
          "execution_count": 36
        }
      ]
    },
    {
      "cell_type": "markdown",
      "source": [
        "Lets try creating a tensor to represent an image. For example a 224x224 image with 3 channels (R, G, B)\n",
        "\n"
      ],
      "metadata": {
        "id": "gIXySOh4MJqa"
      }
    },
    {
      "cell_type": "code",
      "source": [
        "random_image_tensor = torch.rand(size=(3,224,224))\n",
        "random_image_tensor"
      ],
      "metadata": {
        "colab": {
          "base_uri": "https://localhost:8080/"
        },
        "id": "pDaD0XyoL4WO",
        "outputId": "0f3facf6-73d6-45f7-cf75-110e70992e15"
      },
      "execution_count": null,
      "outputs": [
        {
          "output_type": "execute_result",
          "data": {
            "text/plain": [
              "tensor([[[0.1996, 0.2206, 0.7305,  ..., 0.6629, 0.3256, 0.1257],\n",
              "         [0.8753, 0.7224, 0.4578,  ..., 0.8958, 0.2767, 0.8919],\n",
              "         [0.8302, 0.8892, 0.6402,  ..., 0.4409, 0.1564, 0.4813],\n",
              "         ...,\n",
              "         [0.4031, 0.2891, 0.1201,  ..., 0.7875, 0.7197, 0.1941],\n",
              "         [0.3280, 0.0044, 0.4373,  ..., 0.3710, 0.4472, 0.0637],\n",
              "         [0.4300, 0.5080, 0.0525,  ..., 0.7542, 0.0320, 0.8440]],\n",
              "\n",
              "        [[0.6850, 0.3978, 0.2086,  ..., 0.0583, 0.7928, 0.0256],\n",
              "         [0.2676, 0.8154, 0.8949,  ..., 0.7134, 0.6350, 0.6358],\n",
              "         [0.2141, 0.9657, 0.9133,  ..., 0.0948, 0.5527, 0.4648],\n",
              "         ...,\n",
              "         [0.2563, 0.9631, 0.6927,  ..., 0.6202, 0.2373, 0.3238],\n",
              "         [0.5865, 0.9967, 0.8261,  ..., 0.4979, 0.1050, 0.2007],\n",
              "         [0.7888, 0.1305, 0.5444,  ..., 0.6663, 0.1800, 0.6223]],\n",
              "\n",
              "        [[0.4286, 0.6900, 0.7214,  ..., 0.6827, 0.4268, 0.1025],\n",
              "         [0.0864, 0.8077, 0.8850,  ..., 0.3398, 0.2879, 0.8584],\n",
              "         [0.1586, 0.3343, 0.1789,  ..., 0.0083, 0.5985, 0.3533],\n",
              "         ...,\n",
              "         [0.8887, 0.9796, 0.6423,  ..., 0.2077, 0.6512, 0.6903],\n",
              "         [0.0364, 0.7607, 0.2168,  ..., 0.4399, 0.8443, 0.1696],\n",
              "         [0.1655, 0.3036, 0.0387,  ..., 0.8973, 0.7437, 0.0322]]])"
            ]
          },
          "metadata": {},
          "execution_count": 39
        }
      ]
    },
    {
      "cell_type": "markdown",
      "source": [
        "## Zeros and Ones\n",
        "\n",
        "Creating tensors filled with zeros and ones.\n",
        "\n",
        "This can be done with `torch.zeros()` and `torch.ones()` function."
      ],
      "metadata": {
        "id": "Gqr-m-GCMeu-"
      }
    },
    {
      "cell_type": "code",
      "source": [
        "# for example, creating a 3x3x3 tensor of zeros\n",
        "torch.zeros(size=(3,3,3))"
      ],
      "metadata": {
        "colab": {
          "base_uri": "https://localhost:8080/"
        },
        "id": "WntShzc7Megt",
        "outputId": "49005857-ceca-46d6-fe3f-de33bfea5214"
      },
      "execution_count": null,
      "outputs": [
        {
          "output_type": "execute_result",
          "data": {
            "text/plain": [
              "tensor([[[0., 0., 0.],\n",
              "         [0., 0., 0.],\n",
              "         [0., 0., 0.]],\n",
              "\n",
              "        [[0., 0., 0.],\n",
              "         [0., 0., 0.],\n",
              "         [0., 0., 0.]],\n",
              "\n",
              "        [[0., 0., 0.],\n",
              "         [0., 0., 0.],\n",
              "         [0., 0., 0.]]])"
            ]
          },
          "metadata": {},
          "execution_count": 41
        }
      ]
    },
    {
      "cell_type": "code",
      "source": [
        "# creating a 2x3x4 tensor of ones\n",
        "torch.ones(size=(2,3,4))"
      ],
      "metadata": {
        "colab": {
          "base_uri": "https://localhost:8080/"
        },
        "id": "s9H0ReSrNOar",
        "outputId": "57a7b98c-0641-4d9a-ba65-85f9bc529023"
      },
      "execution_count": null,
      "outputs": [
        {
          "output_type": "execute_result",
          "data": {
            "text/plain": [
              "tensor([[[1., 1., 1., 1.],\n",
              "         [1., 1., 1., 1.],\n",
              "         [1., 1., 1., 1.]],\n",
              "\n",
              "        [[1., 1., 1., 1.],\n",
              "         [1., 1., 1., 1.],\n",
              "         [1., 1., 1., 1.]]])"
            ]
          },
          "metadata": {},
          "execution_count": 44
        }
      ]
    },
    {
      "cell_type": "markdown",
      "source": [
        "## Creating a tensor with a range\n",
        "\n",
        "You can use the `torch.arange(start, end, step)` function for this"
      ],
      "metadata": {
        "id": "ojzwjxYANrB-"
      }
    },
    {
      "cell_type": "code",
      "source": [
        "torch.arange(0, 10, 2)"
      ],
      "metadata": {
        "colab": {
          "base_uri": "https://localhost:8080/"
        },
        "id": "9C9eEdRuNrkG",
        "outputId": "1dccf02c-1330-4bc3-c13c-b0695f55a20b"
      },
      "execution_count": null,
      "outputs": [
        {
          "output_type": "execute_result",
          "data": {
            "text/plain": [
              "tensor([0, 2, 4, 6, 8])"
            ]
          },
          "metadata": {},
          "execution_count": 45
        }
      ]
    },
    {
      "cell_type": "markdown",
      "source": [
        "## Creating tensors like other tensors\n",
        "\n",
        "We can create tensors that are similar to other tensors in their shape and size\n",
        "\n",
        "\n",
        "\n",
        "1.   `torch.zeros_like(input_tensor)`: creates a tensor of zeros like the input tensor\n",
        "2.   `torch.ones_like(input_tensor)`: creates a tensor of ones like the input tensor\n",
        "3.   `torch.rand_like(input_tensor)`: creates a tensor of random elements like the input tensor\n",
        "\n",
        "\n",
        "\n"
      ],
      "metadata": {
        "id": "r7OeFDhUN_bb"
      }
    },
    {
      "cell_type": "code",
      "source": [
        "eg_tensor = torch.tensor([[1,2,3,4],\n",
        "                          [2,3,4,5],\n",
        "                          [3,4,5,6]])"
      ],
      "metadata": {
        "id": "LwdJeF_AN84G"
      },
      "execution_count": null,
      "outputs": []
    },
    {
      "cell_type": "code",
      "source": [
        "torch.zeros_like(eg_tensor)"
      ],
      "metadata": {
        "colab": {
          "base_uri": "https://localhost:8080/"
        },
        "id": "-yBKmDZxPOx3",
        "outputId": "1f807843-7c1e-4935-b044-6acb1cc14090"
      },
      "execution_count": null,
      "outputs": [
        {
          "output_type": "execute_result",
          "data": {
            "text/plain": [
              "tensor([[0, 0, 0, 0],\n",
              "        [0, 0, 0, 0],\n",
              "        [0, 0, 0, 0]])"
            ]
          },
          "metadata": {},
          "execution_count": 47
        }
      ]
    },
    {
      "cell_type": "code",
      "source": [
        "torch.ones_like(eg_tensor)"
      ],
      "metadata": {
        "colab": {
          "base_uri": "https://localhost:8080/"
        },
        "id": "Vjv8M0lFPR6n",
        "outputId": "a2a0da89-9041-4cf5-bde7-b131c528b858"
      },
      "execution_count": null,
      "outputs": [
        {
          "output_type": "execute_result",
          "data": {
            "text/plain": [
              "tensor([[1, 1, 1, 1],\n",
              "        [1, 1, 1, 1],\n",
              "        [1, 1, 1, 1]])"
            ]
          },
          "metadata": {},
          "execution_count": 48
        }
      ]
    },
    {
      "cell_type": "code",
      "source": [
        "torch.rand_like(eg_tensor, dtype=torch.float32)"
      ],
      "metadata": {
        "colab": {
          "base_uri": "https://localhost:8080/"
        },
        "id": "q9c6wbZQPTsc",
        "outputId": "7674df10-f64e-44e0-8782-a0ce847f514b"
      },
      "execution_count": null,
      "outputs": [
        {
          "output_type": "execute_result",
          "data": {
            "text/plain": [
              "tensor([[0.7149, 0.2501, 0.1975, 0.4542],\n",
              "        [0.3358, 0.1936, 0.4757, 0.1908],\n",
              "        [0.6301, 0.6208, 0.1185, 0.9861]])"
            ]
          },
          "metadata": {},
          "execution_count": 54
        }
      ]
    },
    {
      "cell_type": "markdown",
      "source": [
        "Creating tensors of a specific data type"
      ],
      "metadata": {
        "id": "oHI8l1WnQ2nN"
      }
    },
    {
      "cell_type": "code",
      "source": [
        "# Default datatype for tensors is float32\n",
        "float_32_tensor = torch.tensor([3.0, 6.0, 9.0],\n",
        "                               dtype=None, # defaults to None, which is torch.float32 or whatever datatype is passed\n",
        "                               device=None, # defaults to None, which uses the default tensor type\n",
        "                               requires_grad=False) # if True, operations performed on the tensor are recorded\n",
        "\n",
        "float_32_tensor.shape, float_32_tensor.dtype, float_32_tensor.device"
      ],
      "metadata": {
        "colab": {
          "base_uri": "https://localhost:8080/"
        },
        "id": "xFdsoogBQ2La",
        "outputId": "0e812f2e-17da-4f68-8a89-ce2e6c091406"
      },
      "execution_count": null,
      "outputs": [
        {
          "output_type": "execute_result",
          "data": {
            "text/plain": [
              "(torch.Size([3]), torch.float32, device(type='cpu'))"
            ]
          },
          "metadata": {},
          "execution_count": 55
        }
      ]
    },
    {
      "cell_type": "markdown",
      "source": [
        "Aside from shape issues (tensor shapes don't match up), two of the other most common issues you'll come across in PyTorch are datatype and device issues.\n",
        "\n",
        "For example, one of tensors is torch.float32 and the other is torch.float16 (PyTorch often likes tensors to be the same format).\n",
        "\n",
        "Or one of your tensors is on the CPU and the other is on the GPU (PyTorch likes calculations between tensors to be on the same device).\n",
        "\n"
      ],
      "metadata": {
        "id": "mvTn8rXLRAh7"
      }
    },
    {
      "cell_type": "markdown",
      "source": [
        "### Getting information from tensors\n",
        "\n",
        "- `shape` - what shape is the tensor? (some operations require specific shape rules)\n",
        "- `dtype` - what datatype are the elements within the tensor stored in?\n",
        "- `device` - what device is the tensor stored on? (usually GPU or CPU)\n",
        "\n",
        "These are also the most common type of issues when working with pytorch: shape mismatch issues, dtype mismatch issues, device mismatch issues"
      ],
      "metadata": {
        "id": "3SkV1CmeROwe"
      }
    },
    {
      "cell_type": "code",
      "source": [
        "# Create a tensor\n",
        "some_tensor = torch.rand(3, 4)\n",
        "\n",
        "# Find out details about it\n",
        "print(some_tensor)\n",
        "print(f\"Shape of tensor: {some_tensor.shape}\")\n",
        "print(f\"Datatype of tensor: {some_tensor.dtype}\")\n",
        "print(f\"Device tensor is stored on: {some_tensor.device}\") # will default to CPU"
      ],
      "metadata": {
        "colab": {
          "base_uri": "https://localhost:8080/"
        },
        "id": "LQPWX9xRRBJH",
        "outputId": "3b5362ce-0259-47ee-b1b5-40c2959ff01c"
      },
      "execution_count": null,
      "outputs": [
        {
          "output_type": "stream",
          "name": "stdout",
          "text": [
            "tensor([[0.2195, 0.7246, 0.2295, 0.0835],\n",
            "        [0.3792, 0.0413, 0.8510, 0.1751],\n",
            "        [0.1520, 0.3437, 0.5661, 0.4450]])\n",
            "Shape of tensor: torch.Size([3, 4])\n",
            "Datatype of tensor: torch.float32\n",
            "Device tensor is stored on: cpu\n"
          ]
        }
      ]
    },
    {
      "cell_type": "markdown",
      "source": [
        "## Manipulating tensors (tensor operations)\n"
      ],
      "metadata": {
        "id": "j-Lt9uF_Rkae"
      }
    },
    {
      "cell_type": "markdown",
      "source": [
        "### Some Basic Operations (Addition, subtraction, multiplication)"
      ],
      "metadata": {
        "id": "iiarVn8_f7C-"
      }
    },
    {
      "cell_type": "code",
      "source": [
        "# create a tensor of values and add a number to it\n",
        "tensor = torch.tensor([1,2,3])\n",
        "tensor + 10"
      ],
      "metadata": {
        "colab": {
          "base_uri": "https://localhost:8080/"
        },
        "id": "8Az0iyWUReRp",
        "outputId": "8d1d2de6-2909-4eb3-93a5-23eafb89b4b0"
      },
      "execution_count": null,
      "outputs": [
        {
          "output_type": "execute_result",
          "data": {
            "text/plain": [
              "tensor([11, 12, 13])"
            ]
          },
          "metadata": {},
          "execution_count": 58
        }
      ]
    },
    {
      "cell_type": "code",
      "source": [
        "# multiply a tensor by 10\n",
        "tensor = torch.tensor([[10,20],[20,30]])\n",
        "tensor * 10"
      ],
      "metadata": {
        "colab": {
          "base_uri": "https://localhost:8080/"
        },
        "id": "MESy8mz8gE6T",
        "outputId": "cde6eb92-b27d-440e-ccec-1f70ddb025cc"
      },
      "execution_count": null,
      "outputs": [
        {
          "output_type": "execute_result",
          "data": {
            "text/plain": [
              "tensor([[100, 200],\n",
              "        [200, 300]])"
            ]
          },
          "metadata": {},
          "execution_count": 60
        }
      ]
    },
    {
      "cell_type": "code",
      "source": [
        "# subtracting\n",
        "tensor = torch.tensor([10,20,30])\n",
        "tensor - 10"
      ],
      "metadata": {
        "colab": {
          "base_uri": "https://localhost:8080/"
        },
        "id": "jJIZBluwhAxe",
        "outputId": "a1bdd03b-1f42-4304-f83e-0ab07d29f9b8"
      },
      "execution_count": null,
      "outputs": [
        {
          "output_type": "execute_result",
          "data": {
            "text/plain": [
              "tensor([ 0, 10, 20])"
            ]
          },
          "metadata": {},
          "execution_count": 61
        }
      ]
    },
    {
      "cell_type": "markdown",
      "source": [
        "### Matrix Multiplication VS Element wise multiplication\n",
        "\n",
        "- Matrix Multiplication : use the `@` operator, or use the `torch.matmul(A, B)` function to multiply two matrices A and B. Note that they must be of appropriate dimensions for matrix multiplication.\n",
        "\n",
        "- Element Wise Multiplication : use the `*` operator for element wise multiplication of two tensors. For element wise multiplication, note that the two tensors must be of the exact same size so that the corresponding elements can be multiplied."
      ],
      "metadata": {
        "id": "jiY_N3oqhdlV"
      }
    },
    {
      "cell_type": "code",
      "source": [
        "A = torch.tensor([1,3,5])\n",
        "B = torch.tensor([2,4,6])\n",
        "\n",
        "A*B"
      ],
      "metadata": {
        "colab": {
          "base_uri": "https://localhost:8080/"
        },
        "id": "9jxr0jSYiDRw",
        "outputId": "db12d744-4077-43ea-8770-a296f0f23649"
      },
      "execution_count": null,
      "outputs": [
        {
          "output_type": "execute_result",
          "data": {
            "text/plain": [
              "tensor([ 2, 12, 30])"
            ]
          },
          "metadata": {},
          "execution_count": 66
        }
      ]
    },
    {
      "cell_type": "code",
      "source": [
        "A = torch.tensor([[1,2,3], [2,3,4]])\n",
        "B = torch.tensor([[2,3], [3,4], [4,5]])\n",
        "\n",
        "torch.matmul(A, B)"
      ],
      "metadata": {
        "id": "SbTLJUsfhiNM"
      },
      "execution_count": null,
      "outputs": []
    }
  ]
}