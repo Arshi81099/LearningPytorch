{
  "cells": [
    {
      "cell_type": "markdown",
      "metadata": {
        "id": "view-in-github",
        "colab_type": "text"
      },
      "source": [
        "<a href=\"https://colab.research.google.com/github/dxvsh/LearningPytorch/blob/main/Week2/Tokenizer.ipynb\" target=\"_parent\"><img src=\"https://colab.research.google.com/assets/colab-badge.svg\" alt=\"Open In Colab\"/></a>"
      ]
    },
    {
      "cell_type": "code",
      "execution_count": 1,
      "id": "cfa8a406",
      "metadata": {
        "editable": true,
        "tags": [],
        "id": "cfa8a406"
      },
      "outputs": [],
      "source": [
        "from ipywidgets import Layout, interact, interactive, fixed, interact_manual, widgets\n",
        "from IPython.display import display"
      ]
    },
    {
      "cell_type": "code",
      "execution_count": 2,
      "id": "800f6ca9",
      "metadata": {
        "editable": true,
        "tags": [],
        "id": "800f6ca9"
      },
      "outputs": [],
      "source": [
        "import pandas as pd\n",
        "from pprint import pprint"
      ]
    },
    {
      "cell_type": "code",
      "execution_count": 3,
      "id": "83ff519c-95fc-4e85-92ad-9b8d5c4b2e9d",
      "metadata": {
        "editable": true,
        "tags": [],
        "id": "83ff519c-95fc-4e85-92ad-9b8d5c4b2e9d"
      },
      "outputs": [],
      "source": [
        "# to display a pair of subtokens to be merged in a slider\n",
        "def get_pairs(pair:int):\n",
        "    \"\"\"\n",
        "    pair: index of the pair.\n",
        "    \"\"\"\n",
        "    if pair>0:\n",
        "        left, right = lines[pair].strip('\\n').split(' ')\n",
        "        print(f'{left} , {right}')\n",
        "\n",
        "# to display token ids  in a slider\n",
        "def display_token_id(id):\n",
        "    token,id = vocab_sorted[id]\n",
        "    print(f'id:{id} \\t token:{token}')"
      ]
    },
    {
      "cell_type": "markdown",
      "source": [
        "\n",
        "\n",
        "---\n",
        "\n",
        "Note book starts here\n"
      ],
      "metadata": {
        "id": "3Q20nLmEh68W"
      },
      "id": "3Q20nLmEh68W"
    },
    {
      "cell_type": "markdown",
      "id": "d55a1173",
      "metadata": {
        "editable": true,
        "tags": [],
        "id": "d55a1173"
      },
      "source": [
        "<h1 style=\"color:Tomato;\"> Dataset </h1>"
      ]
    },
    {
      "cell_type": "code",
      "source": [
        "# install the datasets package\n",
        "!pip install datasets > /dev/null"
      ],
      "metadata": {
        "id": "h2UJISSsEBJb"
      },
      "id": "h2UJISSsEBJb",
      "execution_count": 4,
      "outputs": []
    },
    {
      "cell_type": "code",
      "execution_count": 8,
      "id": "84dda012",
      "metadata": {
        "editable": true,
        "tags": [],
        "id": "84dda012"
      },
      "outputs": [],
      "source": [
        "from datasets import load_dataset, get_dataset_config_info, get_dataset_infos"
      ]
    },
    {
      "cell_type": "markdown",
      "id": "b76563d3",
      "metadata": {
        "editable": true,
        "tags": [],
        "id": "b76563d3"
      },
      "source": [
        "We will use the `bookcorpus` dataset to train a tokenizer. It may take about 15 minutes or more to download and generate the split for the first time. In my case, it took me 28 minutes to get this dataset loaded in colab."
      ]
    },
    {
      "cell_type": "markdown",
      "id": "4d961176",
      "metadata": {
        "editable": true,
        "tags": [],
        "id": "4d961176"
      },
      "source": [
        "It requires approximately 5 GB of memory to load the dataset. Please ensure you have sufficient memory available. If not, consider loading only a fraction of the dataset."
      ]
    },
    {
      "cell_type": "code",
      "execution_count": 13,
      "id": "eedac42e",
      "metadata": {
        "editable": true,
        "tags": [],
        "id": "eedac42e",
        "outputId": "ce7c55b6-0d8c-421d-d134-f1a2614f3c51",
        "colab": {
          "base_uri": "https://localhost:8080/"
        }
      },
      "outputs": [
        {
          "output_type": "stream",
          "name": "stdout",
          "text": [
            "Dataset({\n",
            "    features: ['text'],\n",
            "    num_rows: 74004228\n",
            "})\n"
          ]
        }
      ],
      "source": [
        "ds = load_dataset('bookcorpus',split='all')\n",
        "pprint(ds)"
      ]
    },
    {
      "cell_type": "code",
      "source": [
        "ds[100_000] # checking a random sample from the dataset"
      ],
      "metadata": {
        "id": "PopicM9UNYBu",
        "outputId": "eb9f2c0c-9a18-4078-ac28-7d6a86766ab4",
        "colab": {
          "base_uri": "https://localhost:8080/"
        }
      },
      "id": "PopicM9UNYBu",
      "execution_count": 21,
      "outputs": [
        {
          "output_type": "execute_result",
          "data": {
            "text/plain": [
              "{'text': \"he honestly cared for mia-anyone could see that-but what would he do if he knew she carried another man 's child ?\"}"
            ]
          },
          "metadata": {},
          "execution_count": 21
        }
      ]
    },
    {
      "cell_type": "markdown",
      "id": "10ff1eac",
      "metadata": {
        "editable": true,
        "tags": [],
        "id": "10ff1eac"
      },
      "source": [
        "The dataset contains 74 million sentences of varying lengths."
      ]
    },
    {
      "cell_type": "markdown",
      "id": "5c9da4b9",
      "metadata": {
        "editable": true,
        "tags": [],
        "id": "5c9da4b9"
      },
      "source": [
        "The length of sentences does not affect the training of a tokenizer."
      ]
    },
    {
      "cell_type": "markdown",
      "id": "eca57d52",
      "metadata": {
        "editable": true,
        "tags": [],
        "id": "eca57d52"
      },
      "source": [
        "Let's take a look at a few examples from the dataset."
      ]
    },
    {
      "cell_type": "code",
      "execution_count": 27,
      "id": "c880eeca",
      "metadata": {
        "editable": true,
        "tags": [],
        "id": "c880eeca",
        "outputId": "92228a79-76ae-4183-c91b-8dac49d1b329",
        "colab": {
          "base_uri": "https://localhost:8080/"
        }
      },
      "outputs": [
        {
          "output_type": "stream",
          "name": "stdout",
          "text": [
            "0 : usually , he would be tearing around the living room , playing with his toys .\n",
            "1 : but just one look at a minion sent him practically catatonic .\n",
            "2 : that had been megan 's plan when she got him dressed earlier .\n",
            "3 : he 'd seen the movie almost by mistake , considering he was a little young for the pg cartoon , but with older cousins , along with her brothers , mason was often exposed to things that were older .\n",
            "4 : she liked to think being surrounded by adults and older kids was one reason why he was a such a good talker for his age .\n"
          ]
        }
      ],
      "source": [
        "for idx in range(5):\n",
        "    print(f\"{idx} : {ds[idx]['text']}\")"
      ]
    },
    {
      "cell_type": "markdown",
      "id": "cb30b769",
      "metadata": {
        "editable": true,
        "tags": [],
        "id": "cb30b769"
      },
      "source": [
        "<h1 style=\"color:Tomato;\"> Tokenization </h1>"
      ]
    },
    {
      "cell_type": "markdown",
      "id": "48b632a4",
      "metadata": {
        "editable": true,
        "tags": [],
        "id": "48b632a4"
      },
      "source": [
        "Recall that a `tokenization` pipeline consists of **Normalizer**, **Pre-Tokenizer**, **Model** and **Post-Processor** as shown below.\n",
        "\n",
        "- Normalizer : can use lower case based normalization or stripping all accents\n",
        "- Pre-tokenization : word based or RegEx based\n",
        "- Algorithm/Model : BPE, WordPiece, SentencePiece\n",
        "- Post Processing : Insert model specific tokens like [CLS], [SEP]"
      ]
    },
    {
      "cell_type": "markdown",
      "id": "54869d13",
      "metadata": {
        "editable": true,
        "tags": [],
        "id": "54869d13"
      },
      "source": [
        "![image.png](data:image/png;base64,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)\n",
        "\n",
        "\n",
        "\n",
        "\n",
        "\n",
        "Let us build a simple tokenizer pipeline by importing the `Tokenizer` class."
      ]
    },
    {
      "cell_type": "code",
      "execution_count": 28,
      "id": "bf0160b1",
      "metadata": {
        "editable": true,
        "tags": [],
        "id": "bf0160b1"
      },
      "outputs": [],
      "source": [
        "from tokenizers import Tokenizer"
      ]
    },
    {
      "cell_type": "markdown",
      "id": "d158fb75",
      "metadata": {
        "editable": true,
        "tags": [],
        "id": "d158fb75"
      },
      "source": [
        "Let's use a simple tokenizer with the following choices for each component:"
      ]
    },
    {
      "cell_type": "markdown",
      "id": "6444a658",
      "metadata": {
        "editable": true,
        "tags": [],
        "id": "6444a658"
      },
      "source": [
        "|**Component** |**Choice**  |\n",
        "|:------------:|:----------:|\n",
        "|normalizer    |Lowercase   |\n",
        "|pre-tokenizer |Whitespace  |\n",
        "|model         | BPE        |\n",
        "|postprocessor | None       |"
      ]
    },
    {
      "cell_type": "code",
      "execution_count": 30,
      "id": "e5436b42",
      "metadata": {
        "editable": true,
        "tags": [],
        "id": "e5436b42"
      },
      "outputs": [],
      "source": [
        "from tokenizers.normalizers import Lowercase\n",
        "from tokenizers.pre_tokenizers import Whitespace\n",
        "from tokenizers.models import BPE"
      ]
    },
    {
      "cell_type": "markdown",
      "id": "e5306049",
      "metadata": {
        "editable": true,
        "tags": [],
        "id": "e5306049"
      },
      "source": [
        "Initiate the tokenizer with the **BPE** model and the special tokens (\"[UNK]\" in this case) that the model will use during **prediction**\n",
        "\n",
        "We've specified `[UNK]` to be used as the unknown token. So whenever the tokenizer sees an unknown word it has never encountered before during inference/prediction time, it will replace it with the unknown token `[UNK]`, indicating it has not learned how to tokenize that word."
      ]
    },
    {
      "cell_type": "code",
      "execution_count": 31,
      "id": "f84ce283",
      "metadata": {
        "editable": true,
        "tags": [],
        "id": "f84ce283"
      },
      "outputs": [],
      "source": [
        "model = BPE(unk_token=\"[UNK]\")\n",
        "tokenizer = Tokenizer(model)"
      ]
    },
    {
      "cell_type": "markdown",
      "id": "26e907e8",
      "metadata": {
        "editable": true,
        "tags": [],
        "id": "26e907e8"
      },
      "source": [
        "Add the **normalizer** (lowercase in this case) and **pre-tokenizer** (whitespace in this case) to the pipeline"
      ]
    },
    {
      "cell_type": "code",
      "execution_count": 32,
      "id": "5b727811",
      "metadata": {
        "editable": true,
        "tags": [],
        "id": "5b727811"
      },
      "outputs": [],
      "source": [
        "tokenizer.normalizer = Lowercase()\n",
        "tokenizer.pre_tokenizer = Whitespace()"
      ]
    },
    {
      "cell_type": "markdown",
      "id": "3ed53bf4",
      "metadata": {
        "editable": true,
        "tags": [],
        "id": "3ed53bf4"
      },
      "source": [
        "### Create a trainer for the tokenizer\n",
        "\n",
        "Now we need to create a **trainer** by setting `vocab_size` and `special_tokens`\n",
        "\n",
        "- In this case, we've specified the `vocab_size` (which is the size of the final vocabulary learnt) to be 32K\n",
        "\n",
        "- `special_tokens` are set to `[\"[PAD]\", \"[UNK]\"]`. These are special tokens to be used for padding and unknown words\n",
        "\n",
        "- `continuing_sub_word_prefix` is set to `##`. This prefix is added to subwords that continue a word. For eg: `[\"speak\", \"##ing\"]`"
      ]
    },
    {
      "cell_type": "code",
      "execution_count": 35,
      "id": "1db46f43",
      "metadata": {
        "editable": true,
        "tags": [],
        "id": "1db46f43"
      },
      "outputs": [],
      "source": [
        "from tokenizers.trainers import BpeTrainer\n",
        "\n",
        "trainer = BpeTrainer(vocab_size=32_000,\n",
        "                        special_tokens=[\"[PAD]\",\"[UNK]\"],\n",
        "                        continuing_subword_prefix='##',\n",
        "                        show_progress=True)"
      ]
    },
    {
      "cell_type": "code",
      "source": [
        "?BpeTrainer"
      ],
      "metadata": {
        "id": "bXYE1Ku-bPW2"
      },
      "id": "bXYE1Ku-bPW2",
      "execution_count": 34,
      "outputs": []
    },
    {
      "cell_type": "markdown",
      "id": "1ca962a2",
      "metadata": {
        "editable": true,
        "tags": [],
        "id": "1ca962a2"
      },
      "source": [
        "The pipeline is ready. Next,we need to pass **list** of strings as input to the tokenizer"
      ]
    },
    {
      "cell_type": "markdown",
      "id": "56e618d0",
      "metadata": {
        "editable": true,
        "tags": [],
        "id": "56e618d0"
      },
      "source": [
        "However, creating an additional **list** containing all 74 million samples will require an extra 5 GB of memory."
      ]
    },
    {
      "cell_type": "markdown",
      "id": "3ae079a0",
      "metadata": {
        "editable": true,
        "tags": [],
        "id": "3ae079a0"
      },
      "source": [
        "To reduce the memory usage, let us create a generator that returns a batch of samples as a list"
      ]
    },
    {
      "cell_type": "code",
      "execution_count": 36,
      "id": "3befee39",
      "metadata": {
        "editable": true,
        "tags": [],
        "id": "3befee39"
      },
      "outputs": [],
      "source": [
        "def get_examples(batch_size=1000):\n",
        "    for i in range(0, len(ds), batch_size):\n",
        "        yield ds[i : i + batch_size]['text']"
      ]
    },
    {
      "cell_type": "markdown",
      "id": "4bc19122",
      "metadata": {
        "editable": true,
        "tags": [],
        "id": "4bc19122"
      },
      "source": [
        "Let us train the tokenizer using this generator:"
      ]
    },
    {
      "cell_type": "markdown",
      "id": "a2d43c68",
      "metadata": {
        "editable": true,
        "tags": [],
        "id": "a2d43c68"
      },
      "source": [
        "<img src=https://raw.githubusercontent.com/Arunprakash-A/Modern-NLP-with-Hugging-Face/refs/heads/main/Notebooks/images/trainer.png>"
      ]
    },
    {
      "cell_type": "code",
      "execution_count": 37,
      "id": "25776845",
      "metadata": {
        "editable": true,
        "tags": [],
        "id": "25776845",
        "outputId": "f5d7992a-8af6-4110-836a-c4a4618fb8bf",
        "colab": {
          "base_uri": "https://localhost:8080/"
        }
      },
      "outputs": [
        {
          "output_type": "stream",
          "name": "stdout",
          "text": [
            "2\n"
          ]
        }
      ],
      "source": [
        "from multiprocessing import cpu_count\n",
        "print(cpu_count())"
      ]
    },
    {
      "cell_type": "markdown",
      "source": [
        "We're now training the tokenizer we setup earlier using the generator, it yields 10,000 sample each time. This is much better than just passing all the 74 million samples at one go. We also need to pass it the BpeTrainer object we created."
      ],
      "metadata": {
        "id": "XPv_axG7gB_S"
      },
      "id": "XPv_axG7gB_S"
    },
    {
      "cell_type": "code",
      "execution_count": 38,
      "id": "963f68d5",
      "metadata": {
        "editable": true,
        "tags": [],
        "id": "963f68d5"
      },
      "outputs": [],
      "source": [
        "tokenizer.train_from_iterator(get_examples(batch_size=10000),trainer=trainer,length=len(ds))"
      ]
    },
    {
      "cell_type": "markdown",
      "id": "56405e24",
      "metadata": {
        "editable": true,
        "tags": [],
        "id": "56405e24"
      },
      "source": [
        "The training took about 22 minutes to complete on the free colab and required an additional 1 GB of memory."
      ]
    },
    {
      "cell_type": "markdown",
      "id": "af93fded",
      "metadata": {
        "editable": true,
        "tags": [],
        "id": "af93fded"
      },
      "source": [
        "It would be interesting to see the subtokens that were merged to create the final vocabulary."
      ]
    },
    {
      "cell_type": "code",
      "execution_count": 40,
      "id": "bfa8d80f",
      "metadata": {
        "editable": true,
        "tags": [],
        "id": "bfa8d80f",
        "outputId": "0c944a77-c100-4e1a-c045-0e7bd9a6c3a8",
        "colab": {
          "base_uri": "https://localhost:8080/"
        }
      },
      "outputs": [
        {
          "output_type": "execute_result",
          "data": {
            "text/plain": [
              "['model/hopper-vocab.json', 'model/hopper-merges.txt']"
            ]
          },
          "metadata": {},
          "execution_count": 40
        }
      ],
      "source": [
        "!mkdir model\n",
        "tokenizer.model.save('model',prefix='hopper')"
      ]
    },
    {
      "cell_type": "markdown",
      "source": [
        "Let's see what were the initial merges done by BPE"
      ],
      "metadata": {
        "id": "rnvw5jhRjL4C"
      },
      "id": "rnvw5jhRjL4C"
    },
    {
      "cell_type": "code",
      "execution_count": 41,
      "id": "ba05b2c1",
      "metadata": {
        "editable": true,
        "tags": [],
        "id": "ba05b2c1",
        "outputId": "9cd0aac1-4e6f-41d5-d161-77135e1116a4",
        "colab": {
          "base_uri": "https://localhost:8080/"
        }
      },
      "outputs": [
        {
          "output_type": "stream",
          "name": "stdout",
          "text": [
            "#version: 0.2\n",
            "\n",
            "##h ##e\n",
            "\n",
            "t ##he\n",
            "\n",
            "##i ##n\n",
            "\n",
            "##e ##r\n",
            "\n",
            "##e ##d\n",
            "\n",
            "##o ##u\n",
            "\n",
            "##n ##d\n",
            "\n",
            "##in ##g\n",
            "\n",
            "t ##o\n",
            "\n"
          ]
        }
      ],
      "source": [
        "with open('model/hopper-merges.txt','r') as file:\n",
        "    row = 0\n",
        "    num_lines = 10\n",
        "    for line in file.readlines():\n",
        "        print(line)\n",
        "        row+=1\n",
        "        if row >= num_lines:\n",
        "            break\n",
        ""
      ]
    },
    {
      "cell_type": "markdown",
      "id": "97388636",
      "metadata": {
        "editable": true,
        "tags": [],
        "id": "97388636"
      },
      "source": [
        "Display last `n` merges\n",
        "\n",
        "We can see by the end of training, we're getting much better tokens"
      ]
    },
    {
      "cell_type": "code",
      "execution_count": 43,
      "id": "e2c76cb6",
      "metadata": {
        "editable": true,
        "tags": [],
        "id": "e2c76cb6",
        "outputId": "a6a51409-7e44-49c2-8e4c-dc50901e0c0e",
        "colab": {
          "base_uri": "https://localhost:8080/"
        }
      },
      "outputs": [
        {
          "output_type": "stream",
          "name": "stdout",
          "text": [
            "mel ##anthe\n",
            "\n",
            "black ##er\n",
            "\n",
            "ad ##ject\n",
            "\n",
            "v ##ang\n",
            "\n",
            "betroth ##al\n",
            "\n",
            "tiptoe ##ing\n",
            "\n",
            "restroom ##s\n",
            "\n",
            "consol ##ing\n",
            "\n",
            "esp ##ionage\n",
            "\n",
            "influ ##x\n",
            "\n"
          ]
        }
      ],
      "source": [
        "with open('model/hopper-merges.txt','r') as file:\n",
        "    row = 0\n",
        "    num_lines = 10\n",
        "    for line in reversed(file.readlines()):\n",
        "        print(line)\n",
        "        row+=1\n",
        "        if row >= num_lines:\n",
        "            break"
      ]
    },
    {
      "cell_type": "markdown",
      "id": "ed52b766",
      "metadata": {
        "editable": true,
        "tags": [],
        "id": "ed52b766"
      },
      "source": [
        "<h1 style=\"color:Tomato;\"> Vocabulary </h1>"
      ]
    },
    {
      "cell_type": "markdown",
      "id": "b61f0bc3-bbf5-4ffb-b456-ca84597324d1",
      "metadata": {
        "editable": true,
        "tags": [],
        "id": "b61f0bc3-bbf5-4ffb-b456-ca84597324d1"
      },
      "source": [
        "Let's view the number of merges that happened"
      ]
    },
    {
      "cell_type": "code",
      "execution_count": 44,
      "id": "7db1ec64",
      "metadata": {
        "editable": true,
        "tags": [],
        "id": "7db1ec64"
      },
      "outputs": [],
      "source": [
        "with open('model/hopper-merges.txt','r') as file:\n",
        "    lines = file.readlines()"
      ]
    },
    {
      "cell_type": "code",
      "execution_count": 45,
      "id": "2cbcf171",
      "metadata": {
        "editable": true,
        "tags": [],
        "id": "2cbcf171",
        "outputId": "5229225a-13cd-40d9-cddb-eb3a8d0c54f3",
        "colab": {
          "base_uri": "https://localhost:8080/"
        }
      },
      "outputs": [
        {
          "output_type": "stream",
          "name": "stdout",
          "text": [
            "Number of merges:31871\n"
          ]
        }
      ],
      "source": [
        "print(f'Number of merges:{len(lines)}')"
      ]
    },
    {
      "cell_type": "code",
      "execution_count": 46,
      "id": "aa357dc1",
      "metadata": {
        "editable": true,
        "tags": [],
        "id": "aa357dc1",
        "outputId": "8e1897de-7ecf-4ec0-f349-453f4542bf6f",
        "colab": {
          "base_uri": "https://localhost:8080/"
        }
      },
      "outputs": [
        {
          "output_type": "stream",
          "name": "stdout",
          "text": [
            "vocab size:32000\n"
          ]
        }
      ],
      "source": [
        "print(f'vocab size:{tokenizer.get_vocab_size()}')"
      ]
    },
    {
      "cell_type": "markdown",
      "id": "efb33688",
      "metadata": {
        "editable": true,
        "tags": [],
        "id": "efb33688"
      },
      "source": [
        "The number of merges is slightly less than the size of the vocabulary because the merges do not include single-character tokens, such as letters, numbers, and special symbols."
      ]
    },
    {
      "cell_type": "markdown",
      "id": "1f2050a2",
      "metadata": {
        "editable": true,
        "tags": [],
        "id": "1f2050a2"
      },
      "source": [
        "We can view the final learned vocabulary either from the saved `hopper-vocab.json` file or by using the `get_vocab` method."
      ]
    },
    {
      "cell_type": "code",
      "execution_count": 47,
      "id": "9ea8b844",
      "metadata": {
        "editable": true,
        "tags": [],
        "id": "9ea8b844"
      },
      "outputs": [],
      "source": [
        "vocab = tokenizer.get_vocab()"
      ]
    },
    {
      "cell_type": "code",
      "source": [
        "# vocab"
      ],
      "metadata": {
        "id": "kzvIg8tpjzsZ"
      },
      "id": "kzvIg8tpjzsZ",
      "execution_count": 49,
      "outputs": []
    },
    {
      "cell_type": "markdown",
      "id": "f57082bd",
      "metadata": {
        "editable": true,
        "tags": [],
        "id": "f57082bd"
      },
      "source": [
        "For convenience, let's print the vocabulary sorted by token IDs."
      ]
    },
    {
      "cell_type": "code",
      "execution_count": 50,
      "id": "be3b5efe",
      "metadata": {
        "editable": true,
        "tags": [],
        "id": "be3b5efe"
      },
      "outputs": [],
      "source": [
        "vocab_sorted = sorted(vocab.items(), key=lambda item: item[1])"
      ]
    },
    {
      "cell_type": "markdown",
      "id": "abeb5e33",
      "metadata": {
        "editable": true,
        "tags": [],
        "id": "abeb5e33"
      },
      "source": [
        "Let's adjust the sliders below to view the **merged subwords** and their corresponding tokens in the vocabulary."
      ]
    },
    {
      "cell_type": "code",
      "execution_count": 51,
      "id": "af12e315",
      "metadata": {
        "editable": true,
        "tags": [],
        "id": "af12e315",
        "outputId": "b24b570a-5e98-4c70-acd5-749582762567",
        "colab": {
          "base_uri": "https://localhost:8080/",
          "height": 116,
          "referenced_widgets": [
            "e228ff6d8c19422587fd385973a2e5b9",
            "affc9e063a1b4f8985758075d2be23f3",
            "099cde5790134de4935369bcfaf9cbbf",
            "d61062ad9ca248cb86e4d8fca8c46ebf",
            "b4b05ced130941d39fa4faccc2b471d7",
            "d1d7e915b6f44c29a14cdd5160339065",
            "57d5d8c98c7b434ba1900db1cc0ee186",
            "36d75bf31ab14fb3807cda1e5008b95f",
            "3a5add4964764c4d9d4edeb96e096dbc",
            "55024f3ac5064d0daa7c78ea837c4502",
            "0f0e32cff03a41ccadffeb4acd924bb4",
            "0652d121c34d482982d034b2e9ea19c2",
            "aed8a1590f964b41a94194682b558249",
            "b4781d6f59e343569b4981edd650ded9"
          ]
        }
      },
      "outputs": [
        {
          "output_type": "display_data",
          "data": {
            "text/plain": [
              "interactive(children=(IntSlider(value=1, description='pair', layout=Layout(width='900px'), max=31870, min=1), …"
            ],
            "application/vnd.jupyter.widget-view+json": {
              "version_major": 2,
              "version_minor": 0,
              "model_id": "e228ff6d8c19422587fd385973a2e5b9"
            }
          },
          "metadata": {}
        },
        {
          "output_type": "display_data",
          "data": {
            "text/plain": [
              "interactive(children=(IntSlider(value=130, description='id', layout=Layout(width='900px'), max=31999), Output(…"
            ],
            "application/vnd.jupyter.widget-view+json": {
              "version_major": 2,
              "version_minor": 0,
              "model_id": "36d75bf31ab14fb3807cda1e5008b95f"
            }
          },
          "metadata": {}
        }
      ],
      "source": [
        "_ = interact(get_pairs,pair=widgets.IntSlider(min=1, max=len(lines)-1, step=1, value=1,layout=Layout(width='900px')))\n",
        "_ = interact(display_token_id,id=widgets.IntSlider(min=0, max=31999, step=1, value=130,layout=Layout(width='900px')))"
      ]
    },
    {
      "cell_type": "markdown",
      "id": "e9f799b1",
      "metadata": {
        "editable": true,
        "tags": [],
        "id": "e9f799b1"
      },
      "source": [
        "Note that the 130th ID represents the first merge. What will the next two tokens to be merged be? You can explore this by moving the sliders."
      ]
    },
    {
      "cell_type": "markdown",
      "id": "396b8e66",
      "metadata": {
        "editable": true,
        "tags": [],
        "id": "396b8e66"
      },
      "source": [
        "The sub-words are `t` and `##he`. After the merge, they will form the token `the`."
      ]
    },
    {
      "cell_type": "markdown",
      "id": "382e6830",
      "metadata": {
        "editable": true,
        "tags": [],
        "id": "382e6830"
      },
      "source": [
        "Similarly the last two merges are: `mel ##anthe` and `black ##er` (Move the slider to the far right to see them.)\n",
        "You can also use the arrow keys instead of sliders for more precise control"
      ]
    },
    {
      "cell_type": "markdown",
      "id": "e5282df2",
      "metadata": {
        "editable": true,
        "tags": [],
        "id": "e5282df2"
      },
      "source": [
        "<h1 style=\"color:Tomato;\"> Encoding </h1>"
      ]
    },
    {
      "cell_type": "markdown",
      "id": "cdb252fc",
      "metadata": {
        "editable": true,
        "tags": [],
        "id": "cdb252fc"
      },
      "source": [
        "Now how do we encode samples using the tokenizer we've trained?\n",
        "\n",
        "Let's try passing a single sample to the `encode` method of the tokenizer class"
      ]
    },
    {
      "cell_type": "code",
      "execution_count": 53,
      "id": "d0120fb5",
      "metadata": {
        "editable": true,
        "tags": [],
        "id": "d0120fb5",
        "outputId": "db09d40f-5326-42cd-eec8-bb16f54be03f",
        "colab": {
          "base_uri": "https://localhost:8080/"
        }
      },
      "outputs": [
        {
          "output_type": "stream",
          "name": "stdout",
          "text": [
            "sample: usually , he would be tearing around the living room , playing with his toys .\n",
            "Encoding(num_tokens=16, attributes=[ids, type_ids, tokens, offsets, attention_mask, special_tokens_mask, overflowing])\n"
          ]
        }
      ],
      "source": [
        "sample = ds[0]['text']\n",
        "print(f'sample: {sample}')\n",
        "\n",
        "# encode the sample using the tokenizer\n",
        "encoding = tokenizer.encode(sample)\n",
        "print(encoding)"
      ]
    },
    {
      "cell_type": "markdown",
      "id": "0ae8f921",
      "metadata": {
        "editable": true,
        "tags": [],
        "id": "0ae8f921"
      },
      "source": [
        "It returned the output as `Encoding` object that contains useful attributes such as `token_ids` (ids), `type_ids` and so on"
      ]
    },
    {
      "cell_type": "markdown",
      "id": "a9645af6-0a35-4fe6-8a13-ac689c022afb",
      "metadata": {
        "editable": true,
        "tags": [],
        "id": "a9645af6-0a35-4fe6-8a13-ac689c022afb"
      },
      "source": [
        "We need to access these attributes to get their respective values"
      ]
    },
    {
      "cell_type": "code",
      "execution_count": 54,
      "id": "58235616",
      "metadata": {
        "editable": true,
        "tags": [],
        "id": "58235616"
      },
      "outputs": [],
      "source": [
        "token_ids = encoding.ids\n",
        "tokens = encoding.tokens\n",
        "type_ids = encoding.type_ids\n",
        "attention_mask = encoding.attention_mask"
      ]
    },
    {
      "cell_type": "code",
      "execution_count": 57,
      "id": "b1485fae",
      "metadata": {
        "editable": true,
        "tags": [],
        "id": "b1485fae",
        "outputId": "4bc1d350-4d4f-4ebd-c9c3-145ee342d8ad",
        "colab": {
          "base_uri": "https://localhost:8080/",
          "height": 145
        }
      },
      "outputs": [
        {
          "output_type": "display_data",
          "data": {
            "text/plain": [
              "<IPython.core.display.HTML object>"
            ],
            "text/html": [
              "\n",
              "    <html>\n",
              "        <head>\n",
              "            <style>\n",
              "                .tokenized-text {\n",
              "    width:100%;\n",
              "    padding:2rem;\n",
              "    max-height: 400px;\n",
              "    overflow-y: auto;\n",
              "    box-sizing:border-box;\n",
              "    line-height:4rem; /* Lots of space between lines */\n",
              "    font-family: \"Roboto Light\", \"Ubuntu Light\", \"Ubuntu\", monospace;\n",
              "    box-shadow: 2px 2px 2px rgba(0,0,0,0.2);\n",
              "    background-color: rgba(0,0,0,0.01);\n",
              "    letter-spacing:2px; /* Give some extra separation between chars */\n",
              "}\n",
              ".non-token{\n",
              "    /* White space and other things the tokenizer ignores*/\n",
              "    white-space: pre;\n",
              "    letter-spacing:4px;\n",
              "    border-top:1px solid #A0A0A0; /* A gentle border on top and bottom makes tabs more ovious*/\n",
              "    border-bottom:1px solid #A0A0A0;\n",
              "    line-height: 1rem;\n",
              "    height: calc(100% - 2px);\n",
              "}\n",
              "\n",
              ".token {\n",
              "    white-space: pre;\n",
              "    position:relative;\n",
              "    color:black;\n",
              "    letter-spacing:2px;\n",
              "}\n",
              "\n",
              ".annotation{\n",
              "    white-space:nowrap; /* Important - ensures that annotations appears even if the annotated text wraps a line */\n",
              "    border-radius:4px;\n",
              "    position:relative;\n",
              "    width:fit-content;\n",
              "}\n",
              ".annotation:before {\n",
              "    /*The before holds the text and the after holds the background*/\n",
              "    z-index:1000; /* Make sure this is above the background */\n",
              "    content:attr(data-label); /* The annotations label is on a data attribute */\n",
              "    color:white;\n",
              "    position:absolute;\n",
              "    font-size:1rem;\n",
              "    text-align:center;\n",
              "    font-weight:bold;\n",
              "\n",
              "    top:1.75rem;\n",
              "    line-height:0;\n",
              "    left:0;\n",
              "    width:100%;\n",
              "    padding:0.5rem 0;\n",
              "    /* These make it so an annotation doesn't stretch beyond the annotated text if the label is longer*/\n",
              "    overflow: hidden;\n",
              "    white-space: nowrap;\n",
              "    text-overflow:ellipsis;\n",
              "}\n",
              "\n",
              ".annotation:after {\n",
              "    content:attr(data-label); /* The content defines the width of the annotation*/\n",
              "    position:absolute;\n",
              "    font-size:0.75rem;\n",
              "    text-align:center;\n",
              "    font-weight:bold;\n",
              "    text-overflow:ellipsis;\n",
              "    top:1.75rem;\n",
              "    line-height:0;\n",
              "    overflow: hidden;\n",
              "    white-space: nowrap;\n",
              "\n",
              "    left:0;\n",
              "    width:100%; /* 100% of the parent, which is the annotation whose width is the tokens inside it*/\n",
              "\n",
              "    padding:0.5rem 0;\n",
              "    /* Nast hack below:\n",
              "    We set the annotations color in code because we don't know the colors at css time.\n",
              "    But you can't pass a color as a data attribute to get it into the pseudo element (this thing)\n",
              "    So to get around that, annotations have the color set on them with a style attribute and then we\n",
              "    can get the color with currentColor.\n",
              "    Annotations wrap tokens and tokens set the color back to black\n",
              "     */\n",
              "    background-color: currentColor;\n",
              "}\n",
              ".annotation:hover::after, .annotation:hover::before{\n",
              "    /* When the user hovers over an annotation expand the label to display in full\n",
              "     */\n",
              "    min-width: fit-content;\n",
              "}\n",
              "\n",
              ".annotation:hover{\n",
              "    /* Emphasize the annotation start end with a border on hover*/\n",
              "    border-color: currentColor;\n",
              "    border: 2px solid;\n",
              "}\n",
              ".special-token:not(:empty){\n",
              "    /*\n",
              "    A none empty special token is like UNK (as opposed to CLS which has no representation in the text )\n",
              "     */\n",
              "    position:relative;\n",
              "}\n",
              ".special-token:empty::before{\n",
              "    /* Special tokens that don't have text are displayed as pseudo elements so we dont select them with the mouse*/\n",
              "    content:attr(data-stok);\n",
              "    background:#202020;\n",
              "    font-size:0.75rem;\n",
              "    color:white;\n",
              "    margin: 0 0.25rem;\n",
              "    padding: 0.25rem;\n",
              "    border-radius:4px\n",
              "}\n",
              "\n",
              ".special-token:not(:empty):before {\n",
              "    /* Special tokens that have text (UNK) are displayed above the actual text*/\n",
              "    content:attr(data-stok);\n",
              "    position:absolute;\n",
              "    bottom:1.75rem;\n",
              "    min-width:100%;\n",
              "    width:100%;\n",
              "    height:1rem;\n",
              "    line-height:1rem;\n",
              "    font-size:1rem;\n",
              "    text-align:center;\n",
              "    color:white;\n",
              "    font-weight:bold;\n",
              "    background:#202020;\n",
              "    border-radius:10%;\n",
              "}\n",
              "/*\n",
              "We want to alternate the color of tokens, but we can't use nth child because tokens might be broken up by annotations\n",
              "instead we apply even and odd class at generation time and color them that way\n",
              " */\n",
              ".even-token{\n",
              "    background:#DCDCDC\t;\n",
              "    border: 1px solid #DCDCDC;\n",
              "}\n",
              ".odd-token{\n",
              "    background:#A0A0A0;\n",
              "    border: 1px solid #A0A0A0;\n",
              "}\n",
              ".even-token.multi-token,.odd-token.multi-token{\n",
              "    background:  repeating-linear-gradient(\n",
              "    45deg,\n",
              "    transparent,\n",
              "    transparent 1px,\n",
              "    #ccc 1px,\n",
              "    #ccc 1px\n",
              "    ),\n",
              "    /* on \"bottom\" */\n",
              "    linear-gradient(\n",
              "    to bottom,\n",
              "    #FFB6C1,\n",
              "    #999\n",
              "    );\n",
              "}\n",
              "\n",
              ".multi-token:hover::after {\n",
              "    content:\"This char has more than 1 token\"; /* The content defines the width of the annotation*/\n",
              "    color:white;\n",
              "    background-color: black;\n",
              "    position:absolute;\n",
              "    font-size:0.75rem;\n",
              "    text-align:center;\n",
              "    font-weight:bold;\n",
              "    text-overflow:ellipsis;\n",
              "    top:1.75rem;\n",
              "    line-height:0;\n",
              "    overflow: hidden;\n",
              "    white-space: nowrap;\n",
              "    left:0;\n",
              "    width:fit-content; /* 100% of the parent, which is the annotation whose width is the tokens inside it*/\n",
              "    padding:0.5rem 0;\n",
              "}\n",
              "\n",
              "            </style>\n",
              "        </head>\n",
              "        <body>\n",
              "            <div class=\"tokenized-text\" dir=auto>\n",
              "            <span class=\"token even-token\"  >usually</span><span class=\"non-token\"  > </span><span class=\"token odd-token\"  >,</span><span class=\"non-token\"  > </span><span class=\"token even-token\"  >he</span><span class=\"non-token\"  > </span><span class=\"token odd-token\"  >would</span><span class=\"non-token\"  > </span><span class=\"token even-token\"  >be</span><span class=\"non-token\"  > </span><span class=\"token odd-token\"  >tearing</span><span class=\"non-token\"  > </span><span class=\"token even-token\"  >around</span><span class=\"non-token\"  > </span><span class=\"token odd-token\"  >the</span><span class=\"non-token\"  > </span><span class=\"token even-token\"  >living</span><span class=\"non-token\"  > </span><span class=\"token odd-token\"  >room</span><span class=\"non-token\"  > </span><span class=\"token even-token\"  >,</span><span class=\"non-token\"  > </span><span class=\"token odd-token\"  >playing</span><span class=\"non-token\"  > </span><span class=\"token even-token\"  >with</span><span class=\"non-token\"  > </span><span class=\"token odd-token\"  >his</span><span class=\"non-token\"  > </span><span class=\"token even-token\"  >toys</span><span class=\"non-token\"  > </span><span class=\"token odd-token\"  >.</span>\n",
              "            </div>\n",
              "        </body>\n",
              "    </html>\n",
              "    "
            ]
          },
          "metadata": {}
        }
      ],
      "source": [
        "# let's try visualising our encoded example\n",
        "from tokenizers.tools import EncodingVisualizer\n",
        "visualizer = EncodingVisualizer(tokenizer=tokenizer)\n",
        "visualizer(text=sample)\n",
        "\n",
        "# looks like for this sample, no words were split into sub words"
      ]
    },
    {
      "cell_type": "code",
      "execution_count": 58,
      "id": "2da3817b",
      "metadata": {
        "editable": true,
        "tags": [],
        "id": "2da3817b",
        "outputId": "a29795ca-6806-4974-e61a-c28c62816102",
        "colab": {
          "base_uri": "https://localhost:8080/",
          "height": 551
        }
      },
      "outputs": [
        {
          "output_type": "execute_result",
          "data": {
            "text/plain": [
              "     tokens   ids  type_ids  attention_mask\n",
              "0   usually  2462         0               1\n",
              "1         ,    19         0               1\n",
              "2        he   149         0               1\n",
              "3     would   277         0               1\n",
              "4        be   162         0               1\n",
              "5   tearing  6456         0               1\n",
              "6    around   422         0               1\n",
              "7       the   131         0               1\n",
              "8    living  1559         0               1\n",
              "9      room   536         0               1\n",
              "10        ,    19         0               1\n",
              "11  playing  2301         0               1\n",
              "12     with   201         0               1\n",
              "13      his   177         0               1\n",
              "14     toys  9774         0               1\n",
              "15        .    21         0               1"
            ],
            "text/html": [
              "\n",
              "  <div id=\"df-d19eeea3-7041-42ee-aa08-fedbabf50538\" class=\"colab-df-container\">\n",
              "    <div>\n",
              "<style scoped>\n",
              "    .dataframe tbody tr th:only-of-type {\n",
              "        vertical-align: middle;\n",
              "    }\n",
              "\n",
              "    .dataframe tbody tr th {\n",
              "        vertical-align: top;\n",
              "    }\n",
              "\n",
              "    .dataframe thead th {\n",
              "        text-align: right;\n",
              "    }\n",
              "</style>\n",
              "<table border=\"1\" class=\"dataframe\">\n",
              "  <thead>\n",
              "    <tr style=\"text-align: right;\">\n",
              "      <th></th>\n",
              "      <th>tokens</th>\n",
              "      <th>ids</th>\n",
              "      <th>type_ids</th>\n",
              "      <th>attention_mask</th>\n",
              "    </tr>\n",
              "  </thead>\n",
              "  <tbody>\n",
              "    <tr>\n",
              "      <th>0</th>\n",
              "      <td>usually</td>\n",
              "      <td>2462</td>\n",
              "      <td>0</td>\n",
              "      <td>1</td>\n",
              "    </tr>\n",
              "    <tr>\n",
              "      <th>1</th>\n",
              "      <td>,</td>\n",
              "      <td>19</td>\n",
              "      <td>0</td>\n",
              "      <td>1</td>\n",
              "    </tr>\n",
              "    <tr>\n",
              "      <th>2</th>\n",
              "      <td>he</td>\n",
              "      <td>149</td>\n",
              "      <td>0</td>\n",
              "      <td>1</td>\n",
              "    </tr>\n",
              "    <tr>\n",
              "      <th>3</th>\n",
              "      <td>would</td>\n",
              "      <td>277</td>\n",
              "      <td>0</td>\n",
              "      <td>1</td>\n",
              "    </tr>\n",
              "    <tr>\n",
              "      <th>4</th>\n",
              "      <td>be</td>\n",
              "      <td>162</td>\n",
              "      <td>0</td>\n",
              "      <td>1</td>\n",
              "    </tr>\n",
              "    <tr>\n",
              "      <th>5</th>\n",
              "      <td>tearing</td>\n",
              "      <td>6456</td>\n",
              "      <td>0</td>\n",
              "      <td>1</td>\n",
              "    </tr>\n",
              "    <tr>\n",
              "      <th>6</th>\n",
              "      <td>around</td>\n",
              "      <td>422</td>\n",
              "      <td>0</td>\n",
              "      <td>1</td>\n",
              "    </tr>\n",
              "    <tr>\n",
              "      <th>7</th>\n",
              "      <td>the</td>\n",
              "      <td>131</td>\n",
              "      <td>0</td>\n",
              "      <td>1</td>\n",
              "    </tr>\n",
              "    <tr>\n",
              "      <th>8</th>\n",
              "      <td>living</td>\n",
              "      <td>1559</td>\n",
              "      <td>0</td>\n",
              "      <td>1</td>\n",
              "    </tr>\n",
              "    <tr>\n",
              "      <th>9</th>\n",
              "      <td>room</td>\n",
              "      <td>536</td>\n",
              "      <td>0</td>\n",
              "      <td>1</td>\n",
              "    </tr>\n",
              "    <tr>\n",
              "      <th>10</th>\n",
              "      <td>,</td>\n",
              "      <td>19</td>\n",
              "      <td>0</td>\n",
              "      <td>1</td>\n",
              "    </tr>\n",
              "    <tr>\n",
              "      <th>11</th>\n",
              "      <td>playing</td>\n",
              "      <td>2301</td>\n",
              "      <td>0</td>\n",
              "      <td>1</td>\n",
              "    </tr>\n",
              "    <tr>\n",
              "      <th>12</th>\n",
              "      <td>with</td>\n",
              "      <td>201</td>\n",
              "      <td>0</td>\n",
              "      <td>1</td>\n",
              "    </tr>\n",
              "    <tr>\n",
              "      <th>13</th>\n",
              "      <td>his</td>\n",
              "      <td>177</td>\n",
              "      <td>0</td>\n",
              "      <td>1</td>\n",
              "    </tr>\n",
              "    <tr>\n",
              "      <th>14</th>\n",
              "      <td>toys</td>\n",
              "      <td>9774</td>\n",
              "      <td>0</td>\n",
              "      <td>1</td>\n",
              "    </tr>\n",
              "    <tr>\n",
              "      <th>15</th>\n",
              "      <td>.</td>\n",
              "      <td>21</td>\n",
              "      <td>0</td>\n",
              "      <td>1</td>\n",
              "    </tr>\n",
              "  </tbody>\n",
              "</table>\n",
              "</div>\n",
              "    <div class=\"colab-df-buttons\">\n",
              "\n",
              "  <div class=\"colab-df-container\">\n",
              "    <button class=\"colab-df-convert\" onclick=\"convertToInteractive('df-d19eeea3-7041-42ee-aa08-fedbabf50538')\"\n",
              "            title=\"Convert this dataframe to an interactive table.\"\n",
              "            style=\"display:none;\">\n",
              "\n",
              "  <svg xmlns=\"http://www.w3.org/2000/svg\" height=\"24px\" viewBox=\"0 -960 960 960\">\n",
              "    <path d=\"M120-120v-720h720v720H120Zm60-500h600v-160H180v160Zm220 220h160v-160H400v160Zm0 220h160v-160H400v160ZM180-400h160v-160H180v160Zm440 0h160v-160H620v160ZM180-180h160v-160H180v160Zm440 0h160v-160H620v160Z\"/>\n",
              "  </svg>\n",
              "    </button>\n",
              "\n",
              "  <style>\n",
              "    .colab-df-container {\n",
              "      display:flex;\n",
              "      gap: 12px;\n",
              "    }\n",
              "\n",
              "    .colab-df-convert {\n",
              "      background-color: #E8F0FE;\n",
              "      border: none;\n",
              "      border-radius: 50%;\n",
              "      cursor: pointer;\n",
              "      display: none;\n",
              "      fill: #1967D2;\n",
              "      height: 32px;\n",
              "      padding: 0 0 0 0;\n",
              "      width: 32px;\n",
              "    }\n",
              "\n",
              "    .colab-df-convert:hover {\n",
              "      background-color: #E2EBFA;\n",
              "      box-shadow: 0px 1px 2px rgba(60, 64, 67, 0.3), 0px 1px 3px 1px rgba(60, 64, 67, 0.15);\n",
              "      fill: #174EA6;\n",
              "    }\n",
              "\n",
              "    .colab-df-buttons div {\n",
              "      margin-bottom: 4px;\n",
              "    }\n",
              "\n",
              "    [theme=dark] .colab-df-convert {\n",
              "      background-color: #3B4455;\n",
              "      fill: #D2E3FC;\n",
              "    }\n",
              "\n",
              "    [theme=dark] .colab-df-convert:hover {\n",
              "      background-color: #434B5C;\n",
              "      box-shadow: 0px 1px 3px 1px rgba(0, 0, 0, 0.15);\n",
              "      filter: drop-shadow(0px 1px 2px rgba(0, 0, 0, 0.3));\n",
              "      fill: #FFFFFF;\n",
              "    }\n",
              "  </style>\n",
              "\n",
              "    <script>\n",
              "      const buttonEl =\n",
              "        document.querySelector('#df-d19eeea3-7041-42ee-aa08-fedbabf50538 button.colab-df-convert');\n",
              "      buttonEl.style.display =\n",
              "        google.colab.kernel.accessAllowed ? 'block' : 'none';\n",
              "\n",
              "      async function convertToInteractive(key) {\n",
              "        const element = document.querySelector('#df-d19eeea3-7041-42ee-aa08-fedbabf50538');\n",
              "        const dataTable =\n",
              "          await google.colab.kernel.invokeFunction('convertToInteractive',\n",
              "                                                    [key], {});\n",
              "        if (!dataTable) return;\n",
              "\n",
              "        const docLinkHtml = 'Like what you see? Visit the ' +\n",
              "          '<a target=\"_blank\" href=https://colab.research.google.com/notebooks/data_table.ipynb>data table notebook</a>'\n",
              "          + ' to learn more about interactive tables.';\n",
              "        element.innerHTML = '';\n",
              "        dataTable['output_type'] = 'display_data';\n",
              "        await google.colab.output.renderOutput(dataTable, element);\n",
              "        const docLink = document.createElement('div');\n",
              "        docLink.innerHTML = docLinkHtml;\n",
              "        element.appendChild(docLink);\n",
              "      }\n",
              "    </script>\n",
              "  </div>\n",
              "\n",
              "\n",
              "<div id=\"df-5c19209c-2dfd-45f1-bc1a-a21fed3c4e87\">\n",
              "  <button class=\"colab-df-quickchart\" onclick=\"quickchart('df-5c19209c-2dfd-45f1-bc1a-a21fed3c4e87')\"\n",
              "            title=\"Suggest charts\"\n",
              "            style=\"display:none;\">\n",
              "\n",
              "<svg xmlns=\"http://www.w3.org/2000/svg\" height=\"24px\"viewBox=\"0 0 24 24\"\n",
              "     width=\"24px\">\n",
              "    <g>\n",
              "        <path d=\"M19 3H5c-1.1 0-2 .9-2 2v14c0 1.1.9 2 2 2h14c1.1 0 2-.9 2-2V5c0-1.1-.9-2-2-2zM9 17H7v-7h2v7zm4 0h-2V7h2v10zm4 0h-2v-4h2v4z\"/>\n",
              "    </g>\n",
              "</svg>\n",
              "  </button>\n",
              "\n",
              "<style>\n",
              "  .colab-df-quickchart {\n",
              "      --bg-color: #E8F0FE;\n",
              "      --fill-color: #1967D2;\n",
              "      --hover-bg-color: #E2EBFA;\n",
              "      --hover-fill-color: #174EA6;\n",
              "      --disabled-fill-color: #AAA;\n",
              "      --disabled-bg-color: #DDD;\n",
              "  }\n",
              "\n",
              "  [theme=dark] .colab-df-quickchart {\n",
              "      --bg-color: #3B4455;\n",
              "      --fill-color: #D2E3FC;\n",
              "      --hover-bg-color: #434B5C;\n",
              "      --hover-fill-color: #FFFFFF;\n",
              "      --disabled-bg-color: #3B4455;\n",
              "      --disabled-fill-color: #666;\n",
              "  }\n",
              "\n",
              "  .colab-df-quickchart {\n",
              "    background-color: var(--bg-color);\n",
              "    border: none;\n",
              "    border-radius: 50%;\n",
              "    cursor: pointer;\n",
              "    display: none;\n",
              "    fill: var(--fill-color);\n",
              "    height: 32px;\n",
              "    padding: 0;\n",
              "    width: 32px;\n",
              "  }\n",
              "\n",
              "  .colab-df-quickchart:hover {\n",
              "    background-color: var(--hover-bg-color);\n",
              "    box-shadow: 0 1px 2px rgba(60, 64, 67, 0.3), 0 1px 3px 1px rgba(60, 64, 67, 0.15);\n",
              "    fill: var(--button-hover-fill-color);\n",
              "  }\n",
              "\n",
              "  .colab-df-quickchart-complete:disabled,\n",
              "  .colab-df-quickchart-complete:disabled:hover {\n",
              "    background-color: var(--disabled-bg-color);\n",
              "    fill: var(--disabled-fill-color);\n",
              "    box-shadow: none;\n",
              "  }\n",
              "\n",
              "  .colab-df-spinner {\n",
              "    border: 2px solid var(--fill-color);\n",
              "    border-color: transparent;\n",
              "    border-bottom-color: var(--fill-color);\n",
              "    animation:\n",
              "      spin 1s steps(1) infinite;\n",
              "  }\n",
              "\n",
              "  @keyframes spin {\n",
              "    0% {\n",
              "      border-color: transparent;\n",
              "      border-bottom-color: var(--fill-color);\n",
              "      border-left-color: var(--fill-color);\n",
              "    }\n",
              "    20% {\n",
              "      border-color: transparent;\n",
              "      border-left-color: var(--fill-color);\n",
              "      border-top-color: var(--fill-color);\n",
              "    }\n",
              "    30% {\n",
              "      border-color: transparent;\n",
              "      border-left-color: var(--fill-color);\n",
              "      border-top-color: var(--fill-color);\n",
              "      border-right-color: var(--fill-color);\n",
              "    }\n",
              "    40% {\n",
              "      border-color: transparent;\n",
              "      border-right-color: var(--fill-color);\n",
              "      border-top-color: var(--fill-color);\n",
              "    }\n",
              "    60% {\n",
              "      border-color: transparent;\n",
              "      border-right-color: var(--fill-color);\n",
              "    }\n",
              "    80% {\n",
              "      border-color: transparent;\n",
              "      border-right-color: var(--fill-color);\n",
              "      border-bottom-color: var(--fill-color);\n",
              "    }\n",
              "    90% {\n",
              "      border-color: transparent;\n",
              "      border-bottom-color: var(--fill-color);\n",
              "    }\n",
              "  }\n",
              "</style>\n",
              "\n",
              "  <script>\n",
              "    async function quickchart(key) {\n",
              "      const quickchartButtonEl =\n",
              "        document.querySelector('#' + key + ' button');\n",
              "      quickchartButtonEl.disabled = true;  // To prevent multiple clicks.\n",
              "      quickchartButtonEl.classList.add('colab-df-spinner');\n",
              "      try {\n",
              "        const charts = await google.colab.kernel.invokeFunction(\n",
              "            'suggestCharts', [key], {});\n",
              "      } catch (error) {\n",
              "        console.error('Error during call to suggestCharts:', error);\n",
              "      }\n",
              "      quickchartButtonEl.classList.remove('colab-df-spinner');\n",
              "      quickchartButtonEl.classList.add('colab-df-quickchart-complete');\n",
              "    }\n",
              "    (() => {\n",
              "      let quickchartButtonEl =\n",
              "        document.querySelector('#df-5c19209c-2dfd-45f1-bc1a-a21fed3c4e87 button');\n",
              "      quickchartButtonEl.style.display =\n",
              "        google.colab.kernel.accessAllowed ? 'block' : 'none';\n",
              "    })();\n",
              "  </script>\n",
              "</div>\n",
              "\n",
              "  <div id=\"id_b186399e-1b89-41d7-b966-c7b17bff05dc\">\n",
              "    <style>\n",
              "      .colab-df-generate {\n",
              "        background-color: #E8F0FE;\n",
              "        border: none;\n",
              "        border-radius: 50%;\n",
              "        cursor: pointer;\n",
              "        display: none;\n",
              "        fill: #1967D2;\n",
              "        height: 32px;\n",
              "        padding: 0 0 0 0;\n",
              "        width: 32px;\n",
              "      }\n",
              "\n",
              "      .colab-df-generate:hover {\n",
              "        background-color: #E2EBFA;\n",
              "        box-shadow: 0px 1px 2px rgba(60, 64, 67, 0.3), 0px 1px 3px 1px rgba(60, 64, 67, 0.15);\n",
              "        fill: #174EA6;\n",
              "      }\n",
              "\n",
              "      [theme=dark] .colab-df-generate {\n",
              "        background-color: #3B4455;\n",
              "        fill: #D2E3FC;\n",
              "      }\n",
              "\n",
              "      [theme=dark] .colab-df-generate:hover {\n",
              "        background-color: #434B5C;\n",
              "        box-shadow: 0px 1px 3px 1px rgba(0, 0, 0, 0.15);\n",
              "        filter: drop-shadow(0px 1px 2px rgba(0, 0, 0, 0.3));\n",
              "        fill: #FFFFFF;\n",
              "      }\n",
              "    </style>\n",
              "    <button class=\"colab-df-generate\" onclick=\"generateWithVariable('df')\"\n",
              "            title=\"Generate code using this dataframe.\"\n",
              "            style=\"display:none;\">\n",
              "\n",
              "  <svg xmlns=\"http://www.w3.org/2000/svg\" height=\"24px\"viewBox=\"0 0 24 24\"\n",
              "       width=\"24px\">\n",
              "    <path d=\"M7,19H8.4L18.45,9,17,7.55,7,17.6ZM5,21V16.75L18.45,3.32a2,2,0,0,1,2.83,0l1.4,1.43a1.91,1.91,0,0,1,.58,1.4,1.91,1.91,0,0,1-.58,1.4L9.25,21ZM18.45,9,17,7.55Zm-12,3A5.31,5.31,0,0,0,4.9,8.1,5.31,5.31,0,0,0,1,6.5,5.31,5.31,0,0,0,4.9,4.9,5.31,5.31,0,0,0,6.5,1,5.31,5.31,0,0,0,8.1,4.9,5.31,5.31,0,0,0,12,6.5,5.46,5.46,0,0,0,6.5,12Z\"/>\n",
              "  </svg>\n",
              "    </button>\n",
              "    <script>\n",
              "      (() => {\n",
              "      const buttonEl =\n",
              "        document.querySelector('#id_b186399e-1b89-41d7-b966-c7b17bff05dc button.colab-df-generate');\n",
              "      buttonEl.style.display =\n",
              "        google.colab.kernel.accessAllowed ? 'block' : 'none';\n",
              "\n",
              "      buttonEl.onclick = () => {\n",
              "        google.colab.notebook.generateWithVariable('df');\n",
              "      }\n",
              "      })();\n",
              "    </script>\n",
              "  </div>\n",
              "\n",
              "    </div>\n",
              "  </div>\n"
            ],
            "application/vnd.google.colaboratory.intrinsic+json": {
              "type": "dataframe",
              "variable_name": "df",
              "summary": "{\n  \"name\": \"df\",\n  \"rows\": 16,\n  \"fields\": [\n    {\n      \"column\": \"tokens\",\n      \"properties\": {\n        \"dtype\": \"string\",\n        \"num_unique_values\": 15,\n        \"samples\": [\n          \"room\",\n          \"with\",\n          \"usually\"\n        ],\n        \"semantic_type\": \"\",\n        \"description\": \"\"\n      }\n    },\n    {\n      \"column\": \"ids\",\n      \"properties\": {\n        \"dtype\": \"number\",\n        \"std\": 2752,\n        \"min\": 19,\n        \"max\": 9774,\n        \"num_unique_values\": 15,\n        \"samples\": [\n          536,\n          201,\n          2462\n        ],\n        \"semantic_type\": \"\",\n        \"description\": \"\"\n      }\n    },\n    {\n      \"column\": \"type_ids\",\n      \"properties\": {\n        \"dtype\": \"number\",\n        \"std\": 0,\n        \"min\": 0,\n        \"max\": 0,\n        \"num_unique_values\": 1,\n        \"samples\": [\n          0\n        ],\n        \"semantic_type\": \"\",\n        \"description\": \"\"\n      }\n    },\n    {\n      \"column\": \"attention_mask\",\n      \"properties\": {\n        \"dtype\": \"number\",\n        \"std\": 0,\n        \"min\": 1,\n        \"max\": 1,\n        \"num_unique_values\": 1,\n        \"samples\": [\n          1\n        ],\n        \"semantic_type\": \"\",\n        \"description\": \"\"\n      }\n    }\n  ]\n}"
            }
          },
          "metadata": {},
          "execution_count": 58
        }
      ],
      "source": [
        "out_dict = {'tokens':tokens,'ids':token_ids,'type_ids':type_ids,'attention_mask':attention_mask}\n",
        "df = pd.DataFrame.from_dict(out_dict)\n",
        "df"
      ]
    },
    {
      "cell_type": "markdown",
      "id": "438acc02",
      "metadata": {
        "editable": true,
        "tags": [],
        "id": "438acc02"
      },
      "source": [
        "`type_ids` are model-specific. For instance, BERT-like models use type IDs of 0 and 1."
      ]
    },
    {
      "cell_type": "markdown",
      "id": "79c707a2",
      "metadata": {
        "editable": true,
        "tags": [],
        "id": "79c707a2"
      },
      "source": [
        "Another important attribute is the **`attention_mask`**, which is used in nearly all transformer-based architectures. In this mask, the value is **1** **for tokens to be attended to** and **0 for masked tokens** (won't be attended to) (which may seem counterintuitive given the term \"masking\").\n",
        "\n",
        "<br>\n",
        "\n",
        "To put it plainly:\n",
        "- if the attention mask for a token is 1, you pay attention to it.\n",
        "- if it is 0, its an instruction to your model to not pay attention to it."
      ]
    },
    {
      "cell_type": "markdown",
      "id": "55795dcc",
      "metadata": {
        "editable": true,
        "tags": [],
        "id": "55795dcc"
      },
      "source": [
        "<h1 style=\"color:Tomato;\">  Batch Encoding </h1>"
      ]
    },
    {
      "cell_type": "markdown",
      "id": "873d020a",
      "metadata": {
        "editable": true,
        "tags": [],
        "id": "873d020a"
      },
      "source": [
        "When encoding a batch of samples, we need to`[PAD]` shorter sequences in the batch, a process known as **dynamic batching**.\n",
        "\n",
        "For example, lets say we have 10 samples in a batch, and each of those sentences is of different length. Say one has 20 words and another has 34 and so on...\n",
        "\n",
        "So we need to find the largest sentence in the sample (say it has 50 words), and then we add the required amount of padding in each of the shorter sentences so that they are also of the same length now (for eg, all of the sentences will be sufficiently padded so they have length 50)"
      ]
    },
    {
      "cell_type": "markdown",
      "id": "ab40e53e",
      "metadata": {
        "editable": true,
        "tags": [],
        "id": "ab40e53e"
      },
      "source": [
        "Therefore, we use `encode_batch` method of the tokenizer object."
      ]
    },
    {
      "cell_type": "markdown",
      "id": "86559b52",
      "metadata": {
        "editable": true,
        "tags": [],
        "id": "86559b52"
      },
      "source": [
        "The `token_id` for the `[PAD]` token is 0"
      ]
    },
    {
      "cell_type": "code",
      "execution_count": 84,
      "id": "6c6b1e03",
      "metadata": {
        "editable": true,
        "tags": [],
        "id": "6c6b1e03",
        "outputId": "993ee2fd-273d-4bab-ac8f-dec1174406ee",
        "colab": {
          "base_uri": "https://localhost:8080/"
        }
      },
      "outputs": [
        {
          "output_type": "execute_result",
          "data": {
            "text/plain": [
              "['usually , he would be tearing around the living room , playing with his toys .',\n",
              " 'but just one look at a minion sent him practically catatonic .',\n",
              " \"that had been megan 's plan when she got him dressed earlier .\",\n",
              " \"he 'd seen the movie almost by mistake , considering he was a little young for the pg cartoon , but with older cousins , along with her brothers , mason was often exposed to things that were older .\"]"
            ]
          },
          "metadata": {},
          "execution_count": 84
        }
      ],
      "source": [
        "samples = ds[0:4]['text']\n",
        "\n",
        "# a batch of 4 samples\n",
        "samples"
      ]
    },
    {
      "cell_type": "code",
      "execution_count": 94,
      "id": "133aed35",
      "metadata": {
        "editable": true,
        "tags": [],
        "id": "133aed35",
        "outputId": "87ec88d5-8355-4889-aa13-a81f2440ebb9",
        "colab": {
          "base_uri": "https://localhost:8080/"
        }
      },
      "outputs": [
        {
          "output_type": "stream",
          "name": "stdout",
          "text": [
            "[Encoding(num_tokens=16, attributes=[ids, type_ids, tokens, offsets, attention_mask, special_tokens_mask, overflowing]),\n",
            " Encoding(num_tokens=14, attributes=[ids, type_ids, tokens, offsets, attention_mask, special_tokens_mask, overflowing]),\n",
            " Encoding(num_tokens=14, attributes=[ids, type_ids, tokens, offsets, attention_mask, special_tokens_mask, overflowing]),\n",
            " Encoding(num_tokens=42, attributes=[ids, type_ids, tokens, offsets, attention_mask, special_tokens_mask, overflowing])]\n"
          ]
        }
      ],
      "source": [
        "batch_encoding = tokenizer.encode_batch(samples)\n",
        "pprint(batch_encoding)"
      ]
    },
    {
      "cell_type": "code",
      "source": [
        "np.reshape(batch_encoding[0].tokens, (1, -1))"
      ],
      "metadata": {
        "id": "fWa0zWlh3WlA",
        "outputId": "46c602d5-9190-4a9c-d2d3-f23e94c79911",
        "colab": {
          "base_uri": "https://localhost:8080/"
        }
      },
      "id": "fWa0zWlh3WlA",
      "execution_count": 95,
      "outputs": [
        {
          "output_type": "execute_result",
          "data": {
            "text/plain": [
              "array([['usually', ',', 'he', 'would', 'be', 'tearing', 'around', 'the',\n",
              "        'living', 'room', ',', 'playing', 'with', 'his', 'toys', '.']],\n",
              "      dtype='<U7')"
            ]
          },
          "metadata": {},
          "execution_count": 95
        }
      ]
    },
    {
      "cell_type": "markdown",
      "id": "db10be29",
      "metadata": {
        "editable": true,
        "tags": [],
        "id": "db10be29"
      },
      "source": [
        "The maximum length of the sequence in the batch is 42 and the other samples are much shorter. Clearly, **padding** is **not applied** to the remaining samples currently."
      ]
    },
    {
      "cell_type": "markdown",
      "id": "a6f8d181",
      "metadata": {
        "editable": true,
        "tags": [],
        "id": "a6f8d181"
      },
      "source": [
        "In general, it is also possible for the length of a sequence to exceed the model's context length (or window size). In this case, we can enable **truncation**. If the model's context length is 512, i.e., it can't handle sequences longer than 512 tokens, we can enable truncation so that our tokenizer truncates any sequences/samples that are longer than 512 tokens. The tokenizer will cut off sentences at the 512 token limit and won't tokenize the entire sentence.\n",
        "\n",
        "\n",
        "Assuming the model's context length is 512, enable padding and truncation while batching the samples."
      ]
    },
    {
      "cell_type": "code",
      "execution_count": 99,
      "id": "91cf63e0",
      "metadata": {
        "editable": true,
        "tags": [],
        "id": "91cf63e0"
      },
      "outputs": [],
      "source": [
        "# all default args\n",
        "tokenizer.enable_padding(direction = 'right',\n",
        "                         pad_id = 0,\n",
        "                         pad_type_id = 0,\n",
        "                         pad_token = '[PAD]',\n",
        "                         length = None, # None default to max_len in the batch\n",
        "                         pad_to_multiple_of = None)\n",
        "\n",
        "# enable truncation\n",
        "tokenizer.enable_truncation(max_length=512)\n"
      ]
    },
    {
      "cell_type": "code",
      "execution_count": 100,
      "id": "49fce485",
      "metadata": {
        "editable": true,
        "tags": [],
        "id": "49fce485",
        "outputId": "6f8f0cad-9e1f-45a5-888a-e2e034971e94",
        "colab": {
          "base_uri": "https://localhost:8080/"
        }
      },
      "outputs": [
        {
          "output_type": "stream",
          "name": "stdout",
          "text": [
            "[Encoding(num_tokens=42, attributes=[ids, type_ids, tokens, offsets, attention_mask, special_tokens_mask, overflowing]),\n",
            " Encoding(num_tokens=42, attributes=[ids, type_ids, tokens, offsets, attention_mask, special_tokens_mask, overflowing]),\n",
            " Encoding(num_tokens=42, attributes=[ids, type_ids, tokens, offsets, attention_mask, special_tokens_mask, overflowing]),\n",
            " Encoding(num_tokens=42, attributes=[ids, type_ids, tokens, offsets, attention_mask, special_tokens_mask, overflowing])]\n"
          ]
        }
      ],
      "source": [
        "batch_encoding = tokenizer.encode_batch(samples)\n",
        "pprint(batch_encoding)"
      ]
    },
    {
      "cell_type": "markdown",
      "id": "27d4469f-23a5-4bf1-8401-92811800fbb2",
      "metadata": {
        "editable": true,
        "tags": [],
        "id": "27d4469f-23a5-4bf1-8401-92811800fbb2"
      },
      "source": [
        "After enabling padding, we can see that all samples in the batch are of the same length i.e. 42."
      ]
    },
    {
      "cell_type": "code",
      "source": [
        "# the first sample which only had 16 tokens is padded so that it too has 42 tokens now\n",
        "np.reshape(batch_encoding[0].tokens, (1, -1))"
      ],
      "metadata": {
        "id": "r0r_MYxK4Q5B",
        "outputId": "b4128e1d-33c7-4f48-c832-3690a3c0d42a",
        "colab": {
          "base_uri": "https://localhost:8080/"
        }
      },
      "id": "r0r_MYxK4Q5B",
      "execution_count": 101,
      "outputs": [
        {
          "output_type": "execute_result",
          "data": {
            "text/plain": [
              "array([['usually', ',', 'he', 'would', 'be', 'tearing', 'around', 'the',\n",
              "        'living', 'room', ',', 'playing', 'with', 'his', 'toys', '.',\n",
              "        '[PAD]', '[PAD]', '[PAD]', '[PAD]', '[PAD]', '[PAD]', '[PAD]',\n",
              "        '[PAD]', '[PAD]', '[PAD]', '[PAD]', '[PAD]', '[PAD]', '[PAD]',\n",
              "        '[PAD]', '[PAD]', '[PAD]', '[PAD]', '[PAD]', '[PAD]', '[PAD]',\n",
              "        '[PAD]', '[PAD]', '[PAD]', '[PAD]', '[PAD]']], dtype='<U7')"
            ]
          },
          "metadata": {},
          "execution_count": 101
        }
      ]
    },
    {
      "cell_type": "markdown",
      "id": "9a10efb8",
      "metadata": {
        "editable": true,
        "tags": [],
        "id": "9a10efb8"
      },
      "source": [
        "<h1 style=\"color:Tomato;\">  Quick test </h1>"
      ]
    },
    {
      "cell_type": "markdown",
      "id": "dd8d9cc7",
      "metadata": {
        "editable": true,
        "tags": [],
        "id": "dd8d9cc7"
      },
      "source": [
        "Let's **pass a test sequence** that contains two **tokens not present in the vocabulary**."
      ]
    },
    {
      "cell_type": "code",
      "execution_count": 102,
      "id": "34418e84",
      "metadata": {
        "editable": true,
        "tags": [],
        "id": "34418e84",
        "outputId": "fc967f90-30c2-47b4-c8cd-4c681f03e95c",
        "colab": {
          "base_uri": "https://localhost:8080/"
        }
      },
      "outputs": [
        {
          "output_type": "stream",
          "name": "stdout",
          "text": [
            "['all', 'this', 'is', 'so', 'simple', 'to', 'do', 'in', 'h', '##f', '[UNK]', '[UNK]', '##.']\n"
          ]
        }
      ],
      "source": [
        "text = \"All this is so simple to do in HF இ😊.\"\n",
        "encoded = tokenizer.encode(text).tokens\n",
        "print(encoded)"
      ]
    },
    {
      "cell_type": "markdown",
      "id": "cdfedc6f",
      "metadata": {
        "editable": true,
        "tags": [],
        "id": "cdfedc6f"
      },
      "source": [
        "Normalization worked as expected (This $\\rightarrow$ this, HF $\\rightarrow$ hf)"
      ]
    },
    {
      "cell_type": "markdown",
      "id": "2df28974",
      "metadata": {
        "editable": true,
        "tags": [],
        "id": "2df28974"
      },
      "source": [
        "Pre-tokenization followed by model tokenization has been applied correctly."
      ]
    },
    {
      "cell_type": "markdown",
      "id": "fb7e295e",
      "metadata": {
        "editable": true,
        "tags": [],
        "id": "fb7e295e"
      },
      "source": [
        "The continuing prefix has been used appropriately. ('##f', '##.`)"
      ]
    },
    {
      "cell_type": "markdown",
      "source": [
        "And the emojis that were passed in the input sentence were clearly not in the training data, so the tokenizer has tokenized them with the unknown `[UNK]` token as expected."
      ],
      "metadata": {
        "id": "ixtVR0Be8DwP"
      },
      "id": "ixtVR0Be8DwP"
    },
    {
      "cell_type": "markdown",
      "id": "b1f9d912",
      "metadata": {
        "editable": true,
        "tags": [],
        "id": "b1f9d912"
      },
      "source": [
        "<h1 style=\"color:Tomato;\">  Saving and Loading Tokenizer </h1>"
      ]
    },
    {
      "cell_type": "markdown",
      "id": "8d02d022",
      "metadata": {
        "editable": true,
        "tags": [],
        "id": "8d02d022"
      },
      "source": [
        "Let us **save the tokenizer** and load it in a single line of code in the model training script"
      ]
    },
    {
      "cell_type": "code",
      "execution_count": 103,
      "id": "c85e8075",
      "metadata": {
        "editable": true,
        "tags": [],
        "id": "c85e8075"
      },
      "outputs": [],
      "source": [
        "tokenizer.save('hopper.json')"
      ]
    },
    {
      "cell_type": "markdown",
      "id": "bc28fddb",
      "metadata": {
        "editable": true,
        "tags": [],
        "id": "bc28fddb"
      },
      "source": [
        "It **saves all the required information** such as `added_tokens`, details of the `model` (vocab,merges,..) , `normalizer`, `pre-tokenizer` .. all of the details of our tokenizer pipeline is saved correctly"
      ]
    },
    {
      "cell_type": "code",
      "execution_count": 104,
      "id": "a1097099",
      "metadata": {
        "editable": true,
        "tags": [],
        "id": "a1097099"
      },
      "outputs": [],
      "source": [
        "import json\n",
        "with open('hopper.json','r') as file:\n",
        "    json_data = json.load(file)"
      ]
    },
    {
      "cell_type": "code",
      "execution_count": 107,
      "id": "1ddbabf2",
      "metadata": {
        "editable": true,
        "tags": [],
        "id": "1ddbabf2",
        "outputId": "f10c9263-2dd1-4177-e4df-4ff2b4b65023",
        "colab": {
          "base_uri": "https://localhost:8080/"
        }
      },
      "outputs": [
        {
          "output_type": "stream",
          "name": "stdout",
          "text": [
            "{'added_tokens': [...],\n",
            " 'decoder': None,\n",
            " 'model': {...},\n",
            " 'normalizer': {...},\n",
            " 'padding': {...},\n",
            " 'post_processor': None,\n",
            " 'pre_tokenizer': {...},\n",
            " 'truncation': {...},\n",
            " 'version': '1.0'}\n"
          ]
        }
      ],
      "source": [
        "pprint(json_data, depth=1)"
      ]
    },
    {
      "cell_type": "markdown",
      "id": "79656710",
      "metadata": {
        "editable": true,
        "tags": [],
        "id": "79656710"
      },
      "source": [
        "It is now easy to **load the tokenizer back**"
      ]
    },
    {
      "cell_type": "code",
      "execution_count": 108,
      "id": "4e1b419f",
      "metadata": {
        "editable": true,
        "tags": [],
        "id": "4e1b419f"
      },
      "outputs": [],
      "source": [
        "trained_tokenizer = Tokenizer(BPE())"
      ]
    },
    {
      "cell_type": "code",
      "execution_count": 110,
      "id": "91799fe0",
      "metadata": {
        "editable": true,
        "tags": [],
        "id": "91799fe0"
      },
      "outputs": [],
      "source": [
        "# load the tokenizer back from the file\n",
        "trained_tokenizer = trained_tokenizer.from_file('hopper.json')"
      ]
    },
    {
      "cell_type": "code",
      "execution_count": 111,
      "id": "aaf737e1",
      "metadata": {
        "editable": true,
        "tags": [],
        "id": "aaf737e1",
        "outputId": "ebda1499-884a-4aea-db27-cc186adb7459",
        "colab": {
          "base_uri": "https://localhost:8080/"
        }
      },
      "outputs": [
        {
          "output_type": "stream",
          "name": "stdout",
          "text": [
            "['all', 'this', 'is', 'so', 'simple', 'to', 'do', 'in', 'h', '##f', '[UNK]', '[UNK]', '##.']\n"
          ]
        }
      ],
      "source": [
        "# check that it still works the same as before\n",
        "tokens = trained_tokenizer.encode(text).tokens\n",
        "print(tokens)"
      ]
    },
    {
      "cell_type": "markdown",
      "id": "b55e1186",
      "metadata": {
        "editable": true,
        "tags": [],
        "id": "b55e1186"
      },
      "source": [
        "<h1 style=\"color:Tomato;\"> BERT Tokenizer </h1>"
      ]
    },
    {
      "cell_type": "markdown",
      "id": "7d4e7c20",
      "metadata": {
        "editable": true,
        "tags": [],
        "id": "7d4e7c20"
      },
      "source": [
        "Let’s quickly build a BERT-like tokenizer (don’t worry about what BERT-like models are for now)"
      ]
    },
    {
      "cell_type": "markdown",
      "id": "33cfc75b",
      "metadata": {
        "editable": true,
        "tags": [],
        "id": "33cfc75b"
      },
      "source": [
        "The input to BERT models generally follows the template below, with slight variations across different BERT implementations."
      ]
    },
    {
      "cell_type": "markdown",
      "id": "6423537d",
      "metadata": {
        "editable": true,
        "tags": [],
        "id": "6423537d"
      },
      "source": [
        "[ `[CLS]`, token-A_1, $\\cdots$, token-A_n, `[SEP]`, token-B_1, $\\cdots$, token-B_m ]"
      ]
    },
    {
      "cell_type": "markdown",
      "id": "694bc12b",
      "metadata": {
        "editable": true,
        "tags": [],
        "id": "694bc12b"
      },
      "source": [
        "> Here `A` denotes sentence `A` with `n` tokens and `B` denotes  sentence `B` with `m` tokens.\n",
        "\n",
        "> So essentially: `[[CLS], first sentence tokens, [SEP], second sentence tokens]`\n",
        "\n",
        "BERT like models expect their input to be in the format specified above, and so therefore our bert tokenizer should also take input samples and transform it to the above specified format"
      ]
    },
    {
      "cell_type": "markdown",
      "id": "bf72cc6f",
      "metadata": {
        "editable": true,
        "tags": [],
        "id": "bf72cc6f"
      },
      "source": [
        "The special tokens are : `[CLS]`,`[SEP]`,`[PAD]`,`[MASK]` and `[UNK]`"
      ]
    },
    {
      "cell_type": "code",
      "execution_count": 113,
      "id": "4b710dce",
      "metadata": {
        "editable": true,
        "tags": [],
        "id": "4b710dce"
      },
      "outputs": [],
      "source": [
        "# set up the tokenizer and trainer objects\n",
        "\n",
        "bert_tokenizer = Tokenizer(BPE(unk_token='[UNK]'))\n",
        "bert_tokenizer.normalizer = Lowercase()\n",
        "bert_tokenizer.pre_tokenizer = Whitespace()\n",
        "bert_trainer = BpeTrainer(vocab_size=32000,\n",
        "                          special_tokens=[\"[PAD]\",\"[UNK]\",\"[CLS]\",\"[SEP]\",\"[MASK]\"],\n",
        "                          continuing_subword_prefix='##')"
      ]
    },
    {
      "cell_type": "markdown",
      "id": "09d40e26",
      "metadata": {
        "editable": true,
        "tags": [],
        "id": "09d40e26"
      },
      "source": [
        "We just need to add `post_processing_step` where the special tokens are inserted according to  the template"
      ]
    },
    {
      "cell_type": "code",
      "execution_count": 114,
      "id": "133f550d",
      "metadata": {
        "editable": true,
        "tags": [],
        "id": "133f550d"
      },
      "outputs": [],
      "source": [
        "from tokenizers.processors import TemplateProcessing"
      ]
    },
    {
      "cell_type": "markdown",
      "id": "bd420b9a",
      "metadata": {
        "editable": true,
        "tags": [],
        "id": "bd420b9a"
      },
      "source": [
        "Since BERT like models expect their inputs to be in a specific format, our tokenizer should take any given input and transform it to the BERT compatible format before passing it on to the BERT model.\n",
        "\n",
        "\n",
        "* If we pass a single sentence, the tokenizer should output `\"[CLS] $0 [SEP]\"` where 0 denotes the `type_id` (which defaults to zero if there is a single sentence) <br>\n",
        "\n",
        "* If we pass a pair of sentence, the tokenizer should output `\"[CLS] $A:0 [SEP] $B:1\"`\n",
        "\n",
        "This post processing ensures that the encoded output is returned in the BERT compatible format."
      ]
    },
    {
      "cell_type": "code",
      "execution_count": 115,
      "id": "5a702026",
      "metadata": {
        "editable": true,
        "tags": [],
        "id": "5a702026"
      },
      "outputs": [],
      "source": [
        "# defining the post processing step\n",
        "\n",
        "bert_tokenizer.post_processor = TemplateProcessing(single=\"[CLS] $0 [SEP]\", # if a single sentence is passed, format it like this\n",
        "                                                   pair=\"[CLS] $A [SEP] $B:1\", # <-- if a pair of sentence is passed, format it like this\n",
        "                                                   special_tokens=[(\"[CLS]\", 2), (\"[SEP]\", 3)],\n",
        "                                                   # this means 'CLS' token has a token ID of 2, and 'SEP' token has a token ID of 3\n",
        "                                                  )"
      ]
    },
    {
      "cell_type": "markdown",
      "source": [
        "Train the BERT tokenizer using our generator which yields a batch of samples at a time. This again took around 22 minutes on colab."
      ],
      "metadata": {
        "id": "6y_MSkCyBPnR"
      },
      "id": "6y_MSkCyBPnR"
    },
    {
      "cell_type": "code",
      "execution_count": 116,
      "id": "7c53115c",
      "metadata": {
        "editable": true,
        "tags": [],
        "id": "7c53115c"
      },
      "outputs": [],
      "source": [
        "bert_tokenizer.train_from_iterator(get_examples(batch_size=10000),trainer=bert_trainer,length=len(ds))"
      ]
    },
    {
      "cell_type": "code",
      "source": [
        "bert_tokenizer.save('bert.json')"
      ],
      "metadata": {
        "id": "_cA8myzEfDQC"
      },
      "id": "_cA8myzEfDQC",
      "execution_count": 131,
      "outputs": []
    },
    {
      "cell_type": "markdown",
      "id": "09e1d148",
      "metadata": {
        "editable": true,
        "tags": [],
        "id": "09e1d148"
      },
      "source": [
        "### Testing the BERT tokenizer\n",
        "\n",
        "Pass a single sentence to the tokenizer and see if it outputs tokens in the desired format, i.e.\n",
        "\n",
        "`[CLS] sentence A tokens [SEP]`"
      ]
    },
    {
      "cell_type": "code",
      "execution_count": 120,
      "id": "572f4d2e",
      "metadata": {
        "editable": true,
        "tags": [],
        "id": "572f4d2e",
        "outputId": "e357cff4-b663-406e-c9f3-cf835a43f46a",
        "colab": {
          "base_uri": "https://localhost:8080/"
        }
      },
      "outputs": [
        {
          "output_type": "stream",
          "name": "stdout",
          "text": [
            "{'token_ids': [2, 270, 956, 336, 231, 2534, 141, 206, 157, 56, 93, 24, 462, 17,\n",
            "               67, 206, 387, 3],\n",
            " 'tokens': ['[CLS]', 'all', 'these', 'are', 'so', 'simple', 'to', 'do', 'in',\n",
            "            'h', '##f', '.', 'let', \"'\", 's', 'do', 'more', '[SEP]']}\n"
          ]
        }
      ],
      "source": [
        "text = \"All these are so simple to do in HF. Let's do more\"\n",
        "encoded = bert_tokenizer.encode(text)\n",
        "tokens = encoded.tokens\n",
        "ids = encoded.ids\n",
        "out_dict = {'tokens':tokens,'token_ids':ids}\n",
        "pprint(out_dict,depth=2,compact=True)"
      ]
    },
    {
      "cell_type": "markdown",
      "id": "965375e3",
      "metadata": {
        "editable": true,
        "tags": [],
        "id": "965375e3"
      },
      "source": [
        "Observe that it has returned the output in the desired format.\n",
        "\n",
        "Let's pass a pair of sentences and see if it outputs tokens in the desired format, i.e.,\n",
        "\n",
        "`[CLS] sentence A tokens [SEP] sentence B tokens`"
      ]
    },
    {
      "cell_type": "code",
      "execution_count": 122,
      "id": "44d655c3",
      "metadata": {
        "editable": true,
        "tags": [],
        "id": "44d655c3",
        "outputId": "5ed01fa9-8296-44c2-b792-02de886f66a8",
        "colab": {
          "base_uri": "https://localhost:8080/"
        }
      },
      "outputs": [
        {
          "output_type": "stream",
          "name": "stdout",
          "text": [
            "{'token_ids': [2, 270, 956, 336, 231, 2534, 141, 206, 157, 56, 93, 24, 462, 17,\n",
            "               67, 206, 387, 3, 214, 250, 49, 490, 415, 141, 260, 12],\n",
            " 'tokens': ['[CLS]', 'all', 'these', 'are', 'so', 'simple', 'to', 'do', 'in',\n",
            "            'h', '##f', '.', 'let', \"'\", 's', 'do', 'more', '[SEP]', 'we',\n",
            "            'have', 'a', 'long', 'way', 'to', 'go', '!']}\n"
          ]
        }
      ],
      "source": [
        "text = \"All these are so simple to do in HF. Let's do more\"\n",
        "pair = \"We have a long way to go!\"\n",
        "\n",
        "encoded = bert_tokenizer.encode(text,pair)\n",
        "tokens = encoded.tokens\n",
        "ids = encoded.ids\n",
        "out_dict = {'tokens':tokens,'token_ids':ids}\n",
        "pprint(out_dict,depth=2,compact=True)"
      ]
    },
    {
      "cell_type": "markdown",
      "source": [
        "Again, the output is in the BERT format for this case as well"
      ],
      "metadata": {
        "id": "Fu1FgHmhUt0O"
      },
      "id": "Fu1FgHmhUt0O"
    },
    {
      "cell_type": "markdown",
      "id": "91f59631",
      "metadata": {
        "editable": true,
        "tags": [],
        "id": "91f59631"
      },
      "source": [
        "<h1 style=\"color:Tomato;\"> Decoding </h1>"
      ]
    },
    {
      "cell_type": "markdown",
      "id": "3054d90c",
      "metadata": {
        "editable": true,
        "tags": [],
        "id": "3054d90c"
      },
      "source": [
        "Now at the decoding time, the **special tokens** (for ex, `[PAD]`) **need to be removed** and **sub-words have to be merged** before outputting the final result to the end user."
      ]
    },
    {
      "cell_type": "markdown",
      "id": "34da137d",
      "metadata": {
        "editable": true,
        "tags": [],
        "id": "34da137d"
      },
      "source": [
        "Let us decode the enoced `token_ids` from the previous step."
      ]
    },
    {
      "cell_type": "code",
      "execution_count": 123,
      "id": "bf4441e7",
      "metadata": {
        "editable": true,
        "tags": [],
        "id": "bf4441e7",
        "outputId": "02b4d3a0-d266-4799-9fc3-e1e27ecf4653",
        "colab": {
          "base_uri": "https://localhost:8080/"
        }
      },
      "outputs": [
        {
          "output_type": "stream",
          "name": "stdout",
          "text": [
            "all these are so simple to do in h ##f . let ' s do more we have a long way to go !\n"
          ]
        }
      ],
      "source": [
        "plain_tokens = bert_tokenizer.decode(ids)\n",
        "print(plain_tokens)"
      ]
    },
    {
      "cell_type": "markdown",
      "id": "5f5ba11c",
      "metadata": {
        "editable": true,
        "tags": [],
        "id": "5f5ba11c"
      },
      "source": [
        "The special tokens were removed, but note that the **subword** `(h, ##f)` **wasn't merged into a complete word.**"
      ]
    },
    {
      "cell_type": "markdown",
      "id": "c4aa3429",
      "metadata": {
        "editable": true,
        "tags": [],
        "id": "c4aa3429"
      },
      "source": [
        "We need to use appropriate decoders based on the type of tokenizer. See the list of decoders [here](https://huggingface.co/docs/tokenizers/v0.13.4.rc2/en/api/decoders)"
      ]
    },
    {
      "cell_type": "code",
      "execution_count": 124,
      "id": "e9d0aefe",
      "metadata": {
        "editable": true,
        "tags": [],
        "id": "e9d0aefe"
      },
      "outputs": [],
      "source": [
        "from tokenizers.decoders import WordPiece"
      ]
    },
    {
      "cell_type": "code",
      "execution_count": 126,
      "id": "00917bbc",
      "metadata": {
        "editable": true,
        "tags": [],
        "id": "00917bbc"
      },
      "outputs": [],
      "source": [
        "bert_tokenizer.decoder = WordPiece(prefix='##') # specify the prefix used by continuing sub words"
      ]
    },
    {
      "cell_type": "code",
      "execution_count": 127,
      "id": "bf4c9dbd",
      "metadata": {
        "editable": true,
        "tags": [],
        "id": "bf4c9dbd",
        "outputId": "f239a1c1-3955-4b31-eced-c7320e6baafc",
        "colab": {
          "base_uri": "https://localhost:8080/"
        }
      },
      "outputs": [
        {
          "output_type": "stream",
          "name": "stdout",
          "text": [
            "all these are so simple to do in hf. let ' s do more we have a long way to go!\n"
          ]
        }
      ],
      "source": [
        "plain_tokens = bert_tokenizer.decode(ids)\n",
        "print(plain_tokens)"
      ]
    },
    {
      "cell_type": "markdown",
      "source": [
        "The tokens are now properly decoded and the sub words are appropriately merged as well!"
      ],
      "metadata": {
        "id": "eAIjHwaTVb0K"
      },
      "id": "eAIjHwaTVb0K"
    },
    {
      "cell_type": "markdown",
      "id": "87863a1f",
      "metadata": {
        "editable": true,
        "tags": [],
        "id": "87863a1f"
      },
      "source": [
        "<h1 style=\"color:Tomato;\">  Pretrained Tokenizer </h1>"
      ]
    },
    {
      "cell_type": "markdown",
      "id": "09c5f12f",
      "metadata": {
        "editable": true,
        "tags": [],
        "id": "09c5f12f"
      },
      "source": [
        "Finally, we need to wrap everything in a `PreTrainedTokenizer` class."
      ]
    },
    {
      "cell_type": "markdown",
      "id": "37d90e63",
      "metadata": {
        "editable": true,
        "tags": [],
        "id": "37d90e63"
      },
      "source": [
        "Recall that using `tokenizer.encode` returns `Encoding` with a list of attributes that includes `ids`, `type_ids`, `tokens`, `attention_mask` and many more"
      ]
    },
    {
      "cell_type": "code",
      "execution_count": 128,
      "id": "53eeeff3",
      "metadata": {
        "editable": true,
        "tags": [],
        "id": "53eeeff3",
        "outputId": "520a66a3-dc36-4b11-928e-5da50322062b",
        "colab": {
          "base_uri": "https://localhost:8080/"
        }
      },
      "outputs": [
        {
          "output_type": "stream",
          "name": "stdout",
          "text": [
            "Encoding(num_tokens=16, attributes=[ids, type_ids, tokens, offsets, attention_mask, special_tokens_mask, overflowing])\n"
          ]
        }
      ],
      "source": [
        "encoding = tokenizer.encode(text)\n",
        "print(encoding)"
      ]
    },
    {
      "cell_type": "markdown",
      "id": "2fa81e90",
      "metadata": {
        "editable": true,
        "tags": [],
        "id": "2fa81e90"
      },
      "source": [
        "In general, the model requires the `input_ids`, `attention_mask` and other model specific attributes. The `PreTrainedTokenizer` class helps us get all this information for a sample in one shot!"
      ]
    },
    {
      "cell_type": "code",
      "execution_count": 130,
      "id": "9bbb2ad9",
      "metadata": {
        "editable": true,
        "tags": [],
        "id": "9bbb2ad9"
      },
      "outputs": [],
      "source": [
        "from transformers import PreTrainedTokenizerFast"
      ]
    },
    {
      "cell_type": "code",
      "execution_count": 132,
      "id": "150ee79b",
      "metadata": {
        "editable": true,
        "tags": [],
        "id": "150ee79b",
        "outputId": "606cbfdd-6a5f-46ea-b692-6e8488705fb4",
        "colab": {
          "base_uri": "https://localhost:8080/"
        }
      },
      "outputs": [
        {
          "output_type": "stream",
          "name": "stderr",
          "text": [
            "/usr/local/lib/python3.10/dist-packages/transformers/tokenization_utils_base.py:1601: FutureWarning: `clean_up_tokenization_spaces` was not set. It will be set to `True` by default. This behavior will be depracted in transformers v4.45, and will be then set to `False` by default. For more details check this issue: https://github.com/huggingface/transformers/issues/31884\n",
            "  warnings.warn(\n"
          ]
        }
      ],
      "source": [
        "pt_tokenizer = PreTrainedTokenizerFast(tokenizer_file='hopper.json', # specify the tokenizer file\n",
        "                                      unk_token='[UNK]',\n",
        "                                      pad_token='[PAD]',\n",
        "                                      model_input_names=[\"input_ids\",\"token_type_ids\",\"attention_mask\"],\n",
        "                                      )"
      ]
    },
    {
      "cell_type": "markdown",
      "id": "6826b623",
      "metadata": {
        "editable": true,
        "tags": [],
        "id": "6826b623"
      },
      "source": [
        "Now we can simply call the `pt_tokenizer` with an input. See the call signature [here](https://huggingface.co/docs/transformers/v4.44.2/en/main_classes/tokenizer#transformers.PreTrainedTokenizer.__call__)"
      ]
    },
    {
      "cell_type": "code",
      "execution_count": 134,
      "id": "9d9da296",
      "metadata": {
        "editable": true,
        "tags": [],
        "id": "9d9da296",
        "outputId": "9051bdad-11a1-40f7-8319-86987e938356",
        "colab": {
          "base_uri": "https://localhost:8080/"
        }
      },
      "outputs": [
        {
          "output_type": "stream",
          "name": "stdout",
          "text": [
            "{'attention_mask': [1, 1, 1, 1, 1, 1, 1, 1, 1, 1, 1, 1, 1, 1, 1, 1],\n",
            " 'input_ids': [267, 953, 333, 228, 2531, 138, 203, 154, 53, 97, 21, 459, 14, 64,\n",
            "               203, 384],\n",
            " 'token_type_ids': [0, 0, 0, 0, 0, 0, 0, 0, 0, 0, 0, 0, 0, 0, 0, 0]}\n"
          ]
        }
      ],
      "source": [
        "model_inputs = pt_tokenizer(text)\n",
        "pprint(model_inputs, compact=True)"
      ]
    },
    {
      "cell_type": "markdown",
      "source": [
        "Observe, how the `PreTrainedTokenizer` object has given us everything neatly, including the `attention_mask` for tokens, `token_ids`, etc...\n",
        "\n",
        "We can now pass easily this to a model.\n",
        "\n",
        "This also works when you have pairs of sentences:"
      ],
      "metadata": {
        "id": "DoHjqxE0f87q"
      },
      "id": "DoHjqxE0f87q"
    },
    {
      "cell_type": "code",
      "execution_count": 136,
      "id": "a17fec79",
      "metadata": {
        "editable": true,
        "tags": [],
        "id": "a17fec79",
        "outputId": "db1a6375-4667-43c9-8edf-69d8ccba3f57",
        "colab": {
          "base_uri": "https://localhost:8080/"
        }
      },
      "outputs": [
        {
          "output_type": "stream",
          "name": "stdout",
          "text": [
            "{'attention_mask': [1, 1, 1, 1, 1, 1, 1, 1, 1, 1, 1, 1, 1, 1, 1, 1, 1, 1, 1, 1,\n",
            "                    1, 1, 1, 1],\n",
            " 'input_ids': [267, 953, 333, 228, 2531, 138, 203, 154, 53, 97, 21, 459, 14, 64,\n",
            "               203, 384, 211, 247, 46, 487, 412, 138, 257, 9],\n",
            " 'token_type_ids': [0, 0, 0, 0, 0, 0, 0, 0, 0, 0, 0, 0, 0, 0, 0, 0, 1, 1, 1, 1,\n",
            "                    1, 1, 1, 1]}\n"
          ]
        }
      ],
      "source": [
        "model_inputs = pt_tokenizer(text, text_pair=pair)\n",
        "pprint(model_inputs,compact=True)"
      ]
    },
    {
      "cell_type": "markdown",
      "id": "b296fb87",
      "metadata": {
        "editable": true,
        "tags": [],
        "id": "b296fb87"
      },
      "source": [
        "Note that there is an additional `type id`. There are no special tokens `[CLS]:2`,`[SEP]:3` as we haven't used `bert_tokenizer`.\n",
        "\n",
        "Had we passed the `bert_tokenizer` `json` file, the CLS and SEP tokens would've showed up as well."
      ]
    },
    {
      "cell_type": "markdown",
      "id": "ab41213c",
      "metadata": {
        "editable": true,
        "tags": [],
        "id": "ab41213c"
      },
      "source": [
        "We can also pass a **batch** of samples and it works!"
      ]
    },
    {
      "cell_type": "code",
      "execution_count": 137,
      "id": "100a686a",
      "metadata": {
        "editable": true,
        "tags": [],
        "id": "100a686a"
      },
      "outputs": [],
      "source": [
        "batch_text = ['I like the book The Psychology of Money','I enjoyed watching the Transformers movie','oh! thanks for this']"
      ]
    },
    {
      "cell_type": "code",
      "execution_count": 138,
      "id": "c734b0ee",
      "metadata": {
        "editable": true,
        "tags": [],
        "id": "c734b0ee",
        "outputId": "c524a604-d875-42bf-d4a8-1c0290ba1fc9",
        "colab": {
          "base_uri": "https://localhost:8080/"
        }
      },
      "outputs": [
        {
          "output_type": "stream",
          "name": "stdout",
          "text": [
            "{'attention_mask': [[1, 1, 1, 1, 1, 1, 1, 1], [1, 1, 1, 1, 1, 1, 1],\n",
            "                    [1, 1, 1, 1, 1]],\n",
            " 'input_ids': [[54, 281, 131, 1701, 131, 19478, 153, 1564],\n",
            "               [54, 4096, 1443, 131, 7744, 307, 3760],\n",
            "               [772, 9, 1767, 200, 254]],\n",
            " 'token_type_ids': [[0, 0, 0, 0, 0, 0, 0, 0], [0, 0, 0, 0, 0, 0, 0],\n",
            "                    [0, 0, 0, 0, 0]]}\n"
          ]
        }
      ],
      "source": [
        "model_inputs = pt_tokenizer(batch_text)\n",
        "pprint(model_inputs,compact=True)"
      ]
    },
    {
      "cell_type": "markdown",
      "id": "8561642b",
      "metadata": {
        "editable": true,
        "tags": [],
        "id": "8561642b"
      },
      "source": [
        "You can observe that the 3 samples have different number of tokens. Padding is not done by default so let's enable padding:\n",
        "\n",
        "\n"
      ]
    },
    {
      "cell_type": "code",
      "execution_count": 140,
      "id": "3b0ebf93",
      "metadata": {
        "editable": true,
        "tags": [],
        "id": "3b0ebf93",
        "outputId": "e2d1d7cc-f256-4bb2-e3bf-26d4f33ce73e",
        "colab": {
          "base_uri": "https://localhost:8080/"
        }
      },
      "outputs": [
        {
          "output_type": "stream",
          "name": "stdout",
          "text": [
            "{'attention_mask': [[1, 1, 1, 1, 1, 1, 1, 1], [1, 1, 1, 1, 1, 1, 1, 0],\n",
            "                    [1, 1, 1, 1, 1, 0, 0, 0]],\n",
            " 'input_ids': [[54, 281, 131, 1701, 131, 19478, 153, 1564],\n",
            "               [54, 4096, 1443, 131, 7744, 307, 3760, 0],\n",
            "               [772, 9, 1767, 200, 254, 0, 0, 0]],\n",
            " 'token_type_ids': [[0, 0, 0, 0, 0, 0, 0, 0], [0, 0, 0, 0, 0, 0, 0, 0],\n",
            "                    [0, 0, 0, 0, 0, 0, 0, 0]]}\n"
          ]
        }
      ],
      "source": [
        "model_inputs = pt_tokenizer(batch_text, padding=True)\n",
        "pprint(model_inputs,compact=True)"
      ]
    },
    {
      "cell_type": "markdown",
      "source": [
        "Now all the 3 samples are properly padded to ensure the same length. Also note that the newly added `[PAD]` tokens have a `token_id` of 0. Moreover, their `attention_mask` is also 0, which is good because you don't want your model to pay attention to the padding tokens."
      ],
      "metadata": {
        "id": "xvfSwQd0hAkk"
      },
      "id": "xvfSwQd0hAkk"
    },
    {
      "cell_type": "markdown",
      "id": "bebd957d",
      "metadata": {
        "editable": true,
        "tags": [],
        "id": "bebd957d"
      },
      "source": [
        "We can save the pre-trained tokenizer by calling `pt_tokenizer.save('hopper')`.It will create a directory named `hopper` and store all the required files ( `tokenizer.json`, `tokenizer_config.json`, `special_tokens_map.json`)"
      ]
    },
    {
      "cell_type": "markdown",
      "id": "bebd958d",
      "metadata": {
        "editable": true,
        "tags": [],
        "id": "bebd958d"
      },
      "source": [
        "`PreTrainedTokenizer` class implements additional methods that are useful for the model during training."
      ]
    },
    {
      "cell_type": "markdown",
      "id": "3241ac9b",
      "metadata": {
        "editable": true,
        "tags": [],
        "id": "3241ac9b"
      },
      "source": [
        "We just need to pass the `tokenizer_file` and other few arguments."
      ]
    },
    {
      "cell_type": "markdown",
      "id": "ad4945d9",
      "metadata": {
        "editable": true,
        "tags": [],
        "id": "ad4945d9"
      },
      "source": [
        "We will see how to make use of `PreTrainedTokenizer` for training a Model in the next experiment."
      ]
    }
  ],
  "metadata": {
    "kernelspec": {
      "display_name": "Python 3 (ipykernel)",
      "language": "python",
      "name": "python3"
    },
    "language_info": {
      "codemirror_mode": {
        "name": "ipython",
        "version": 3
      },
      "file_extension": ".py",
      "mimetype": "text/x-python",
      "name": "python",
      "nbconvert_exporter": "python",
      "pygments_lexer": "ipython3",
      "version": "3.10.12"
    },
    "colab": {
      "provenance": [],
      "include_colab_link": true
    },
    "widgets": {
      "application/vnd.jupyter.widget-state+json": {
        "e228ff6d8c19422587fd385973a2e5b9": {
          "model_module": "@jupyter-widgets/controls",
          "model_name": "VBoxModel",
          "model_module_version": "1.5.0",
          "state": {
            "_dom_classes": [
              "widget-interact"
            ],
            "_model_module": "@jupyter-widgets/controls",
            "_model_module_version": "1.5.0",
            "_model_name": "VBoxModel",
            "_view_count": null,
            "_view_module": "@jupyter-widgets/controls",
            "_view_module_version": "1.5.0",
            "_view_name": "VBoxView",
            "box_style": "",
            "children": [
              "IPY_MODEL_affc9e063a1b4f8985758075d2be23f3",
              "IPY_MODEL_099cde5790134de4935369bcfaf9cbbf"
            ],
            "layout": "IPY_MODEL_d61062ad9ca248cb86e4d8fca8c46ebf"
          }
        },
        "affc9e063a1b4f8985758075d2be23f3": {
          "model_module": "@jupyter-widgets/controls",
          "model_name": "IntSliderModel",
          "model_module_version": "1.5.0",
          "state": {
            "_dom_classes": [],
            "_model_module": "@jupyter-widgets/controls",
            "_model_module_version": "1.5.0",
            "_model_name": "IntSliderModel",
            "_view_count": null,
            "_view_module": "@jupyter-widgets/controls",
            "_view_module_version": "1.5.0",
            "_view_name": "IntSliderView",
            "continuous_update": true,
            "description": "pair",
            "description_tooltip": null,
            "disabled": false,
            "layout": "IPY_MODEL_b4b05ced130941d39fa4faccc2b471d7",
            "max": 31870,
            "min": 1,
            "orientation": "horizontal",
            "readout": true,
            "readout_format": "d",
            "step": 1,
            "style": "IPY_MODEL_d1d7e915b6f44c29a14cdd5160339065",
            "value": 31867
          }
        },
        "099cde5790134de4935369bcfaf9cbbf": {
          "model_module": "@jupyter-widgets/output",
          "model_name": "OutputModel",
          "model_module_version": "1.0.0",
          "state": {
            "_dom_classes": [],
            "_model_module": "@jupyter-widgets/output",
            "_model_module_version": "1.0.0",
            "_model_name": "OutputModel",
            "_view_count": null,
            "_view_module": "@jupyter-widgets/output",
            "_view_module_version": "1.0.0",
            "_view_name": "OutputView",
            "layout": "IPY_MODEL_57d5d8c98c7b434ba1900db1cc0ee186",
            "msg_id": "",
            "outputs": [
              {
                "output_type": "stream",
                "name": "stdout",
                "text": [
                  "v , ##ang\n"
                ]
              }
            ]
          }
        },
        "d61062ad9ca248cb86e4d8fca8c46ebf": {
          "model_module": "@jupyter-widgets/base",
          "model_name": "LayoutModel",
          "model_module_version": "1.2.0",
          "state": {
            "_model_module": "@jupyter-widgets/base",
            "_model_module_version": "1.2.0",
            "_model_name": "LayoutModel",
            "_view_count": null,
            "_view_module": "@jupyter-widgets/base",
            "_view_module_version": "1.2.0",
            "_view_name": "LayoutView",
            "align_content": null,
            "align_items": null,
            "align_self": null,
            "border": null,
            "bottom": null,
            "display": null,
            "flex": null,
            "flex_flow": null,
            "grid_area": null,
            "grid_auto_columns": null,
            "grid_auto_flow": null,
            "grid_auto_rows": null,
            "grid_column": null,
            "grid_gap": null,
            "grid_row": null,
            "grid_template_areas": null,
            "grid_template_columns": null,
            "grid_template_rows": null,
            "height": null,
            "justify_content": null,
            "justify_items": null,
            "left": null,
            "margin": null,
            "max_height": null,
            "max_width": null,
            "min_height": null,
            "min_width": null,
            "object_fit": null,
            "object_position": null,
            "order": null,
            "overflow": null,
            "overflow_x": null,
            "overflow_y": null,
            "padding": null,
            "right": null,
            "top": null,
            "visibility": null,
            "width": null
          }
        },
        "b4b05ced130941d39fa4faccc2b471d7": {
          "model_module": "@jupyter-widgets/base",
          "model_name": "LayoutModel",
          "model_module_version": "1.2.0",
          "state": {
            "_model_module": "@jupyter-widgets/base",
            "_model_module_version": "1.2.0",
            "_model_name": "LayoutModel",
            "_view_count": null,
            "_view_module": "@jupyter-widgets/base",
            "_view_module_version": "1.2.0",
            "_view_name": "LayoutView",
            "align_content": null,
            "align_items": null,
            "align_self": null,
            "border": null,
            "bottom": null,
            "display": null,
            "flex": null,
            "flex_flow": null,
            "grid_area": null,
            "grid_auto_columns": null,
            "grid_auto_flow": null,
            "grid_auto_rows": null,
            "grid_column": null,
            "grid_gap": null,
            "grid_row": null,
            "grid_template_areas": null,
            "grid_template_columns": null,
            "grid_template_rows": null,
            "height": null,
            "justify_content": null,
            "justify_items": null,
            "left": null,
            "margin": null,
            "max_height": null,
            "max_width": null,
            "min_height": null,
            "min_width": null,
            "object_fit": null,
            "object_position": null,
            "order": null,
            "overflow": null,
            "overflow_x": null,
            "overflow_y": null,
            "padding": null,
            "right": null,
            "top": null,
            "visibility": null,
            "width": "900px"
          }
        },
        "d1d7e915b6f44c29a14cdd5160339065": {
          "model_module": "@jupyter-widgets/controls",
          "model_name": "SliderStyleModel",
          "model_module_version": "1.5.0",
          "state": {
            "_model_module": "@jupyter-widgets/controls",
            "_model_module_version": "1.5.0",
            "_model_name": "SliderStyleModel",
            "_view_count": null,
            "_view_module": "@jupyter-widgets/base",
            "_view_module_version": "1.2.0",
            "_view_name": "StyleView",
            "description_width": "",
            "handle_color": null
          }
        },
        "57d5d8c98c7b434ba1900db1cc0ee186": {
          "model_module": "@jupyter-widgets/base",
          "model_name": "LayoutModel",
          "model_module_version": "1.2.0",
          "state": {
            "_model_module": "@jupyter-widgets/base",
            "_model_module_version": "1.2.0",
            "_model_name": "LayoutModel",
            "_view_count": null,
            "_view_module": "@jupyter-widgets/base",
            "_view_module_version": "1.2.0",
            "_view_name": "LayoutView",
            "align_content": null,
            "align_items": null,
            "align_self": null,
            "border": null,
            "bottom": null,
            "display": null,
            "flex": null,
            "flex_flow": null,
            "grid_area": null,
            "grid_auto_columns": null,
            "grid_auto_flow": null,
            "grid_auto_rows": null,
            "grid_column": null,
            "grid_gap": null,
            "grid_row": null,
            "grid_template_areas": null,
            "grid_template_columns": null,
            "grid_template_rows": null,
            "height": null,
            "justify_content": null,
            "justify_items": null,
            "left": null,
            "margin": null,
            "max_height": null,
            "max_width": null,
            "min_height": null,
            "min_width": null,
            "object_fit": null,
            "object_position": null,
            "order": null,
            "overflow": null,
            "overflow_x": null,
            "overflow_y": null,
            "padding": null,
            "right": null,
            "top": null,
            "visibility": null,
            "width": null
          }
        },
        "36d75bf31ab14fb3807cda1e5008b95f": {
          "model_module": "@jupyter-widgets/controls",
          "model_name": "VBoxModel",
          "model_module_version": "1.5.0",
          "state": {
            "_dom_classes": [
              "widget-interact"
            ],
            "_model_module": "@jupyter-widgets/controls",
            "_model_module_version": "1.5.0",
            "_model_name": "VBoxModel",
            "_view_count": null,
            "_view_module": "@jupyter-widgets/controls",
            "_view_module_version": "1.5.0",
            "_view_name": "VBoxView",
            "box_style": "",
            "children": [
              "IPY_MODEL_3a5add4964764c4d9d4edeb96e096dbc",
              "IPY_MODEL_55024f3ac5064d0daa7c78ea837c4502"
            ],
            "layout": "IPY_MODEL_0f0e32cff03a41ccadffeb4acd924bb4"
          }
        },
        "3a5add4964764c4d9d4edeb96e096dbc": {
          "model_module": "@jupyter-widgets/controls",
          "model_name": "IntSliderModel",
          "model_module_version": "1.5.0",
          "state": {
            "_dom_classes": [],
            "_model_module": "@jupyter-widgets/controls",
            "_model_module_version": "1.5.0",
            "_model_name": "IntSliderModel",
            "_view_count": null,
            "_view_module": "@jupyter-widgets/controls",
            "_view_module_version": "1.5.0",
            "_view_name": "IntSliderView",
            "continuous_update": true,
            "description": "id",
            "description_tooltip": null,
            "disabled": false,
            "layout": "IPY_MODEL_0652d121c34d482982d034b2e9ea19c2",
            "max": 31999,
            "min": 0,
            "orientation": "horizontal",
            "readout": true,
            "readout_format": "d",
            "step": 1,
            "style": "IPY_MODEL_aed8a1590f964b41a94194682b558249",
            "value": 31999
          }
        },
        "55024f3ac5064d0daa7c78ea837c4502": {
          "model_module": "@jupyter-widgets/output",
          "model_name": "OutputModel",
          "model_module_version": "1.0.0",
          "state": {
            "_dom_classes": [],
            "_model_module": "@jupyter-widgets/output",
            "_model_module_version": "1.0.0",
            "_model_name": "OutputModel",
            "_view_count": null,
            "_view_module": "@jupyter-widgets/output",
            "_view_module_version": "1.0.0",
            "_view_name": "OutputView",
            "layout": "IPY_MODEL_b4781d6f59e343569b4981edd650ded9",
            "msg_id": "",
            "outputs": [
              {
                "output_type": "stream",
                "name": "stdout",
                "text": [
                  "id:31999 \t token:melanthe\n"
                ]
              }
            ]
          }
        },
        "0f0e32cff03a41ccadffeb4acd924bb4": {
          "model_module": "@jupyter-widgets/base",
          "model_name": "LayoutModel",
          "model_module_version": "1.2.0",
          "state": {
            "_model_module": "@jupyter-widgets/base",
            "_model_module_version": "1.2.0",
            "_model_name": "LayoutModel",
            "_view_count": null,
            "_view_module": "@jupyter-widgets/base",
            "_view_module_version": "1.2.0",
            "_view_name": "LayoutView",
            "align_content": null,
            "align_items": null,
            "align_self": null,
            "border": null,
            "bottom": null,
            "display": null,
            "flex": null,
            "flex_flow": null,
            "grid_area": null,
            "grid_auto_columns": null,
            "grid_auto_flow": null,
            "grid_auto_rows": null,
            "grid_column": null,
            "grid_gap": null,
            "grid_row": null,
            "grid_template_areas": null,
            "grid_template_columns": null,
            "grid_template_rows": null,
            "height": null,
            "justify_content": null,
            "justify_items": null,
            "left": null,
            "margin": null,
            "max_height": null,
            "max_width": null,
            "min_height": null,
            "min_width": null,
            "object_fit": null,
            "object_position": null,
            "order": null,
            "overflow": null,
            "overflow_x": null,
            "overflow_y": null,
            "padding": null,
            "right": null,
            "top": null,
            "visibility": null,
            "width": null
          }
        },
        "0652d121c34d482982d034b2e9ea19c2": {
          "model_module": "@jupyter-widgets/base",
          "model_name": "LayoutModel",
          "model_module_version": "1.2.0",
          "state": {
            "_model_module": "@jupyter-widgets/base",
            "_model_module_version": "1.2.0",
            "_model_name": "LayoutModel",
            "_view_count": null,
            "_view_module": "@jupyter-widgets/base",
            "_view_module_version": "1.2.0",
            "_view_name": "LayoutView",
            "align_content": null,
            "align_items": null,
            "align_self": null,
            "border": null,
            "bottom": null,
            "display": null,
            "flex": null,
            "flex_flow": null,
            "grid_area": null,
            "grid_auto_columns": null,
            "grid_auto_flow": null,
            "grid_auto_rows": null,
            "grid_column": null,
            "grid_gap": null,
            "grid_row": null,
            "grid_template_areas": null,
            "grid_template_columns": null,
            "grid_template_rows": null,
            "height": null,
            "justify_content": null,
            "justify_items": null,
            "left": null,
            "margin": null,
            "max_height": null,
            "max_width": null,
            "min_height": null,
            "min_width": null,
            "object_fit": null,
            "object_position": null,
            "order": null,
            "overflow": null,
            "overflow_x": null,
            "overflow_y": null,
            "padding": null,
            "right": null,
            "top": null,
            "visibility": null,
            "width": "900px"
          }
        },
        "aed8a1590f964b41a94194682b558249": {
          "model_module": "@jupyter-widgets/controls",
          "model_name": "SliderStyleModel",
          "model_module_version": "1.5.0",
          "state": {
            "_model_module": "@jupyter-widgets/controls",
            "_model_module_version": "1.5.0",
            "_model_name": "SliderStyleModel",
            "_view_count": null,
            "_view_module": "@jupyter-widgets/base",
            "_view_module_version": "1.2.0",
            "_view_name": "StyleView",
            "description_width": "",
            "handle_color": null
          }
        },
        "b4781d6f59e343569b4981edd650ded9": {
          "model_module": "@jupyter-widgets/base",
          "model_name": "LayoutModel",
          "model_module_version": "1.2.0",
          "state": {
            "_model_module": "@jupyter-widgets/base",
            "_model_module_version": "1.2.0",
            "_model_name": "LayoutModel",
            "_view_count": null,
            "_view_module": "@jupyter-widgets/base",
            "_view_module_version": "1.2.0",
            "_view_name": "LayoutView",
            "align_content": null,
            "align_items": null,
            "align_self": null,
            "border": null,
            "bottom": null,
            "display": null,
            "flex": null,
            "flex_flow": null,
            "grid_area": null,
            "grid_auto_columns": null,
            "grid_auto_flow": null,
            "grid_auto_rows": null,
            "grid_column": null,
            "grid_gap": null,
            "grid_row": null,
            "grid_template_areas": null,
            "grid_template_columns": null,
            "grid_template_rows": null,
            "height": null,
            "justify_content": null,
            "justify_items": null,
            "left": null,
            "margin": null,
            "max_height": null,
            "max_width": null,
            "min_height": null,
            "min_width": null,
            "object_fit": null,
            "object_position": null,
            "order": null,
            "overflow": null,
            "overflow_x": null,
            "overflow_y": null,
            "padding": null,
            "right": null,
            "top": null,
            "visibility": null,
            "width": null
          }
        }
      }
    }
  },
  "nbformat": 4,
  "nbformat_minor": 5
}