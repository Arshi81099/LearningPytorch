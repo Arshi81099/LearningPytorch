{
  "nbformat": 4,
  "nbformat_minor": 0,
  "metadata": {
    "colab": {
      "provenance": [],
      "authorship_tag": "ABX9TyOLfJZK0mp6aGtK0aEXGe1E",
      "include_colab_link": true
    },
    "kernelspec": {
      "name": "python3",
      "display_name": "Python 3"
    },
    "language_info": {
      "name": "python"
    },
    "widgets": {
      "application/vnd.jupyter.widget-state+json": {
        "26b550013a3f4a968479222b89d68cb8": {
          "model_module": "@jupyter-widgets/controls",
          "model_name": "HBoxModel",
          "model_module_version": "1.5.0",
          "state": {
            "_dom_classes": [],
            "_model_module": "@jupyter-widgets/controls",
            "_model_module_version": "1.5.0",
            "_model_name": "HBoxModel",
            "_view_count": null,
            "_view_module": "@jupyter-widgets/controls",
            "_view_module_version": "1.5.0",
            "_view_name": "HBoxView",
            "box_style": "",
            "children": [
              "IPY_MODEL_af04231fe4164586a36068b8e39713f0",
              "IPY_MODEL_228dd1fc886c4a84975b5ad2965cdba7",
              "IPY_MODEL_b15e48cc9e894b52825b918e78ff24c4"
            ],
            "layout": "IPY_MODEL_8a316f806dd44d9c93e4293798fd7eda"
          }
        },
        "af04231fe4164586a36068b8e39713f0": {
          "model_module": "@jupyter-widgets/controls",
          "model_name": "HTMLModel",
          "model_module_version": "1.5.0",
          "state": {
            "_dom_classes": [],
            "_model_module": "@jupyter-widgets/controls",
            "_model_module_version": "1.5.0",
            "_model_name": "HTMLModel",
            "_view_count": null,
            "_view_module": "@jupyter-widgets/controls",
            "_view_module_version": "1.5.0",
            "_view_name": "HTMLView",
            "description": "",
            "description_tooltip": null,
            "layout": "IPY_MODEL_186b7be8d49a4f4eabeb212d86cab79d",
            "placeholder": "​",
            "style": "IPY_MODEL_854fa76878594cddb529e87493328c93",
            "value": "bookcorpus.py: 100%"
          }
        },
        "228dd1fc886c4a84975b5ad2965cdba7": {
          "model_module": "@jupyter-widgets/controls",
          "model_name": "FloatProgressModel",
          "model_module_version": "1.5.0",
          "state": {
            "_dom_classes": [],
            "_model_module": "@jupyter-widgets/controls",
            "_model_module_version": "1.5.0",
            "_model_name": "FloatProgressModel",
            "_view_count": null,
            "_view_module": "@jupyter-widgets/controls",
            "_view_module_version": "1.5.0",
            "_view_name": "ProgressView",
            "bar_style": "success",
            "description": "",
            "description_tooltip": null,
            "layout": "IPY_MODEL_8cc301e16f284c32b081aa5788cffe9f",
            "max": 3246,
            "min": 0,
            "orientation": "horizontal",
            "style": "IPY_MODEL_a9e7f2a0538d4e1b8f16ec00a27d7c74",
            "value": 3246
          }
        },
        "b15e48cc9e894b52825b918e78ff24c4": {
          "model_module": "@jupyter-widgets/controls",
          "model_name": "HTMLModel",
          "model_module_version": "1.5.0",
          "state": {
            "_dom_classes": [],
            "_model_module": "@jupyter-widgets/controls",
            "_model_module_version": "1.5.0",
            "_model_name": "HTMLModel",
            "_view_count": null,
            "_view_module": "@jupyter-widgets/controls",
            "_view_module_version": "1.5.0",
            "_view_name": "HTMLView",
            "description": "",
            "description_tooltip": null,
            "layout": "IPY_MODEL_d276bee4bc5d4b3f997915056f4c4135",
            "placeholder": "​",
            "style": "IPY_MODEL_d1f5003adfa44fa08d0a8756205dc2a0",
            "value": " 3.25k/3.25k [00:00&lt;00:00, 178kB/s]"
          }
        },
        "8a316f806dd44d9c93e4293798fd7eda": {
          "model_module": "@jupyter-widgets/base",
          "model_name": "LayoutModel",
          "model_module_version": "1.2.0",
          "state": {
            "_model_module": "@jupyter-widgets/base",
            "_model_module_version": "1.2.0",
            "_model_name": "LayoutModel",
            "_view_count": null,
            "_view_module": "@jupyter-widgets/base",
            "_view_module_version": "1.2.0",
            "_view_name": "LayoutView",
            "align_content": null,
            "align_items": null,
            "align_self": null,
            "border": null,
            "bottom": null,
            "display": null,
            "flex": null,
            "flex_flow": null,
            "grid_area": null,
            "grid_auto_columns": null,
            "grid_auto_flow": null,
            "grid_auto_rows": null,
            "grid_column": null,
            "grid_gap": null,
            "grid_row": null,
            "grid_template_areas": null,
            "grid_template_columns": null,
            "grid_template_rows": null,
            "height": null,
            "justify_content": null,
            "justify_items": null,
            "left": null,
            "margin": null,
            "max_height": null,
            "max_width": null,
            "min_height": null,
            "min_width": null,
            "object_fit": null,
            "object_position": null,
            "order": null,
            "overflow": null,
            "overflow_x": null,
            "overflow_y": null,
            "padding": null,
            "right": null,
            "top": null,
            "visibility": null,
            "width": null
          }
        },
        "186b7be8d49a4f4eabeb212d86cab79d": {
          "model_module": "@jupyter-widgets/base",
          "model_name": "LayoutModel",
          "model_module_version": "1.2.0",
          "state": {
            "_model_module": "@jupyter-widgets/base",
            "_model_module_version": "1.2.0",
            "_model_name": "LayoutModel",
            "_view_count": null,
            "_view_module": "@jupyter-widgets/base",
            "_view_module_version": "1.2.0",
            "_view_name": "LayoutView",
            "align_content": null,
            "align_items": null,
            "align_self": null,
            "border": null,
            "bottom": null,
            "display": null,
            "flex": null,
            "flex_flow": null,
            "grid_area": null,
            "grid_auto_columns": null,
            "grid_auto_flow": null,
            "grid_auto_rows": null,
            "grid_column": null,
            "grid_gap": null,
            "grid_row": null,
            "grid_template_areas": null,
            "grid_template_columns": null,
            "grid_template_rows": null,
            "height": null,
            "justify_content": null,
            "justify_items": null,
            "left": null,
            "margin": null,
            "max_height": null,
            "max_width": null,
            "min_height": null,
            "min_width": null,
            "object_fit": null,
            "object_position": null,
            "order": null,
            "overflow": null,
            "overflow_x": null,
            "overflow_y": null,
            "padding": null,
            "right": null,
            "top": null,
            "visibility": null,
            "width": null
          }
        },
        "854fa76878594cddb529e87493328c93": {
          "model_module": "@jupyter-widgets/controls",
          "model_name": "DescriptionStyleModel",
          "model_module_version": "1.5.0",
          "state": {
            "_model_module": "@jupyter-widgets/controls",
            "_model_module_version": "1.5.0",
            "_model_name": "DescriptionStyleModel",
            "_view_count": null,
            "_view_module": "@jupyter-widgets/base",
            "_view_module_version": "1.2.0",
            "_view_name": "StyleView",
            "description_width": ""
          }
        },
        "8cc301e16f284c32b081aa5788cffe9f": {
          "model_module": "@jupyter-widgets/base",
          "model_name": "LayoutModel",
          "model_module_version": "1.2.0",
          "state": {
            "_model_module": "@jupyter-widgets/base",
            "_model_module_version": "1.2.0",
            "_model_name": "LayoutModel",
            "_view_count": null,
            "_view_module": "@jupyter-widgets/base",
            "_view_module_version": "1.2.0",
            "_view_name": "LayoutView",
            "align_content": null,
            "align_items": null,
            "align_self": null,
            "border": null,
            "bottom": null,
            "display": null,
            "flex": null,
            "flex_flow": null,
            "grid_area": null,
            "grid_auto_columns": null,
            "grid_auto_flow": null,
            "grid_auto_rows": null,
            "grid_column": null,
            "grid_gap": null,
            "grid_row": null,
            "grid_template_areas": null,
            "grid_template_columns": null,
            "grid_template_rows": null,
            "height": null,
            "justify_content": null,
            "justify_items": null,
            "left": null,
            "margin": null,
            "max_height": null,
            "max_width": null,
            "min_height": null,
            "min_width": null,
            "object_fit": null,
            "object_position": null,
            "order": null,
            "overflow": null,
            "overflow_x": null,
            "overflow_y": null,
            "padding": null,
            "right": null,
            "top": null,
            "visibility": null,
            "width": null
          }
        },
        "a9e7f2a0538d4e1b8f16ec00a27d7c74": {
          "model_module": "@jupyter-widgets/controls",
          "model_name": "ProgressStyleModel",
          "model_module_version": "1.5.0",
          "state": {
            "_model_module": "@jupyter-widgets/controls",
            "_model_module_version": "1.5.0",
            "_model_name": "ProgressStyleModel",
            "_view_count": null,
            "_view_module": "@jupyter-widgets/base",
            "_view_module_version": "1.2.0",
            "_view_name": "StyleView",
            "bar_color": null,
            "description_width": ""
          }
        },
        "d276bee4bc5d4b3f997915056f4c4135": {
          "model_module": "@jupyter-widgets/base",
          "model_name": "LayoutModel",
          "model_module_version": "1.2.0",
          "state": {
            "_model_module": "@jupyter-widgets/base",
            "_model_module_version": "1.2.0",
            "_model_name": "LayoutModel",
            "_view_count": null,
            "_view_module": "@jupyter-widgets/base",
            "_view_module_version": "1.2.0",
            "_view_name": "LayoutView",
            "align_content": null,
            "align_items": null,
            "align_self": null,
            "border": null,
            "bottom": null,
            "display": null,
            "flex": null,
            "flex_flow": null,
            "grid_area": null,
            "grid_auto_columns": null,
            "grid_auto_flow": null,
            "grid_auto_rows": null,
            "grid_column": null,
            "grid_gap": null,
            "grid_row": null,
            "grid_template_areas": null,
            "grid_template_columns": null,
            "grid_template_rows": null,
            "height": null,
            "justify_content": null,
            "justify_items": null,
            "left": null,
            "margin": null,
            "max_height": null,
            "max_width": null,
            "min_height": null,
            "min_width": null,
            "object_fit": null,
            "object_position": null,
            "order": null,
            "overflow": null,
            "overflow_x": null,
            "overflow_y": null,
            "padding": null,
            "right": null,
            "top": null,
            "visibility": null,
            "width": null
          }
        },
        "d1f5003adfa44fa08d0a8756205dc2a0": {
          "model_module": "@jupyter-widgets/controls",
          "model_name": "DescriptionStyleModel",
          "model_module_version": "1.5.0",
          "state": {
            "_model_module": "@jupyter-widgets/controls",
            "_model_module_version": "1.5.0",
            "_model_name": "DescriptionStyleModel",
            "_view_count": null,
            "_view_module": "@jupyter-widgets/base",
            "_view_module_version": "1.2.0",
            "_view_name": "StyleView",
            "description_width": ""
          }
        },
        "2e18f1e60bc2434bad761af1469c5b21": {
          "model_module": "@jupyter-widgets/controls",
          "model_name": "HBoxModel",
          "model_module_version": "1.5.0",
          "state": {
            "_dom_classes": [],
            "_model_module": "@jupyter-widgets/controls",
            "_model_module_version": "1.5.0",
            "_model_name": "HBoxModel",
            "_view_count": null,
            "_view_module": "@jupyter-widgets/controls",
            "_view_module_version": "1.5.0",
            "_view_name": "HBoxView",
            "box_style": "",
            "children": [
              "IPY_MODEL_5769c678532a4008a9147013732049d2",
              "IPY_MODEL_859f0ccb3fca42359149a1c9810b2632",
              "IPY_MODEL_6159cc7999324116a945a0cedb0054c5"
            ],
            "layout": "IPY_MODEL_d2328aa7de954d7ab3b89e37388907d2"
          }
        },
        "5769c678532a4008a9147013732049d2": {
          "model_module": "@jupyter-widgets/controls",
          "model_name": "HTMLModel",
          "model_module_version": "1.5.0",
          "state": {
            "_dom_classes": [],
            "_model_module": "@jupyter-widgets/controls",
            "_model_module_version": "1.5.0",
            "_model_name": "HTMLModel",
            "_view_count": null,
            "_view_module": "@jupyter-widgets/controls",
            "_view_module_version": "1.5.0",
            "_view_name": "HTMLView",
            "description": "",
            "description_tooltip": null,
            "layout": "IPY_MODEL_51af9d44212344cb8dd98afdc8c24519",
            "placeholder": "​",
            "style": "IPY_MODEL_03c24324608e4002b2e68b8876d7a755",
            "value": "README.md: 100%"
          }
        },
        "859f0ccb3fca42359149a1c9810b2632": {
          "model_module": "@jupyter-widgets/controls",
          "model_name": "FloatProgressModel",
          "model_module_version": "1.5.0",
          "state": {
            "_dom_classes": [],
            "_model_module": "@jupyter-widgets/controls",
            "_model_module_version": "1.5.0",
            "_model_name": "FloatProgressModel",
            "_view_count": null,
            "_view_module": "@jupyter-widgets/controls",
            "_view_module_version": "1.5.0",
            "_view_name": "ProgressView",
            "bar_style": "success",
            "description": "",
            "description_tooltip": null,
            "layout": "IPY_MODEL_23f935388332416992accfd08072bdff",
            "max": 18462,
            "min": 0,
            "orientation": "horizontal",
            "style": "IPY_MODEL_74b6ca177ae7493db897e86984abf4a0",
            "value": 18462
          }
        },
        "6159cc7999324116a945a0cedb0054c5": {
          "model_module": "@jupyter-widgets/controls",
          "model_name": "HTMLModel",
          "model_module_version": "1.5.0",
          "state": {
            "_dom_classes": [],
            "_model_module": "@jupyter-widgets/controls",
            "_model_module_version": "1.5.0",
            "_model_name": "HTMLModel",
            "_view_count": null,
            "_view_module": "@jupyter-widgets/controls",
            "_view_module_version": "1.5.0",
            "_view_name": "HTMLView",
            "description": "",
            "description_tooltip": null,
            "layout": "IPY_MODEL_f3971fa9247242fdb1c1d2347d06adb3",
            "placeholder": "​",
            "style": "IPY_MODEL_a7cec0771a284e29a1c2970405e8df6f",
            "value": " 18.5k/18.5k [00:00&lt;00:00, 883kB/s]"
          }
        },
        "d2328aa7de954d7ab3b89e37388907d2": {
          "model_module": "@jupyter-widgets/base",
          "model_name": "LayoutModel",
          "model_module_version": "1.2.0",
          "state": {
            "_model_module": "@jupyter-widgets/base",
            "_model_module_version": "1.2.0",
            "_model_name": "LayoutModel",
            "_view_count": null,
            "_view_module": "@jupyter-widgets/base",
            "_view_module_version": "1.2.0",
            "_view_name": "LayoutView",
            "align_content": null,
            "align_items": null,
            "align_self": null,
            "border": null,
            "bottom": null,
            "display": null,
            "flex": null,
            "flex_flow": null,
            "grid_area": null,
            "grid_auto_columns": null,
            "grid_auto_flow": null,
            "grid_auto_rows": null,
            "grid_column": null,
            "grid_gap": null,
            "grid_row": null,
            "grid_template_areas": null,
            "grid_template_columns": null,
            "grid_template_rows": null,
            "height": null,
            "justify_content": null,
            "justify_items": null,
            "left": null,
            "margin": null,
            "max_height": null,
            "max_width": null,
            "min_height": null,
            "min_width": null,
            "object_fit": null,
            "object_position": null,
            "order": null,
            "overflow": null,
            "overflow_x": null,
            "overflow_y": null,
            "padding": null,
            "right": null,
            "top": null,
            "visibility": null,
            "width": null
          }
        },
        "51af9d44212344cb8dd98afdc8c24519": {
          "model_module": "@jupyter-widgets/base",
          "model_name": "LayoutModel",
          "model_module_version": "1.2.0",
          "state": {
            "_model_module": "@jupyter-widgets/base",
            "_model_module_version": "1.2.0",
            "_model_name": "LayoutModel",
            "_view_count": null,
            "_view_module": "@jupyter-widgets/base",
            "_view_module_version": "1.2.0",
            "_view_name": "LayoutView",
            "align_content": null,
            "align_items": null,
            "align_self": null,
            "border": null,
            "bottom": null,
            "display": null,
            "flex": null,
            "flex_flow": null,
            "grid_area": null,
            "grid_auto_columns": null,
            "grid_auto_flow": null,
            "grid_auto_rows": null,
            "grid_column": null,
            "grid_gap": null,
            "grid_row": null,
            "grid_template_areas": null,
            "grid_template_columns": null,
            "grid_template_rows": null,
            "height": null,
            "justify_content": null,
            "justify_items": null,
            "left": null,
            "margin": null,
            "max_height": null,
            "max_width": null,
            "min_height": null,
            "min_width": null,
            "object_fit": null,
            "object_position": null,
            "order": null,
            "overflow": null,
            "overflow_x": null,
            "overflow_y": null,
            "padding": null,
            "right": null,
            "top": null,
            "visibility": null,
            "width": null
          }
        },
        "03c24324608e4002b2e68b8876d7a755": {
          "model_module": "@jupyter-widgets/controls",
          "model_name": "DescriptionStyleModel",
          "model_module_version": "1.5.0",
          "state": {
            "_model_module": "@jupyter-widgets/controls",
            "_model_module_version": "1.5.0",
            "_model_name": "DescriptionStyleModel",
            "_view_count": null,
            "_view_module": "@jupyter-widgets/base",
            "_view_module_version": "1.2.0",
            "_view_name": "StyleView",
            "description_width": ""
          }
        },
        "23f935388332416992accfd08072bdff": {
          "model_module": "@jupyter-widgets/base",
          "model_name": "LayoutModel",
          "model_module_version": "1.2.0",
          "state": {
            "_model_module": "@jupyter-widgets/base",
            "_model_module_version": "1.2.0",
            "_model_name": "LayoutModel",
            "_view_count": null,
            "_view_module": "@jupyter-widgets/base",
            "_view_module_version": "1.2.0",
            "_view_name": "LayoutView",
            "align_content": null,
            "align_items": null,
            "align_self": null,
            "border": null,
            "bottom": null,
            "display": null,
            "flex": null,
            "flex_flow": null,
            "grid_area": null,
            "grid_auto_columns": null,
            "grid_auto_flow": null,
            "grid_auto_rows": null,
            "grid_column": null,
            "grid_gap": null,
            "grid_row": null,
            "grid_template_areas": null,
            "grid_template_columns": null,
            "grid_template_rows": null,
            "height": null,
            "justify_content": null,
            "justify_items": null,
            "left": null,
            "margin": null,
            "max_height": null,
            "max_width": null,
            "min_height": null,
            "min_width": null,
            "object_fit": null,
            "object_position": null,
            "order": null,
            "overflow": null,
            "overflow_x": null,
            "overflow_y": null,
            "padding": null,
            "right": null,
            "top": null,
            "visibility": null,
            "width": null
          }
        },
        "74b6ca177ae7493db897e86984abf4a0": {
          "model_module": "@jupyter-widgets/controls",
          "model_name": "ProgressStyleModel",
          "model_module_version": "1.5.0",
          "state": {
            "_model_module": "@jupyter-widgets/controls",
            "_model_module_version": "1.5.0",
            "_model_name": "ProgressStyleModel",
            "_view_count": null,
            "_view_module": "@jupyter-widgets/base",
            "_view_module_version": "1.2.0",
            "_view_name": "StyleView",
            "bar_color": null,
            "description_width": ""
          }
        },
        "f3971fa9247242fdb1c1d2347d06adb3": {
          "model_module": "@jupyter-widgets/base",
          "model_name": "LayoutModel",
          "model_module_version": "1.2.0",
          "state": {
            "_model_module": "@jupyter-widgets/base",
            "_model_module_version": "1.2.0",
            "_model_name": "LayoutModel",
            "_view_count": null,
            "_view_module": "@jupyter-widgets/base",
            "_view_module_version": "1.2.0",
            "_view_name": "LayoutView",
            "align_content": null,
            "align_items": null,
            "align_self": null,
            "border": null,
            "bottom": null,
            "display": null,
            "flex": null,
            "flex_flow": null,
            "grid_area": null,
            "grid_auto_columns": null,
            "grid_auto_flow": null,
            "grid_auto_rows": null,
            "grid_column": null,
            "grid_gap": null,
            "grid_row": null,
            "grid_template_areas": null,
            "grid_template_columns": null,
            "grid_template_rows": null,
            "height": null,
            "justify_content": null,
            "justify_items": null,
            "left": null,
            "margin": null,
            "max_height": null,
            "max_width": null,
            "min_height": null,
            "min_width": null,
            "object_fit": null,
            "object_position": null,
            "order": null,
            "overflow": null,
            "overflow_x": null,
            "overflow_y": null,
            "padding": null,
            "right": null,
            "top": null,
            "visibility": null,
            "width": null
          }
        },
        "a7cec0771a284e29a1c2970405e8df6f": {
          "model_module": "@jupyter-widgets/controls",
          "model_name": "DescriptionStyleModel",
          "model_module_version": "1.5.0",
          "state": {
            "_model_module": "@jupyter-widgets/controls",
            "_model_module_version": "1.5.0",
            "_model_name": "DescriptionStyleModel",
            "_view_count": null,
            "_view_module": "@jupyter-widgets/base",
            "_view_module_version": "1.2.0",
            "_view_name": "StyleView",
            "description_width": ""
          }
        },
        "33ad98ec47ff4446974d11d68ac1405c": {
          "model_module": "@jupyter-widgets/controls",
          "model_name": "HBoxModel",
          "model_module_version": "1.5.0",
          "state": {
            "_dom_classes": [],
            "_model_module": "@jupyter-widgets/controls",
            "_model_module_version": "1.5.0",
            "_model_name": "HBoxModel",
            "_view_count": null,
            "_view_module": "@jupyter-widgets/controls",
            "_view_module_version": "1.5.0",
            "_view_name": "HBoxView",
            "box_style": "",
            "children": [
              "IPY_MODEL_1cb1fd9cbf49453c8bfef122af8150e6",
              "IPY_MODEL_7f43a06849d4459c86b71e7ea8b3de5d",
              "IPY_MODEL_2d5f73cd101c45669012f2356dd8e15f"
            ],
            "layout": "IPY_MODEL_0fcec4e0487e49a38c6c0687ef071286"
          }
        },
        "1cb1fd9cbf49453c8bfef122af8150e6": {
          "model_module": "@jupyter-widgets/controls",
          "model_name": "HTMLModel",
          "model_module_version": "1.5.0",
          "state": {
            "_dom_classes": [],
            "_model_module": "@jupyter-widgets/controls",
            "_model_module_version": "1.5.0",
            "_model_name": "HTMLModel",
            "_view_count": null,
            "_view_module": "@jupyter-widgets/controls",
            "_view_module_version": "1.5.0",
            "_view_name": "HTMLView",
            "description": "",
            "description_tooltip": null,
            "layout": "IPY_MODEL_db0949533fa548d7a6be7c36b8280903",
            "placeholder": "​",
            "style": "IPY_MODEL_de04a83ba5f4481f9d612e4def286f94",
            "value": "Downloading data: 100%"
          }
        },
        "7f43a06849d4459c86b71e7ea8b3de5d": {
          "model_module": "@jupyter-widgets/controls",
          "model_name": "FloatProgressModel",
          "model_module_version": "1.5.0",
          "state": {
            "_dom_classes": [],
            "_model_module": "@jupyter-widgets/controls",
            "_model_module_version": "1.5.0",
            "_model_name": "FloatProgressModel",
            "_view_count": null,
            "_view_module": "@jupyter-widgets/controls",
            "_view_module_version": "1.5.0",
            "_view_name": "ProgressView",
            "bar_style": "success",
            "description": "",
            "description_tooltip": null,
            "layout": "IPY_MODEL_26ee4b13cf024789ad02eed109188077",
            "max": 1179510242,
            "min": 0,
            "orientation": "horizontal",
            "style": "IPY_MODEL_229d0c2293454b7d9344dba119de2bda",
            "value": 1179510242
          }
        },
        "2d5f73cd101c45669012f2356dd8e15f": {
          "model_module": "@jupyter-widgets/controls",
          "model_name": "HTMLModel",
          "model_module_version": "1.5.0",
          "state": {
            "_dom_classes": [],
            "_model_module": "@jupyter-widgets/controls",
            "_model_module_version": "1.5.0",
            "_model_name": "HTMLModel",
            "_view_count": null,
            "_view_module": "@jupyter-widgets/controls",
            "_view_module_version": "1.5.0",
            "_view_name": "HTMLView",
            "description": "",
            "description_tooltip": null,
            "layout": "IPY_MODEL_8f0d6016207f4694b00d314bac3e5ce8",
            "placeholder": "​",
            "style": "IPY_MODEL_53a5961e146a4c4da33f9bf93bd6f0aa",
            "value": " 1.18G/1.18G [00:24&lt;00:00, 49.8MB/s]"
          }
        },
        "0fcec4e0487e49a38c6c0687ef071286": {
          "model_module": "@jupyter-widgets/base",
          "model_name": "LayoutModel",
          "model_module_version": "1.2.0",
          "state": {
            "_model_module": "@jupyter-widgets/base",
            "_model_module_version": "1.2.0",
            "_model_name": "LayoutModel",
            "_view_count": null,
            "_view_module": "@jupyter-widgets/base",
            "_view_module_version": "1.2.0",
            "_view_name": "LayoutView",
            "align_content": null,
            "align_items": null,
            "align_self": null,
            "border": null,
            "bottom": null,
            "display": null,
            "flex": null,
            "flex_flow": null,
            "grid_area": null,
            "grid_auto_columns": null,
            "grid_auto_flow": null,
            "grid_auto_rows": null,
            "grid_column": null,
            "grid_gap": null,
            "grid_row": null,
            "grid_template_areas": null,
            "grid_template_columns": null,
            "grid_template_rows": null,
            "height": null,
            "justify_content": null,
            "justify_items": null,
            "left": null,
            "margin": null,
            "max_height": null,
            "max_width": null,
            "min_height": null,
            "min_width": null,
            "object_fit": null,
            "object_position": null,
            "order": null,
            "overflow": null,
            "overflow_x": null,
            "overflow_y": null,
            "padding": null,
            "right": null,
            "top": null,
            "visibility": null,
            "width": null
          }
        },
        "db0949533fa548d7a6be7c36b8280903": {
          "model_module": "@jupyter-widgets/base",
          "model_name": "LayoutModel",
          "model_module_version": "1.2.0",
          "state": {
            "_model_module": "@jupyter-widgets/base",
            "_model_module_version": "1.2.0",
            "_model_name": "LayoutModel",
            "_view_count": null,
            "_view_module": "@jupyter-widgets/base",
            "_view_module_version": "1.2.0",
            "_view_name": "LayoutView",
            "align_content": null,
            "align_items": null,
            "align_self": null,
            "border": null,
            "bottom": null,
            "display": null,
            "flex": null,
            "flex_flow": null,
            "grid_area": null,
            "grid_auto_columns": null,
            "grid_auto_flow": null,
            "grid_auto_rows": null,
            "grid_column": null,
            "grid_gap": null,
            "grid_row": null,
            "grid_template_areas": null,
            "grid_template_columns": null,
            "grid_template_rows": null,
            "height": null,
            "justify_content": null,
            "justify_items": null,
            "left": null,
            "margin": null,
            "max_height": null,
            "max_width": null,
            "min_height": null,
            "min_width": null,
            "object_fit": null,
            "object_position": null,
            "order": null,
            "overflow": null,
            "overflow_x": null,
            "overflow_y": null,
            "padding": null,
            "right": null,
            "top": null,
            "visibility": null,
            "width": null
          }
        },
        "de04a83ba5f4481f9d612e4def286f94": {
          "model_module": "@jupyter-widgets/controls",
          "model_name": "DescriptionStyleModel",
          "model_module_version": "1.5.0",
          "state": {
            "_model_module": "@jupyter-widgets/controls",
            "_model_module_version": "1.5.0",
            "_model_name": "DescriptionStyleModel",
            "_view_count": null,
            "_view_module": "@jupyter-widgets/base",
            "_view_module_version": "1.2.0",
            "_view_name": "StyleView",
            "description_width": ""
          }
        },
        "26ee4b13cf024789ad02eed109188077": {
          "model_module": "@jupyter-widgets/base",
          "model_name": "LayoutModel",
          "model_module_version": "1.2.0",
          "state": {
            "_model_module": "@jupyter-widgets/base",
            "_model_module_version": "1.2.0",
            "_model_name": "LayoutModel",
            "_view_count": null,
            "_view_module": "@jupyter-widgets/base",
            "_view_module_version": "1.2.0",
            "_view_name": "LayoutView",
            "align_content": null,
            "align_items": null,
            "align_self": null,
            "border": null,
            "bottom": null,
            "display": null,
            "flex": null,
            "flex_flow": null,
            "grid_area": null,
            "grid_auto_columns": null,
            "grid_auto_flow": null,
            "grid_auto_rows": null,
            "grid_column": null,
            "grid_gap": null,
            "grid_row": null,
            "grid_template_areas": null,
            "grid_template_columns": null,
            "grid_template_rows": null,
            "height": null,
            "justify_content": null,
            "justify_items": null,
            "left": null,
            "margin": null,
            "max_height": null,
            "max_width": null,
            "min_height": null,
            "min_width": null,
            "object_fit": null,
            "object_position": null,
            "order": null,
            "overflow": null,
            "overflow_x": null,
            "overflow_y": null,
            "padding": null,
            "right": null,
            "top": null,
            "visibility": null,
            "width": null
          }
        },
        "229d0c2293454b7d9344dba119de2bda": {
          "model_module": "@jupyter-widgets/controls",
          "model_name": "ProgressStyleModel",
          "model_module_version": "1.5.0",
          "state": {
            "_model_module": "@jupyter-widgets/controls",
            "_model_module_version": "1.5.0",
            "_model_name": "ProgressStyleModel",
            "_view_count": null,
            "_view_module": "@jupyter-widgets/base",
            "_view_module_version": "1.2.0",
            "_view_name": "StyleView",
            "bar_color": null,
            "description_width": ""
          }
        },
        "8f0d6016207f4694b00d314bac3e5ce8": {
          "model_module": "@jupyter-widgets/base",
          "model_name": "LayoutModel",
          "model_module_version": "1.2.0",
          "state": {
            "_model_module": "@jupyter-widgets/base",
            "_model_module_version": "1.2.0",
            "_model_name": "LayoutModel",
            "_view_count": null,
            "_view_module": "@jupyter-widgets/base",
            "_view_module_version": "1.2.0",
            "_view_name": "LayoutView",
            "align_content": null,
            "align_items": null,
            "align_self": null,
            "border": null,
            "bottom": null,
            "display": null,
            "flex": null,
            "flex_flow": null,
            "grid_area": null,
            "grid_auto_columns": null,
            "grid_auto_flow": null,
            "grid_auto_rows": null,
            "grid_column": null,
            "grid_gap": null,
            "grid_row": null,
            "grid_template_areas": null,
            "grid_template_columns": null,
            "grid_template_rows": null,
            "height": null,
            "justify_content": null,
            "justify_items": null,
            "left": null,
            "margin": null,
            "max_height": null,
            "max_width": null,
            "min_height": null,
            "min_width": null,
            "object_fit": null,
            "object_position": null,
            "order": null,
            "overflow": null,
            "overflow_x": null,
            "overflow_y": null,
            "padding": null,
            "right": null,
            "top": null,
            "visibility": null,
            "width": null
          }
        },
        "53a5961e146a4c4da33f9bf93bd6f0aa": {
          "model_module": "@jupyter-widgets/controls",
          "model_name": "DescriptionStyleModel",
          "model_module_version": "1.5.0",
          "state": {
            "_model_module": "@jupyter-widgets/controls",
            "_model_module_version": "1.5.0",
            "_model_name": "DescriptionStyleModel",
            "_view_count": null,
            "_view_module": "@jupyter-widgets/base",
            "_view_module_version": "1.2.0",
            "_view_name": "StyleView",
            "description_width": ""
          }
        },
        "1601e38cc52d47c4b7bc55371e0f21a1": {
          "model_module": "@jupyter-widgets/controls",
          "model_name": "HBoxModel",
          "model_module_version": "1.5.0",
          "state": {
            "_dom_classes": [],
            "_model_module": "@jupyter-widgets/controls",
            "_model_module_version": "1.5.0",
            "_model_name": "HBoxModel",
            "_view_count": null,
            "_view_module": "@jupyter-widgets/controls",
            "_view_module_version": "1.5.0",
            "_view_name": "HBoxView",
            "box_style": "",
            "children": [
              "IPY_MODEL_2264780577f14e75adceac4998174fc3",
              "IPY_MODEL_ce552bfb3f394c6ba625d41b4dc1c671",
              "IPY_MODEL_5f5b4b2430f14747b1b7e58b004e0829"
            ],
            "layout": "IPY_MODEL_fcb2408e9ad94327a8154d64199b3f5b"
          }
        },
        "2264780577f14e75adceac4998174fc3": {
          "model_module": "@jupyter-widgets/controls",
          "model_name": "HTMLModel",
          "model_module_version": "1.5.0",
          "state": {
            "_dom_classes": [],
            "_model_module": "@jupyter-widgets/controls",
            "_model_module_version": "1.5.0",
            "_model_name": "HTMLModel",
            "_view_count": null,
            "_view_module": "@jupyter-widgets/controls",
            "_view_module_version": "1.5.0",
            "_view_name": "HTMLView",
            "description": "",
            "description_tooltip": null,
            "layout": "IPY_MODEL_3bb33e8896474c51a17a219b261c615d",
            "placeholder": "​",
            "style": "IPY_MODEL_2fbba86d209648179769034e8616bf66",
            "value": "Generating train split: 100%"
          }
        },
        "ce552bfb3f394c6ba625d41b4dc1c671": {
          "model_module": "@jupyter-widgets/controls",
          "model_name": "FloatProgressModel",
          "model_module_version": "1.5.0",
          "state": {
            "_dom_classes": [],
            "_model_module": "@jupyter-widgets/controls",
            "_model_module_version": "1.5.0",
            "_model_name": "FloatProgressModel",
            "_view_count": null,
            "_view_module": "@jupyter-widgets/controls",
            "_view_module_version": "1.5.0",
            "_view_name": "ProgressView",
            "bar_style": "success",
            "description": "",
            "description_tooltip": null,
            "layout": "IPY_MODEL_0500aa00e8cb463d9acd5d96582ac612",
            "max": 74004228,
            "min": 0,
            "orientation": "horizontal",
            "style": "IPY_MODEL_fbd6ae90dfcd4343a4ece36600f955b8",
            "value": 74004228
          }
        },
        "5f5b4b2430f14747b1b7e58b004e0829": {
          "model_module": "@jupyter-widgets/controls",
          "model_name": "HTMLModel",
          "model_module_version": "1.5.0",
          "state": {
            "_dom_classes": [],
            "_model_module": "@jupyter-widgets/controls",
            "_model_module_version": "1.5.0",
            "_model_name": "HTMLModel",
            "_view_count": null,
            "_view_module": "@jupyter-widgets/controls",
            "_view_module_version": "1.5.0",
            "_view_name": "HTMLView",
            "description": "",
            "description_tooltip": null,
            "layout": "IPY_MODEL_6d82c0ff80224adf96d1e6b2fc74cc48",
            "placeholder": "​",
            "style": "IPY_MODEL_9dd4ba69ac8e41b1835496ff766cbb50",
            "value": " 74004228/74004228 [29:24&lt;00:00, 47929.34 examples/s]"
          }
        },
        "fcb2408e9ad94327a8154d64199b3f5b": {
          "model_module": "@jupyter-widgets/base",
          "model_name": "LayoutModel",
          "model_module_version": "1.2.0",
          "state": {
            "_model_module": "@jupyter-widgets/base",
            "_model_module_version": "1.2.0",
            "_model_name": "LayoutModel",
            "_view_count": null,
            "_view_module": "@jupyter-widgets/base",
            "_view_module_version": "1.2.0",
            "_view_name": "LayoutView",
            "align_content": null,
            "align_items": null,
            "align_self": null,
            "border": null,
            "bottom": null,
            "display": null,
            "flex": null,
            "flex_flow": null,
            "grid_area": null,
            "grid_auto_columns": null,
            "grid_auto_flow": null,
            "grid_auto_rows": null,
            "grid_column": null,
            "grid_gap": null,
            "grid_row": null,
            "grid_template_areas": null,
            "grid_template_columns": null,
            "grid_template_rows": null,
            "height": null,
            "justify_content": null,
            "justify_items": null,
            "left": null,
            "margin": null,
            "max_height": null,
            "max_width": null,
            "min_height": null,
            "min_width": null,
            "object_fit": null,
            "object_position": null,
            "order": null,
            "overflow": null,
            "overflow_x": null,
            "overflow_y": null,
            "padding": null,
            "right": null,
            "top": null,
            "visibility": null,
            "width": null
          }
        },
        "3bb33e8896474c51a17a219b261c615d": {
          "model_module": "@jupyter-widgets/base",
          "model_name": "LayoutModel",
          "model_module_version": "1.2.0",
          "state": {
            "_model_module": "@jupyter-widgets/base",
            "_model_module_version": "1.2.0",
            "_model_name": "LayoutModel",
            "_view_count": null,
            "_view_module": "@jupyter-widgets/base",
            "_view_module_version": "1.2.0",
            "_view_name": "LayoutView",
            "align_content": null,
            "align_items": null,
            "align_self": null,
            "border": null,
            "bottom": null,
            "display": null,
            "flex": null,
            "flex_flow": null,
            "grid_area": null,
            "grid_auto_columns": null,
            "grid_auto_flow": null,
            "grid_auto_rows": null,
            "grid_column": null,
            "grid_gap": null,
            "grid_row": null,
            "grid_template_areas": null,
            "grid_template_columns": null,
            "grid_template_rows": null,
            "height": null,
            "justify_content": null,
            "justify_items": null,
            "left": null,
            "margin": null,
            "max_height": null,
            "max_width": null,
            "min_height": null,
            "min_width": null,
            "object_fit": null,
            "object_position": null,
            "order": null,
            "overflow": null,
            "overflow_x": null,
            "overflow_y": null,
            "padding": null,
            "right": null,
            "top": null,
            "visibility": null,
            "width": null
          }
        },
        "2fbba86d209648179769034e8616bf66": {
          "model_module": "@jupyter-widgets/controls",
          "model_name": "DescriptionStyleModel",
          "model_module_version": "1.5.0",
          "state": {
            "_model_module": "@jupyter-widgets/controls",
            "_model_module_version": "1.5.0",
            "_model_name": "DescriptionStyleModel",
            "_view_count": null,
            "_view_module": "@jupyter-widgets/base",
            "_view_module_version": "1.2.0",
            "_view_name": "StyleView",
            "description_width": ""
          }
        },
        "0500aa00e8cb463d9acd5d96582ac612": {
          "model_module": "@jupyter-widgets/base",
          "model_name": "LayoutModel",
          "model_module_version": "1.2.0",
          "state": {
            "_model_module": "@jupyter-widgets/base",
            "_model_module_version": "1.2.0",
            "_model_name": "LayoutModel",
            "_view_count": null,
            "_view_module": "@jupyter-widgets/base",
            "_view_module_version": "1.2.0",
            "_view_name": "LayoutView",
            "align_content": null,
            "align_items": null,
            "align_self": null,
            "border": null,
            "bottom": null,
            "display": null,
            "flex": null,
            "flex_flow": null,
            "grid_area": null,
            "grid_auto_columns": null,
            "grid_auto_flow": null,
            "grid_auto_rows": null,
            "grid_column": null,
            "grid_gap": null,
            "grid_row": null,
            "grid_template_areas": null,
            "grid_template_columns": null,
            "grid_template_rows": null,
            "height": null,
            "justify_content": null,
            "justify_items": null,
            "left": null,
            "margin": null,
            "max_height": null,
            "max_width": null,
            "min_height": null,
            "min_width": null,
            "object_fit": null,
            "object_position": null,
            "order": null,
            "overflow": null,
            "overflow_x": null,
            "overflow_y": null,
            "padding": null,
            "right": null,
            "top": null,
            "visibility": null,
            "width": null
          }
        },
        "fbd6ae90dfcd4343a4ece36600f955b8": {
          "model_module": "@jupyter-widgets/controls",
          "model_name": "ProgressStyleModel",
          "model_module_version": "1.5.0",
          "state": {
            "_model_module": "@jupyter-widgets/controls",
            "_model_module_version": "1.5.0",
            "_model_name": "ProgressStyleModel",
            "_view_count": null,
            "_view_module": "@jupyter-widgets/base",
            "_view_module_version": "1.2.0",
            "_view_name": "StyleView",
            "bar_color": null,
            "description_width": ""
          }
        },
        "6d82c0ff80224adf96d1e6b2fc74cc48": {
          "model_module": "@jupyter-widgets/base",
          "model_name": "LayoutModel",
          "model_module_version": "1.2.0",
          "state": {
            "_model_module": "@jupyter-widgets/base",
            "_model_module_version": "1.2.0",
            "_model_name": "LayoutModel",
            "_view_count": null,
            "_view_module": "@jupyter-widgets/base",
            "_view_module_version": "1.2.0",
            "_view_name": "LayoutView",
            "align_content": null,
            "align_items": null,
            "align_self": null,
            "border": null,
            "bottom": null,
            "display": null,
            "flex": null,
            "flex_flow": null,
            "grid_area": null,
            "grid_auto_columns": null,
            "grid_auto_flow": null,
            "grid_auto_rows": null,
            "grid_column": null,
            "grid_gap": null,
            "grid_row": null,
            "grid_template_areas": null,
            "grid_template_columns": null,
            "grid_template_rows": null,
            "height": null,
            "justify_content": null,
            "justify_items": null,
            "left": null,
            "margin": null,
            "max_height": null,
            "max_width": null,
            "min_height": null,
            "min_width": null,
            "object_fit": null,
            "object_position": null,
            "order": null,
            "overflow": null,
            "overflow_x": null,
            "overflow_y": null,
            "padding": null,
            "right": null,
            "top": null,
            "visibility": null,
            "width": null
          }
        },
        "9dd4ba69ac8e41b1835496ff766cbb50": {
          "model_module": "@jupyter-widgets/controls",
          "model_name": "DescriptionStyleModel",
          "model_module_version": "1.5.0",
          "state": {
            "_model_module": "@jupyter-widgets/controls",
            "_model_module_version": "1.5.0",
            "_model_name": "DescriptionStyleModel",
            "_view_count": null,
            "_view_module": "@jupyter-widgets/base",
            "_view_module_version": "1.2.0",
            "_view_name": "StyleView",
            "description_width": ""
          }
        }
      }
    }
  },
  "cells": [
    {
      "cell_type": "markdown",
      "metadata": {
        "id": "view-in-github",
        "colab_type": "text"
      },
      "source": [
        "<a href=\"https://colab.research.google.com/github/dxvsh/LearningPytorch/blob/main/Week2/DLP_GA2.ipynb\" target=\"_parent\"><img src=\"https://colab.research.google.com/assets/colab-badge.svg\" alt=\"Open In Colab\"/></a>"
      ]
    },
    {
      "cell_type": "markdown",
      "source": [
        "## DLP GA2"
      ],
      "metadata": {
        "id": "gpjg65TOm7BZ"
      }
    },
    {
      "cell_type": "code",
      "source": [
        "from pprint import pprint"
      ],
      "metadata": {
        "id": "5oyfpykznC6B"
      },
      "execution_count": null,
      "outputs": []
    },
    {
      "cell_type": "code",
      "source": [
        "!pip install datasets > /dev/null"
      ],
      "metadata": {
        "id": "k9t5wd5HnGdM"
      },
      "execution_count": null,
      "outputs": []
    },
    {
      "cell_type": "code",
      "source": [
        "from datasets import load_dataset\n",
        "from tokenizers import Tokenizer\n",
        "from tokenizers.models import BPE\n",
        "from tokenizers.trainers import BpeTrainer\n",
        "from tokenizers.pre_tokenizers import Whitespace\n",
        "from tokenizers.normalizers import Lowercase"
      ],
      "metadata": {
        "id": "BxtgnuP9tP6-"
      },
      "execution_count": 5,
      "outputs": []
    },
    {
      "cell_type": "markdown",
      "source": [
        "Download the BookCorpus dataset. Take every 7-th sample (the indices are multiple of 7:[0,7,14,21,...]) from the entire dataset. This will result in a dataset with 10 million samples (exactly, 10,572,033). Use these samples to build a tokenizer with the BPE tokenization algorithm by varying the vocabulary size.\n",
        "\n",
        "- **Normalizer**: LowerCase\n",
        "- **PreTokenizer**: WhiteSpace\n",
        "- **Model**: `BPE`\n",
        "- **Special tokens**: `[GO],[UNK],[PAD],[EOS]`\n",
        "- **PostProcessing**: None\n",
        "\n",
        "\n",
        "Tokenize the input text: “SEBI study finds 93% of individual F&O traders made losses between FY22 and FY24.” using the following configurations."
      ],
      "metadata": {
        "id": "361_e5_7m35I"
      }
    },
    {
      "cell_type": "code",
      "source": [
        "ds = load_dataset(\"bookcorpus\", split=\"train\")"
      ],
      "metadata": {
        "colab": {
          "base_uri": "https://localhost:8080/",
          "height": 234,
          "referenced_widgets": [
            "26b550013a3f4a968479222b89d68cb8",
            "af04231fe4164586a36068b8e39713f0",
            "228dd1fc886c4a84975b5ad2965cdba7",
            "b15e48cc9e894b52825b918e78ff24c4",
            "8a316f806dd44d9c93e4293798fd7eda",
            "186b7be8d49a4f4eabeb212d86cab79d",
            "854fa76878594cddb529e87493328c93",
            "8cc301e16f284c32b081aa5788cffe9f",
            "a9e7f2a0538d4e1b8f16ec00a27d7c74",
            "d276bee4bc5d4b3f997915056f4c4135",
            "d1f5003adfa44fa08d0a8756205dc2a0",
            "2e18f1e60bc2434bad761af1469c5b21",
            "5769c678532a4008a9147013732049d2",
            "859f0ccb3fca42359149a1c9810b2632",
            "6159cc7999324116a945a0cedb0054c5",
            "d2328aa7de954d7ab3b89e37388907d2",
            "51af9d44212344cb8dd98afdc8c24519",
            "03c24324608e4002b2e68b8876d7a755",
            "23f935388332416992accfd08072bdff",
            "74b6ca177ae7493db897e86984abf4a0",
            "f3971fa9247242fdb1c1d2347d06adb3",
            "a7cec0771a284e29a1c2970405e8df6f",
            "33ad98ec47ff4446974d11d68ac1405c",
            "1cb1fd9cbf49453c8bfef122af8150e6",
            "7f43a06849d4459c86b71e7ea8b3de5d",
            "2d5f73cd101c45669012f2356dd8e15f",
            "0fcec4e0487e49a38c6c0687ef071286",
            "db0949533fa548d7a6be7c36b8280903",
            "de04a83ba5f4481f9d612e4def286f94",
            "26ee4b13cf024789ad02eed109188077",
            "229d0c2293454b7d9344dba119de2bda",
            "8f0d6016207f4694b00d314bac3e5ce8",
            "53a5961e146a4c4da33f9bf93bd6f0aa",
            "1601e38cc52d47c4b7bc55371e0f21a1",
            "2264780577f14e75adceac4998174fc3",
            "ce552bfb3f394c6ba625d41b4dc1c671",
            "5f5b4b2430f14747b1b7e58b004e0829",
            "fcb2408e9ad94327a8154d64199b3f5b",
            "3bb33e8896474c51a17a219b261c615d",
            "2fbba86d209648179769034e8616bf66",
            "0500aa00e8cb463d9acd5d96582ac612",
            "fbd6ae90dfcd4343a4ece36600f955b8",
            "6d82c0ff80224adf96d1e6b2fc74cc48",
            "9dd4ba69ac8e41b1835496ff766cbb50"
          ]
        },
        "id": "6cUWe6x6sA80",
        "outputId": "92e89806-0a60-4ecc-fd0b-b8bc06196ab9"
      },
      "execution_count": 4,
      "outputs": [
        {
          "output_type": "display_data",
          "data": {
            "text/plain": [
              "bookcorpus.py:   0%|          | 0.00/3.25k [00:00<?, ?B/s]"
            ],
            "application/vnd.jupyter.widget-view+json": {
              "version_major": 2,
              "version_minor": 0,
              "model_id": "26b550013a3f4a968479222b89d68cb8"
            }
          },
          "metadata": {}
        },
        {
          "output_type": "display_data",
          "data": {
            "text/plain": [
              "README.md:   0%|          | 0.00/18.5k [00:00<?, ?B/s]"
            ],
            "application/vnd.jupyter.widget-view+json": {
              "version_major": 2,
              "version_minor": 0,
              "model_id": "2e18f1e60bc2434bad761af1469c5b21"
            }
          },
          "metadata": {}
        },
        {
          "name": "stdout",
          "output_type": "stream",
          "text": [
            "The repository for bookcorpus contains custom code which must be executed to correctly load the dataset. You can inspect the repository content at https://hf.co/datasets/bookcorpus.\n",
            "You can avoid this prompt in future by passing the argument `trust_remote_code=True`.\n",
            "\n",
            "Do you wish to run the custom code? [y/N] y\n"
          ]
        },
        {
          "output_type": "display_data",
          "data": {
            "text/plain": [
              "Downloading data:   0%|          | 0.00/1.18G [00:00<?, ?B/s]"
            ],
            "application/vnd.jupyter.widget-view+json": {
              "version_major": 2,
              "version_minor": 0,
              "model_id": "33ad98ec47ff4446974d11d68ac1405c"
            }
          },
          "metadata": {}
        },
        {
          "output_type": "display_data",
          "data": {
            "text/plain": [
              "Generating train split:   0%|          | 0/74004228 [00:00<?, ? examples/s]"
            ],
            "application/vnd.jupyter.widget-view+json": {
              "version_major": 2,
              "version_minor": 0,
              "model_id": "1601e38cc52d47c4b7bc55371e0f21a1"
            }
          },
          "metadata": {}
        }
      ]
    },
    {
      "cell_type": "code",
      "source": [
        "new_ds = ds.select(range(0, len(ds), 7))  # take every 7-th sample"
      ],
      "metadata": {
        "id": "Y9Eo4WD-sfYS"
      },
      "execution_count": 6,
      "outputs": []
    },
    {
      "cell_type": "code",
      "source": [
        "len(new_ds)"
      ],
      "metadata": {
        "colab": {
          "base_uri": "https://localhost:8080/"
        },
        "id": "pBGHAcoHuG6P",
        "outputId": "9620aed2-f7be-43d1-c547-efa23bc7a287"
      },
      "execution_count": 7,
      "outputs": [
        {
          "output_type": "execute_result",
          "data": {
            "text/plain": [
              "10572033"
            ]
          },
          "metadata": {},
          "execution_count": 7
        }
      ]
    },
    {
      "cell_type": "code",
      "source": [
        "def get_examples(batch_size=1000):\n",
        "    for i in range(0, len(new_ds), batch_size):\n",
        "        yield new_ds[i : i + batch_size][\"text\"]"
      ],
      "metadata": {
        "id": "wOE-yCvsv1ad"
      },
      "execution_count": 8,
      "outputs": []
    },
    {
      "cell_type": "code",
      "source": [
        "input_text = \"SEBI study finds 93% of individual F&O traders made losses between FY22 and FY24.\""
      ],
      "metadata": {
        "id": "HNXeYDUk7n-e"
      },
      "execution_count": 13,
      "outputs": []
    },
    {
      "cell_type": "markdown",
      "source": [
        "**Q1**. Keep the vocabulary size at 5000 and tokenize the input text using the learned vocabulary. Choose the number of tokens returned by the tokenizer:\n",
        "\n",
        "\n",
        "- [ ] 18\n",
        "- [ ] 22\n",
        "- [ ] 25\n",
        "- [ ] 28\n",
        "- [x] 32\n",
        "- [ ] 60\n"
      ],
      "metadata": {
        "id": "DSI8i94EnQ7z"
      }
    },
    {
      "cell_type": "code",
      "execution_count": 25,
      "metadata": {
        "id": "8Iu9LQOamnM-"
      },
      "outputs": [],
      "source": [
        "tokenizer_5k = Tokenizer(BPE(unk_token=\"[UNK]\"))\n",
        "\n",
        "# set the normalizer and pre-tokenizer\n",
        "tokenizer_5k.normalizer = Lowercase()\n",
        "tokenizer_5k.pre_tokenizer = Whitespace()"
      ]
    },
    {
      "cell_type": "code",
      "source": [
        "# setup the trainer\n",
        "\n",
        "trainer_5k = BpeTrainer(\n",
        "    vocab_size=5000,\n",
        "    special_tokens=[\"[GO]\", \"[UNK]\", \"[PAD]\", \"[EOS]\"],\n",
        "    continuing_subword_prefix=\"##\",\n",
        ")"
      ],
      "metadata": {
        "id": "6UlfAnO5ua8X"
      },
      "execution_count": 26,
      "outputs": []
    },
    {
      "cell_type": "code",
      "source": [
        "tokenizer_5k.train_from_iterator(get_examples(batch_size=5000), trainer=trainer_5k, length=len(new_ds))"
      ],
      "metadata": {
        "id": "HHUr7_Exws45"
      },
      "execution_count": 27,
      "outputs": []
    },
    {
      "cell_type": "code",
      "source": [
        "tokenizer_5k.get_vocab_size()"
      ],
      "metadata": {
        "colab": {
          "base_uri": "https://localhost:8080/"
        },
        "id": "4eSXIjyL6nLX",
        "outputId": "dfcf16b6-f085-4d5c-ec33-555b6a72cc9e"
      },
      "execution_count": 28,
      "outputs": [
        {
          "output_type": "execute_result",
          "data": {
            "text/plain": [
              "5000"
            ]
          },
          "metadata": {},
          "execution_count": 28
        }
      ]
    },
    {
      "cell_type": "code",
      "source": [
        "tokenizer_5k.encode(input_text)"
      ],
      "metadata": {
        "colab": {
          "base_uri": "https://localhost:8080/"
        },
        "id": "j21XM68_7q9m",
        "outputId": "f545b009-6621-4a09-aef2-8616c16c31a9"
      },
      "execution_count": 29,
      "outputs": [
        {
          "output_type": "execute_result",
          "data": {
            "text/plain": [
              "Encoding(num_tokens=32, attributes=[ids, type_ids, tokens, offsets, attention_mask, special_tokens_mask, overflowing])"
            ]
          },
          "metadata": {},
          "execution_count": 29
        }
      ]
    },
    {
      "cell_type": "markdown",
      "source": [
        "So with a vocab size of 5K, the tokenizer used 32 tokens for encoding the input text."
      ],
      "metadata": {
        "id": "H9-CFZOQRcR0"
      }
    },
    {
      "cell_type": "code",
      "source": [
        "pprint(tokenizer_5k.encode(input_text).tokens, compact=True)"
      ],
      "metadata": {
        "colab": {
          "base_uri": "https://localhost:8080/"
        },
        "id": "Dno_swHL7vXh",
        "outputId": "78cce65f-aef7-4d85-d185-55ee56ccda94"
      },
      "execution_count": 30,
      "outputs": [
        {
          "output_type": "stream",
          "name": "stdout",
          "text": [
            "['seb', '##i', 'study', 'find', '##s', '9', '##3', '%', 'of', 'ind', '##ivid',\n",
            " '##ual', 'f', '&', 'o', 'tr', '##ad', '##ers', 'made', 'loss', '##es',\n",
            " 'between', 'f', '##y', '##2', '##2', 'and', 'f', '##y', '##2', '##4', '.']\n"
          ]
        }
      ]
    },
    {
      "cell_type": "markdown",
      "source": [
        "**Q2.** Increase the vocabulary size to 10K, 15K and 32K. For each case, tokenize the same input with the newly learned vocabulary. Choose all the correct statements (MSQ)\n",
        "\n",
        "- [x] Increasing vocab size from 5K to 10K decreases the number of tokens\n",
        "- [ ] Increasing vocab size from 5K to 10K increases the number of tokens\n",
        "- [ ] Increasing vocab size from 10K to 15K decreases the number of tokens\n",
        "- [x] Increasing vocab size from 10K to 15K does not change the number of tokens\n",
        "- [x] Increasing vocab size from 15K to 32K further decreases the number of tokens\n"
      ],
      "metadata": {
        "id": "0ofrP3S_vQ6o"
      }
    },
    {
      "cell_type": "code",
      "source": [
        "tokenizer_10k = Tokenizer(BPE(unk_token=\"[UNK]\"))\n",
        "\n",
        "# set the normalizer and pre-tokenizer\n",
        "tokenizer_10k.normalizer = Lowercase()\n",
        "tokenizer_10k.pre_tokenizer = Whitespace()\n",
        "\n",
        "trainer_10k = BpeTrainer(\n",
        "    vocab_size=10_000,\n",
        "    special_tokens=[\"[GO]\", \"[UNK]\", \"[PAD]\", \"[EOS]\"],\n",
        "    continuing_subword_prefix=\"##\",\n",
        ")"
      ],
      "metadata": {
        "id": "Pzcc0AcwvW2B"
      },
      "execution_count": 31,
      "outputs": []
    },
    {
      "cell_type": "code",
      "source": [
        "tokenizer_10k.train_from_iterator(get_examples(batch_size=5000), trainer=trainer_10k, length=len(new_ds))"
      ],
      "metadata": {
        "id": "Pk6wIoqk8slm"
      },
      "execution_count": 32,
      "outputs": []
    },
    {
      "cell_type": "code",
      "source": [
        "tokenizer_10k.encode(input_text)"
      ],
      "metadata": {
        "colab": {
          "base_uri": "https://localhost:8080/"
        },
        "id": "NVE8jz_e8x9O",
        "outputId": "c6cc90e1-2128-40a4-8975-77d92bb75255"
      },
      "execution_count": 33,
      "outputs": [
        {
          "output_type": "execute_result",
          "data": {
            "text/plain": [
              "Encoding(num_tokens=28, attributes=[ids, type_ids, tokens, offsets, attention_mask, special_tokens_mask, overflowing])"
            ]
          },
          "metadata": {},
          "execution_count": 33
        }
      ]
    },
    {
      "cell_type": "markdown",
      "source": [
        "We can observe that increasing the vocab size to 10k, decreased the number of required tokens from 32 to 28."
      ],
      "metadata": {
        "id": "Gh85wikRRtql"
      }
    },
    {
      "cell_type": "code",
      "source": [
        "pprint(tokenizer_10k.encode(input_text).tokens, compact=True)"
      ],
      "metadata": {
        "colab": {
          "base_uri": "https://localhost:8080/"
        },
        "id": "iK48-9yZJsgM",
        "outputId": "2cda4a7a-4fb1-40e6-8a53-1a5b9803f816"
      },
      "execution_count": 34,
      "outputs": [
        {
          "output_type": "stream",
          "name": "stdout",
          "text": [
            "['seb', '##i', 'study', 'finds', '9', '##3', '%', 'of', 'individual', 'f', '&',\n",
            " 'o', 'trad', '##ers', 'made', 'loss', '##es', 'between', 'f', '##y', '##2',\n",
            " '##2', 'and', 'f', '##y', '##2', '##4', '.']\n"
          ]
        }
      ]
    },
    {
      "cell_type": "code",
      "source": [
        "tokenizer_15k = Tokenizer(BPE(unk_token=\"[UNK]\"))\n",
        "\n",
        "# set the normalizer and pre-tokenizer\n",
        "tokenizer_15k.normalizer = Lowercase()\n",
        "tokenizer_15k.pre_tokenizer = Whitespace()\n",
        "\n",
        "trainer_15k = BpeTrainer(\n",
        "    vocab_size=15_000,\n",
        "    special_tokens=[\"[GO]\", \"[UNK]\", \"[PAD]\", \"[EOS]\"],\n",
        "    continuing_subword_prefix=\"##\",\n",
        ")\n",
        "\n",
        "tokenizer_15k.train_from_iterator(get_examples(batch_size=5000), trainer=trainer_15k, length=len(new_ds))"
      ],
      "metadata": {
        "id": "j6-m4BP6Kz08"
      },
      "execution_count": 37,
      "outputs": []
    },
    {
      "cell_type": "code",
      "source": [
        "pprint(tokenizer_15k.encode(input_text))"
      ],
      "metadata": {
        "colab": {
          "base_uri": "https://localhost:8080/"
        },
        "id": "mp33lg7C9QQ9",
        "outputId": "2eb5b7b4-4ca2-4b96-b924-f18337623090"
      },
      "execution_count": 38,
      "outputs": [
        {
          "output_type": "stream",
          "name": "stdout",
          "text": [
            "Encoding(num_tokens=28, attributes=[ids, type_ids, tokens, offsets, attention_mask, special_tokens_mask, overflowing])\n"
          ]
        }
      ]
    },
    {
      "cell_type": "markdown",
      "source": [
        "In this case, going from a vocab size of 10k to 15k did not impact the number of tokens used for encoding at all"
      ],
      "metadata": {
        "id": "6QvU0gIpR9Qs"
      }
    },
    {
      "cell_type": "code",
      "source": [
        "pprint(tokenizer_15k.encode(input_text).tokens, compact=True)"
      ],
      "metadata": {
        "colab": {
          "base_uri": "https://localhost:8080/"
        },
        "id": "sw8-PkU1J_V9",
        "outputId": "5a8cbfb2-f9ff-4324-a723-c748c5d9d88a"
      },
      "execution_count": 39,
      "outputs": [
        {
          "output_type": "stream",
          "name": "stdout",
          "text": [
            "['seb', '##i', 'study', 'finds', '9', '##3', '%', 'of', 'individual', 'f', '&',\n",
            " 'o', 'trad', '##ers', 'made', 'loss', '##es', 'between', 'f', '##y', '##2',\n",
            " '##2', 'and', 'f', '##y', '##2', '##4', '.']\n"
          ]
        }
      ]
    },
    {
      "cell_type": "code",
      "source": [
        "tokenizer_32k = Tokenizer(BPE(unk_token=\"[UNK]\"))\n",
        "\n",
        "# set the normalizer and pre-tokenizer\n",
        "tokenizer_32k.normalizer = Lowercase()\n",
        "tokenizer_32k.pre_tokenizer = Whitespace()\n",
        "\n",
        "trainer_32k = BpeTrainer(\n",
        "    vocab_size=32_000,\n",
        "    special_tokens=[\"[GO]\", \"[UNK]\", \"[PAD]\", \"[EOS]\"],\n",
        "    continuing_subword_prefix=\"##\",\n",
        ")\n",
        "\n",
        "tokenizer_32k.train_from_iterator(get_examples(batch_size=5000), trainer=trainer_32k, length=len(new_ds))"
      ],
      "metadata": {
        "id": "HLlzCwC69TXG"
      },
      "execution_count": 40,
      "outputs": []
    },
    {
      "cell_type": "code",
      "source": [
        "pprint(tokenizer_32k.encode(input_text))"
      ],
      "metadata": {
        "colab": {
          "base_uri": "https://localhost:8080/"
        },
        "id": "__G3Tw_09XDx",
        "outputId": "8be8648d-f888-4360-e859-edd521ade975"
      },
      "execution_count": 41,
      "outputs": [
        {
          "output_type": "stream",
          "name": "stdout",
          "text": [
            "Encoding(num_tokens=25, attributes=[ids, type_ids, tokens, offsets, attention_mask, special_tokens_mask, overflowing])\n"
          ]
        }
      ]
    },
    {
      "cell_type": "code",
      "source": [
        "pprint(tokenizer_32k.encode(input_text).tokens, compact=True)"
      ],
      "metadata": {
        "colab": {
          "base_uri": "https://localhost:8080/"
        },
        "id": "ZqFk91tVKO-n",
        "outputId": "8f913134-fd36-456d-c341-4a0680757736"
      },
      "execution_count": 42,
      "outputs": [
        {
          "output_type": "stream",
          "name": "stdout",
          "text": [
            "['seb', '##i', 'study', 'finds', '9', '##3', '%', 'of', 'individual', 'f', '&',\n",
            " 'o', 'traders', 'made', 'losses', 'between', 'f', '##y', '##22', 'and', 'f',\n",
            " '##y', '##2', '##4', '.']\n"
          ]
        }
      ]
    },
    {
      "cell_type": "markdown",
      "source": [
        "Observe that going to a vocab size of 32K further reduced the number of tokens required by a little bit, from 28 to 25."
      ],
      "metadata": {
        "id": "IrTsBKjcSz46"
      }
    },
    {
      "cell_type": "markdown",
      "source": [
        "**Q3.** Download the pre-trained tokenizer file “hopper.json” used in the lecture, from [here](https://drive.google.com/file/d/1QNnyh8iMN-IqW_h1w8gAMtw09Em7-e1e/view?usp=sharing) . The tokenizer was trained on all 70 million samples in the BookCorpus dataset. Tokenize the same input text using this “hopper” tokenizer. How many tokens are there?\n",
        "\n",
        "[After finding the answer, take a moment to compare the hopper tokenizer with the previous one]"
      ],
      "metadata": {
        "id": "LTtggPoESzMh"
      }
    },
    {
      "cell_type": "code",
      "source": [
        "# download the given file using wget\n",
        "\n",
        "!wget 'https://drive.google.com/uc?export=download&id=1QNnyh8iMN-IqW_h1w8gAMtw09Em7-e1e' -O hopper.json"
      ],
      "metadata": {
        "colab": {
          "base_uri": "https://localhost:8080/"
        },
        "id": "dpF-56dOSypC",
        "outputId": "17f657c2-31fb-417a-af10-8ff0249f9d0a"
      },
      "execution_count": 43,
      "outputs": [
        {
          "output_type": "stream",
          "name": "stdout",
          "text": [
            "--2024-10-05 15:46:33--  https://drive.google.com/uc?export=download&id=1QNnyh8iMN-IqW_h1w8gAMtw09Em7-e1e\n",
            "Resolving drive.google.com (drive.google.com)... 142.251.2.102, 142.251.2.101, 142.251.2.138, ...\n",
            "Connecting to drive.google.com (drive.google.com)|142.251.2.102|:443... connected.\n",
            "HTTP request sent, awaiting response... 303 See Other\n",
            "Location: https://drive.usercontent.google.com/download?id=1QNnyh8iMN-IqW_h1w8gAMtw09Em7-e1e&export=download [following]\n",
            "--2024-10-05 15:46:34--  https://drive.usercontent.google.com/download?id=1QNnyh8iMN-IqW_h1w8gAMtw09Em7-e1e&export=download\n",
            "Resolving drive.usercontent.google.com (drive.usercontent.google.com)... 142.251.2.132, 2607:f8b0:4023:c0d::84\n",
            "Connecting to drive.usercontent.google.com (drive.usercontent.google.com)|142.251.2.132|:443... connected.\n",
            "HTTP request sent, awaiting response... 200 OK\n",
            "Length: 1357230 (1.3M) [application/octet-stream]\n",
            "Saving to: ‘hopper.json’\n",
            "\n",
            "hopper.json         100%[===================>]   1.29M  --.-KB/s    in 0.1s    \n",
            "\n",
            "2024-10-05 15:46:36 (11.3 MB/s) - ‘hopper.json’ saved [1357230/1357230]\n",
            "\n"
          ]
        }
      ]
    },
    {
      "cell_type": "code",
      "source": [
        "trained_tokenizer = Tokenizer(BPE())\n",
        "trained_tokenizer = trained_tokenizer.from_file(\"hopper.json\")"
      ],
      "metadata": {
        "id": "1etqleGnXHKQ"
      },
      "execution_count": 59,
      "outputs": []
    },
    {
      "cell_type": "code",
      "source": [
        "trained_tokenizer.encode(input_text)"
      ],
      "metadata": {
        "colab": {
          "base_uri": "https://localhost:8080/"
        },
        "id": "EUkJfXRIXviI",
        "outputId": "12dc4088-ff75-4c40-d176-fea493be43e7"
      },
      "execution_count": 60,
      "outputs": [
        {
          "output_type": "execute_result",
          "data": {
            "text/plain": [
              "Encoding(num_tokens=25, attributes=[ids, type_ids, tokens, offsets, attention_mask, special_tokens_mask, overflowing])"
            ]
          },
          "metadata": {},
          "execution_count": 60
        }
      ]
    },
    {
      "cell_type": "code",
      "source": [
        "pprint(trained_tokenizer.encode(input_text).tokens, compact=True)"
      ],
      "metadata": {
        "colab": {
          "base_uri": "https://localhost:8080/"
        },
        "id": "ni540XVnYPPn",
        "outputId": "84dd7eb5-e007-4c8e-af66-f39e2288279e"
      },
      "execution_count": 61,
      "outputs": [
        {
          "output_type": "stream",
          "name": "stdout",
          "text": [
            "['seb', '##i', 'study', 'finds', '9', '##3', '%', 'of', 'individual', 'f', '&',\n",
            " 'o', 'traders', 'made', 'losses', 'between', 'f', '##y', '##22', 'and', 'f',\n",
            " '##y', '##2', '##4', '.']\n"
          ]
        }
      ]
    },
    {
      "cell_type": "code",
      "source": [
        "trained_tokenizer.get_vocab_size()"
      ],
      "metadata": {
        "colab": {
          "base_uri": "https://localhost:8080/"
        },
        "id": "5j5JO9icYq_P",
        "outputId": "ef128c20-c7c5-4a5d-91e0-e04830bbc06f"
      },
      "execution_count": 62,
      "outputs": [
        {
          "output_type": "execute_result",
          "data": {
            "text/plain": [
              "32000"
            ]
          },
          "metadata": {},
          "execution_count": 62
        }
      ]
    },
    {
      "cell_type": "markdown",
      "source": [
        "Using the tokenizer trained on the full 70 million samples still gives us **25 tokens**... maybe this is because it was also using a vocab size of 32K?"
      ],
      "metadata": {
        "id": "vXSalCXVYmW4"
      }
    },
    {
      "cell_type": "markdown",
      "source": [
        "**Q4.** Suppose we know that the acronym “FY” will likely appear very frequently in most of the input text (assume the text comes from the financial domain). Therefore, we hope that adding it manually to the vocabulary might help. Add the token “FY” to the vocabulary and tokenize the input text. Enter the number of tokens produced.\n",
        "\n",
        "[Question to ponder: Does reducing the number of tokens helpful?]"
      ],
      "metadata": {
        "id": "v2giBhs7ZeJu"
      }
    },
    {
      "cell_type": "code",
      "source": [
        "tokenizer_with_fy = Tokenizer(BPE())\n",
        "tokenizer_with_fy = tokenizer_with_fy.from_file(\"hopper.json\")\n",
        "\n",
        "# manually adding the token \"FY\" to the vocab\n",
        "tokenizer_with_fy.add_tokens([\"FY\"])\n",
        "\n",
        "tokenizer_with_fy.encode(input_text)"
      ],
      "metadata": {
        "colab": {
          "base_uri": "https://localhost:8080/"
        },
        "id": "uHGPGkb7YivU",
        "outputId": "50c7bfaf-2ac5-490d-d316-977792ba2dde"
      },
      "execution_count": 63,
      "outputs": [
        {
          "output_type": "execute_result",
          "data": {
            "text/plain": [
              "Encoding(num_tokens=22, attributes=[ids, type_ids, tokens, offsets, attention_mask, special_tokens_mask, overflowing])"
            ]
          },
          "metadata": {},
          "execution_count": 63
        }
      ]
    },
    {
      "cell_type": "markdown",
      "source": [
        "Now, the number of tokens required has reduced to **22**."
      ],
      "metadata": {
        "id": "Htby3M9Qd_M2"
      }
    },
    {
      "cell_type": "code",
      "source": [
        "pprint(tokenizer_with_fy.encode(input_text).tokens, compact=True)"
      ],
      "metadata": {
        "colab": {
          "base_uri": "https://localhost:8080/"
        },
        "id": "E6l_-lPUdHDt",
        "outputId": "fce5fda3-0b5e-4d06-8a1e-23013997931e"
      },
      "execution_count": 64,
      "outputs": [
        {
          "output_type": "stream",
          "name": "stdout",
          "text": [
            "['seb', '##i', 'study', 'finds', '9', '##3', '%', 'of', 'individual', 'f', '&',\n",
            " 'o', 'traders', 'made', 'losses', 'between', 'fy', '22', 'and', 'fy', '24',\n",
            " '.']\n"
          ]
        }
      ]
    },
    {
      "cell_type": "markdown",
      "source": [
        "**Q5.** Load the “bert-base-uncased” and \"gpt2” tokenizers (use AutoTokenizer function from transformers). Which of the following special tokens are used in these tokenizers? (MSQ)\n",
        "\n",
        "\n",
        "- [ ] [GO]\n",
        "- [x] [CLS]\n",
        "- [ ] [BOS]\n",
        "- [x] [SEP]\n",
        "- [x] [< |endoftext| >]\n"
      ],
      "metadata": {
        "id": "VQ1NBJxid9Ae"
      }
    },
    {
      "cell_type": "code",
      "source": [
        "from transformers import AutoTokenizer\n",
        "\n",
        "bert_tokenizer = AutoTokenizer.from_pretrained(\"bert-base-uncased\")\n",
        "bert_tokenizer.special_tokens_map"
      ],
      "metadata": {
        "colab": {
          "base_uri": "https://localhost:8080/"
        },
        "id": "JhpSO1cZeOyk",
        "outputId": "526bdfea-070e-4359-a08c-fa881b1675e7"
      },
      "execution_count": 74,
      "outputs": [
        {
          "output_type": "stream",
          "name": "stderr",
          "text": [
            "/usr/local/lib/python3.10/dist-packages/transformers/tokenization_utils_base.py:1601: FutureWarning: `clean_up_tokenization_spaces` was not set. It will be set to `True` by default. This behavior will be depracted in transformers v4.45, and will be then set to `False` by default. For more details check this issue: https://github.com/huggingface/transformers/issues/31884\n",
            "  warnings.warn(\n"
          ]
        },
        {
          "output_type": "execute_result",
          "data": {
            "text/plain": [
              "{'unk_token': '[UNK]',\n",
              " 'sep_token': '[SEP]',\n",
              " 'pad_token': '[PAD]',\n",
              " 'cls_token': '[CLS]',\n",
              " 'mask_token': '[MASK]'}"
            ]
          },
          "metadata": {},
          "execution_count": 74
        }
      ]
    },
    {
      "cell_type": "code",
      "source": [
        "gpt2_tokenizer = AutoTokenizer.from_pretrained(\"gpt2\")\n",
        "gpt2_tokenizer.special_tokens_map"
      ],
      "metadata": {
        "colab": {
          "base_uri": "https://localhost:8080/"
        },
        "id": "MDMDWxtGh3k2",
        "outputId": "c331d7ff-d62a-4ed6-deb7-1ea1942745bf"
      },
      "execution_count": 78,
      "outputs": [
        {
          "output_type": "stream",
          "name": "stderr",
          "text": [
            "/usr/local/lib/python3.10/dist-packages/transformers/tokenization_utils_base.py:1601: FutureWarning: `clean_up_tokenization_spaces` was not set. It will be set to `True` by default. This behavior will be depracted in transformers v4.45, and will be then set to `False` by default. For more details check this issue: https://github.com/huggingface/transformers/issues/31884\n",
            "  warnings.warn(\n"
          ]
        },
        {
          "output_type": "execute_result",
          "data": {
            "text/plain": [
              "{'bos_token': '<|endoftext|>',\n",
              " 'eos_token': '<|endoftext|>',\n",
              " 'unk_token': '<|endoftext|>'}"
            ]
          },
          "metadata": {},
          "execution_count": 78
        }
      ]
    },
    {
      "cell_type": "markdown",
      "source": [
        "**Q6.** By now, we have four tokenizers.\n",
        "\n",
        "1. **Custom tokenizer** (vocab size 32K, trained on 10 million samples) : stored in `tokenizer_32k` in my case\n",
        "2. **bert-base-uncased** : stored in `bert_tokenizer` in my case\n",
        "3. **gpt2** : stored in `gpt2_tokenizer` in my case\n",
        "4. **hopper** :  stored in `trained_tokenizer` here\n",
        "\n",
        "Use these four tokenizers to count the number of tokens for the entire “imdb” dataset (drop the “unsupervised” part of the dataset). Enter the tokenizers in order such that the size of the dataset (measured in tokens) as returned by the tokenizers is in increasing order. For example, if the first tokenizer yields the smallest number of tokens and the fourth tokenizer yields the largest, you would enter 1234 (without any spaces).”"
      ],
      "metadata": {
        "id": "rAcg4Qlxiv4X"
      }
    },
    {
      "cell_type": "code",
      "source": [
        "from datasets import get_dataset_infos, get_dataset_split_names"
      ],
      "metadata": {
        "id": "6g42hCHSlZ9f"
      },
      "execution_count": 85,
      "outputs": []
    },
    {
      "cell_type": "code",
      "source": [
        "get_dataset_split_names(\"stanfordnlp/imdb\")"
      ],
      "metadata": {
        "colab": {
          "base_uri": "https://localhost:8080/"
        },
        "id": "KFiTepErh38_",
        "outputId": "bfa6a8e8-dc34-45ae-b7d5-53f050890ba8"
      },
      "execution_count": 86,
      "outputs": [
        {
          "output_type": "execute_result",
          "data": {
            "text/plain": [
              "['train', 'test', 'unsupervised']"
            ]
          },
          "metadata": {},
          "execution_count": 86
        }
      ]
    },
    {
      "cell_type": "code",
      "source": [
        "imdb_ds = load_dataset(\"stanfordnlp/imdb\", split=\"train+test\")"
      ],
      "metadata": {
        "id": "qYiVnirTmmF4"
      },
      "execution_count": 93,
      "outputs": []
    },
    {
      "cell_type": "code",
      "source": [
        "imdb_ds"
      ],
      "metadata": {
        "colab": {
          "base_uri": "https://localhost:8080/"
        },
        "id": "6ai5B2oBopph",
        "outputId": "b3fc977a-1d3d-4a97-c5da-98d9fbf5d4df"
      },
      "execution_count": 112,
      "outputs": [
        {
          "output_type": "execute_result",
          "data": {
            "text/plain": [
              "Dataset({\n",
              "    features: ['text', 'label'],\n",
              "    num_rows: 50000\n",
              "})"
            ]
          },
          "metadata": {},
          "execution_count": 112
        }
      ]
    },
    {
      "cell_type": "code",
      "source": [
        "def count_tokens(tokenizer):\n",
        "    # count the number of tokens in the imdb dataset using a specific tokenizer\n",
        "    count = 0\n",
        "    for sample in imdb_ds:\n",
        "        count += len(tokenizer.encode(sample[\"text\"]))\n",
        "    return count"
      ],
      "metadata": {
        "id": "EhdE9ZRxyD71"
      },
      "execution_count": 137,
      "outputs": []
    },
    {
      "cell_type": "code",
      "source": [
        "tokenizers = [(\"1. Custom Tokenizer\", tokenizer_32k),\n",
        "                (\"2. bert-base-uncased\", bert_tokenizer),\n",
        "                (\"3. gpt2\", gpt2_tokenizer),\n",
        "                (\"4. hopper\", trained_tokenizer)]\n",
        "\n",
        "for tokenizer in tokenizers:\n",
        "    print(f\"Tokenizer: {tokenizer[0]}, Total Token Count: {count_tokens(tokenizer[1])}\")"
      ],
      "metadata": {
        "colab": {
          "base_uri": "https://localhost:8080/"
        },
        "id": "QpdpqcxqsTCb",
        "outputId": "6763f79e-277e-404d-8555-1a4ac3ab0f3b"
      },
      "execution_count": 138,
      "outputs": [
        {
          "output_type": "stream",
          "name": "stderr",
          "text": [
            "Token indices sequence length is longer than the specified maximum sequence length for this model (720 > 512). Running this sequence through the model will result in indexing errors\n"
          ]
        },
        {
          "output_type": "stream",
          "name": "stdout",
          "text": [
            "Tokenizer: 1. Custom Tokenizer, Total Token Count: 15352840\n"
          ]
        },
        {
          "output_type": "stream",
          "name": "stderr",
          "text": [
            "Token indices sequence length is longer than the specified maximum sequence length for this model (1168 > 1024). Running this sequence through the model will result in indexing errors\n"
          ]
        },
        {
          "output_type": "stream",
          "name": "stdout",
          "text": [
            "Tokenizer: 2. bert-base-uncased, Total Token Count: 15516058\n",
            "Tokenizer: 3. gpt2, Total Token Count: 14812432\n",
            "Tokenizer: 4. hopper, Total Token Count: 13526933\n"
          ]
        }
      ]
    },
    {
      "cell_type": "markdown",
      "source": [
        "So, the hopper tokenizer (#4) uses the least amount of tokens, then comes the gpt tokenizer (#3) and then the custom tokenizer (#1), and finally bert tokenizer (#2).\n",
        "\n",
        "So the answer is: **4312**"
      ],
      "metadata": {
        "id": "EyXacT7yztbK"
      }
    },
    {
      "cell_type": "markdown",
      "source": [
        "**Q7.** The statement that the special tokens and their respective token ids are model-specific (model here refers to a language model) is\n",
        "\n",
        "- [x] True\n",
        "- [ ] False"
      ],
      "metadata": {
        "id": "itGrxCYYlEMB"
      }
    },
    {
      "cell_type": "markdown",
      "source": [
        "**Q8.** Suppose that the context length of the model is 128. Assume that a mini-batch of size 8 samples is passed to a tokenizer that corresponds to a model from hub. After tokenization, the maximum length of sample in the batch is 64. The statement that zero is appended to the “input ids” of the remaining samples to make the length 64 is :\n",
        "\n",
        "- [ ] True\n",
        "- [ ] False\n",
        "- [x] Insufficient information to conclude\n",
        "\n",
        "\n",
        "We don't know whether padding is enabled or not, so its hard to say whether the other samples will get padded to make their length 64\n"
      ],
      "metadata": {
        "id": "1UX23UdPlKMb"
      }
    }
  ]
}