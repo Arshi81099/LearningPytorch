{
  "cells": [
    {
      "cell_type": "markdown",
      "metadata": {
        "id": "view-in-github",
        "colab_type": "text"
      },
      "source": [
        "<a href=\"https://colab.research.google.com/github/dxvsh/LearningPytorch/blob/main/Week3/PreTraining_GPT.ipynb\" target=\"_parent\"><img src=\"https://colab.research.google.com/assets/colab-badge.svg\" alt=\"Open In Colab\"/></a>"
      ]
    },
    {
      "cell_type": "markdown",
      "id": "27506ee1-1743-4c39-97b8-05b77449fe7e",
      "metadata": {
        "editable": true,
        "tags": [],
        "id": "27506ee1-1743-4c39-97b8-05b77449fe7e"
      },
      "source": [
        "In this experiment, we will train the **GPT-2 model** using the [BookCorpus](https://huggingface.co/datasets/bookcorpus/bookcorpus) dataset.\n",
        "\n",
        "The relevant material for Week 3, like the trained model checkpoints can be found at : [Week 3 Pretraining GPT](https://drive.google.com/drive/folders/1DQwmmq9hLtIwfXVMKlYtNu_k9ZS7Nekx)"
      ]
    },
    {
      "cell_type": "markdown",
      "id": "ba355ae2-1291-41e8-b0cb-2aad000a6894",
      "metadata": {
        "editable": true,
        "tags": [],
        "id": "ba355ae2-1291-41e8-b0cb-2aad000a6894"
      },
      "source": [
        "Let's get started."
      ]
    },
    {
      "cell_type": "code",
      "source": [
        "!pip install datasets wandb > /dev/null"
      ],
      "metadata": {
        "id": "RMGGT4x32IFV"
      },
      "id": "RMGGT4x32IFV",
      "execution_count": 2,
      "outputs": []
    },
    {
      "cell_type": "markdown",
      "id": "c2db6e44-7caa-4c5d-9bf9-33ffa8e2da32",
      "metadata": {
        "editable": true,
        "tags": [],
        "id": "c2db6e44-7caa-4c5d-9bf9-33ffa8e2da32"
      },
      "source": [
        "<h1 style=\"color:Tomato;\"> Import the necessary Packages </h1>"
      ]
    },
    {
      "cell_type": "code",
      "execution_count": 3,
      "id": "a3bd6282-647c-430f-ac56-2a0137b0f63f",
      "metadata": {
        "editable": true,
        "tags": [],
        "id": "a3bd6282-647c-430f-ac56-2a0137b0f63f"
      },
      "outputs": [],
      "source": [
        "# used in the previous experiments\n",
        "from datasets import load_dataset,load_from_disk\n",
        "from transformers import AutoTokenizer\n",
        "\n",
        "# for training\n",
        "from transformers import DataCollatorForLanguageModeling\n",
        "from transformers import GPT2Config, GPT2LMHeadModel\n",
        "from transformers import TrainingArguments, Trainer\n",
        "\n",
        "#for experiment tracking\n",
        "import wandb\n",
        "\n",
        "#common packages\n",
        "import pandas as pd\n",
        "from pprint import pprint\n",
        "import json\n",
        "import numpy as np\n",
        "from matplotlib import pyplot as plt"
      ]
    },
    {
      "cell_type": "markdown",
      "id": "2178fd67-5fe9-4364-9820-56e139d39622",
      "metadata": {
        "editable": true,
        "tags": [],
        "id": "2178fd67-5fe9-4364-9820-56e139d39622"
      },
      "source": [
        "<h1 style=\"color:Tomato;\"> Dataset </h1>"
      ]
    },
    {
      "cell_type": "code",
      "execution_count": 5,
      "id": "cf30633e-d25f-4259-9f04-aea2d0101491",
      "metadata": {
        "editable": true,
        "tags": [],
        "id": "cf30633e-d25f-4259-9f04-aea2d0101491",
        "outputId": "17a368de-8fa3-471f-b368-28e6752c8acd",
        "colab": {
          "base_uri": "https://localhost:8080/"
        }
      },
      "outputs": [
        {
          "output_type": "stream",
          "name": "stdout",
          "text": [
            "Dataset({\n",
            "    features: ['text'],\n",
            "    num_rows: 74004228\n",
            "})\n"
          ]
        }
      ],
      "source": [
        "ds_full = load_dataset('bookcorpus',split='all')\n",
        "pprint(ds_full)"
      ]
    },
    {
      "cell_type": "markdown",
      "id": "ec896259-edc8-46ba-afac-9ea4602a096a",
      "metadata": {
        "editable": true,
        "tags": [],
        "id": "ec896259-edc8-46ba-afac-9ea4602a096a"
      },
      "source": [
        "The dataset contains 74 million sentences.\n"
      ]
    },
    {
      "cell_type": "markdown",
      "id": "f402be86-1a2d-4b15-8973-c8a1d9250e89",
      "metadata": {
        "editable": true,
        "tags": [],
        "id": "f402be86-1a2d-4b15-8973-c8a1d9250e89"
      },
      "source": [
        "The dataset contains about 1 billion words (**Exercise:** write code to get the exact number.)"
      ]
    },
    {
      "cell_type": "markdown",
      "id": "4cfd9608-d3c3-46e5-b35b-9357082f8478",
      "metadata": {
        "editable": true,
        "tags": [],
        "id": "4cfd9608-d3c3-46e5-b35b-9357082f8478"
      },
      "source": [
        "There are 71,598 samples that contain just a single word."
      ]
    },
    {
      "cell_type": "markdown",
      "id": "76a71faf-f7e2-4852-bd30-76645996244d",
      "metadata": {
        "editable": true,
        "tags": [],
        "id": "76a71faf-f7e2-4852-bd30-76645996244d"
      },
      "source": [
        "The **context length** of the **gpt-2** model is **1024**"
      ]
    },
    {
      "cell_type": "markdown",
      "id": "026ea49f-0a15-44d8-a6d1-15041b90d470",
      "metadata": {
        "editable": true,
        "tags": [],
        "id": "026ea49f-0a15-44d8-a6d1-15041b90d470"
      },
      "source": [
        "There are 50 samples in the dataset that are larger than the context length of the model (with the largest sample containing 65,852 elements!)."
      ]
    },
    {
      "cell_type": "markdown",
      "id": "44f257c3-d6e6-4cae-b36b-1ba46d19b99f",
      "metadata": {
        "editable": true,
        "tags": [],
        "id": "44f257c3-d6e6-4cae-b36b-1ba46d19b99f"
      },
      "source": [
        "Let us randomly select one million samples from the 74 million to better understand the distribution of the number of words in the sample sentences, excluding the 50 largest samples (outliers)."
      ]
    },
    {
      "cell_type": "code",
      "source": [
        "# download the bookcorpus dataset stats file : bc_stats.json\n",
        "!gdown 1IWHxxMoNxaJq9IP5A46tKLuv-LTRiDDc"
      ],
      "metadata": {
        "id": "4evl0sI9Dgql"
      },
      "id": "4evl0sI9Dgql",
      "execution_count": null,
      "outputs": []
    },
    {
      "cell_type": "code",
      "execution_count": 6,
      "id": "ec742be0-394c-4c21-b2fb-9787475fc33b",
      "metadata": {
        "editable": true,
        "tags": [],
        "id": "ec742be0-394c-4c21-b2fb-9787475fc33b"
      },
      "outputs": [],
      "source": [
        "with open('bc_stats.json','r') as f:\n",
        "    bc_stats = json.load(f)"
      ]
    },
    {
      "cell_type": "code",
      "execution_count": 7,
      "id": "fdd475b4-fcff-45ca-899e-5ebb6a0dfe3b",
      "metadata": {
        "editable": true,
        "tags": [],
        "id": "fdd475b4-fcff-45ca-899e-5ebb6a0dfe3b",
        "outputId": "d70161cc-59b9-4749-e6e7-fd51ffb6b2c4",
        "colab": {
          "base_uri": "https://localhost:8080/",
          "height": 388
        }
      },
      "outputs": [
        {
          "output_type": "display_data",
          "data": {
            "text/plain": [
              "<Figure size 1000x400 with 1 Axes>"
            ],
            "image/png": "[encoded data removed]"
          },
          "metadata": {}
        }
      ],
      "source": [
        "import random\n",
        "sorted_len = bc_stats['len_samples_sorted']\n",
        "bins = np.unique(sorted_len)\n",
        "plt.figure(figsize=(10,4))\n",
        "plt.hist(random.sample(sorted_len[0:-50],k=10**6),bins=bins[0:150])\n",
        "plt.xlabel('Sequence length')\n",
        "plt.ylabel('count')\n",
        "plt.grid()\n",
        "plt.show()"
      ]
    },
    {
      "cell_type": "markdown",
      "id": "04161ecf-154f-44e6-bd42-9c2eac87c9a3",
      "metadata": {
        "editable": true,
        "tags": [],
        "id": "04161ecf-154f-44e6-bd42-9c2eac87c9a3"
      },
      "source": [
        "From the above plot, we can see that the length of a majority of the samples is far less than 60 and the average length of the sample sentences is about 13."
      ]
    },
    {
      "cell_type": "markdown",
      "id": "05a3b452-e187-4ac8-af02-95143a749435",
      "metadata": {
        "editable": true,
        "tags": [],
        "id": "05a3b452-e187-4ac8-af02-95143a749435"
      },
      "source": [
        "<h1 style=\"color:Tomato;\"> Tokenization </h1>"
      ]
    },
    {
      "cell_type": "markdown",
      "id": "dfeab982-334b-4ce0-9e05-2b000fed79b6",
      "metadata": {
        "editable": true,
        "tags": [],
        "id": "dfeab982-334b-4ce0-9e05-2b000fed79b6"
      },
      "source": [
        "The next step is to tokenize the samples using the `PreTrainedTokenizer`"
      ]
    },
    {
      "cell_type": "markdown",
      "id": "7c2b9ff5-e335-4aff-9920-02a1b10b7def",
      "metadata": {
        "editable": true,
        "tags": [],
        "id": "7c2b9ff5-e335-4aff-9920-02a1b10b7def"
      },
      "source": [
        "We can use the `hopper` tokenizer that we have trained in the previous week\n",
        "\n",
        "\n",
        "**Note** : Don't run the below cells (between the horizontal lines) where we're loading the hopper tokenizer from the last week, I don't have those files.\n",
        "\n",
        "\n",
        "\n",
        "---\n"
      ]
    },
    {
      "cell_type": "code",
      "execution_count": null,
      "id": "908bc1cf-dbc6-49e5-a373-c61f8e53bc37",
      "metadata": {
        "editable": true,
        "tags": [],
        "id": "908bc1cf-dbc6-49e5-a373-c61f8e53bc37",
        "outputId": "7bed74d7-7748-4eca-da8a-bdcc26251d74"
      },
      "outputs": [
        {
          "name": "stdout",
          "output_type": "stream",
          "text": [
            "PreTrainedTokenizerFast(name_or_path='../Week-2/hopper', vocab_size=32000, model_max_length=1000000000000000019884624838656, is_fast=True, padding_side='right', truncation_side='right', special_tokens={'unk_token': '[UNK]', 'pad_token': '[PAD]'}, clean_up_tokenization_spaces=True),  added_tokens_decoder={\n",
            "\t0: AddedToken(\"[PAD]\", rstrip=False, lstrip=False, single_word=False, normalized=False, special=True),\n",
            "\t1: AddedToken(\"[UNK]\", rstrip=False, lstrip=False, single_word=False, normalized=False, special=True),\n",
            "}\n"
          ]
        }
      ],
      "source": [
        "hopper_tokenizer = AutoTokenizer.from_pretrained('../Week-2/hopper')\n",
        "print(hopper_tokenizer)"
      ]
    },
    {
      "cell_type": "markdown",
      "id": "891fedcf-cd43-4013-9860-a409913d53e9",
      "metadata": {
        "editable": true,
        "tags": [],
        "id": "891fedcf-cd43-4013-9860-a409913d53e9"
      },
      "source": [
        "Let us pass a batch of samples to the tokenizer with padding enabled:"
      ]
    },
    {
      "cell_type": "code",
      "execution_count": null,
      "id": "b219020d-4c29-400f-b466-84e30ba70463",
      "metadata": {
        "editable": true,
        "tags": [],
        "id": "b219020d-4c29-400f-b466-84e30ba70463",
        "outputId": "a80d695a-e899-44f6-a6ca-bb52f7e67d89"
      },
      "outputs": [
        {
          "name": "stdout",
          "output_type": "stream",
          "text": [
            "[[2462, 19, 149, 277, 162, 6456, 422, 131, 1559, 536, 19, 2301, 201, 177, 9774,\n",
            "  21, 0, 0, 0, 0, 0, 0, 0, 0, 0, 0, 0, 0, 0, 0, 0, 0, 0, 0, 0, 0, 0, 0, 0, 0, 0,\n",
            "  0],\n",
            " [212, 297, 289, 456, 208, 46, 20830, 1420, 214, 4099, 1171, 139, 11126, 21, 0,\n",
            "  0, 0, 0, 0, 0, 0, 0, 0, 0, 0, 0, 0, 0, 0, 0, 0, 0, 0, 0, 0, 0, 0, 0, 0, 0, 0,\n",
            "  0],\n",
            " [178, 206, 337, 7656, 14, 64, 1147, 303, 174, 503, 214, 2363, 2310, 21, 0, 0,\n",
            "  0, 0, 0, 0, 0, 0, 0, 0, 0, 0, 0, 0, 0, 0, 0, 0, 0, 0, 0, 0, 0, 0, 0, 0, 0,\n",
            "  0],\n",
            " [149, 14, 49, 946, 131, 3760, 880, 375, 3446, 19, 3766, 149, 166, 46, 545,\n",
            "  1185, 200, 131, 61, 93, 17794, 19, 212, 201, 2596, 9302, 19, 1050, 201, 163,\n",
            "  3186, 19, 5696, 166, 2270, 5194, 138, 717, 178, 278, 2596, 21]]\n"
          ]
        }
      ],
      "source": [
        "bs = 4 # batch_size\n",
        "model_inputs = hopper_tokenizer(ds_full[0:bs]['text'],padding=True)\n",
        "pprint(model_inputs['input_ids'],compact=True)"
      ]
    },
    {
      "cell_type": "markdown",
      "id": "0a7df779-dbbc-4dfe-9fa1-6e0b90a6b367",
      "metadata": {
        "editable": true,
        "tags": [],
        "id": "0a7df779-dbbc-4dfe-9fa1-6e0b90a6b367"
      },
      "source": [
        "\n",
        "\n",
        "---\n",
        "\n",
        "\n",
        "We can see that the shorter samples have been padded (0 padding at the right) to keep the size consistent.\n",
        "\n",
        "\n",
        "But what happens if a batch contains a sample of length 1 (and the size of other samples is 50)?"
      ]
    },
    {
      "cell_type": "markdown",
      "id": "39a4fbeb-afdd-49c5-8a96-01c1945e03ac",
      "metadata": {
        "editable": true,
        "tags": [],
        "id": "39a4fbeb-afdd-49c5-8a96-01c1945e03ac"
      },
      "source": [
        "We will need to append 49 zeros to that shortest sample! It is a waste of compute (while pretraining)!"
      ]
    },
    {
      "cell_type": "markdown",
      "id": "d8b2eea5-4729-4118-a851-b17f536a9d13",
      "metadata": {
        "editable": true,
        "tags": [],
        "id": "d8b2eea5-4729-4118-a851-b17f536a9d13"
      },
      "source": [
        "Moreover, if you observe carefully, the samples in the dataset **maintain continuity** with each other. The sentences are just continuing from where the previous one left off.\n",
        "\n",
        "So instead of padding, why not concatenate multiple sentences together to create a new sample sentence which is of 1024 length? We can do this with all the sentences in the dataset, i.e., concatenate as many sentences as needed to make sure each new sample is 1024 length. And if a sample is larger than 1024 length, just take 1024 elements from it.\n",
        "\n",
        "So finally, all the samples will be of length 1024."
      ]
    },
    {
      "cell_type": "code",
      "source": [
        "pprint({id:example for id,example in enumerate(ds_full[100:110]['text'])})"
      ],
      "metadata": {
        "id": "0b3xPeCtC3gb",
        "outputId": "ce7fc454-590e-46a9-8390-f9f23d57d94a",
        "colab": {
          "base_uri": "https://localhost:8080/"
        }
      },
      "id": "0b3xPeCtC3gb",
      "execution_count": 12,
      "outputs": [
        {
          "output_type": "stream",
          "name": "stdout",
          "text": [
            "{0: 'he loved sitting between her brothers on the couch and watching tv .',\n",
            " 1: 'while it was good that he had so many male role models , she only hoped '\n",
            "    \"he had n't inherited too much of his father 's personality .\",\n",
            " 2: 'after megan watched them disappear in the crowd of family and friends '\n",
            "    'waiting in the church alcove , she bypassed everyone by turning right and '\n",
            "    'heading down the hallway .',\n",
            " 3: 'at the last door on the right , she knocked .',\n",
            " 4: \"`` it 's me , megan . ''\",\n",
            " 5: \"emma 's best friend , casey , answered the door .\",\n",
            " 6: \"`` well , if it is n't the fairy godmother , '' she mused with a grin .\",\n",
            " 7: 'after megan stepped inside , casey threw her arms around her .',\n",
            " 8: \"megan had only met her a few times , but it was hard not liking emma 's \"\n",
            "    'vivacious and outgoing friend .',\n",
            " 9: \"casey 's long brown hair was pulled back in a lose knot , and she wore a \"\n",
            "    'demure black slip dress and heels .'}\n"
          ]
        }
      ]
    },
    {
      "cell_type": "markdown",
      "id": "c7397715-c4e3-4659-8506-c335241e899c",
      "metadata": {
        "editable": true,
        "tags": [],
        "id": "c7397715-c4e3-4659-8506-c335241e899c"
      },
      "source": [
        "Therefore, to use the available compute effectively, we can concatenate the samples so that the length of the concatenated sample equals the model's context length, i.e. 1024"
      ]
    },
    {
      "cell_type": "markdown",
      "id": "1fc518d1-506b-44b1-80e7-ced101ea3adf",
      "metadata": {
        "editable": true,
        "tags": [],
        "id": "1fc518d1-506b-44b1-80e7-ced101ea3adf"
      },
      "source": [
        "It requires us to **tokenize the samples** and **concatenate the tokens**."
      ]
    },
    {
      "cell_type": "markdown",
      "id": "2fea76a4-4670-44c3-a129-3b61ef76be07",
      "metadata": {
        "editable": true,
        "tags": [],
        "id": "2fea76a4-4670-44c3-a129-3b61ef76be07"
      },
      "source": [
        "Therefore, we do not need to use the `padding` token for pretraining."
      ]
    },
    {
      "cell_type": "markdown",
      "id": "db7c2264-5c28-4344-bbf4-24024cd410d1",
      "metadata": {
        "editable": true,
        "tags": [],
        "id": "db7c2264-5c28-4344-bbf4-24024cd410d1"
      },
      "source": [
        "Let's use the `gpt2 tokenizer` (uses Bytelevel BPE). We can simply load it from the hub:"
      ]
    },
    {
      "cell_type": "code",
      "execution_count": 13,
      "id": "f45cc8b8-b759-4f1c-ad12-90385b72fcc4",
      "metadata": {
        "editable": true,
        "tags": [],
        "id": "f45cc8b8-b759-4f1c-ad12-90385b72fcc4",
        "outputId": "b2414939-e142-4ef2-c054-7859a4f70677",
        "colab": {
          "base_uri": "https://localhost:8080/",
          "height": 284,
          "referenced_widgets": [
            "9921a6a7473f4ff88a43ba1342d36438",
            "25dd2990c9bd43e4aee5628bed6445de",
            "6729a87897b4497eb981fd9916e10dff",
            "3d027d40a65b428a9c63dbba998e8e1c",
            "aeae9d6f2a7f480ebf41c6a3f7a8c3f7",
            "eaaff1bd0d274d4c975e4f03047558e1",
            "4513aba963de4735bbc7625e0a0633f0",
            "b480933bb22a486198cd2aacfc9d0518",
            "48c462fc2fe24638955485f75049d1ce",
            "283fb9c0e95a42cbba1484a4f5edf799",
            "ba244c703da84edb91cd24bdc32d54d3",
            "fd46cbd4450e4a08a6b29e02c5fdd65b",
            "15cc72e8ba694bffa0ba22c5b417a477",
            "e88c2729194541d1a1a1a47f8291db1c",
            "d45f3b65ed9d4b0a958904f4c4da435f",
            "d4aef808473f4f24b3c32344ad2875ee",
            "a0a6345e97044c519fe0394681b7018a",
            "41da1d6221ed4c549e8740df2286034b",
            "d7814f4cc4ea4d2b9be36fa82c0529a5",
            "9f66bf31ea064f42ba6abb4811fa0c10",
            "f85b668949a544f1b2ff410e9c0a58c1",
            "1d1f40221dde428da2d84822027d3ef7",
            "1909033c3a744b73b9d44b6bd467cf66",
            "919037a49bb8420f87ad02659ba549fa",
            "eb0d006f633744f7958e16cf9e8968fe",
            "d176f4cd842e4dba8dcb92ed18cd7ca9",
            "e7291b4281b54c96b99e806f07368158",
            "7190a6d71da84a05bdcf8627163b4a7a",
            "af68d9c0073549a19f1a8cea3ee4acfe",
            "de8a13367f2f4c7fa759bd07c74d29c4",
            "25688ced538542c1b5fc2805b8c18498",
            "82cc25854e634b24bf51bd0b723c2a84",
            "3a4b705569e346e99e30a25d78047cd5",
            "0a062dda081b4eb5a7da02a3699f9964",
            "3c0bdbe8d30a453e8243c8a95f53839d",
            "1826b9b134fc41e2abc86ca337012c53",
            "bfabe272b532481dbefd78b61e294591",
            "74b620ae8bcf4e8783b8f0979e5a0be1",
            "876d108f065d46a2801de3569f6960f1",
            "db7d34985ba04702bdafab2793355d95",
            "a3ff998f0cc448f7b3b5551d14b1357a",
            "35fd5393e14648f796025135e5cfa565",
            "55f6a94bf00342af86760867ade47bc0",
            "0e613079dd3c44898527727a42391ca5",
            "57713007d61b4fe6ba0ad45bda3e7770",
            "f9679c2dfb834e2da29d2c092b5072ef",
            "2e2ee8a1857c4bdc874f836f50c937dc",
            "671f477570ce4fefb44572b95e7c140d",
            "f7ae7f2066c64e5cbffd83a74971c224",
            "9650163a9f8b4e279852e11af57d62ca",
            "2bd2378db02d49d7937a80fb3844391a",
            "6040cce04afd4c398a44ccf65fb4880f",
            "33a94cc0cbbc49eba1f5d6b27a550c64",
            "53b2a0116e0c4cba8269ca53e024a460",
            "4a24ce9ebdb54c7781dc573ea835890e"
          ]
        }
      },
      "outputs": [
        {
          "output_type": "display_data",
          "data": {
            "text/plain": [
              "tokenizer_config.json:   0%|          | 0.00/26.0 [00:00<?, ?B/s]"
            ],
            "application/vnd.jupyter.widget-view+json": {
              "version_major": 2,
              "version_minor": 0,
              "model_id": "9921a6a7473f4ff88a43ba1342d36438"
            }
          },
          "metadata": {}
        },
        {
          "output_type": "display_data",
          "data": {
            "text/plain": [
              "config.json:   0%|          | 0.00/665 [00:00<?, ?B/s]"
            ],
            "application/vnd.jupyter.widget-view+json": {
              "version_major": 2,
              "version_minor": 0,
              "model_id": "fd46cbd4450e4a08a6b29e02c5fdd65b"
            }
          },
          "metadata": {}
        },
        {
          "output_type": "display_data",
          "data": {
            "text/plain": [
              "vocab.json:   0%|          | 0.00/1.04M [00:00<?, ?B/s]"
            ],
            "application/vnd.jupyter.widget-view+json": {
              "version_major": 2,
              "version_minor": 0,
              "model_id": "1909033c3a744b73b9d44b6bd467cf66"
            }
          },
          "metadata": {}
        },
        {
          "output_type": "display_data",
          "data": {
            "text/plain": [
              "merges.txt:   0%|          | 0.00/456k [00:00<?, ?B/s]"
            ],
            "application/vnd.jupyter.widget-view+json": {
              "version_major": 2,
              "version_minor": 0,
              "model_id": "0a062dda081b4eb5a7da02a3699f9964"
            }
          },
          "metadata": {}
        },
        {
          "output_type": "display_data",
          "data": {
            "text/plain": [
              "tokenizer.json:   0%|          | 0.00/1.36M [00:00<?, ?B/s]"
            ],
            "application/vnd.jupyter.widget-view+json": {
              "version_major": 2,
              "version_minor": 0,
              "model_id": "57713007d61b4fe6ba0ad45bda3e7770"
            }
          },
          "metadata": {}
        },
        {
          "output_type": "stream",
          "name": "stdout",
          "text": [
            "GPT2TokenizerFast(name_or_path='gpt2', vocab_size=50257, model_max_length=1024, is_fast=True, padding_side='right', truncation_side='right', special_tokens={'bos_token': '<|endoftext|>', 'eos_token': '<|endoftext|>', 'unk_token': '<|endoftext|>'}, clean_up_tokenization_spaces=True),  added_tokens_decoder={\n",
            "\t50256: AddedToken(\"<|endoftext|>\", rstrip=False, lstrip=False, single_word=False, normalized=True, special=True),\n",
            "}\n"
          ]
        },
        {
          "output_type": "stream",
          "name": "stderr",
          "text": [
            "/usr/local/lib/python3.10/dist-packages/transformers/tokenization_utils_base.py:1601: FutureWarning: `clean_up_tokenization_spaces` was not set. It will be set to `True` by default. This behavior will be depracted in transformers v4.45, and will be then set to `False` by default. For more details check this issue: https://github.com/huggingface/transformers/issues/31884\n",
            "  warnings.warn(\n"
          ]
        }
      ],
      "source": [
        "tokenizer = AutoTokenizer.from_pretrained('gpt2')\n",
        "print(tokenizer)"
      ]
    },
    {
      "cell_type": "markdown",
      "id": "ac46fe56-bdae-45ad-bfdb-2f793d156964",
      "metadata": {
        "editable": true,
        "tags": [],
        "id": "ac46fe56-bdae-45ad-bfdb-2f793d156964"
      },
      "source": [
        "Note the details such as `vocab_size`, `model_max_length` and `special_tokens` (all the special tokens expected by HF `PreTrainedTokenizerFast` are mapped to `<|endoftext|>` token that was originally used by the gpt2 tokenizer)"
      ]
    },
    {
      "cell_type": "markdown",
      "id": "144bab7f-0d6d-4782-b00d-1dd73d01dff7",
      "metadata": {
        "editable": true,
        "tags": [],
        "id": "144bab7f-0d6d-4782-b00d-1dd73d01dff7"
      },
      "source": [
        "The parameter `padding_side` is set to `right`, but since no padding token is used, we should add a padding token to avoid errors from HF"
      ]
    },
    {
      "cell_type": "code",
      "execution_count": 14,
      "id": "5f392464-d111-48c5-9dfa-ceb8bf1ef4eb",
      "metadata": {
        "editable": true,
        "tags": [],
        "id": "5f392464-d111-48c5-9dfa-ceb8bf1ef4eb"
      },
      "outputs": [],
      "source": [
        "tokenizer.pad_token = '<|endoftext|>'"
      ]
    },
    {
      "cell_type": "markdown",
      "id": "69958ce7-015e-47fe-b256-17007a4f2df0",
      "metadata": {
        "editable": true,
        "tags": [],
        "id": "69958ce7-015e-47fe-b256-17007a4f2df0"
      },
      "source": [
        "Define a **mapping** function that takes a batch of samples and returns `input_ids` and `attention_mask` such that the length of `input_ids` is 1024 for all samples. (Take this as an exercise.)\n",
        "\n",
        "I've tried doing this using Gemini and it seems to be working fine but I'm not 100% sure. Don't run the below cell, it takes about 2 Hours to run!\n",
        "\n",
        "Just read the notebook and understand what is happening.\n",
        "\n",
        "Instead of padding sentences to ensure they're the same length and unecessarily wasting resources by padding them with lots of 0s, we're concatenating as many next samples as needed to make sure that each new sample becomes 1024 in length. This ensures that each sample is now a sequence of length 1024.\n",
        "\n",
        "---\n",
        "\n"
      ]
    },
    {
      "cell_type": "code",
      "source": [
        "# prompt: Define a  mapping function that takes a batch of samples and returns `input_ids` and `attention_mask` such that the length of `input_ids` is 1024 for all samples.\n",
        "# If the length of a sample is less than 1024, concatenate as many next samples as needed to make the length exactly 1024. Make sure each sample now is 1024 in length.\n",
        "# Apply the map.\n",
        "\n",
        "def preprocess_function(examples):\n",
        "  input_ids = []\n",
        "  attention_mask = []\n",
        "  current_length = 0\n",
        "  current_tokens = []\n",
        "  for text in examples['text']:\n",
        "    new_tokens = tokenizer.encode(text, add_special_tokens=False)\n",
        "    if current_length + len(new_tokens) <= 1024:\n",
        "      current_tokens.extend(new_tokens)\n",
        "      current_length += len(new_tokens)\n",
        "    else:\n",
        "      remaining_length = 1024 - current_length\n",
        "      current_tokens.extend(new_tokens[:remaining_length])\n",
        "      input_ids.append(current_tokens)\n",
        "      attention_mask.append([1] * len(current_tokens))\n",
        "\n",
        "      current_tokens = new_tokens[remaining_length:]\n",
        "      current_length = len(current_tokens)\n",
        "\n",
        "  if current_length > 0:\n",
        "    padding_length = 1024 - current_length\n",
        "    current_tokens.extend([tokenizer.pad_token_id] * padding_length)\n",
        "    input_ids.append(current_tokens)\n",
        "    attention_mask.append([1] * current_length + [0] * padding_length)\n",
        "\n",
        "  return {'input_ids': input_ids, 'attention_mask': attention_mask}\n",
        "\n",
        "## create the new dataset where each sample is 1024 length\n",
        "# ds_chunked = ds_full.map(preprocess_function, batched=True, remove_columns=['text'])"
      ],
      "metadata": {
        "id": "h-WuQC-oIviN"
      },
      "id": "h-WuQC-oIviN",
      "execution_count": 39,
      "outputs": []
    },
    {
      "cell_type": "markdown",
      "id": "a971bbed-2433-4547-bcaf-a845178be0fb",
      "metadata": {
        "editable": true,
        "tags": [],
        "id": "a971bbed-2433-4547-bcaf-a845178be0fb"
      },
      "source": [
        "We did this and stored it as a separate dataset. Now, let's load it from the disk"
      ]
    },
    {
      "cell_type": "code",
      "execution_count": null,
      "id": "2e0283c4-75e8-4dfe-b0de-5e3af014a9d9",
      "metadata": {
        "editable": true,
        "tags": [],
        "id": "2e0283c4-75e8-4dfe-b0de-5e3af014a9d9"
      },
      "outputs": [],
      "source": [
        "ds_chunked = load_from_disk('data/BC_Chunked')"
      ]
    },
    {
      "cell_type": "code",
      "execution_count": null,
      "id": "cf3a04cc-0dcb-4cb5-9765-6d71a3dcfa65",
      "metadata": {
        "editable": true,
        "tags": [],
        "id": "cf3a04cc-0dcb-4cb5-9765-6d71a3dcfa65",
        "outputId": "2968e01f-64cd-4b60-98a4-f8216a29d068"
      },
      "outputs": [
        {
          "name": "stdout",
          "output_type": "stream",
          "text": [
            "Dataset({\n",
            "    features: ['input_ids', 'attention_mask'],\n",
            "    num_rows: 1055117\n",
            "})\n"
          ]
        }
      ],
      "source": [
        "print(ds_chunked)"
      ]
    },
    {
      "cell_type": "markdown",
      "source": [
        "----"
      ],
      "metadata": {
        "id": "hltoG3JdaPeJ"
      },
      "id": "hltoG3JdaPeJ"
    },
    {
      "cell_type": "markdown",
      "id": "c2bc2562-7058-4253-a801-e18136d7e2a2",
      "metadata": {
        "editable": true,
        "tags": [],
        "id": "c2bc2562-7058-4253-a801-e18136d7e2a2"
      },
      "source": [
        "\n",
        "\n",
        "**Quick check:** <br>\n",
        "1. There are 1,055,117 samples. So from 74 Million samples in the original dataset, we're now down to around 1 Million samples in the concatenated one.\n",
        "2. Each sample now has a length of 1024\n",
        "3. Therefore, the total number of tokens is $1055117 \\times 1024 = 1.08$ billion tokens.\n",
        "4. And since we saw that there are about 1 Billion total words in the dataset, and the number of tokens after our modification to the dataset is roughly the same. This confirms that no extra tokens were added."
      ]
    },
    {
      "cell_type": "markdown",
      "id": "31273060-8799-4636-9506-06f1d366f3b7",
      "metadata": {
        "editable": true,
        "tags": [],
        "id": "31273060-8799-4636-9506-06f1d366f3b7"
      },
      "source": [
        "<h1 style=\"color:Tomato;\"> Data Loader </h1>"
      ]
    },
    {
      "cell_type": "markdown",
      "id": "172f73ed-f58a-4d25-be14-5330a3a69623",
      "metadata": {
        "editable": true,
        "tags": [],
        "id": "172f73ed-f58a-4d25-be14-5330a3a69623"
      },
      "source": [
        "Split the dataset into train and test splits (setting seed=42)"
      ]
    },
    {
      "cell_type": "code",
      "execution_count": null,
      "id": "3e835e8b-65aa-4049-83de-431f5982e221",
      "metadata": {
        "editable": true,
        "tags": [],
        "id": "3e835e8b-65aa-4049-83de-431f5982e221",
        "outputId": "41812863-f669-494e-ba6b-2c57eff0d3bc"
      },
      "outputs": [
        {
          "name": "stdout",
          "output_type": "stream",
          "text": [
            "DatasetDict({\n",
            "    train: Dataset({\n",
            "        features: ['input_ids', 'attention_mask'],\n",
            "        num_rows: 1047731\n",
            "    })\n",
            "    test: Dataset({\n",
            "        features: ['input_ids', 'attention_mask'],\n",
            "        num_rows: 7386\n",
            "    })\n",
            "})\n"
          ]
        }
      ],
      "source": [
        "ds_split = ds_chunked.train_test_split(test_size=0.007,seed=42)\n",
        "print(ds_split)"
      ]
    },
    {
      "cell_type": "markdown",
      "id": "bbac30a4-f26e-4e49-a231-388d96b193bd",
      "metadata": {
        "editable": true,
        "tags": [],
        "id": "bbac30a4-f26e-4e49-a231-388d96b193bd"
      },
      "source": [
        "Recall that the `DataLoader` prepares the data for the model. The prepartion includes shuffling the data, **collating** a batch of samples with or without padding, and distributing it across multiple gpus or nodes"
      ]
    },
    {
      "cell_type": "markdown",
      "id": "21b8bf4f-519c-46de-8e0f-1bad1bb75333",
      "metadata": {
        "editable": true,
        "tags": [],
        "id": "21b8bf4f-519c-46de-8e0f-1bad1bb75333"
      },
      "source": [
        "The collate function varies based on the model's training objective (e.g., CLM, MLM, PLM). Therefore, Hugging Face provides several commonly used collate functions: <br>\n",
        "1. DataCollatorForSeq2Seq\n",
        "2. DataCollatorForLanguageModelling\n",
        "3. DefaultDataCollator\n",
        "\n",
        "[Doc](https://huggingface.co/docs/transformers/main/main_classes/data_collator)"
      ]
    },
    {
      "cell_type": "code",
      "execution_count": null,
      "id": "7b1a2d00-b9aa-44b4-b279-31274d6ffdce",
      "metadata": {
        "editable": true,
        "tags": [],
        "id": "7b1a2d00-b9aa-44b4-b279-31274d6ffdce"
      },
      "outputs": [],
      "source": [
        "data_collator = DataCollatorForLanguageModeling(tokenizer,mlm=False)"
      ]
    },
    {
      "cell_type": "markdown",
      "id": "01f0fc44-76eb-458d-a5d4-1612af77cc6b",
      "metadata": {
        "editable": true,
        "tags": [],
        "id": "01f0fc44-76eb-458d-a5d4-1612af77cc6b"
      },
      "source": [
        "HF uses this `data_collator` function internally. However, let’s take a closer look at what it does using the `DataLoader` from PyTorch."
      ]
    },
    {
      "cell_type": "code",
      "execution_count": null,
      "id": "aba9dd40-7f43-459c-a622-348be5def3f9",
      "metadata": {
        "editable": true,
        "tags": [],
        "id": "aba9dd40-7f43-459c-a622-348be5def3f9"
      },
      "outputs": [],
      "source": [
        "from torch.utils.data import DataLoader"
      ]
    },
    {
      "cell_type": "code",
      "execution_count": null,
      "id": "82d1d29a-baf0-4cd1-ac76-12eb86a41980",
      "metadata": {
        "editable": true,
        "tags": [],
        "id": "82d1d29a-baf0-4cd1-ac76-12eb86a41980"
      },
      "outputs": [],
      "source": [
        "dataloader = DataLoader(dataset=ds_split['train'],\n",
        "                        collate_fn=data_collator,\n",
        "                        batch_size=4,\n",
        "                        )"
      ]
    },
    {
      "cell_type": "code",
      "execution_count": null,
      "id": "9b8405ac-bd11-4f42-b35b-ea33d151b27b",
      "metadata": {
        "editable": true,
        "tags": [],
        "id": "9b8405ac-bd11-4f42-b35b-ea33d151b27b",
        "outputId": "375ee7d2-6999-41b0-b70c-b882b3fe9287"
      },
      "outputs": [
        {
          "name": "stdout",
          "output_type": "stream",
          "text": [
            "{'attention_mask': tensor([[1, 1, 1,  ..., 1, 1, 1],\n",
            "        [1, 1, 1,  ..., 1, 1, 1],\n",
            "        [1, 1, 1,  ..., 1, 1, 1],\n",
            "        [1, 1, 1,  ..., 1, 1, 1]]),\n",
            " 'input_ids': tensor([[13769,   644,   262,  ...,  1323,   837,  8591],\n",
            "        [14262,   616, 17841,  ...,   423,   345, 21256],\n",
            "        [17007,   873,   262,  ...,   302,   276,   705],\n",
            "        [  503,   286,   262,  ...,   764,  7091,   550]]),\n",
            " 'labels': tensor([[13769,   644,   262,  ...,  1323,   837,  8591],\n",
            "        [14262,   616, 17841,  ...,   423,   345, 21256],\n",
            "        [17007,   873,   262,  ...,   302,   276,   705],\n",
            "        [  503,   286,   262,  ...,   764,  7091,   550]])}\n"
          ]
        }
      ],
      "source": [
        "for batch in dataloader:\n",
        "    pprint(batch)\n",
        "    break"
      ]
    },
    {
      "cell_type": "markdown",
      "id": "e9103779-f938-42fd-8fa3-911592551eb7",
      "metadata": {
        "editable": true,
        "tags": [],
        "id": "e9103779-f938-42fd-8fa3-911592551eb7"
      },
      "source": [
        "1. It returns (by default) the attributes as PyTorch `tensor` objects instead of Python `lists`."
      ]
    },
    {
      "cell_type": "markdown",
      "id": "bcb1fd77-f940-4343-b858-70a5b8b66212",
      "metadata": {
        "editable": true,
        "tags": [],
        "id": "bcb1fd77-f940-4343-b858-70a5b8b66212"
      },
      "source": [
        "2. It also returns the labels; for CLM, the `input_ids` serve as the labels with a shift (the shift happens in the training loop)."
      ]
    },
    {
      "cell_type": "markdown",
      "id": "da84352f-e6f2-47f8-a8d2-2cf53f8c6886",
      "metadata": {
        "editable": true,
        "tags": [],
        "id": "da84352f-e6f2-47f8-a8d2-2cf53f8c6886"
      },
      "source": [
        "<h1 style=\"color:Tomato;\"> Initialize the Model </h1>"
      ]
    },
    {
      "cell_type": "markdown",
      "id": "50d17dd6-b1b4-40e2-8c4f-2763e817172c",
      "metadata": {
        "editable": true,
        "tags": [],
        "id": "50d17dd6-b1b4-40e2-8c4f-2763e817172c"
      },
      "source": [
        "We can build the model in PyTorch and Wrap it using HF `PreTrainedConfig` class"
      ]
    },
    {
      "cell_type": "markdown",
      "id": "898c1e5f-14e1-4c19-beac-09b7e62dc4bf",
      "metadata": {
        "editable": true,
        "tags": [],
        "id": "898c1e5f-14e1-4c19-beac-09b7e62dc4bf"
      },
      "source": [
        "HF already has the GPT architecture built in, with over 350,000 models available in the hub. We can load these models and **modify the configuration** to customize."
      ]
    },
    {
      "cell_type": "code",
      "execution_count": null,
      "id": "a2c640bb-c689-4d58-b6bd-efbad288453b",
      "metadata": {
        "editable": true,
        "tags": [],
        "id": "a2c640bb-c689-4d58-b6bd-efbad288453b",
        "outputId": "12ac3f7f-f5c2-40b0-fea4-511667df3286"
      },
      "outputs": [
        {
          "name": "stdout",
          "output_type": "stream",
          "text": [
            "GPT2Config {\n",
            "  \"activation_function\": \"gelu_new\",\n",
            "  \"attn_pdrop\": 0.1,\n",
            "  \"bos_token_id\": 50256,\n",
            "  \"embd_pdrop\": 0.1,\n",
            "  \"eos_token_id\": 50256,\n",
            "  \"initializer_range\": 0.02,\n",
            "  \"layer_norm_epsilon\": 1e-05,\n",
            "  \"model_type\": \"gpt2\",\n",
            "  \"n_embd\": 768,\n",
            "  \"n_head\": 12,\n",
            "  \"n_inner\": null,\n",
            "  \"n_layer\": 12,\n",
            "  \"n_positions\": 1024,\n",
            "  \"reorder_and_upcast_attn\": false,\n",
            "  \"resid_pdrop\": 0.1,\n",
            "  \"scale_attn_by_inverse_layer_idx\": false,\n",
            "  \"scale_attn_weights\": true,\n",
            "  \"summary_activation\": null,\n",
            "  \"summary_first_dropout\": 0.1,\n",
            "  \"summary_proj_to_labels\": true,\n",
            "  \"summary_type\": \"cls_index\",\n",
            "  \"summary_use_proj\": true,\n",
            "  \"transformers_version\": \"4.44.2\",\n",
            "  \"use_cache\": true,\n",
            "  \"vocab_size\": 50257\n",
            "}\n",
            "\n"
          ]
        }
      ],
      "source": [
        "configuration = GPT2Config()\n",
        "pprint(configuration)"
      ]
    },
    {
      "cell_type": "markdown",
      "id": "f316a28c-d906-45df-ba09-4661b083bcaf",
      "metadata": {
        "editable": true,
        "tags": [],
        "id": "f316a28c-d906-45df-ba09-4661b083bcaf"
      },
      "source": [
        "Now, we can build the model with the Language Modelling head with the weights **initialized randomly**"
      ]
    },
    {
      "cell_type": "code",
      "execution_count": null,
      "id": "b52143c4-4a6c-477e-bcf2-f26b1759a5be",
      "metadata": {
        "editable": true,
        "tags": [],
        "id": "b52143c4-4a6c-477e-bcf2-f26b1759a5be"
      },
      "outputs": [],
      "source": [
        "model = GPT2LMHeadModel(configuration)"
      ]
    },
    {
      "cell_type": "code",
      "execution_count": null,
      "id": "7acc6202-6152-4c4f-ba22-e99d95ad9701",
      "metadata": {
        "editable": true,
        "tags": [],
        "id": "7acc6202-6152-4c4f-ba22-e99d95ad9701",
        "outputId": "4158a437-b17f-451a-b037-6b181a4a54e8"
      },
      "outputs": [
        {
          "name": "stdout",
          "output_type": "stream",
          "text": [
            "GPT2LMHeadModel(\n",
            "  (transformer): GPT2Model(\n",
            "    (wte): Embedding(50257, 768)\n",
            "    (wpe): Embedding(1024, 768)\n",
            "    (drop): Dropout(p=0.1, inplace=False)\n",
            "    (h): ModuleList(\n",
            "      (0-11): 12 x GPT2Block(\n",
            "        (ln_1): LayerNorm((768,), eps=1e-05, elementwise_affine=True)\n",
            "        (attn): GPT2SdpaAttention(\n",
            "          (c_attn): Conv1D()\n",
            "          (c_proj): Conv1D()\n",
            "          (attn_dropout): Dropout(p=0.1, inplace=False)\n",
            "          (resid_dropout): Dropout(p=0.1, inplace=False)\n",
            "        )\n",
            "        (ln_2): LayerNorm((768,), eps=1e-05, elementwise_affine=True)\n",
            "        (mlp): GPT2MLP(\n",
            "          (c_fc): Conv1D()\n",
            "          (c_proj): Conv1D()\n",
            "          (act): NewGELUActivation()\n",
            "          (dropout): Dropout(p=0.1, inplace=False)\n",
            "        )\n",
            "      )\n",
            "    )\n",
            "    (ln_f): LayerNorm((768,), eps=1e-05, elementwise_affine=True)\n",
            "  )\n",
            "  (lm_head): Linear(in_features=768, out_features=50257, bias=False)\n",
            ")\n"
          ]
        }
      ],
      "source": [
        "print(model)"
      ]
    },
    {
      "cell_type": "markdown",
      "id": "cf3c31e3-e782-488e-bcf6-20507faf44d9",
      "metadata": {
        "editable": true,
        "tags": [],
        "id": "cf3c31e3-e782-488e-bcf6-20507faf44d9"
      },
      "source": [
        "**Quick Check:** vocab size: 50257, embedding dim: 768, learnable position embedding (pe), uses Scaled Dot Product Attention (SDPA)"
      ]
    },
    {
      "cell_type": "markdown",
      "id": "969e19f6-063c-47c4-aefd-f40d8dadce45",
      "metadata": {
        "editable": true,
        "tags": [],
        "id": "969e19f6-063c-47c4-aefd-f40d8dadce45"
      },
      "source": [
        "Finally, let's count the number of Parameters"
      ]
    },
    {
      "cell_type": "code",
      "execution_count": null,
      "id": "a0540169-cc4b-49f8-a2d2-2634c44c7f79",
      "metadata": {
        "editable": true,
        "tags": [],
        "id": "a0540169-cc4b-49f8-a2d2-2634c44c7f79",
        "outputId": "007c4f63-15f1-41ca-bba4-09abf811b7dc"
      },
      "outputs": [
        {
          "name": "stdout",
          "output_type": "stream",
          "text": [
            "Number of Parameters:124.44M\n"
          ]
        }
      ],
      "source": [
        "num_parameters = 0\n",
        "for param in model.parameters():\n",
        "    num_parameters += param.numel()\n",
        "print(f'Number of Parameters:{num_parameters/10**6:.2f}M')"
      ]
    },
    {
      "cell_type": "markdown",
      "id": "5597d0d2-f1eb-4e37-8e1a-9ea34cd42acc",
      "metadata": {
        "editable": true,
        "tags": [],
        "id": "5597d0d2-f1eb-4e37-8e1a-9ea34cd42acc"
      },
      "source": [
        "<h1 style=\"color:Tomato;\"> Train the Model </h1>"
      ]
    },
    {
      "cell_type": "markdown",
      "id": "1aaec482-0201-4a69-b31a-3c67841177e0",
      "metadata": {
        "editable": true,
        "tags": [],
        "id": "1aaec482-0201-4a69-b31a-3c67841177e0"
      },
      "source": [
        "Training a model requires the following sequence of operations as shown in the figure below"
      ]
    },
    {
      "cell_type": "markdown",
      "id": "77fafdf1-b933-4364-aea1-132335390372",
      "metadata": {
        "editable": true,
        "tags": [],
        "id": "77fafdf1-b933-4364-aea1-132335390372"
      },
      "source": [
        "<img src=\"https://raw.githubusercontent.com/Arunprakash-A/Modern-NLP-with-Hugging-Face/refs/heads/main/Notebooks/images/training_loop.png\">"
      ]
    },
    {
      "cell_type": "markdown",
      "id": "32949427-e70f-42b8-8b18-69a61d78961d",
      "metadata": {
        "editable": true,
        "tags": [],
        "id": "32949427-e70f-42b8-8b18-69a61d78961d"
      },
      "source": [
        "1. Get a batch of samples.\n",
        "2. Make predictions.\n",
        "3. Compute loss.\n",
        "4. Compute gradients.\n",
        "5. Choose a learning rate scheduler.\n",
        "6. Choose an optimizer and set its hyperparameters.\n",
        "7. Update the weights.\n",
        "8. repeat until a criterion is met (convergence, compute credits, time,etc.,)"
      ]
    },
    {
      "cell_type": "markdown",
      "id": "efb22161-85e5-4c05-b92d-3508d299c822",
      "metadata": {
        "editable": true,
        "tags": [],
        "id": "efb22161-85e5-4c05-b92d-3508d299c822"
      },
      "source": [
        "Apart from these steps, we may need to set parameters for [efficient training](https://huggingface.co/docs/transformers/v4.29.1/en/perf_train_gpu_one) strategies in both single and multi-GPU settings, as well as perform experiment tracking and logging."
      ]
    },
    {
      "cell_type": "markdown",
      "id": "7c2466df-7dfb-45ab-b92a-dec7336c46c9",
      "metadata": {
        "editable": true,
        "tags": [],
        "id": "7c2466df-7dfb-45ab-b92a-dec7336c46c9"
      },
      "source": [
        "We use wandb for experiment tracking."
      ]
    },
    {
      "cell_type": "markdown",
      "id": "6a522606-c002-4cb3-98fd-f7dcdb26b69f",
      "metadata": {
        "editable": true,
        "tags": [],
        "id": "6a522606-c002-4cb3-98fd-f7dcdb26b69f"
      },
      "source": [
        "```python\n",
        "wandb.init(\n",
        "    project=\"DLP-GPT2-Node-1\",     \n",
        "    config={\n",
        "        \"batch_size\":16,        \n",
        "        \"dataset\": \"Bookcorpus-74M\",\n",
        "    },\n",
        ")\n",
        "```"
      ]
    },
    {
      "cell_type": "markdown",
      "id": "d751ac83-23b2-413a-8cb0-98250c28b9a7",
      "metadata": {
        "editable": true,
        "tags": [],
        "id": "d751ac83-23b2-413a-8cb0-98250c28b9a7"
      },
      "source": [
        "All these training complexities are managed by two functions from the Transformers library: `TrainingArguments` and `Trainer`."
      ]
    },
    {
      "cell_type": "markdown",
      "id": "3fa81302-7b50-4664-b08e-e10cf8b82bde",
      "metadata": {
        "editable": true,
        "tags": [],
        "id": "3fa81302-7b50-4664-b08e-e10cf8b82bde"
      },
      "source": [
        "Let's look at a few important arguments"
      ]
    },
    {
      "cell_type": "markdown",
      "id": "d4afe7f9-40ea-4c72-afed-09841cbddf58",
      "metadata": {
        "editable": true,
        "tags": [],
        "id": "d4afe7f9-40ea-4c72-afed-09841cbddf58"
      },
      "source": [
        "`eval_steps`: Compute validation loss every 500 steps.<br>\n",
        "`per_device_train_batch_size`: 8 samples (requires about 27 GB of memory). <br>\n",
        "`per_device_eval_batch_size` : 8 samples (can be larger since gradients are not computed).<br>\n",
        "`tf32`: whether or not to use the tf32 datatype (for matrix multiplication) to increase computation speed.<br>\n",
        "`bf16`: whether or not to use the bf16 (high dynamic range) for mixed precision training.<br>\n",
        "`fp16`: whether or not to use the fp16 (low dynamic range) for mixed precision training. <br>\n",
        "`num_train_epochs`: 1 (budget is the bottleneck)<br>\n",
        "`save_steps`: Store model checkpoints every 1000 steps (after processing 8 million tokens).<br>"
      ]
    },
    {
      "cell_type": "code",
      "execution_count": null,
      "id": "704291aa-fb8e-4f44-82e0-8a6aac04b8ea",
      "metadata": {
        "editable": true,
        "tags": [],
        "id": "704291aa-fb8e-4f44-82e0-8a6aac04b8ea"
      },
      "outputs": [],
      "source": [
        "training_args = TrainingArguments( output_dir='out',\n",
        "                                  eval_strategy=\"steps\",\n",
        "                                  eval_steps=500,\n",
        "                                  num_train_epochs=1,\n",
        "                                  per_device_train_batch_size=8,\n",
        "                                  per_device_eval_batch_size=8,\n",
        "                                  bf16=False,\n",
        "                                  fp16=False,\n",
        "                                  tf32=False,\n",
        "                                  adam_beta1=0.9,\n",
        "                                  adam_beta2=0.999,\n",
        "                                  learning_rate=2e-5,\n",
        "                                  weight_decay=0.01,\n",
        "                                  gradient_accumulation_steps=1,\n",
        "                                  logging_strategy=\"steps\",\n",
        "                                  logging_steps = 500,\n",
        "                                  save_steps=1000,\n",
        "                                  save_total_limit=15,\n",
        "                                  report_to='wandb',\n",
        "                                 )\n",
        ""
      ]
    },
    {
      "cell_type": "markdown",
      "id": "5642c0af-3909-45ad-bf66-366459151dfd",
      "metadata": {
        "editable": true,
        "tags": [],
        "id": "5642c0af-3909-45ad-bf66-366459151dfd"
      },
      "source": [
        "Finally, let's use the `Trainer` API to set up the entire training pipeline"
      ]
    },
    {
      "cell_type": "code",
      "execution_count": null,
      "id": "8a2315f2-e173-46bf-92a1-f0c931e0007d",
      "metadata": {
        "editable": true,
        "tags": [],
        "id": "8a2315f2-e173-46bf-92a1-f0c931e0007d"
      },
      "outputs": [],
      "source": [
        "trainer = Trainer(model=model,\n",
        "                 args = training_args,\n",
        "                 train_dataset=ds_split[\"train\"],\n",
        "                 eval_dataset= ds_split[\"test\"],\n",
        "                 data_collator = data_collator)"
      ]
    },
    {
      "cell_type": "markdown",
      "id": "5833996e-3d5a-458e-9466-d08e7adad214",
      "metadata": {
        "editable": true,
        "tags": [],
        "id": "5833996e-3d5a-458e-9466-d08e7adad214"
      },
      "source": [
        "Just call `.train()` method, sit back, and watch for OOM error :-)"
      ]
    },
    {
      "cell_type": "markdown",
      "id": "8c206648-42b6-48e3-9a81-3d88ad6c74fb",
      "metadata": {
        "editable": true,
        "tags": [],
        "id": "8c206648-42b6-48e3-9a81-3d88ad6c74fb"
      },
      "source": [
        "```python\n",
        "results = trainer.train()\n",
        "```"
      ]
    },
    {
      "cell_type": "markdown",
      "id": "00d31c8f-ff58-4593-a97f-1faabaf28757",
      "metadata": {
        "editable": true,
        "tags": [],
        "id": "00d31c8f-ff58-4593-a97f-1faabaf28757"
      },
      "source": [
        "<img src=\"https://raw.githubusercontent.com/Arunprakash-A/Modern-NLP-with-Hugging-Face/refs/heads/main/Notebooks/images/sample_out.png\">"
      ]
    },
    {
      "cell_type": "markdown",
      "id": "ec64543a-a447-45a6-a7a5-ae1a59089d12",
      "metadata": {
        "editable": true,
        "tags": [],
        "id": "ec64543a-a447-45a6-a7a5-ae1a59089d12"
      },
      "source": [
        "We ran the model on three different GPUs: <br>\n",
        "1. V100 with **32 GB** (no support for: tf32, bf16)\n",
        "2. 2xL4 **48 GB** (supports bf16,tf32)\n",
        "3. A node with A100 **80 GB** (supports bf16, tf32)"
      ]
    },
    {
      "cell_type": "markdown",
      "id": "0826c8bc-74f3-4493-9531-add5c17f1c6d",
      "metadata": {
        "editable": true,
        "tags": [],
        "id": "0826c8bc-74f3-4493-9531-add5c17f1c6d"
      },
      "source": [
        "<h1 style=\"color:Tomato;\"> Efficient Training </h1>"
      ]
    },
    {
      "cell_type": "markdown",
      "id": "54dd8b1b-ba41-404e-a0e4-5fb708d84eea",
      "metadata": {
        "editable": true,
        "tags": [],
        "id": "54dd8b1b-ba41-404e-a0e4-5fb708d84eea"
      },
      "source": [
        "We know that increasing the batch size helps achieve faster convergence. However, for a given GPU, how can we increase the batch size without raising an OOM error?"
      ]
    },
    {
      "cell_type": "markdown",
      "id": "c54d0830-1d7e-4a2a-8a9a-bc56a2a84d8d",
      "metadata": {
        "editable": true,
        "tags": [],
        "id": "c54d0830-1d7e-4a2a-8a9a-bc56a2a84d8d"
      },
      "source": [
        "How can we increase computation speed?"
      ]
    },
    {
      "cell_type": "markdown",
      "id": "f3935ca4-b977-47b0-b2c9-9168f848e60f",
      "metadata": {
        "editable": true,
        "tags": [],
        "id": "f3935ca4-b977-47b0-b2c9-9168f848e60f"
      },
      "source": [
        "Setting following arguments help us achieve these objectives <br>\n",
        "`tf32`: whether or not to use the tf32 datatype (for matrix multiplication) to increase computation speed.<br>\n",
        "`bf16`: whether or not to use bf16 (high dynamic range) for mixed precision training.<br>\n",
        "`fp16`: whether or not to use fp16 (low dynamic range) for mixed precision training. <br>\n",
        "`gradient_accumulation_steps`: Use gradient accumulation for increased batch size"
      ]
    },
    {
      "cell_type": "markdown",
      "id": "750370e4-3dc1-41b6-8ab5-d36f3fbd1ba9",
      "metadata": {
        "editable": true,
        "tags": [],
        "id": "750370e4-3dc1-41b6-8ab5-d36f3fbd1ba9"
      },
      "source": [
        "We will not go into the details; you may refer to this [page]((https://huggingface.co/docs/transformers/v4.29.1/en/perf_train_gpu_one)) on HF."
      ]
    },
    {
      "cell_type": "markdown",
      "id": "42190397-8a5c-4c12-a1a4-19fd57b5797a",
      "metadata": {
        "editable": true,
        "tags": [],
        "id": "42190397-8a5c-4c12-a1a4-19fd57b5797a"
      },
      "source": [
        "However, we have used a combination of these arguments to demonstrate how they are helpful."
      ]
    },
    {
      "cell_type": "markdown",
      "id": "0bf58fb1-49ef-4b44-9861-a3023e922258",
      "metadata": {
        "editable": true,
        "tags": [],
        "id": "0bf58fb1-49ef-4b44-9861-a3023e922258"
      },
      "source": [
        "<h1 style=\"color:Tomato;\"> Experiment Tracking with WandB </h1>"
      ]
    },
    {
      "cell_type": "code",
      "execution_count": null,
      "id": "06f96694-c969-4df2-881a-ebe31659b327",
      "metadata": {
        "editable": true,
        "tags": [],
        "id": "06f96694-c969-4df2-881a-ebe31659b327",
        "outputId": "4e9d8b46-e1dd-4dee-a6be-2a98f50f8d3f"
      },
      "outputs": [
        {
          "data": {
            "text/html": [
              "\n",
              "        <iframe\n",
              "            width=\"100%\"\n",
              "            height=\"600\"\n",
              "            src=\"https://wandb.ai/a-arun283-iit-madras/DLP-GPT2-Node-1/reports/DLP-PreTraining-GPT-2--Vmlldzo5NTgxMTUx\"\n",
              "            frameborder=\"0\"\n",
              "            allowfullscreen\n",
              "            \n",
              "        ></iframe>\n",
              "        "
            ],
            "text/plain": [
              "<IPython.lib.display.IFrame at 0x7efb79a66230>"
            ]
          },
          "execution_count": 23,
          "metadata": {},
          "output_type": "execute_result"
        }
      ],
      "source": [
        "from IPython.display import IFrame\n",
        "IFrame(\"https://wandb.ai/a-arun283-iit-madras/DLP-GPT2-Node-1/reports/DLP-PreTraining-GPT-2--Vmlldzo5NTgxMTUx\", width=\"100%\", height=600)"
      ]
    },
    {
      "cell_type": "markdown",
      "id": "b080e6b2-97d8-4d08-82af-cce9f1d62ccf",
      "metadata": {
        "editable": true,
        "tags": [],
        "id": "b080e6b2-97d8-4d08-82af-cce9f1d62ccf"
      },
      "source": [
        "<h1 style=\"color:Tomato;\"> Text Generation </h1>"
      ]
    },
    {
      "cell_type": "markdown",
      "id": "f80e1580-6246-4cf5-85c4-5128de1fc54a",
      "metadata": {
        "editable": true,
        "tags": [],
        "id": "f80e1580-6246-4cf5-85c4-5128de1fc54a"
      },
      "source": [
        "We can load the model with the pretrained weights, which now come from different checkpoints stored in the `out/checkpoint-xxxx/` directory."
      ]
    },
    {
      "cell_type": "code",
      "execution_count": null,
      "id": "fe8d4391-89fd-49a5-8bf9-85f05f9830cf",
      "metadata": {
        "editable": true,
        "tags": [],
        "id": "fe8d4391-89fd-49a5-8bf9-85f05f9830cf"
      },
      "outputs": [],
      "source": [
        "#after seeing 128(bs)*1024(n_ctxt)*1000(steps)=131 million tokens\n",
        "model =GPT2LMHeadModel.from_pretrained('out/checkpoint-1000/')"
      ]
    },
    {
      "cell_type": "markdown",
      "id": "477b37f2-150e-4041-8c04-c6b37f1a3cee",
      "metadata": {
        "editable": true,
        "tags": [],
        "id": "477b37f2-150e-4041-8c04-c6b37f1a3cee"
      },
      "source": [
        "**Note:** We must ensure that the input to the model is a PyTorch tensor"
      ]
    },
    {
      "cell_type": "code",
      "execution_count": null,
      "id": "e0bb789f-3c51-4fa0-b209-9e61ea30998e",
      "metadata": {
        "editable": true,
        "tags": [],
        "id": "e0bb789f-3c51-4fa0-b209-9e61ea30998e",
        "outputId": "65d01248-fcf8-4abc-c970-ecd20301a2d3"
      },
      "outputs": [
        {
          "name": "stdout",
          "output_type": "stream",
          "text": [
            "{'input_ids': tensor([[1616,  514,  423,  257, 1257, 1909,   13, 1867,  466,  345,  910,   30]]), 'attention_mask': tensor([[1, 1, 1, 1, 1, 1, 1, 1, 1, 1, 1, 1]])}\n"
          ]
        }
      ],
      "source": [
        "prompt = \"let us have a fun today. What do you say?\"\n",
        "inputs = tokenizer(prompt,return_tensors='pt',padding=True) # return torch tensor\n",
        "print(inputs)"
      ]
    },
    {
      "cell_type": "markdown",
      "id": "8bb0472e-424d-45f5-ab54-68f8cfae376c",
      "metadata": {
        "editable": true,
        "tags": [],
        "id": "8bb0472e-424d-45f5-ab54-68f8cfae376c"
      },
      "source": [
        "* Generate `100` tokens\n",
        "* Use `top-p` decoding strategy. Refer to Week 3 of [Introduction to Large Language Models](http://www.cse.iitm.ac.in/~miteshk/llm-course.html) for more information on various decoding strategies.\n",
        "* You may visit the [documentation](https://huggingface.co/docs/transformers/v4.45.1/en/generation_strategies#text-generation-strategies) to explore all available decoding strategies in HF"
      ]
    },
    {
      "cell_type": "markdown",
      "id": "15c0e1c4-6e75-4b63-9887-f501539fa296",
      "metadata": {
        "editable": true,
        "tags": [],
        "id": "15c0e1c4-6e75-4b63-9887-f501539fa296"
      },
      "source": [
        "We can call `.generate()` method of the model and pass the inputs (**inputs unpack all the keys (`input_ids`,`attention_mask`,..))"
      ]
    },
    {
      "cell_type": "code",
      "execution_count": null,
      "id": "9e325493-748f-4a16-add3-dd9ed47c04ff",
      "metadata": {
        "editable": true,
        "tags": [],
        "id": "9e325493-748f-4a16-add3-dd9ed47c04ff",
        "outputId": "454cca1e-506a-4fd7-e6cf-43de778b6f0d"
      },
      "outputs": [
        {
          "name": "stderr",
          "output_type": "stream",
          "text": [
            "Setting `pad_token_id` to `eos_token_id`:50256 for open-end generation.\n"
          ]
        },
        {
          "name": "stdout",
          "output_type": "stream",
          "text": [
            "tensor([[ 1616,   514,   423,   257,  1257,  1909,    13,  1867,   466,   345,\n",
            "           910,    30, 10148,    72,   531,   837,  7559,   475,   345,   765,\n",
            "           284,   307,   257,  1310,   517,   546,   340,   764,    72,   466,\n",
            "           299,   470,   761,   284,   651,   284,   766,   340,   764, 10148,\n",
            "           258,   705,    76,   407,   257,  1256,   286,   262,   835,   764,\n",
            "           258,   373,   257,  1310,   517,   764, 15506,   340,   373,   257,\n",
            "          1256,   764, 10148, 15506,   326,   345,   466,   299,   470,   307,\n",
            "           257,  1310,   764, 10148, 15506,   345,   547,   299,   470,   765,\n",
            "           284,   262,   938,  1755,   764, 10148, 15506,  1312,   705,   297,\n",
            "           307,   257,  1256,   286,   616,  1204,   764, 10148,    72,   531,\n",
            "           837,   290,   788,   339,   750,   299,   470,   765,   284,   262,\n",
            "          2156,   764]])\n"
          ]
        }
      ],
      "source": [
        "outputs = model.generate(**inputs, max_new_tokens=100, do_sample=True, top_k=10, top_p=0.95)\n",
        "print(outputs)"
      ]
    },
    {
      "cell_type": "markdown",
      "id": "e7507644-3575-49d0-abc0-a39a91f4445e",
      "metadata": {
        "editable": true,
        "tags": [],
        "id": "e7507644-3575-49d0-abc0-a39a91f4445e"
      },
      "source": [
        "First, we need to convert the predicted token_ids back to tokens, and then to words using the tokenizer's decoder."
      ]
    },
    {
      "cell_type": "code",
      "execution_count": null,
      "id": "62014bf2-f6af-4556-9c7f-dea329b1bf90",
      "metadata": {
        "editable": true,
        "tags": [],
        "id": "62014bf2-f6af-4556-9c7f-dea329b1bf90",
        "outputId": "fc3b1982-88d1-4565-efb0-76ae876b41dc"
      },
      "outputs": [
        {
          "data": {
            "text/plain": [
              "[\"let us have a fun today. What do you say? ''i said, `` but you want to be a little more about it.i don't need to get to see it. ''he'm not a lot of the way.he was a little more.`` it was a lot. ''`` that you don't be a little. ''`` you weren't want to the last night. ''`` i 'll be a lot of my life. ''i said, and then he didn't want to the house.\"]"
            ]
          },
          "execution_count": 27,
          "metadata": {},
          "output_type": "execute_result"
        }
      ],
      "source": [
        "tokenizer.batch_decode(outputs, skip_special_tokens=True)"
      ]
    },
    {
      "cell_type": "markdown",
      "id": "ab31fe4a-f4f2-4703-bea7-799b7938356f",
      "metadata": {
        "editable": true,
        "tags": [],
        "id": "ab31fe4a-f4f2-4703-bea7-799b7938356f"
      },
      "source": [
        "**Checkpoint-4000:** (after seeing 520 million tokens)"
      ]
    },
    {
      "cell_type": "code",
      "execution_count": null,
      "id": "d486618d-2e12-4a14-bd48-a1739a6cdcb3",
      "metadata": {
        "editable": true,
        "tags": [],
        "id": "d486618d-2e12-4a14-bd48-a1739a6cdcb3",
        "outputId": "1ff190cc-7a5f-495f-d119-ac3596aa6a18"
      },
      "outputs": [
        {
          "name": "stderr",
          "output_type": "stream",
          "text": [
            "Setting `pad_token_id` to `eos_token_id`:50256 for open-end generation.\n"
          ]
        },
        {
          "data": {
            "text/plain": [
              "[\"let us have a fun today. What do you say? ''`` what's going on? ''i'm a little bit, but it's all i'm sure i'm not going to know.`` what's going on? ''i ask, trying to get up with it.`` don't think of anything, '' i say, looking at him.`` i'm not going to be a big deal. ''he's still trying to make me feel the way out of my mouth.`` and i '\"]"
            ]
          },
          "execution_count": 28,
          "metadata": {},
          "output_type": "execute_result"
        }
      ],
      "source": [
        "model =GPT2LMHeadModel.from_pretrained('out/checkpoint-4000/')\n",
        "prompt = \"let us have a fun today. What do you say?\"\n",
        "inputs = tokenizer(prompt,return_tensors='pt',padding=True)\n",
        "outputs = model.generate(**inputs, max_new_tokens=100, do_sample=True, top_k=10, top_p=0.95)\n",
        "tokenizer.batch_decode(outputs, skip_special_tokens=True)"
      ]
    },
    {
      "cell_type": "markdown",
      "id": "e8ace163-024d-4fed-88b8-f784681ad8b6",
      "metadata": {
        "editable": true,
        "tags": [],
        "id": "e8ace163-024d-4fed-88b8-f784681ad8b6"
      },
      "source": [
        "**Checkpoint-8000:** (after seeing 1 billion tokens)"
      ]
    },
    {
      "cell_type": "code",
      "execution_count": null,
      "id": "a959370f-58d7-4cde-9827-fccb3eb4495a",
      "metadata": {
        "editable": true,
        "tags": [],
        "id": "a959370f-58d7-4cde-9827-fccb3eb4495a",
        "outputId": "06abcd2d-ea87-4988-8c81-fb1f904cf184"
      },
      "outputs": [
        {
          "name": "stderr",
          "output_type": "stream",
          "text": [
            "Setting `pad_token_id` to `eos_token_id`:50256 for open-end generation.\n"
          ]
        },
        {
          "data": {
            "text/plain": [
              "[\"let us have a fun today. What do you say? ''`` i know, '' i answered.`` i don't know how to start with you. ''`` i'm not going to have to tell you the truth. ''i nodded, trying to make a face of a smile.i didn't care if she was being an ass**le.i knew how long i 'd been in my life when i 'd been a man, and i had to make the right thing up to her.`` what? ''`` what\"]"
            ]
          },
          "execution_count": 29,
          "metadata": {},
          "output_type": "execute_result"
        }
      ],
      "source": [
        "model =GPT2LMHeadModel.from_pretrained('out/checkpoint-8185/')\n",
        "prompt = \"let us have a fun today. What do you say?\"\n",
        "inputs = tokenizer(prompt,return_tensors='pt',padding=True)\n",
        "outputs = model.generate(**inputs, max_new_tokens=100, do_sample=True, top_k=10, top_p=0.95)\n",
        "tokenizer.batch_decode(outputs, skip_special_tokens=True)"
      ]
    },
    {
      "cell_type": "code",
      "execution_count": null,
      "id": "a37f5ed1-e37c-44b9-adfe-d7e3efb936bc",
      "metadata": {
        "editable": true,
        "tags": [],
        "id": "a37f5ed1-e37c-44b9-adfe-d7e3efb936bc"
      },
      "outputs": [],
      "source": []
    }
  ],
  "metadata": {
    "kernelspec": {
      "display_name": "Python 3 (ipykernel)",
      "language": "python",
      "name": "python3"
    },
    "language_info": {
      "codemirror_mode": {
        "name": "ipython",
        "version": 3
      },
      "file_extension": ".py",
      "mimetype": "text/x-python",
      "name": "python",
      "nbconvert_exporter": "python",
      "pygments_lexer": "ipython3",
      "version": "3.10.12"
    },
    "colab": {
      "provenance": [],
      "include_colab_link": true
    },
    "widgets": {
      "application/vnd.jupyter.widget-state+json": {
        "9921a6a7473f4ff88a43ba1342d36438": {
          "model_module": "@jupyter-widgets/controls",
          "model_name": "HBoxModel",
          "model_module_version": "1.5.0",
          "state": {
            "_dom_classes": [],
            "_model_module": "@jupyter-widgets/controls",
            "_model_module_version": "1.5.0",
            "_model_name": "HBoxModel",
            "_view_count": null,
            "_view_module": "@jupyter-widgets/controls",
            "_view_module_version": "1.5.0",
            "_view_name": "HBoxView",
            "box_style": "",
            "children": [
              "IPY_MODEL_25dd2990c9bd43e4aee5628bed6445de",
              "IPY_MODEL_6729a87897b4497eb981fd9916e10dff",
              "IPY_MODEL_3d027d40a65b428a9c63dbba998e8e1c"
            ],
            "layout": "IPY_MODEL_aeae9d6f2a7f480ebf41c6a3f7a8c3f7"
          }
        },
        "25dd2990c9bd43e4aee5628bed6445de": {
          "model_module": "@jupyter-widgets/controls",
          "model_name": "HTMLModel",
          "model_module_version": "1.5.0",
          "state": {
            "_dom_classes": [],
            "_model_module": "@jupyter-widgets/controls",
            "_model_module_version": "1.5.0",
            "_model_name": "HTMLModel",
            "_view_count": null,
            "_view_module": "@jupyter-widgets/controls",
            "_view_module_version": "1.5.0",
            "_view_name": "HTMLView",
            "description": "",
            "description_tooltip": null,
            "layout": "IPY_MODEL_eaaff1bd0d274d4c975e4f03047558e1",
            "placeholder": "​",
            "style": "IPY_MODEL_4513aba963de4735bbc7625e0a0633f0",
            "value": "tokenizer_config.json: 100%"
          }
        },
        "6729a87897b4497eb981fd9916e10dff": {
          "model_module": "@jupyter-widgets/controls",
          "model_name": "FloatProgressModel",
          "model_module_version": "1.5.0",
          "state": {
            "_dom_classes": [],
            "_model_module": "@jupyter-widgets/controls",
            "_model_module_version": "1.5.0",
            "_model_name": "FloatProgressModel",
            "_view_count": null,
            "_view_module": "@jupyter-widgets/controls",
            "_view_module_version": "1.5.0",
            "_view_name": "ProgressView",
            "bar_style": "success",
            "description": "",
            "description_tooltip": null,
            "layout": "IPY_MODEL_b480933bb22a486198cd2aacfc9d0518",
            "max": 26,
            "min": 0,
            "orientation": "horizontal",
            "style": "IPY_MODEL_48c462fc2fe24638955485f75049d1ce",
            "value": 26
          }
        },
        "3d027d40a65b428a9c63dbba998e8e1c": {
          "model_module": "@jupyter-widgets/controls",
          "model_name": "HTMLModel",
          "model_module_version": "1.5.0",
          "state": {
            "_dom_classes": [],
            "_model_module": "@jupyter-widgets/controls",
            "_model_module_version": "1.5.0",
            "_model_name": "HTMLModel",
            "_view_count": null,
            "_view_module": "@jupyter-widgets/controls",
            "_view_module_version": "1.5.0",
            "_view_name": "HTMLView",
            "description": "",
            "description_tooltip": null,
            "layout": "IPY_MODEL_283fb9c0e95a42cbba1484a4f5edf799",
            "placeholder": "​",
            "style": "IPY_MODEL_ba244c703da84edb91cd24bdc32d54d3",
            "value": " 26.0/26.0 [00:00&lt;00:00, 1.18kB/s]"
          }
        },
        "aeae9d6f2a7f480ebf41c6a3f7a8c3f7": {
          "model_module": "@jupyter-widgets/base",
          "model_name": "LayoutModel",
          "model_module_version": "1.2.0",
          "state": {
            "_model_module": "@jupyter-widgets/base",
            "_model_module_version": "1.2.0",
            "_model_name": "LayoutModel",
            "_view_count": null,
            "_view_module": "@jupyter-widgets/base",
            "_view_module_version": "1.2.0",
            "_view_name": "LayoutView",
            "align_content": null,
            "align_items": null,
            "align_self": null,
            "border": null,
            "bottom": null,
            "display": null,
            "flex": null,
            "flex_flow": null,
            "grid_area": null,
            "grid_auto_columns": null,
            "grid_auto_flow": null,
            "grid_auto_rows": null,
            "grid_column": null,
            "grid_gap": null,
            "grid_row": null,
            "grid_template_areas": null,
            "grid_template_columns": null,
            "grid_template_rows": null,
            "height": null,
            "justify_content": null,
            "justify_items": null,
            "left": null,
            "margin": null,
            "max_height": null,
            "max_width": null,
            "min_height": null,
            "min_width": null,
            "object_fit": null,
            "object_position": null,
            "order": null,
            "overflow": null,
            "overflow_x": null,
            "overflow_y": null,
            "padding": null,
            "right": null,
            "top": null,
            "visibility": null,
            "width": null
          }
        },
        "eaaff1bd0d274d4c975e4f03047558e1": {
          "model_module": "@jupyter-widgets/base",
          "model_name": "LayoutModel",
          "model_module_version": "1.2.0",
          "state": {
            "_model_module": "@jupyter-widgets/base",
            "_model_module_version": "1.2.0",
            "_model_name": "LayoutModel",
            "_view_count": null,
            "_view_module": "@jupyter-widgets/base",
            "_view_module_version": "1.2.0",
            "_view_name": "LayoutView",
            "align_content": null,
            "align_items": null,
            "align_self": null,
            "border": null,
            "bottom": null,
            "display": null,
            "flex": null,
            "flex_flow": null,
            "grid_area": null,
            "grid_auto_columns": null,
            "grid_auto_flow": null,
            "grid_auto_rows": null,
            "grid_column": null,
            "grid_gap": null,
            "grid_row": null,
            "grid_template_areas": null,
            "grid_template_columns": null,
            "grid_template_rows": null,
            "height": null,
            "justify_content": null,
            "justify_items": null,
            "left": null,
            "margin": null,
            "max_height": null,
            "max_width": null,
            "min_height": null,
            "min_width": null,
            "object_fit": null,
            "object_position": null,
            "order": null,
            "overflow": null,
            "overflow_x": null,
            "overflow_y": null,
            "padding": null,
            "right": null,
            "top": null,
            "visibility": null,
            "width": null
          }
        },
        "4513aba963de4735bbc7625e0a0633f0": {
          "model_module": "@jupyter-widgets/controls",
          "model_name": "DescriptionStyleModel",
          "model_module_version": "1.5.0",
          "state": {
            "_model_module": "@jupyter-widgets/controls",
            "_model_module_version": "1.5.0",
            "_model_name": "DescriptionStyleModel",
            "_view_count": null,
            "_view_module": "@jupyter-widgets/base",
            "_view_module_version": "1.2.0",
            "_view_name": "StyleView",
            "description_width": ""
          }
        },
        "b480933bb22a486198cd2aacfc9d0518": {
          "model_module": "@jupyter-widgets/base",
          "model_name": "LayoutModel",
          "model_module_version": "1.2.0",
          "state": {
            "_model_module": "@jupyter-widgets/base",
            "_model_module_version": "1.2.0",
            "_model_name": "LayoutModel",
            "_view_count": null,
            "_view_module": "@jupyter-widgets/base",
            "_view_module_version": "1.2.0",
            "_view_name": "LayoutView",
            "align_content": null,
            "align_items": null,
            "align_self": null,
            "border": null,
            "bottom": null,
            "display": null,
            "flex": null,
            "flex_flow": null,
            "grid_area": null,
            "grid_auto_columns": null,
            "grid_auto_flow": null,
            "grid_auto_rows": null,
            "grid_column": null,
            "grid_gap": null,
            "grid_row": null,
            "grid_template_areas": null,
            "grid_template_columns": null,
            "grid_template_rows": null,
            "height": null,
            "justify_content": null,
            "justify_items": null,
            "left": null,
            "margin": null,
            "max_height": null,
            "max_width": null,
            "min_height": null,
            "min_width": null,
            "object_fit": null,
            "object_position": null,
            "order": null,
            "overflow": null,
            "overflow_x": null,
            "overflow_y": null,
            "padding": null,
            "right": null,
            "top": null,
            "visibility": null,
            "width": null
          }
        },
        "48c462fc2fe24638955485f75049d1ce": {
          "model_module": "@jupyter-widgets/controls",
          "model_name": "ProgressStyleModel",
          "model_module_version": "1.5.0",
          "state": {
            "_model_module": "@jupyter-widgets/controls",
            "_model_module_version": "1.5.0",
            "_model_name": "ProgressStyleModel",
            "_view_count": null,
            "_view_module": "@jupyter-widgets/base",
            "_view_module_version": "1.2.0",
            "_view_name": "StyleView",
            "bar_color": null,
            "description_width": ""
          }
        },
        "283fb9c0e95a42cbba1484a4f5edf799": {
          "model_module": "@jupyter-widgets/base",
          "model_name": "LayoutModel",
          "model_module_version": "1.2.0",
          "state": {
            "_model_module": "@jupyter-widgets/base",
            "_model_module_version": "1.2.0",
            "_model_name": "LayoutModel",
            "_view_count": null,
            "_view_module": "@jupyter-widgets/base",
            "_view_module_version": "1.2.0",
            "_view_name": "LayoutView",
            "align_content": null,
            "align_items": null,
            "align_self": null,
            "border": null,
            "bottom": null,
            "display": null,
            "flex": null,
            "flex_flow": null,
            "grid_area": null,
            "grid_auto_columns": null,
            "grid_auto_flow": null,
            "grid_auto_rows": null,
            "grid_column": null,
            "grid_gap": null,
            "grid_row": null,
            "grid_template_areas": null,
            "grid_template_columns": null,
            "grid_template_rows": null,
            "height": null,
            "justify_content": null,
            "justify_items": null,
            "left": null,
            "margin": null,
            "max_height": null,
            "max_width": null,
            "min_height": null,
            "min_width": null,
            "object_fit": null,
            "object_position": null,
            "order": null,
            "overflow": null,
            "overflow_x": null,
            "overflow_y": null,
            "padding": null,
            "right": null,
            "top": null,
            "visibility": null,
            "width": null
          }
        },
        "ba244c703da84edb91cd24bdc32d54d3": {
          "model_module": "@jupyter-widgets/controls",
          "model_name": "DescriptionStyleModel",
          "model_module_version": "1.5.0",
          "state": {
            "_model_module": "@jupyter-widgets/controls",
            "_model_module_version": "1.5.0",
            "_model_name": "DescriptionStyleModel",
            "_view_count": null,
            "_view_module": "@jupyter-widgets/base",
            "_view_module_version": "1.2.0",
            "_view_name": "StyleView",
            "description_width": ""
          }
        },
        "fd46cbd4450e4a08a6b29e02c5fdd65b": {
          "model_module": "@jupyter-widgets/controls",
          "model_name": "HBoxModel",
          "model_module_version": "1.5.0",
          "state": {
            "_dom_classes": [],
            "_model_module": "@jupyter-widgets/controls",
            "_model_module_version": "1.5.0",
            "_model_name": "HBoxModel",
            "_view_count": null,
            "_view_module": "@jupyter-widgets/controls",
            "_view_module_version": "1.5.0",
            "_view_name": "HBoxView",
            "box_style": "",
            "children": [
              "IPY_MODEL_15cc72e8ba694bffa0ba22c5b417a477",
              "IPY_MODEL_e88c2729194541d1a1a1a47f8291db1c",
              "IPY_MODEL_d45f3b65ed9d4b0a958904f4c4da435f"
            ],
            "layout": "IPY_MODEL_d4aef808473f4f24b3c32344ad2875ee"
          }
        },
        "15cc72e8ba694bffa0ba22c5b417a477": {
          "model_module": "@jupyter-widgets/controls",
          "model_name": "HTMLModel",
          "model_module_version": "1.5.0",
          "state": {
            "_dom_classes": [],
            "_model_module": "@jupyter-widgets/controls",
            "_model_module_version": "1.5.0",
            "_model_name": "HTMLModel",
            "_view_count": null,
            "_view_module": "@jupyter-widgets/controls",
            "_view_module_version": "1.5.0",
            "_view_name": "HTMLView",
            "description": "",
            "description_tooltip": null,
            "layout": "IPY_MODEL_a0a6345e97044c519fe0394681b7018a",
            "placeholder": "​",
            "style": "IPY_MODEL_41da1d6221ed4c549e8740df2286034b",
            "value": "config.json: 100%"
          }
        },
        "e88c2729194541d1a1a1a47f8291db1c": {
          "model_module": "@jupyter-widgets/controls",
          "model_name": "FloatProgressModel",
          "model_module_version": "1.5.0",
          "state": {
            "_dom_classes": [],
            "_model_module": "@jupyter-widgets/controls",
            "_model_module_version": "1.5.0",
            "_model_name": "FloatProgressModel",
            "_view_count": null,
            "_view_module": "@jupyter-widgets/controls",
            "_view_module_version": "1.5.0",
            "_view_name": "ProgressView",
            "bar_style": "success",
            "description": "",
            "description_tooltip": null,
            "layout": "IPY_MODEL_d7814f4cc4ea4d2b9be36fa82c0529a5",
            "max": 665,
            "min": 0,
            "orientation": "horizontal",
            "style": "IPY_MODEL_9f66bf31ea064f42ba6abb4811fa0c10",
            "value": 665
          }
        },
        "d45f3b65ed9d4b0a958904f4c4da435f": {
          "model_module": "@jupyter-widgets/controls",
          "model_name": "HTMLModel",
          "model_module_version": "1.5.0",
          "state": {
            "_dom_classes": [],
            "_model_module": "@jupyter-widgets/controls",
            "_model_module_version": "1.5.0",
            "_model_name": "HTMLModel",
            "_view_count": null,
            "_view_module": "@jupyter-widgets/controls",
            "_view_module_version": "1.5.0",
            "_view_name": "HTMLView",
            "description": "",
            "description_tooltip": null,
            "layout": "IPY_MODEL_f85b668949a544f1b2ff410e9c0a58c1",
            "placeholder": "​",
            "style": "IPY_MODEL_1d1f40221dde428da2d84822027d3ef7",
            "value": " 665/665 [00:00&lt;00:00, 41.0kB/s]"
          }
        },
        "d4aef808473f4f24b3c32344ad2875ee": {
          "model_module": "@jupyter-widgets/base",
          "model_name": "LayoutModel",
          "model_module_version": "1.2.0",
          "state": {
            "_model_module": "@jupyter-widgets/base",
            "_model_module_version": "1.2.0",
            "_model_name": "LayoutModel",
            "_view_count": null,
            "_view_module": "@jupyter-widgets/base",
            "_view_module_version": "1.2.0",
            "_view_name": "LayoutView",
            "align_content": null,
            "align_items": null,
            "align_self": null,
            "border": null,
            "bottom": null,
            "display": null,
            "flex": null,
            "flex_flow": null,
            "grid_area": null,
            "grid_auto_columns": null,
            "grid_auto_flow": null,
            "grid_auto_rows": null,
            "grid_column": null,
            "grid_gap": null,
            "grid_row": null,
            "grid_template_areas": null,
            "grid_template_columns": null,
            "grid_template_rows": null,
            "height": null,
            "justify_content": null,
            "justify_items": null,
            "left": null,
            "margin": null,
            "max_height": null,
            "max_width": null,
            "min_height": null,
            "min_width": null,
            "object_fit": null,
            "object_position": null,
            "order": null,
            "overflow": null,
            "overflow_x": null,
            "overflow_y": null,
            "padding": null,
            "right": null,
            "top": null,
            "visibility": null,
            "width": null
          }
        },
        "a0a6345e97044c519fe0394681b7018a": {
          "model_module": "@jupyter-widgets/base",
          "model_name": "LayoutModel",
          "model_module_version": "1.2.0",
          "state": {
            "_model_module": "@jupyter-widgets/base",
            "_model_module_version": "1.2.0",
            "_model_name": "LayoutModel",
            "_view_count": null,
            "_view_module": "@jupyter-widgets/base",
            "_view_module_version": "1.2.0",
            "_view_name": "LayoutView",
            "align_content": null,
            "align_items": null,
            "align_self": null,
            "border": null,
            "bottom": null,
            "display": null,
            "flex": null,
            "flex_flow": null,
            "grid_area": null,
            "grid_auto_columns": null,
            "grid_auto_flow": null,
            "grid_auto_rows": null,
            "grid_column": null,
            "grid_gap": null,
            "grid_row": null,
            "grid_template_areas": null,
            "grid_template_columns": null,
            "grid_template_rows": null,
            "height": null,
            "justify_content": null,
            "justify_items": null,
            "left": null,
            "margin": null,
            "max_height": null,
            "max_width": null,
            "min_height": null,
            "min_width": null,
            "object_fit": null,
            "object_position": null,
            "order": null,
            "overflow": null,
            "overflow_x": null,
            "overflow_y": null,
            "padding": null,
            "right": null,
            "top": null,
            "visibility": null,
            "width": null
          }
        },
        "41da1d6221ed4c549e8740df2286034b": {
          "model_module": "@jupyter-widgets/controls",
          "model_name": "DescriptionStyleModel",
          "model_module_version": "1.5.0",
          "state": {
            "_model_module": "@jupyter-widgets/controls",
            "_model_module_version": "1.5.0",
            "_model_name": "DescriptionStyleModel",
            "_view_count": null,
            "_view_module": "@jupyter-widgets/base",
            "_view_module_version": "1.2.0",
            "_view_name": "StyleView",
            "description_width": ""
          }
        },
        "d7814f4cc4ea4d2b9be36fa82c0529a5": {
          "model_module": "@jupyter-widgets/base",
          "model_name": "LayoutModel",
          "model_module_version": "1.2.0",
          "state": {
            "_model_module": "@jupyter-widgets/base",
            "_model_module_version": "1.2.0",
            "_model_name": "LayoutModel",
            "_view_count": null,
            "_view_module": "@jupyter-widgets/base",
            "_view_module_version": "1.2.0",
            "_view_name": "LayoutView",
            "align_content": null,
            "align_items": null,
            "align_self": null,
            "border": null,
            "bottom": null,
            "display": null,
            "flex": null,
            "flex_flow": null,
            "grid_area": null,
            "grid_auto_columns": null,
            "grid_auto_flow": null,
            "grid_auto_rows": null,
            "grid_column": null,
            "grid_gap": null,
            "grid_row": null,
            "grid_template_areas": null,
            "grid_template_columns": null,
            "grid_template_rows": null,
            "height": null,
            "justify_content": null,
            "justify_items": null,
            "left": null,
            "margin": null,
            "max_height": null,
            "max_width": null,
            "min_height": null,
            "min_width": null,
            "object_fit": null,
            "object_position": null,
            "order": null,
            "overflow": null,
            "overflow_x": null,
            "overflow_y": null,
            "padding": null,
            "right": null,
            "top": null,
            "visibility": null,
            "width": null
          }
        },
        "9f66bf31ea064f42ba6abb4811fa0c10": {
          "model_module": "@jupyter-widgets/controls",
          "model_name": "ProgressStyleModel",
          "model_module_version": "1.5.0",
          "state": {
            "_model_module": "@jupyter-widgets/controls",
            "_model_module_version": "1.5.0",
            "_model_name": "ProgressStyleModel",
            "_view_count": null,
            "_view_module": "@jupyter-widgets/base",
            "_view_module_version": "1.2.0",
            "_view_name": "StyleView",
            "bar_color": null,
            "description_width": ""
          }
        },
        "f85b668949a544f1b2ff410e9c0a58c1": {
          "model_module": "@jupyter-widgets/base",
          "model_name": "LayoutModel",
          "model_module_version": "1.2.0",
          "state": {
            "_model_module": "@jupyter-widgets/base",
            "_model_module_version": "1.2.0",
            "_model_name": "LayoutModel",
            "_view_count": null,
            "_view_module": "@jupyter-widgets/base",
            "_view_module_version": "1.2.0",
            "_view_name": "LayoutView",
            "align_content": null,
            "align_items": null,
            "align_self": null,
            "border": null,
            "bottom": null,
            "display": null,
            "flex": null,
            "flex_flow": null,
            "grid_area": null,
            "grid_auto_columns": null,
            "grid_auto_flow": null,
            "grid_auto_rows": null,
            "grid_column": null,
            "grid_gap": null,
            "grid_row": null,
            "grid_template_areas": null,
            "grid_template_columns": null,
            "grid_template_rows": null,
            "height": null,
            "justify_content": null,
            "justify_items": null,
            "left": null,
            "margin": null,
            "max_height": null,
            "max_width": null,
            "min_height": null,
            "min_width": null,
            "object_fit": null,
            "object_position": null,
            "order": null,
            "overflow": null,
            "overflow_x": null,
            "overflow_y": null,
            "padding": null,
            "right": null,
            "top": null,
            "visibility": null,
            "width": null
          }
        },
        "1d1f40221dde428da2d84822027d3ef7": {
          "model_module": "@jupyter-widgets/controls",
          "model_name": "DescriptionStyleModel",
          "model_module_version": "1.5.0",
          "state": {
            "_model_module": "@jupyter-widgets/controls",
            "_model_module_version": "1.5.0",
            "_model_name": "DescriptionStyleModel",
            "_view_count": null,
            "_view_module": "@jupyter-widgets/base",
            "_view_module_version": "1.2.0",
            "_view_name": "StyleView",
            "description_width": ""
          }
        },
        "1909033c3a744b73b9d44b6bd467cf66": {
          "model_module": "@jupyter-widgets/controls",
          "model_name": "HBoxModel",
          "model_module_version": "1.5.0",
          "state": {
            "_dom_classes": [],
            "_model_module": "@jupyter-widgets/controls",
            "_model_module_version": "1.5.0",
            "_model_name": "HBoxModel",
            "_view_count": null,
            "_view_module": "@jupyter-widgets/controls",
            "_view_module_version": "1.5.0",
            "_view_name": "HBoxView",
            "box_style": "",
            "children": [
              "IPY_MODEL_919037a49bb8420f87ad02659ba549fa",
              "IPY_MODEL_eb0d006f633744f7958e16cf9e8968fe",
              "IPY_MODEL_d176f4cd842e4dba8dcb92ed18cd7ca9"
            ],
            "layout": "IPY_MODEL_e7291b4281b54c96b99e806f07368158"
          }
        },
        "919037a49bb8420f87ad02659ba549fa": {
          "model_module": "@jupyter-widgets/controls",
          "model_name": "HTMLModel",
          "model_module_version": "1.5.0",
          "state": {
            "_dom_classes": [],
            "_model_module": "@jupyter-widgets/controls",
            "_model_module_version": "1.5.0",
            "_model_name": "HTMLModel",
            "_view_count": null,
            "_view_module": "@jupyter-widgets/controls",
            "_view_module_version": "1.5.0",
            "_view_name": "HTMLView",
            "description": "",
            "description_tooltip": null,
            "layout": "IPY_MODEL_7190a6d71da84a05bdcf8627163b4a7a",
            "placeholder": "​",
            "style": "IPY_MODEL_af68d9c0073549a19f1a8cea3ee4acfe",
            "value": "vocab.json: 100%"
          }
        },
        "eb0d006f633744f7958e16cf9e8968fe": {
          "model_module": "@jupyter-widgets/controls",
          "model_name": "FloatProgressModel",
          "model_module_version": "1.5.0",
          "state": {
            "_dom_classes": [],
            "_model_module": "@jupyter-widgets/controls",
            "_model_module_version": "1.5.0",
            "_model_name": "FloatProgressModel",
            "_view_count": null,
            "_view_module": "@jupyter-widgets/controls",
            "_view_module_version": "1.5.0",
            "_view_name": "ProgressView",
            "bar_style": "success",
            "description": "",
            "description_tooltip": null,
            "layout": "IPY_MODEL_de8a13367f2f4c7fa759bd07c74d29c4",
            "max": 1042301,
            "min": 0,
            "orientation": "horizontal",
            "style": "IPY_MODEL_25688ced538542c1b5fc2805b8c18498",
            "value": 1042301
          }
        },
        "d176f4cd842e4dba8dcb92ed18cd7ca9": {
          "model_module": "@jupyter-widgets/controls",
          "model_name": "HTMLModel",
          "model_module_version": "1.5.0",
          "state": {
            "_dom_classes": [],
            "_model_module": "@jupyter-widgets/controls",
            "_model_module_version": "1.5.0",
            "_model_name": "HTMLModel",
            "_view_count": null,
            "_view_module": "@jupyter-widgets/controls",
            "_view_module_version": "1.5.0",
            "_view_name": "HTMLView",
            "description": "",
            "description_tooltip": null,
            "layout": "IPY_MODEL_82cc25854e634b24bf51bd0b723c2a84",
            "placeholder": "​",
            "style": "IPY_MODEL_3a4b705569e346e99e30a25d78047cd5",
            "value": " 1.04M/1.04M [00:00&lt;00:00, 5.27MB/s]"
          }
        },
        "e7291b4281b54c96b99e806f07368158": {
          "model_module": "@jupyter-widgets/base",
          "model_name": "LayoutModel",
          "model_module_version": "1.2.0",
          "state": {
            "_model_module": "@jupyter-widgets/base",
            "_model_module_version": "1.2.0",
            "_model_name": "LayoutModel",
            "_view_count": null,
            "_view_module": "@jupyter-widgets/base",
            "_view_module_version": "1.2.0",
            "_view_name": "LayoutView",
            "align_content": null,
            "align_items": null,
            "align_self": null,
            "border": null,
            "bottom": null,
            "display": null,
            "flex": null,
            "flex_flow": null,
            "grid_area": null,
            "grid_auto_columns": null,
            "grid_auto_flow": null,
            "grid_auto_rows": null,
            "grid_column": null,
            "grid_gap": null,
            "grid_row": null,
            "grid_template_areas": null,
            "grid_template_columns": null,
            "grid_template_rows": null,
            "height": null,
            "justify_content": null,
            "justify_items": null,
            "left": null,
            "margin": null,
            "max_height": null,
            "max_width": null,
            "min_height": null,
            "min_width": null,
            "object_fit": null,
            "object_position": null,
            "order": null,
            "overflow": null,
            "overflow_x": null,
            "overflow_y": null,
            "padding": null,
            "right": null,
            "top": null,
            "visibility": null,
            "width": null
          }
        },
        "7190a6d71da84a05bdcf8627163b4a7a": {
          "model_module": "@jupyter-widgets/base",
          "model_name": "LayoutModel",
          "model_module_version": "1.2.0",
          "state": {
            "_model_module": "@jupyter-widgets/base",
            "_model_module_version": "1.2.0",
            "_model_name": "LayoutModel",
            "_view_count": null,
            "_view_module": "@jupyter-widgets/base",
            "_view_module_version": "1.2.0",
            "_view_name": "LayoutView",
            "align_content": null,
            "align_items": null,
            "align_self": null,
            "border": null,
            "bottom": null,
            "display": null,
            "flex": null,
            "flex_flow": null,
            "grid_area": null,
            "grid_auto_columns": null,
            "grid_auto_flow": null,
            "grid_auto_rows": null,
            "grid_column": null,
            "grid_gap": null,
            "grid_row": null,
            "grid_template_areas": null,
            "grid_template_columns": null,
            "grid_template_rows": null,
            "height": null,
            "justify_content": null,
            "justify_items": null,
            "left": null,
            "margin": null,
            "max_height": null,
            "max_width": null,
            "min_height": null,
            "min_width": null,
            "object_fit": null,
            "object_position": null,
            "order": null,
            "overflow": null,
            "overflow_x": null,
            "overflow_y": null,
            "padding": null,
            "right": null,
            "top": null,
            "visibility": null,
            "width": null
          }
        },
        "af68d9c0073549a19f1a8cea3ee4acfe": {
          "model_module": "@jupyter-widgets/controls",
          "model_name": "DescriptionStyleModel",
          "model_module_version": "1.5.0",
          "state": {
            "_model_module": "@jupyter-widgets/controls",
            "_model_module_version": "1.5.0",
            "_model_name": "DescriptionStyleModel",
            "_view_count": null,
            "_view_module": "@jupyter-widgets/base",
            "_view_module_version": "1.2.0",
            "_view_name": "StyleView",
            "description_width": ""
          }
        },
        "de8a13367f2f4c7fa759bd07c74d29c4": {
          "model_module": "@jupyter-widgets/base",
          "model_name": "LayoutModel",
          "model_module_version": "1.2.0",
          "state": {
            "_model_module": "@jupyter-widgets/base",
            "_model_module_version": "1.2.0",
            "_model_name": "LayoutModel",
            "_view_count": null,
            "_view_module": "@jupyter-widgets/base",
            "_view_module_version": "1.2.0",
            "_view_name": "LayoutView",
            "align_content": null,
            "align_items": null,
            "align_self": null,
            "border": null,
            "bottom": null,
            "display": null,
            "flex": null,
            "flex_flow": null,
            "grid_area": null,
            "grid_auto_columns": null,
            "grid_auto_flow": null,
            "grid_auto_rows": null,
            "grid_column": null,
            "grid_gap": null,
            "grid_row": null,
            "grid_template_areas": null,
            "grid_template_columns": null,
            "grid_template_rows": null,
            "height": null,
            "justify_content": null,
            "justify_items": null,
            "left": null,
            "margin": null,
            "max_height": null,
            "max_width": null,
            "min_height": null,
            "min_width": null,
            "object_fit": null,
            "object_position": null,
            "order": null,
            "overflow": null,
            "overflow_x": null,
            "overflow_y": null,
            "padding": null,
            "right": null,
            "top": null,
            "visibility": null,
            "width": null
          }
        },
        "25688ced538542c1b5fc2805b8c18498": {
          "model_module": "@jupyter-widgets/controls",
          "model_name": "ProgressStyleModel",
          "model_module_version": "1.5.0",
          "state": {
            "_model_module": "@jupyter-widgets/controls",
            "_model_module_version": "1.5.0",
            "_model_name": "ProgressStyleModel",
            "_view_count": null,
            "_view_module": "@jupyter-widgets/base",
            "_view_module_version": "1.2.0",
            "_view_name": "StyleView",
            "bar_color": null,
            "description_width": ""
          }
        },
        "82cc25854e634b24bf51bd0b723c2a84": {
          "model_module": "@jupyter-widgets/base",
          "model_name": "LayoutModel",
          "model_module_version": "1.2.0",
          "state": {
            "_model_module": "@jupyter-widgets/base",
            "_model_module_version": "1.2.0",
            "_model_name": "LayoutModel",
            "_view_count": null,
            "_view_module": "@jupyter-widgets/base",
            "_view_module_version": "1.2.0",
            "_view_name": "LayoutView",
            "align_content": null,
            "align_items": null,
            "align_self": null,
            "border": null,
            "bottom": null,
            "display": null,
            "flex": null,
            "flex_flow": null,
            "grid_area": null,
            "grid_auto_columns": null,
            "grid_auto_flow": null,
            "grid_auto_rows": null,
            "grid_column": null,
            "grid_gap": null,
            "grid_row": null,
            "grid_template_areas": null,
            "grid_template_columns": null,
            "grid_template_rows": null,
            "height": null,
            "justify_content": null,
            "justify_items": null,
            "left": null,
            "margin": null,
            "max_height": null,
            "max_width": null,
            "min_height": null,
            "min_width": null,
            "object_fit": null,
            "object_position": null,
            "order": null,
            "overflow": null,
            "overflow_x": null,
            "overflow_y": null,
            "padding": null,
            "right": null,
            "top": null,
            "visibility": null,
            "width": null
          }
        },
        "3a4b705569e346e99e30a25d78047cd5": {
          "model_module": "@jupyter-widgets/controls",
          "model_name": "DescriptionStyleModel",
          "model_module_version": "1.5.0",
          "state": {
            "_model_module": "@jupyter-widgets/controls",
            "_model_module_version": "1.5.0",
            "_model_name": "DescriptionStyleModel",
            "_view_count": null,
            "_view_module": "@jupyter-widgets/base",
            "_view_module_version": "1.2.0",
            "_view_name": "StyleView",
            "description_width": ""
          }
        },
        "0a062dda081b4eb5a7da02a3699f9964": {
          "model_module": "@jupyter-widgets/controls",
          "model_name": "HBoxModel",
          "model_module_version": "1.5.0",
          "state": {
            "_dom_classes": [],
            "_model_module": "@jupyter-widgets/controls",
            "_model_module_version": "1.5.0",
            "_model_name": "HBoxModel",
            "_view_count": null,
            "_view_module": "@jupyter-widgets/controls",
            "_view_module_version": "1.5.0",
            "_view_name": "HBoxView",
            "box_style": "",
            "children": [
              "IPY_MODEL_3c0bdbe8d30a453e8243c8a95f53839d",
              "IPY_MODEL_1826b9b134fc41e2abc86ca337012c53",
              "IPY_MODEL_bfabe272b532481dbefd78b61e294591"
            ],
            "layout": "IPY_MODEL_74b620ae8bcf4e8783b8f0979e5a0be1"
          }
        },
        "3c0bdbe8d30a453e8243c8a95f53839d": {
          "model_module": "@jupyter-widgets/controls",
          "model_name": "HTMLModel",
          "model_module_version": "1.5.0",
          "state": {
            "_dom_classes": [],
            "_model_module": "@jupyter-widgets/controls",
            "_model_module_version": "1.5.0",
            "_model_name": "HTMLModel",
            "_view_count": null,
            "_view_module": "@jupyter-widgets/controls",
            "_view_module_version": "1.5.0",
            "_view_name": "HTMLView",
            "description": "",
            "description_tooltip": null,
            "layout": "IPY_MODEL_876d108f065d46a2801de3569f6960f1",
            "placeholder": "​",
            "style": "IPY_MODEL_db7d34985ba04702bdafab2793355d95",
            "value": "merges.txt: 100%"
          }
        },
        "1826b9b134fc41e2abc86ca337012c53": {
          "model_module": "@jupyter-widgets/controls",
          "model_name": "FloatProgressModel",
          "model_module_version": "1.5.0",
          "state": {
            "_dom_classes": [],
            "_model_module": "@jupyter-widgets/controls",
            "_model_module_version": "1.5.0",
            "_model_name": "FloatProgressModel",
            "_view_count": null,
            "_view_module": "@jupyter-widgets/controls",
            "_view_module_version": "1.5.0",
            "_view_name": "ProgressView",
            "bar_style": "success",
            "description": "",
            "description_tooltip": null,
            "layout": "IPY_MODEL_a3ff998f0cc448f7b3b5551d14b1357a",
            "max": 456318,
            "min": 0,
            "orientation": "horizontal",
            "style": "IPY_MODEL_35fd5393e14648f796025135e5cfa565",
            "value": 456318
          }
        },
        "bfabe272b532481dbefd78b61e294591": {
          "model_module": "@jupyter-widgets/controls",
          "model_name": "HTMLModel",
          "model_module_version": "1.5.0",
          "state": {
            "_dom_classes": [],
            "_model_module": "@jupyter-widgets/controls",
            "_model_module_version": "1.5.0",
            "_model_name": "HTMLModel",
            "_view_count": null,
            "_view_module": "@jupyter-widgets/controls",
            "_view_module_version": "1.5.0",
            "_view_name": "HTMLView",
            "description": "",
            "description_tooltip": null,
            "layout": "IPY_MODEL_55f6a94bf00342af86760867ade47bc0",
            "placeholder": "​",
            "style": "IPY_MODEL_0e613079dd3c44898527727a42391ca5",
            "value": " 456k/456k [00:00&lt;00:00, 2.35MB/s]"
          }
        },
        "74b620ae8bcf4e8783b8f0979e5a0be1": {
          "model_module": "@jupyter-widgets/base",
          "model_name": "LayoutModel",
          "model_module_version": "1.2.0",
          "state": {
            "_model_module": "@jupyter-widgets/base",
            "_model_module_version": "1.2.0",
            "_model_name": "LayoutModel",
            "_view_count": null,
            "_view_module": "@jupyter-widgets/base",
            "_view_module_version": "1.2.0",
            "_view_name": "LayoutView",
            "align_content": null,
            "align_items": null,
            "align_self": null,
            "border": null,
            "bottom": null,
            "display": null,
            "flex": null,
            "flex_flow": null,
            "grid_area": null,
            "grid_auto_columns": null,
            "grid_auto_flow": null,
            "grid_auto_rows": null,
            "grid_column": null,
            "grid_gap": null,
            "grid_row": null,
            "grid_template_areas": null,
            "grid_template_columns": null,
            "grid_template_rows": null,
            "height": null,
            "justify_content": null,
            "justify_items": null,
            "left": null,
            "margin": null,
            "max_height": null,
            "max_width": null,
            "min_height": null,
            "min_width": null,
            "object_fit": null,
            "object_position": null,
            "order": null,
            "overflow": null,
            "overflow_x": null,
            "overflow_y": null,
            "padding": null,
            "right": null,
            "top": null,
            "visibility": null,
            "width": null
          }
        },
        "876d108f065d46a2801de3569f6960f1": {
          "model_module": "@jupyter-widgets/base",
          "model_name": "LayoutModel",
          "model_module_version": "1.2.0",
          "state": {
            "_model_module": "@jupyter-widgets/base",
            "_model_module_version": "1.2.0",
            "_model_name": "LayoutModel",
            "_view_count": null,
            "_view_module": "@jupyter-widgets/base",
            "_view_module_version": "1.2.0",
            "_view_name": "LayoutView",
            "align_content": null,
            "align_items": null,
            "align_self": null,
            "border": null,
            "bottom": null,
            "display": null,
            "flex": null,
            "flex_flow": null,
            "grid_area": null,
            "grid_auto_columns": null,
            "grid_auto_flow": null,
            "grid_auto_rows": null,
            "grid_column": null,
            "grid_gap": null,
            "grid_row": null,
            "grid_template_areas": null,
            "grid_template_columns": null,
            "grid_template_rows": null,
            "height": null,
            "justify_content": null,
            "justify_items": null,
            "left": null,
            "margin": null,
            "max_height": null,
            "max_width": null,
            "min_height": null,
            "min_width": null,
            "object_fit": null,
            "object_position": null,
            "order": null,
            "overflow": null,
            "overflow_x": null,
            "overflow_y": null,
            "padding": null,
            "right": null,
            "top": null,
            "visibility": null,
            "width": null
          }
        },
        "db7d34985ba04702bdafab2793355d95": {
          "model_module": "@jupyter-widgets/controls",
          "model_name": "DescriptionStyleModel",
          "model_module_version": "1.5.0",
          "state": {
            "_model_module": "@jupyter-widgets/controls",
            "_model_module_version": "1.5.0",
            "_model_name": "DescriptionStyleModel",
            "_view_count": null,
            "_view_module": "@jupyter-widgets/base",
            "_view_module_version": "1.2.0",
            "_view_name": "StyleView",
            "description_width": ""
          }
        },
        "a3ff998f0cc448f7b3b5551d14b1357a": {
          "model_module": "@jupyter-widgets/base",
          "model_name": "LayoutModel",
          "model_module_version": "1.2.0",
          "state": {
            "_model_module": "@jupyter-widgets/base",
            "_model_module_version": "1.2.0",
            "_model_name": "LayoutModel",
            "_view_count": null,
            "_view_module": "@jupyter-widgets/base",
            "_view_module_version": "1.2.0",
            "_view_name": "LayoutView",
            "align_content": null,
            "align_items": null,
            "align_self": null,
            "border": null,
            "bottom": null,
            "display": null,
            "flex": null,
            "flex_flow": null,
            "grid_area": null,
            "grid_auto_columns": null,
            "grid_auto_flow": null,
            "grid_auto_rows": null,
            "grid_column": null,
            "grid_gap": null,
            "grid_row": null,
            "grid_template_areas": null,
            "grid_template_columns": null,
            "grid_template_rows": null,
            "height": null,
            "justify_content": null,
            "justify_items": null,
            "left": null,
            "margin": null,
            "max_height": null,
            "max_width": null,
            "min_height": null,
            "min_width": null,
            "object_fit": null,
            "object_position": null,
            "order": null,
            "overflow": null,
            "overflow_x": null,
            "overflow_y": null,
            "padding": null,
            "right": null,
            "top": null,
            "visibility": null,
            "width": null
          }
        },
        "35fd5393e14648f796025135e5cfa565": {
          "model_module": "@jupyter-widgets/controls",
          "model_name": "ProgressStyleModel",
          "model_module_version": "1.5.0",
          "state": {
            "_model_module": "@jupyter-widgets/controls",
            "_model_module_version": "1.5.0",
            "_model_name": "ProgressStyleModel",
            "_view_count": null,
            "_view_module": "@jupyter-widgets/base",
            "_view_module_version": "1.2.0",
            "_view_name": "StyleView",
            "bar_color": null,
            "description_width": ""
          }
        },
        "55f6a94bf00342af86760867ade47bc0": {
          "model_module": "@jupyter-widgets/base",
          "model_name": "LayoutModel",
          "model_module_version": "1.2.0",
          "state": {
            "_model_module": "@jupyter-widgets/base",
            "_model_module_version": "1.2.0",
            "_model_name": "LayoutModel",
            "_view_count": null,
            "_view_module": "@jupyter-widgets/base",
            "_view_module_version": "1.2.0",
            "_view_name": "LayoutView",
            "align_content": null,
            "align_items": null,
            "align_self": null,
            "border": null,
            "bottom": null,
            "display": null,
            "flex": null,
            "flex_flow": null,
            "grid_area": null,
            "grid_auto_columns": null,
            "grid_auto_flow": null,
            "grid_auto_rows": null,
            "grid_column": null,
            "grid_gap": null,
            "grid_row": null,
            "grid_template_areas": null,
            "grid_template_columns": null,
            "grid_template_rows": null,
            "height": null,
            "justify_content": null,
            "justify_items": null,
            "left": null,
            "margin": null,
            "max_height": null,
            "max_width": null,
            "min_height": null,
            "min_width": null,
            "object_fit": null,
            "object_position": null,
            "order": null,
            "overflow": null,
            "overflow_x": null,
            "overflow_y": null,
            "padding": null,
            "right": null,
            "top": null,
            "visibility": null,
            "width": null
          }
        },
        "0e613079dd3c44898527727a42391ca5": {
          "model_module": "@jupyter-widgets/controls",
          "model_name": "DescriptionStyleModel",
          "model_module_version": "1.5.0",
          "state": {
            "_model_module": "@jupyter-widgets/controls",
            "_model_module_version": "1.5.0",
            "_model_name": "DescriptionStyleModel",
            "_view_count": null,
            "_view_module": "@jupyter-widgets/base",
            "_view_module_version": "1.2.0",
            "_view_name": "StyleView",
            "description_width": ""
          }
        },
        "57713007d61b4fe6ba0ad45bda3e7770": {
          "model_module": "@jupyter-widgets/controls",
          "model_name": "HBoxModel",
          "model_module_version": "1.5.0",
          "state": {
            "_dom_classes": [],
            "_model_module": "@jupyter-widgets/controls",
            "_model_module_version": "1.5.0",
            "_model_name": "HBoxModel",
            "_view_count": null,
            "_view_module": "@jupyter-widgets/controls",
            "_view_module_version": "1.5.0",
            "_view_name": "HBoxView",
            "box_style": "",
            "children": [
              "IPY_MODEL_f9679c2dfb834e2da29d2c092b5072ef",
              "IPY_MODEL_2e2ee8a1857c4bdc874f836f50c937dc",
              "IPY_MODEL_671f477570ce4fefb44572b95e7c140d"
            ],
            "layout": "IPY_MODEL_f7ae7f2066c64e5cbffd83a74971c224"
          }
        },
        "f9679c2dfb834e2da29d2c092b5072ef": {
          "model_module": "@jupyter-widgets/controls",
          "model_name": "HTMLModel",
          "model_module_version": "1.5.0",
          "state": {
            "_dom_classes": [],
            "_model_module": "@jupyter-widgets/controls",
            "_model_module_version": "1.5.0",
            "_model_name": "HTMLModel",
            "_view_count": null,
            "_view_module": "@jupyter-widgets/controls",
            "_view_module_version": "1.5.0",
            "_view_name": "HTMLView",
            "description": "",
            "description_tooltip": null,
            "layout": "IPY_MODEL_9650163a9f8b4e279852e11af57d62ca",
            "placeholder": "​",
            "style": "IPY_MODEL_2bd2378db02d49d7937a80fb3844391a",
            "value": "tokenizer.json: 100%"
          }
        },
        "2e2ee8a1857c4bdc874f836f50c937dc": {
          "model_module": "@jupyter-widgets/controls",
          "model_name": "FloatProgressModel",
          "model_module_version": "1.5.0",
          "state": {
            "_dom_classes": [],
            "_model_module": "@jupyter-widgets/controls",
            "_model_module_version": "1.5.0",
            "_model_name": "FloatProgressModel",
            "_view_count": null,
            "_view_module": "@jupyter-widgets/controls",
            "_view_module_version": "1.5.0",
            "_view_name": "ProgressView",
            "bar_style": "success",
            "description": "",
            "description_tooltip": null,
            "layout": "IPY_MODEL_6040cce04afd4c398a44ccf65fb4880f",
            "max": 1355256,
            "min": 0,
            "orientation": "horizontal",
            "style": "IPY_MODEL_33a94cc0cbbc49eba1f5d6b27a550c64",
            "value": 1355256
          }
        },
        "671f477570ce4fefb44572b95e7c140d": {
          "model_module": "@jupyter-widgets/controls",
          "model_name": "HTMLModel",
          "model_module_version": "1.5.0",
          "state": {
            "_dom_classes": [],
            "_model_module": "@jupyter-widgets/controls",
            "_model_module_version": "1.5.0",
            "_model_name": "HTMLModel",
            "_view_count": null,
            "_view_module": "@jupyter-widgets/controls",
            "_view_module_version": "1.5.0",
            "_view_name": "HTMLView",
            "description": "",
            "description_tooltip": null,
            "layout": "IPY_MODEL_53b2a0116e0c4cba8269ca53e024a460",
            "placeholder": "​",
            "style": "IPY_MODEL_4a24ce9ebdb54c7781dc573ea835890e",
            "value": " 1.36M/1.36M [00:00&lt;00:00, 5.20MB/s]"
          }
        },
        "f7ae7f2066c64e5cbffd83a74971c224": {
          "model_module": "@jupyter-widgets/base",
          "model_name": "LayoutModel",
          "model_module_version": "1.2.0",
          "state": {
            "_model_module": "@jupyter-widgets/base",
            "_model_module_version": "1.2.0",
            "_model_name": "LayoutModel",
            "_view_count": null,
            "_view_module": "@jupyter-widgets/base",
            "_view_module_version": "1.2.0",
            "_view_name": "LayoutView",
            "align_content": null,
            "align_items": null,
            "align_self": null,
            "border": null,
            "bottom": null,
            "display": null,
            "flex": null,
            "flex_flow": null,
            "grid_area": null,
            "grid_auto_columns": null,
            "grid_auto_flow": null,
            "grid_auto_rows": null,
            "grid_column": null,
            "grid_gap": null,
            "grid_row": null,
            "grid_template_areas": null,
            "grid_template_columns": null,
            "grid_template_rows": null,
            "height": null,
            "justify_content": null,
            "justify_items": null,
            "left": null,
            "margin": null,
            "max_height": null,
            "max_width": null,
            "min_height": null,
            "min_width": null,
            "object_fit": null,
            "object_position": null,
            "order": null,
            "overflow": null,
            "overflow_x": null,
            "overflow_y": null,
            "padding": null,
            "right": null,
            "top": null,
            "visibility": null,
            "width": null
          }
        },
        "9650163a9f8b4e279852e11af57d62ca": {
          "model_module": "@jupyter-widgets/base",
          "model_name": "LayoutModel",
          "model_module_version": "1.2.0",
          "state": {
            "_model_module": "@jupyter-widgets/base",
            "_model_module_version": "1.2.0",
            "_model_name": "LayoutModel",
            "_view_count": null,
            "_view_module": "@jupyter-widgets/base",
            "_view_module_version": "1.2.0",
            "_view_name": "LayoutView",
            "align_content": null,
            "align_items": null,
            "align_self": null,
            "border": null,
            "bottom": null,
            "display": null,
            "flex": null,
            "flex_flow": null,
            "grid_area": null,
            "grid_auto_columns": null,
            "grid_auto_flow": null,
            "grid_auto_rows": null,
            "grid_column": null,
            "grid_gap": null,
            "grid_row": null,
            "grid_template_areas": null,
            "grid_template_columns": null,
            "grid_template_rows": null,
            "height": null,
            "justify_content": null,
            "justify_items": null,
            "left": null,
            "margin": null,
            "max_height": null,
            "max_width": null,
            "min_height": null,
            "min_width": null,
            "object_fit": null,
            "object_position": null,
            "order": null,
            "overflow": null,
            "overflow_x": null,
            "overflow_y": null,
            "padding": null,
            "right": null,
            "top": null,
            "visibility": null,
            "width": null
          }
        },
        "2bd2378db02d49d7937a80fb3844391a": {
          "model_module": "@jupyter-widgets/controls",
          "model_name": "DescriptionStyleModel",
          "model_module_version": "1.5.0",
          "state": {
            "_model_module": "@jupyter-widgets/controls",
            "_model_module_version": "1.5.0",
            "_model_name": "DescriptionStyleModel",
            "_view_count": null,
            "_view_module": "@jupyter-widgets/base",
            "_view_module_version": "1.2.0",
            "_view_name": "StyleView",
            "description_width": ""
          }
        },
        "6040cce04afd4c398a44ccf65fb4880f": {
          "model_module": "@jupyter-widgets/base",
          "model_name": "LayoutModel",
          "model_module_version": "1.2.0",
          "state": {
            "_model_module": "@jupyter-widgets/base",
            "_model_module_version": "1.2.0",
            "_model_name": "LayoutModel",
            "_view_count": null,
            "_view_module": "@jupyter-widgets/base",
            "_view_module_version": "1.2.0",
            "_view_name": "LayoutView",
            "align_content": null,
            "align_items": null,
            "align_self": null,
            "border": null,
            "bottom": null,
            "display": null,
            "flex": null,
            "flex_flow": null,
            "grid_area": null,
            "grid_auto_columns": null,
            "grid_auto_flow": null,
            "grid_auto_rows": null,
            "grid_column": null,
            "grid_gap": null,
            "grid_row": null,
            "grid_template_areas": null,
            "grid_template_columns": null,
            "grid_template_rows": null,
            "height": null,
            "justify_content": null,
            "justify_items": null,
            "left": null,
            "margin": null,
            "max_height": null,
            "max_width": null,
            "min_height": null,
            "min_width": null,
            "object_fit": null,
            "object_position": null,
            "order": null,
            "overflow": null,
            "overflow_x": null,
            "overflow_y": null,
            "padding": null,
            "right": null,
            "top": null,
            "visibility": null,
            "width": null
          }
        },
        "33a94cc0cbbc49eba1f5d6b27a550c64": {
          "model_module": "@jupyter-widgets/controls",
          "model_name": "ProgressStyleModel",
          "model_module_version": "1.5.0",
          "state": {
            "_model_module": "@jupyter-widgets/controls",
            "_model_module_version": "1.5.0",
            "_model_name": "ProgressStyleModel",
            "_view_count": null,
            "_view_module": "@jupyter-widgets/base",
            "_view_module_version": "1.2.0",
            "_view_name": "StyleView",
            "bar_color": null,
            "description_width": ""
          }
        },
        "53b2a0116e0c4cba8269ca53e024a460": {
          "model_module": "@jupyter-widgets/base",
          "model_name": "LayoutModel",
          "model_module_version": "1.2.0",
          "state": {
            "_model_module": "@jupyter-widgets/base",
            "_model_module_version": "1.2.0",
            "_model_name": "LayoutModel",
            "_view_count": null,
            "_view_module": "@jupyter-widgets/base",
            "_view_module_version": "1.2.0",
            "_view_name": "LayoutView",
            "align_content": null,
            "align_items": null,
            "align_self": null,
            "border": null,
            "bottom": null,
            "display": null,
            "flex": null,
            "flex_flow": null,
            "grid_area": null,
            "grid_auto_columns": null,
            "grid_auto_flow": null,
            "grid_auto_rows": null,
            "grid_column": null,
            "grid_gap": null,
            "grid_row": null,
            "grid_template_areas": null,
            "grid_template_columns": null,
            "grid_template_rows": null,
            "height": null,
            "justify_content": null,
            "justify_items": null,
            "left": null,
            "margin": null,
            "max_height": null,
            "max_width": null,
            "min_height": null,
            "min_width": null,
            "object_fit": null,
            "object_position": null,
            "order": null,
            "overflow": null,
            "overflow_x": null,
            "overflow_y": null,
            "padding": null,
            "right": null,
            "top": null,
            "visibility": null,
            "width": null
          }
        },
        "4a24ce9ebdb54c7781dc573ea835890e": {
          "model_module": "@jupyter-widgets/controls",
          "model_name": "DescriptionStyleModel",
          "model_module_version": "1.5.0",
          "state": {
            "_model_module": "@jupyter-widgets/controls",
            "_model_module_version": "1.5.0",
            "_model_name": "DescriptionStyleModel",
            "_view_count": null,
            "_view_module": "@jupyter-widgets/base",
            "_view_module_version": "1.2.0",
            "_view_name": "StyleView",
            "description_width": ""
          }
        }
      }
    }
  },
  "nbformat": 4,
  "nbformat_minor": 5
}