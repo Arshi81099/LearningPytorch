{
  "cells": [
    {
      "cell_type": "markdown",
      "metadata": {
        "id": "view-in-github",
        "colab_type": "text"
      },
      "source": [
        "<a href=\"https://colab.research.google.com/github/dxvsh/LearningPytorch/blob/main/Week3/PreTraining_GPT.ipynb\" target=\"_parent\"><img src=\"https://colab.research.google.com/assets/colab-badge.svg\" alt=\"Open In Colab\"/></a>"
      ]
    },
    {
      "cell_type": "markdown",
      "id": "27506ee1-1743-4c39-97b8-05b77449fe7e",
      "metadata": {
        "editable": true,
        "tags": [],
        "id": "27506ee1-1743-4c39-97b8-05b77449fe7e"
      },
      "source": [
        "In this experiment, we will train the **GPT-2 model** using the [BookCorpus](https://huggingface.co/datasets/bookcorpus/bookcorpus) dataset.\n",
        "\n",
        "The relevant material for Week 3, like the trained model checkpoints can be found at : [Week 3 Pretraining GPT](https://drive.google.com/drive/folders/1DQwmmq9hLtIwfXVMKlYtNu_k9ZS7Nekx)"
      ]
    },
    {
      "cell_type": "markdown",
      "id": "ba355ae2-1291-41e8-b0cb-2aad000a6894",
      "metadata": {
        "editable": true,
        "tags": [],
        "id": "ba355ae2-1291-41e8-b0cb-2aad000a6894"
      },
      "source": [
        "Let's get started."
      ]
    },
    {
      "cell_type": "code",
      "source": [
        "!pip install datasets wandb > /dev/null"
      ],
      "metadata": {
        "id": "RMGGT4x32IFV"
      },
      "id": "RMGGT4x32IFV",
      "execution_count": 1,
      "outputs": []
    },
    {
      "cell_type": "markdown",
      "id": "c2db6e44-7caa-4c5d-9bf9-33ffa8e2da32",
      "metadata": {
        "editable": true,
        "tags": [],
        "id": "c2db6e44-7caa-4c5d-9bf9-33ffa8e2da32"
      },
      "source": [
        "<h1 style=\"color:Tomato;\"> Import the necessary Packages </h1>"
      ]
    },
    {
      "cell_type": "code",
      "execution_count": 2,
      "id": "a3bd6282-647c-430f-ac56-2a0137b0f63f",
      "metadata": {
        "editable": true,
        "tags": [],
        "id": "a3bd6282-647c-430f-ac56-2a0137b0f63f"
      },
      "outputs": [],
      "source": [
        "# used in the previous experiments\n",
        "from datasets import load_dataset,load_from_disk\n",
        "from transformers import AutoTokenizer\n",
        "\n",
        "# for training\n",
        "from transformers import DataCollatorForLanguageModeling\n",
        "from transformers import GPT2Config, GPT2LMHeadModel\n",
        "from transformers import TrainingArguments, Trainer\n",
        "\n",
        "#for experiment tracking\n",
        "import wandb\n",
        "\n",
        "#common packages\n",
        "import pandas as pd\n",
        "from pprint import pprint\n",
        "import json\n",
        "import numpy as np\n",
        "from matplotlib import pyplot as plt"
      ]
    },
    {
      "cell_type": "markdown",
      "id": "2178fd67-5fe9-4364-9820-56e139d39622",
      "metadata": {
        "editable": true,
        "tags": [],
        "id": "2178fd67-5fe9-4364-9820-56e139d39622"
      },
      "source": [
        "<h1 style=\"color:Tomato;\"> Dataset </h1>"
      ]
    },
    {
      "cell_type": "code",
      "execution_count": 4,
      "id": "cf30633e-d25f-4259-9f04-aea2d0101491",
      "metadata": {
        "editable": true,
        "tags": [],
        "id": "cf30633e-d25f-4259-9f04-aea2d0101491",
        "outputId": "07454dc4-407d-462a-ff74-d191d0737d94",
        "colab": {
          "base_uri": "https://localhost:8080/"
        }
      },
      "outputs": [
        {
          "output_type": "stream",
          "name": "stdout",
          "text": [
            "Dataset({\n",
            "    features: ['text'],\n",
            "    num_rows: 74004228\n",
            "})\n"
          ]
        }
      ],
      "source": [
        "ds_full = load_dataset('bookcorpus',split='all')\n",
        "pprint(ds_full)"
      ]
    },
    {
      "cell_type": "markdown",
      "id": "ec896259-edc8-46ba-afac-9ea4602a096a",
      "metadata": {
        "editable": true,
        "tags": [],
        "id": "ec896259-edc8-46ba-afac-9ea4602a096a"
      },
      "source": [
        "The dataset contains 74 million sentences.\n"
      ]
    },
    {
      "cell_type": "markdown",
      "id": "f402be86-1a2d-4b15-8973-c8a1d9250e89",
      "metadata": {
        "editable": true,
        "tags": [],
        "id": "f402be86-1a2d-4b15-8973-c8a1d9250e89"
      },
      "source": [
        "The dataset contains about 1 billion words (**Exercise:** write code to get the exact number.)"
      ]
    },
    {
      "cell_type": "code",
      "source": [
        "sum([len(sample.split()) for sample in ds_full['text']])"
      ],
      "metadata": {
        "id": "wNFdbIzNNwEU",
        "outputId": "839c1388-3b7f-49ad-d09d-62d62f72c70b",
        "colab": {
          "base_uri": "https://localhost:8080/"
        }
      },
      "id": "wNFdbIzNNwEU",
      "execution_count": 8,
      "outputs": [
        {
          "output_type": "execute_result",
          "data": {
            "text/plain": [
              "984845743"
            ]
          },
          "metadata": {},
          "execution_count": 8
        }
      ]
    },
    {
      "cell_type": "code",
      "source": [
        "984845743/10**9"
      ],
      "metadata": {
        "id": "ZsHgLK1AP9ci",
        "outputId": "f67518f0-4930-49cd-dfd2-4945f4ca8535",
        "colab": {
          "base_uri": "https://localhost:8080/"
        }
      },
      "id": "ZsHgLK1AP9ci",
      "execution_count": 9,
      "outputs": [
        {
          "output_type": "execute_result",
          "data": {
            "text/plain": [
              "0.984845743"
            ]
          },
          "metadata": {},
          "execution_count": 9
        }
      ]
    },
    {
      "cell_type": "markdown",
      "id": "4cfd9608-d3c3-46e5-b35b-9357082f8478",
      "metadata": {
        "editable": true,
        "tags": [],
        "id": "4cfd9608-d3c3-46e5-b35b-9357082f8478"
      },
      "source": [
        "So yes, the dataset contains roughly about a billion words.\n",
        "\n",
        "There are 71,598 samples that contain just a single word."
      ]
    },
    {
      "cell_type": "markdown",
      "id": "76a71faf-f7e2-4852-bd30-76645996244d",
      "metadata": {
        "editable": true,
        "tags": [],
        "id": "76a71faf-f7e2-4852-bd30-76645996244d"
      },
      "source": [
        "The **context length** of the **gpt-2** model is **1024**"
      ]
    },
    {
      "cell_type": "markdown",
      "id": "026ea49f-0a15-44d8-a6d1-15041b90d470",
      "metadata": {
        "editable": true,
        "tags": [],
        "id": "026ea49f-0a15-44d8-a6d1-15041b90d470"
      },
      "source": [
        "There are 50 samples in the dataset that are larger than the **context length** of the model (with the largest sample containing 65,852 elements!)."
      ]
    },
    {
      "cell_type": "markdown",
      "id": "44f257c3-d6e6-4cae-b36b-1ba46d19b99f",
      "metadata": {
        "editable": true,
        "tags": [],
        "id": "44f257c3-d6e6-4cae-b36b-1ba46d19b99f"
      },
      "source": [
        "Let us randomly select one million samples from the 74 million to better understand the distribution of the number of words in the sample sentences, excluding the 50 largest samples (outliers)."
      ]
    },
    {
      "cell_type": "code",
      "source": [
        "# download the bookcorpus dataset stats file : bc_stats.json\n",
        "!gdown 1IWHxxMoNxaJq9IP5A46tKLuv-LTRiDDc"
      ],
      "metadata": {
        "id": "4evl0sI9Dgql",
        "outputId": "1eef2e45-30b4-4410-b2da-4fa97446129e",
        "colab": {
          "base_uri": "https://localhost:8080/"
        }
      },
      "id": "4evl0sI9Dgql",
      "execution_count": 10,
      "outputs": [
        {
          "output_type": "stream",
          "name": "stdout",
          "text": [
            "Downloading...\n",
            "From (original): https://drive.google.com/uc?id=1IWHxxMoNxaJq9IP5A46tKLuv-LTRiDDc\n",
            "From (redirected): https://drive.google.com/uc?id=1IWHxxMoNxaJq9IP5A46tKLuv-LTRiDDc&confirm=t&uuid=ae870423-9f89-4c37-8da9-5970c97d240b\n",
            "To: /content/bc_stats.json\n",
            "100% 266M/266M [00:03<00:00, 81.0MB/s]\n"
          ]
        }
      ]
    },
    {
      "cell_type": "code",
      "execution_count": 11,
      "id": "ec742be0-394c-4c21-b2fb-9787475fc33b",
      "metadata": {
        "editable": true,
        "tags": [],
        "id": "ec742be0-394c-4c21-b2fb-9787475fc33b"
      },
      "outputs": [],
      "source": [
        "with open('bc_stats.json','r') as f:\n",
        "    bc_stats = json.load(f)"
      ]
    },
    {
      "cell_type": "code",
      "execution_count": 12,
      "id": "fdd475b4-fcff-45ca-899e-5ebb6a0dfe3b",
      "metadata": {
        "editable": true,
        "tags": [],
        "id": "fdd475b4-fcff-45ca-899e-5ebb6a0dfe3b",
        "outputId": "3ac3b6e7-f2a5-4404-dd26-51dce9ad0729",
        "colab": {
          "base_uri": "https://localhost:8080/",
          "height": 388
        }
      },
      "outputs": [
        {
          "output_type": "display_data",
          "data": {
            "text/plain": [
              "<Figure size 1000x400 with 1 Axes>"
            ],
            "image/png": "[encoded data removed]"
          },
          "metadata": {}
        }
      ],
      "source": [
        "import random\n",
        "sorted_len = bc_stats['len_samples_sorted']\n",
        "bins = np.unique(sorted_len)\n",
        "plt.figure(figsize=(10,4))\n",
        "plt.hist(random.sample(sorted_len[0:-50],k=10**6),bins=bins[0:150])\n",
        "plt.xlabel('Sequence length')\n",
        "plt.ylabel('count')\n",
        "plt.grid()\n",
        "plt.show()"
      ]
    },
    {
      "cell_type": "markdown",
      "id": "04161ecf-154f-44e6-bd42-9c2eac87c9a3",
      "metadata": {
        "editable": true,
        "tags": [],
        "id": "04161ecf-154f-44e6-bd42-9c2eac87c9a3"
      },
      "source": [
        "From the above plot, we can see that the length of a majority of the samples is far less than 60 and the <ins>average length of the sample sentences is about 13.</ins>"
      ]
    },
    {
      "cell_type": "markdown",
      "id": "05a3b452-e187-4ac8-af02-95143a749435",
      "metadata": {
        "editable": true,
        "tags": [],
        "id": "05a3b452-e187-4ac8-af02-95143a749435"
      },
      "source": [
        "<h1 style=\"color:Tomato;\"> Tokenization </h1>"
      ]
    },
    {
      "cell_type": "markdown",
      "id": "dfeab982-334b-4ce0-9e05-2b000fed79b6",
      "metadata": {
        "editable": true,
        "tags": [],
        "id": "dfeab982-334b-4ce0-9e05-2b000fed79b6"
      },
      "source": [
        "The next step is to tokenize the samples using the `PreTrainedTokenizer`"
      ]
    },
    {
      "cell_type": "markdown",
      "id": "7c2b9ff5-e335-4aff-9920-02a1b10b7def",
      "metadata": {
        "editable": true,
        "tags": [],
        "id": "7c2b9ff5-e335-4aff-9920-02a1b10b7def"
      },
      "source": [
        "We can use the `hopper` tokenizer that we have trained in the previous week\n",
        "\n",
        "\n",
        "**Note** : **Don't run the below cells** (between the horizontal lines) where we're loading the hopper tokenizer from the last week, I don't have those files.\n",
        "\n",
        "\n",
        "\n",
        "---\n"
      ]
    },
    {
      "cell_type": "code",
      "execution_count": null,
      "id": "908bc1cf-dbc6-49e5-a373-c61f8e53bc37",
      "metadata": {
        "editable": true,
        "tags": [],
        "id": "908bc1cf-dbc6-49e5-a373-c61f8e53bc37",
        "outputId": "7bed74d7-7748-4eca-da8a-bdcc26251d74"
      },
      "outputs": [
        {
          "name": "stdout",
          "output_type": "stream",
          "text": [
            "PreTrainedTokenizerFast(name_or_path='../Week-2/hopper', vocab_size=32000, model_max_length=1000000000000000019884624838656, is_fast=True, padding_side='right', truncation_side='right', special_tokens={'unk_token': '[UNK]', 'pad_token': '[PAD]'}, clean_up_tokenization_spaces=True),  added_tokens_decoder={\n",
            "\t0: AddedToken(\"[PAD]\", rstrip=False, lstrip=False, single_word=False, normalized=False, special=True),\n",
            "\t1: AddedToken(\"[UNK]\", rstrip=False, lstrip=False, single_word=False, normalized=False, special=True),\n",
            "}\n"
          ]
        }
      ],
      "source": [
        "hopper_tokenizer = AutoTokenizer.from_pretrained('../Week-2/hopper')\n",
        "print(hopper_tokenizer)"
      ]
    },
    {
      "cell_type": "markdown",
      "id": "891fedcf-cd43-4013-9860-a409913d53e9",
      "metadata": {
        "editable": true,
        "tags": [],
        "id": "891fedcf-cd43-4013-9860-a409913d53e9"
      },
      "source": [
        "Let us pass a batch of samples to the tokenizer with padding enabled:"
      ]
    },
    {
      "cell_type": "code",
      "execution_count": null,
      "id": "b219020d-4c29-400f-b466-84e30ba70463",
      "metadata": {
        "editable": true,
        "tags": [],
        "id": "b219020d-4c29-400f-b466-84e30ba70463",
        "outputId": "a80d695a-e899-44f6-a6ca-bb52f7e67d89"
      },
      "outputs": [
        {
          "name": "stdout",
          "output_type": "stream",
          "text": [
            "[[2462, 19, 149, 277, 162, 6456, 422, 131, 1559, 536, 19, 2301, 201, 177, 9774,\n",
            "  21, 0, 0, 0, 0, 0, 0, 0, 0, 0, 0, 0, 0, 0, 0, 0, 0, 0, 0, 0, 0, 0, 0, 0, 0, 0,\n",
            "  0],\n",
            " [212, 297, 289, 456, 208, 46, 20830, 1420, 214, 4099, 1171, 139, 11126, 21, 0,\n",
            "  0, 0, 0, 0, 0, 0, 0, 0, 0, 0, 0, 0, 0, 0, 0, 0, 0, 0, 0, 0, 0, 0, 0, 0, 0, 0,\n",
            "  0],\n",
            " [178, 206, 337, 7656, 14, 64, 1147, 303, 174, 503, 214, 2363, 2310, 21, 0, 0,\n",
            "  0, 0, 0, 0, 0, 0, 0, 0, 0, 0, 0, 0, 0, 0, 0, 0, 0, 0, 0, 0, 0, 0, 0, 0, 0,\n",
            "  0],\n",
            " [149, 14, 49, 946, 131, 3760, 880, 375, 3446, 19, 3766, 149, 166, 46, 545,\n",
            "  1185, 200, 131, 61, 93, 17794, 19, 212, 201, 2596, 9302, 19, 1050, 201, 163,\n",
            "  3186, 19, 5696, 166, 2270, 5194, 138, 717, 178, 278, 2596, 21]]\n"
          ]
        }
      ],
      "source": [
        "bs = 4 # batch_size\n",
        "model_inputs = hopper_tokenizer(ds_full[0:bs]['text'],padding=True)\n",
        "pprint(model_inputs['input_ids'],compact=True)"
      ]
    },
    {
      "cell_type": "markdown",
      "id": "0a7df779-dbbc-4dfe-9fa1-6e0b90a6b367",
      "metadata": {
        "editable": true,
        "tags": [],
        "id": "0a7df779-dbbc-4dfe-9fa1-6e0b90a6b367"
      },
      "source": [
        "\n",
        "\n",
        "---\n",
        "\n",
        "\n",
        "We can see that the shorter samples have been padded (0 padding at the right) to keep the size consistent.\n",
        "\n",
        "\n",
        "But what happens if a batch contains a sample of length 1 (and the size of other samples is 50)?"
      ]
    },
    {
      "cell_type": "markdown",
      "id": "39a4fbeb-afdd-49c5-8a96-01c1945e03ac",
      "metadata": {
        "editable": true,
        "tags": [],
        "id": "39a4fbeb-afdd-49c5-8a96-01c1945e03ac"
      },
      "source": [
        "We will need to append 49 zeros to that shortest sample! It is a waste of compute (while pretraining)!"
      ]
    },
    {
      "cell_type": "markdown",
      "id": "d8b2eea5-4729-4118-a851-b17f536a9d13",
      "metadata": {
        "editable": true,
        "tags": [],
        "id": "d8b2eea5-4729-4118-a851-b17f536a9d13"
      },
      "source": [
        "Moreover, if you observe carefully, the samples in the dataset **maintain continuity** with each other. The sentences are just continuing from where the previous one left off.\n",
        "\n",
        "So instead of padding, why not concatenate multiple sentences together to create a new sample sentence which is of 1024 length? We can do this with all the sentences in the dataset, i.e., concatenate as many sentences as needed to make sure each new sample is 1024 length. And if a sample is larger than 1024 length, just take 1024 elements from it.\n",
        "\n",
        "So finally, all the samples will be of length 1024."
      ]
    },
    {
      "cell_type": "code",
      "source": [
        "pprint({id:example for id,example in enumerate(ds_full[100:110]['text'])})"
      ],
      "metadata": {
        "id": "0b3xPeCtC3gb",
        "outputId": "39a2db64-96d4-4d41-e4cc-cfd9e2005711",
        "colab": {
          "base_uri": "https://localhost:8080/"
        }
      },
      "id": "0b3xPeCtC3gb",
      "execution_count": null,
      "outputs": [
        {
          "output_type": "stream",
          "name": "stdout",
          "text": [
            "{0: 'he loved sitting between her brothers on the couch and watching tv .',\n",
            " 1: 'while it was good that he had so many male role models , she only hoped '\n",
            "    \"he had n't inherited too much of his father 's personality .\",\n",
            " 2: 'after megan watched them disappear in the crowd of family and friends '\n",
            "    'waiting in the church alcove , she bypassed everyone by turning right and '\n",
            "    'heading down the hallway .',\n",
            " 3: 'at the last door on the right , she knocked .',\n",
            " 4: \"`` it 's me , megan . ''\",\n",
            " 5: \"emma 's best friend , casey , answered the door .\",\n",
            " 6: \"`` well , if it is n't the fairy godmother , '' she mused with a grin .\",\n",
            " 7: 'after megan stepped inside , casey threw her arms around her .',\n",
            " 8: \"megan had only met her a few times , but it was hard not liking emma 's \"\n",
            "    'vivacious and outgoing friend .',\n",
            " 9: \"casey 's long brown hair was pulled back in a lose knot , and she wore a \"\n",
            "    'demure black slip dress and heels .'}\n"
          ]
        }
      ]
    },
    {
      "cell_type": "markdown",
      "id": "c7397715-c4e3-4659-8506-c335241e899c",
      "metadata": {
        "editable": true,
        "tags": [],
        "id": "c7397715-c4e3-4659-8506-c335241e899c"
      },
      "source": [
        "Therefore, to use the available compute effectively, we can concatenate the samples so that the length of the concatenated sample equals the model's context length, i.e. **1024**"
      ]
    },
    {
      "cell_type": "markdown",
      "id": "1fc518d1-506b-44b1-80e7-ced101ea3adf",
      "metadata": {
        "editable": true,
        "tags": [],
        "id": "1fc518d1-506b-44b1-80e7-ced101ea3adf"
      },
      "source": [
        "It requires us to **tokenize the samples** and **concatenate the tokens**."
      ]
    },
    {
      "cell_type": "markdown",
      "id": "2fea76a4-4670-44c3-a129-3b61ef76be07",
      "metadata": {
        "editable": true,
        "tags": [],
        "id": "2fea76a4-4670-44c3-a129-3b61ef76be07"
      },
      "source": [
        "Therefore, we do not need to use the `padding` token for pretraining."
      ]
    },
    {
      "cell_type": "markdown",
      "id": "db7c2264-5c28-4344-bbf4-24024cd410d1",
      "metadata": {
        "editable": true,
        "tags": [],
        "id": "db7c2264-5c28-4344-bbf4-24024cd410d1"
      },
      "source": [
        "Let's use the `gpt2 tokenizer` (uses Bytelevel BPE). We can simply load it from the hub:"
      ]
    },
    {
      "cell_type": "code",
      "execution_count": 13,
      "id": "f45cc8b8-b759-4f1c-ad12-90385b72fcc4",
      "metadata": {
        "editable": true,
        "tags": [],
        "id": "f45cc8b8-b759-4f1c-ad12-90385b72fcc4",
        "outputId": "6e3e03dd-a75e-407e-a0a5-3a0b0b4fe55d",
        "colab": {
          "base_uri": "https://localhost:8080/",
          "height": 284,
          "referenced_widgets": [
            "68cf5b4d2fed4f6d889d8a657fb57504",
            "0c68f6dbfc9a4c50a5b7ec3be93e4f12",
            "06179f74070d490d996f061327aeb6b9",
            "3adabf90fefc42a080b3cc326f2361cd",
            "47d016ce401e48f4b1722eef1f71ac1f",
            "bed7d9d81cf949a8945f4d5238d81cc4",
            "a64c9f781438483d9ca5a11cf5cae783",
            "c242aafec55c4cf4b326d5af836da7d0",
            "7021d3a33e8545e98f7e6d15a694c133",
            "0cfe2c8f6339433ab5e124dc32bffe85",
            "6eaf9071559e4031acc19791a104a63a",
            "837f25eb01f8476fb7f37eb94f651d00",
            "e90d696889ac4c17b81ccf1e0a07919f",
            "29668e9292fd441883aea5f57b497836",
            "0a4073d9bfa6437dab0cce96043b9088",
            "542e1b6d9b7a482d8a42005ac2341948",
            "f4f1b032f19c475db29508ce6f9770b0",
            "19525db421ce4795b2036e484379db36",
            "e2f9744740184051becb18c3f3aefc21",
            "27b4b90e3e59425e935514abb64a3c60",
            "5b8bf5bb83ac4cc1864b925252c801d8",
            "bb4644fcfd6d4f2e8462c4d80a0b8bdf",
            "5e7d886328c3400995a6f3b8038bc8a8",
            "cae341dc835147e69c0bcb353bbdbff4",
            "d6591d05681149ccb582ce0180e43f55",
            "922a6920a7e74e9084a0d0672600d166",
            "6935254a483649f8b023d6bfa239591c",
            "82ddd900061b44059b387fdc3e415bae",
            "5c48f00c1160423cbaabde6cbe2aa815",
            "28ecda594aac49de9643a574356008a4",
            "33752ad37dc345d2988d4b7eba16e5c0",
            "c9d3d5a1cacf4db2acdf4f0d02ec6c02",
            "92a8fafce7404fd5baa7fa54376cb2e1",
            "39c07128ff76405cb378c87a9e9047e4",
            "2ffcad24715a451fa8b2910995fd256b",
            "5307dfcfe8b84794a8b38f1ff8e6f7fc",
            "8273a6259d984ac2817e7675d59cb846",
            "ad94e4b9ffe4432285258829db42265d",
            "d716a08586eb4347bcfde3d610101079",
            "a66a9750f73b4326af8bbc0790254b13",
            "696cc9a13c494e2893d18ff60c2082c2",
            "bb424844a7604117b75cad68944b96d8",
            "7f33f2cab73d4c1b9c3fbcf274416fd0",
            "e04ca8a88c2040259fe533ca42ef4296",
            "2f5df72467b9459e87196b1948ec2127",
            "6a719d5cc4b644bd8a7bd0e388d70edc",
            "99e3b613952f42bbb32a4d0ae3cdb32f",
            "b6a391e9698d45d79537a3028d5d2c06",
            "f7bf35a4d790432baa473e0072fb272a",
            "074c1530b365497f924cf1a110d68505",
            "c5f7d1bf7a294a32b72a3e2c505e8c03",
            "873de73737c3409aafd3305e23e07509",
            "a114c6dfd4ab4bdf987cda856112f40f",
            "f54034e63a2c499ab93167d7f808dac1",
            "211e77190f894c82b94a5ad2d6ae45f7"
          ]
        }
      },
      "outputs": [
        {
          "output_type": "display_data",
          "data": {
            "text/plain": [
              "tokenizer_config.json:   0%|          | 0.00/26.0 [00:00<?, ?B/s]"
            ],
            "application/vnd.jupyter.widget-view+json": {
              "version_major": 2,
              "version_minor": 0,
              "model_id": "68cf5b4d2fed4f6d889d8a657fb57504"
            }
          },
          "metadata": {}
        },
        {
          "output_type": "display_data",
          "data": {
            "text/plain": [
              "config.json:   0%|          | 0.00/665 [00:00<?, ?B/s]"
            ],
            "application/vnd.jupyter.widget-view+json": {
              "version_major": 2,
              "version_minor": 0,
              "model_id": "837f25eb01f8476fb7f37eb94f651d00"
            }
          },
          "metadata": {}
        },
        {
          "output_type": "display_data",
          "data": {
            "text/plain": [
              "vocab.json:   0%|          | 0.00/1.04M [00:00<?, ?B/s]"
            ],
            "application/vnd.jupyter.widget-view+json": {
              "version_major": 2,
              "version_minor": 0,
              "model_id": "5e7d886328c3400995a6f3b8038bc8a8"
            }
          },
          "metadata": {}
        },
        {
          "output_type": "display_data",
          "data": {
            "text/plain": [
              "merges.txt:   0%|          | 0.00/456k [00:00<?, ?B/s]"
            ],
            "application/vnd.jupyter.widget-view+json": {
              "version_major": 2,
              "version_minor": 0,
              "model_id": "39c07128ff76405cb378c87a9e9047e4"
            }
          },
          "metadata": {}
        },
        {
          "output_type": "display_data",
          "data": {
            "text/plain": [
              "tokenizer.json:   0%|          | 0.00/1.36M [00:00<?, ?B/s]"
            ],
            "application/vnd.jupyter.widget-view+json": {
              "version_major": 2,
              "version_minor": 0,
              "model_id": "2f5df72467b9459e87196b1948ec2127"
            }
          },
          "metadata": {}
        },
        {
          "output_type": "stream",
          "name": "stdout",
          "text": [
            "GPT2TokenizerFast(name_or_path='gpt2', vocab_size=50257, model_max_length=1024, is_fast=True, padding_side='right', truncation_side='right', special_tokens={'bos_token': '<|endoftext|>', 'eos_token': '<|endoftext|>', 'unk_token': '<|endoftext|>'}, clean_up_tokenization_spaces=True),  added_tokens_decoder={\n",
            "\t50256: AddedToken(\"<|endoftext|>\", rstrip=False, lstrip=False, single_word=False, normalized=True, special=True),\n",
            "}\n"
          ]
        },
        {
          "output_type": "stream",
          "name": "stderr",
          "text": [
            "/usr/local/lib/python3.10/dist-packages/transformers/tokenization_utils_base.py:1601: FutureWarning: `clean_up_tokenization_spaces` was not set. It will be set to `True` by default. This behavior will be depracted in transformers v4.45, and will be then set to `False` by default. For more details check this issue: https://github.com/huggingface/transformers/issues/31884\n",
            "  warnings.warn(\n"
          ]
        }
      ],
      "source": [
        "tokenizer = AutoTokenizer.from_pretrained('gpt2')\n",
        "print(tokenizer)"
      ]
    },
    {
      "cell_type": "markdown",
      "id": "ac46fe56-bdae-45ad-bfdb-2f793d156964",
      "metadata": {
        "editable": true,
        "tags": [],
        "id": "ac46fe56-bdae-45ad-bfdb-2f793d156964"
      },
      "source": [
        "Note the details such as `vocab_size`, `model_max_length` and `special_tokens` (all the special tokens expected by HF `PreTrainedTokenizerFast` are mapped to `<|endoftext|>` token that was originally used by the gpt2 tokenizer)"
      ]
    },
    {
      "cell_type": "markdown",
      "id": "144bab7f-0d6d-4782-b00d-1dd73d01dff7",
      "metadata": {
        "editable": true,
        "tags": [],
        "id": "144bab7f-0d6d-4782-b00d-1dd73d01dff7"
      },
      "source": [
        "The parameter `padding_side` is set to `right`, but since no padding token is used, we should <ins>add a padding token to avoid errors from HF</ins>"
      ]
    },
    {
      "cell_type": "code",
      "execution_count": 14,
      "id": "5f392464-d111-48c5-9dfa-ceb8bf1ef4eb",
      "metadata": {
        "editable": true,
        "tags": [],
        "id": "5f392464-d111-48c5-9dfa-ceb8bf1ef4eb"
      },
      "outputs": [],
      "source": [
        "tokenizer.pad_token = '<|endoftext|>'"
      ]
    },
    {
      "cell_type": "markdown",
      "id": "69958ce7-015e-47fe-b256-17007a4f2df0",
      "metadata": {
        "editable": true,
        "tags": [],
        "id": "69958ce7-015e-47fe-b256-17007a4f2df0"
      },
      "source": [
        "Define a **mapping** function that takes a batch of samples and returns `input_ids` and `attention_mask` such that the length of `input_ids` is 1024 for all samples. (Take this as an exercise.)\n",
        "\n",
        "I tried creating this mapping function but it doesn't give me the same output as the instructors but its in the same ballpark. **Don't run the below cell, it takes about 3 Hours to run on the free colab!**\n",
        "\n",
        "**From this point onward, there is not much you can try out on your own**\n",
        "\n",
        "**Just read the notebook and understand what is happening.**\n",
        "\n",
        "Instead of padding sentences to ensure they're the same length and unecessarily wasting resources by padding them with lots of 0s, we're concatenating as many next samples as needed to make sure that each new sample becomes 1024 in length. This ensures that each sample is now a sequence of length 1024.\n",
        "\n",
        "---\n",
        "\n"
      ]
    },
    {
      "cell_type": "markdown",
      "source": [
        "Lets see an example of how a few samples from our dataset are tokenized by the tokenizer:"
      ],
      "metadata": {
        "id": "OINAyUxhD7JQ"
      },
      "id": "OINAyUxhD7JQ"
    },
    {
      "cell_type": "code",
      "source": [
        "tokenizer(ds_full[:4]['text'])"
      ],
      "metadata": {
        "id": "Jsx6BU0yS2k7",
        "outputId": "4d80c1ca-6671-4392-95a5-6b4ea6cf5fe5",
        "colab": {
          "base_uri": "https://localhost:8080/"
        }
      },
      "id": "Jsx6BU0yS2k7",
      "execution_count": 20,
      "outputs": [
        {
          "output_type": "execute_result",
          "data": {
            "text/plain": [
              "{'input_ids': [[23073, 837, 339, 561, 307, 24447, 1088, 262, 2877, 2119, 837, 2712, 351, 465, 14958, 764], [4360, 655, 530, 804, 379, 257, 28365, 1908, 683, 14547, 3797, 265, 9229, 764], [5562, 550, 587, 502, 1030, 705, 82, 1410, 618, 673, 1392, 683, 12049, 2961, 764], [258, 705, 67, 1775, 262, 3807, 2048, 416, 7457, 837, 6402, 339, 373, 257, 1310, 1862, 329, 262, 23241, 16251, 837, 475, 351, 4697, 28706, 837, 1863, 351, 607, 9397, 837, 285, 888, 373, 1690, 7362, 284, 1243, 326, 547, 4697, 764]], 'attention_mask': [[1, 1, 1, 1, 1, 1, 1, 1, 1, 1, 1, 1, 1, 1, 1, 1], [1, 1, 1, 1, 1, 1, 1, 1, 1, 1, 1, 1, 1, 1], [1, 1, 1, 1, 1, 1, 1, 1, 1, 1, 1, 1, 1, 1, 1], [1, 1, 1, 1, 1, 1, 1, 1, 1, 1, 1, 1, 1, 1, 1, 1, 1, 1, 1, 1, 1, 1, 1, 1, 1, 1, 1, 1, 1, 1, 1, 1, 1, 1, 1, 1, 1, 1, 1, 1, 1, 1]]}"
            ]
          },
          "metadata": {},
          "execution_count": 20
        }
      ]
    },
    {
      "cell_type": "markdown",
      "source": [
        "Now what we need to do is take all these tokens, concatenate them into one huge list and then split the tokens into batches of 1024, so that each sample becomes 1024 in length."
      ],
      "metadata": {
        "id": "tfXk_-qLESsd"
      },
      "id": "tfXk_-qLESsd"
    },
    {
      "cell_type": "code",
      "source": [
        "def chunk_and_pack(examples):\n",
        "  \"\"\"\n",
        "  First concatenates all the tokens and then chunks them into a size of 1024.\n",
        "  This makes sure that each sample in the dataset has a length of 1024.\n",
        "  \"\"\"\n",
        "\n",
        "  tokenized_inputs = tokenizer(examples['text'])\n",
        "\n",
        "  # concatenate all the input_ids into one list\n",
        "  all_input_ids = sum(tokenized_inputs['input_ids'], [])\n",
        "\n",
        "  # chunking the concatenated ids into a size of 1024\n",
        "  chunked_input_ids = [all_input_ids[i:i+1024] for i in range(0, len(all_input_ids), 1024)]\n",
        "\n",
        "  # Drop the last chunk if its length is less than 1024\n",
        "  if len(chunked_input_ids[-1]) < 1024:\n",
        "      chunked_input_ids = chunked_input_ids[:-1]\n",
        "\n",
        "  # create the attention mask\n",
        "  attention_masks = [[1] * 1024 for chunk in chunked_input_ids]\n",
        "\n",
        "  packed_examples = {'input_ids': chunked_input_ids, 'attention_mask': attention_masks}\n",
        "  return packed_examples\n",
        "\n",
        "ds_chunked = ds_full.map(chunk_and_pack, batched=True, batch_size=1000, remove_columns=['text'])"
      ],
      "metadata": {
        "id": "ZJy0fZ0zSV8p",
        "outputId": "2e47008d-c208-4cfc-943d-b0def89e75e4",
        "colab": {
          "base_uri": "https://localhost:8080/",
          "height": 66,
          "referenced_widgets": [
            "2f2517ae57ba4325b10d85d00f0722df",
            "90080931bc384dd38b9b2c571bf6e08d",
            "6b18c6573e0245d68c718e486045abc1",
            "f557861acc824250bb39d0b640d8c0dc",
            "14d148a89a7042f1b444a1ec317cf395",
            "549b1f1e1a7541b4a28f4aeb7590245c",
            "9e5f307bb7da4835b817664c9e2e898a",
            "5dbed9792c8f4babb9e5a9d63edca9f3",
            "cf805515e2514525bac317cdecb2c2b8",
            "468f194d4a5e46f6be30436f05ca13a5",
            "1410f97e95384a0092ba0a58c355dd18"
          ]
        }
      },
      "id": "ZJy0fZ0zSV8p",
      "execution_count": 21,
      "outputs": [
        {
          "data": {
            "application/vnd.jupyter.widget-view+json": {
              "model_id": "2f2517ae57ba4325b10d85d00f0722df",
              "version_major": 2,
              "version_minor": 0
            },
            "text/plain": [
              "Map:   0%|          | 0/74004228 [00:00<?, ? examples/s]"
            ]
          },
          "metadata": {},
          "output_type": "display_data"
        },
        {
          "metadata": {
            "tags": null
          },
          "name": "stderr",
          "output_type": "stream",
          "text": [
            "Token indices sequence length is longer than the specified maximum sequence length for this model (1119 > 1024). Running this sequence through the model will result in indexing errors\n"
          ]
        }
      ]
    },
    {
      "cell_type": "markdown",
      "id": "a971bbed-2433-4547-bcaf-a845178be0fb",
      "metadata": {
        "editable": true,
        "tags": [],
        "id": "a971bbed-2433-4547-bcaf-a845178be0fb"
      },
      "source": [
        "We did this and stored it as a separate dataset. Now, let's load it from the disk"
      ]
    },
    {
      "cell_type": "code",
      "execution_count": null,
      "id": "2e0283c4-75e8-4dfe-b0de-5e3af014a9d9",
      "metadata": {
        "editable": true,
        "tags": [],
        "id": "2e0283c4-75e8-4dfe-b0de-5e3af014a9d9"
      },
      "outputs": [],
      "source": [
        "ds_chunked = load_from_disk('data/BC_Chunked')"
      ]
    },
    {
      "cell_type": "code",
      "execution_count": null,
      "id": "cf3a04cc-0dcb-4cb5-9765-6d71a3dcfa65",
      "metadata": {
        "editable": true,
        "tags": [],
        "id": "cf3a04cc-0dcb-4cb5-9765-6d71a3dcfa65",
        "outputId": "2968e01f-64cd-4b60-98a4-f8216a29d068"
      },
      "outputs": [
        {
          "name": "stdout",
          "output_type": "stream",
          "text": [
            "Dataset({\n",
            "    features: ['input_ids', 'attention_mask'],\n",
            "    num_rows: 1055117\n",
            "})\n"
          ]
        }
      ],
      "source": [
        "print(ds_chunked)"
      ]
    },
    {
      "cell_type": "markdown",
      "source": [
        "----"
      ],
      "metadata": {
        "id": "hltoG3JdaPeJ"
      },
      "id": "hltoG3JdaPeJ"
    },
    {
      "cell_type": "markdown",
      "id": "c2bc2562-7058-4253-a801-e18136d7e2a2",
      "metadata": {
        "editable": true,
        "tags": [],
        "id": "c2bc2562-7058-4253-a801-e18136d7e2a2"
      },
      "source": [
        "\n",
        "\n",
        "**Quick check:** <br>\n",
        "1. There are 1,055,117 samples. So from <ins> 74 Million samples in the original dataset, we're now down to around 1 Million samples </ins> in the concatenated one.\n",
        "2. Each sample now has a length of **1024**\n",
        "3. Therefore, the total number of tokens is $1055117 \\times 1024 = 1.08$ billion tokens.\n",
        "4. And since we saw that there are about 1 Billion total words in the dataset, and the number of tokens after our modification to the dataset is roughly the same. This confirms that no extra tokens were added."
      ]
    },
    {
      "cell_type": "markdown",
      "id": "31273060-8799-4636-9506-06f1d366f3b7",
      "metadata": {
        "editable": true,
        "tags": [],
        "id": "31273060-8799-4636-9506-06f1d366f3b7"
      },
      "source": [
        "<h1 style=\"color:Tomato;\"> Data Loader </h1>"
      ]
    },
    {
      "cell_type": "markdown",
      "id": "172f73ed-f58a-4d25-be14-5330a3a69623",
      "metadata": {
        "editable": true,
        "tags": [],
        "id": "172f73ed-f58a-4d25-be14-5330a3a69623"
      },
      "source": [
        "**Split this dataset** into **train** and **test** splits (setting seed=42)"
      ]
    },
    {
      "cell_type": "code",
      "execution_count": null,
      "id": "3e835e8b-65aa-4049-83de-431f5982e221",
      "metadata": {
        "editable": true,
        "tags": [],
        "id": "3e835e8b-65aa-4049-83de-431f5982e221",
        "outputId": "41812863-f669-494e-ba6b-2c57eff0d3bc"
      },
      "outputs": [
        {
          "name": "stdout",
          "output_type": "stream",
          "text": [
            "DatasetDict({\n",
            "    train: Dataset({\n",
            "        features: ['input_ids', 'attention_mask'],\n",
            "        num_rows: 1047731\n",
            "    })\n",
            "    test: Dataset({\n",
            "        features: ['input_ids', 'attention_mask'],\n",
            "        num_rows: 7386\n",
            "    })\n",
            "})\n"
          ]
        }
      ],
      "source": [
        "ds_split = ds_chunked.train_test_split(test_size=0.007,seed=42)\n",
        "print(ds_split)"
      ]
    },
    {
      "cell_type": "markdown",
      "id": "bbac30a4-f26e-4e49-a231-388d96b193bd",
      "metadata": {
        "editable": true,
        "tags": [],
        "id": "bbac30a4-f26e-4e49-a231-388d96b193bd"
      },
      "source": [
        "Recall that the `DataLoader` **prepares the data for the model**. The prepartion includes **shuffling** the data, **collating** a batch of samples with or without padding, and distributing it across multiple gpus or nodes"
      ]
    },
    {
      "cell_type": "markdown",
      "id": "21b8bf4f-519c-46de-8e0f-1bad1bb75333",
      "metadata": {
        "editable": true,
        "tags": [],
        "id": "21b8bf4f-519c-46de-8e0f-1bad1bb75333"
      },
      "source": [
        "The collate function varies based on the model's training objective (e.g., **CLM** (causal language modelling), **MLM** (masked language modelling), **PLM**). Therefore, <ins>Hugging Face provides several commonly used collate functions</ins>: <br>\n",
        "1. DataCollatorForSeq2Seq\n",
        "2. DataCollatorForLanguageModelling (this is the one we'll use here)\n",
        "3. DefaultDataCollator\n",
        "\n",
        "[Data collator Docs](https://huggingface.co/docs/transformers/main/main_classes/data_collator)"
      ]
    },
    {
      "cell_type": "code",
      "execution_count": null,
      "id": "7b1a2d00-b9aa-44b4-b279-31274d6ffdce",
      "metadata": {
        "editable": true,
        "tags": [],
        "id": "7b1a2d00-b9aa-44b4-b279-31274d6ffdce"
      },
      "outputs": [],
      "source": [
        "data_collator = DataCollatorForLanguageModeling(tokenizer,mlm=False)"
      ]
    },
    {
      "cell_type": "markdown",
      "id": "01f0fc44-76eb-458d-a5d4-1612af77cc6b",
      "metadata": {
        "editable": true,
        "tags": [],
        "id": "01f0fc44-76eb-458d-a5d4-1612af77cc6b"
      },
      "source": [
        "HF uses this `data_collator` function internally. However, let’s take a closer look at what it does using the `DataLoader` from PyTorch."
      ]
    },
    {
      "cell_type": "code",
      "execution_count": null,
      "id": "aba9dd40-7f43-459c-a622-348be5def3f9",
      "metadata": {
        "editable": true,
        "tags": [],
        "id": "aba9dd40-7f43-459c-a622-348be5def3f9"
      },
      "outputs": [],
      "source": [
        "from torch.utils.data import DataLoader"
      ]
    },
    {
      "cell_type": "markdown",
      "source": [
        "<ins>Let's pass a small batch of 4 samples to the dataloader</ins> and see what happens:"
      ],
      "metadata": {
        "id": "fl9OUikLzaUT"
      },
      "id": "fl9OUikLzaUT"
    },
    {
      "cell_type": "code",
      "execution_count": null,
      "id": "82d1d29a-baf0-4cd1-ac76-12eb86a41980",
      "metadata": {
        "editable": true,
        "tags": [],
        "id": "82d1d29a-baf0-4cd1-ac76-12eb86a41980"
      },
      "outputs": [],
      "source": [
        "dataloader = DataLoader(dataset=ds_split['train'],\n",
        "                        collate_fn=data_collator,\n",
        "                        batch_size=4,\n",
        "                        )"
      ]
    },
    {
      "cell_type": "code",
      "execution_count": null,
      "id": "9b8405ac-bd11-4f42-b35b-ea33d151b27b",
      "metadata": {
        "editable": true,
        "tags": [],
        "id": "9b8405ac-bd11-4f42-b35b-ea33d151b27b",
        "outputId": "375ee7d2-6999-41b0-b70c-b882b3fe9287"
      },
      "outputs": [
        {
          "name": "stdout",
          "output_type": "stream",
          "text": [
            "{'attention_mask': tensor([[1, 1, 1,  ..., 1, 1, 1],\n",
            "        [1, 1, 1,  ..., 1, 1, 1],\n",
            "        [1, 1, 1,  ..., 1, 1, 1],\n",
            "        [1, 1, 1,  ..., 1, 1, 1]]),\n",
            " 'input_ids': tensor([[13769,   644,   262,  ...,  1323,   837,  8591],\n",
            "        [14262,   616, 17841,  ...,   423,   345, 21256],\n",
            "        [17007,   873,   262,  ...,   302,   276,   705],\n",
            "        [  503,   286,   262,  ...,   764,  7091,   550]]),\n",
            " 'labels': tensor([[13769,   644,   262,  ...,  1323,   837,  8591],\n",
            "        [14262,   616, 17841,  ...,   423,   345, 21256],\n",
            "        [17007,   873,   262,  ...,   302,   276,   705],\n",
            "        [  503,   286,   262,  ...,   764,  7091,   550]])}\n"
          ]
        }
      ],
      "source": [
        "for batch in dataloader:\n",
        "    pprint(batch)\n",
        "    break"
      ]
    },
    {
      "cell_type": "markdown",
      "source": [
        "So as you can observe, this is how the inputs are passed to the model: there are the **token ids** for each sample as well as the **attention mask** (indicates which tokens to pay attention to and which to ignore)"
      ],
      "metadata": {
        "id": "T4MvXgltzEX3"
      },
      "id": "T4MvXgltzEX3"
    },
    {
      "cell_type": "markdown",
      "id": "e9103779-f938-42fd-8fa3-911592551eb7",
      "metadata": {
        "editable": true,
        "tags": [],
        "id": "e9103779-f938-42fd-8fa3-911592551eb7"
      },
      "source": [
        "Also note that :\n",
        "1. It returns (by default) the attributes as PyTorch `tensor` objects instead of Python `lists`."
      ]
    },
    {
      "cell_type": "markdown",
      "id": "bcb1fd77-f940-4343-b858-70a5b8b66212",
      "metadata": {
        "editable": true,
        "tags": [],
        "id": "bcb1fd77-f940-4343-b858-70a5b8b66212"
      },
      "source": [
        "2. It also returns the labels; for CLM, the `input_ids` serve as the labels with a shift (the shift happens in the training loop)."
      ]
    },
    {
      "cell_type": "markdown",
      "id": "da84352f-e6f2-47f8-a8d2-2cf53f8c6886",
      "metadata": {
        "editable": true,
        "tags": [],
        "id": "da84352f-e6f2-47f8-a8d2-2cf53f8c6886"
      },
      "source": [
        "<h1 style=\"color:Tomato;\"> Initialize the Model </h1>"
      ]
    },
    {
      "cell_type": "markdown",
      "id": "50d17dd6-b1b4-40e2-8c4f-2763e817172c",
      "metadata": {
        "editable": true,
        "tags": [],
        "id": "50d17dd6-b1b4-40e2-8c4f-2763e817172c"
      },
      "source": [
        "We can build the model in PyTorch and Wrap it using HF `PreTrainedConfig` class"
      ]
    },
    {
      "cell_type": "markdown",
      "id": "898c1e5f-14e1-4c19-beac-09b7e62dc4bf",
      "metadata": {
        "editable": true,
        "tags": [],
        "id": "898c1e5f-14e1-4c19-beac-09b7e62dc4bf"
      },
      "source": [
        "<ins>HF already has the GPT architecture built in</ins>, with over 350,000 models available in the hub. We can load these models and **modify the configuration** to customize."
      ]
    },
    {
      "cell_type": "code",
      "execution_count": null,
      "id": "a2c640bb-c689-4d58-b6bd-efbad288453b",
      "metadata": {
        "editable": true,
        "tags": [],
        "id": "a2c640bb-c689-4d58-b6bd-efbad288453b",
        "outputId": "a8ceadab-8a53-41f3-fe6d-6af38b8b1b18",
        "colab": {
          "base_uri": "https://localhost:8080/"
        }
      },
      "outputs": [
        {
          "output_type": "stream",
          "name": "stdout",
          "text": [
            "GPT2Config {\n",
            "  \"activation_function\": \"gelu_new\",\n",
            "  \"attn_pdrop\": 0.1,\n",
            "  \"bos_token_id\": 50256,\n",
            "  \"embd_pdrop\": 0.1,\n",
            "  \"eos_token_id\": 50256,\n",
            "  \"initializer_range\": 0.02,\n",
            "  \"layer_norm_epsilon\": 1e-05,\n",
            "  \"model_type\": \"gpt2\",\n",
            "  \"n_embd\": 768,\n",
            "  \"n_head\": 12,\n",
            "  \"n_inner\": null,\n",
            "  \"n_layer\": 12,\n",
            "  \"n_positions\": 1024,\n",
            "  \"reorder_and_upcast_attn\": false,\n",
            "  \"resid_pdrop\": 0.1,\n",
            "  \"scale_attn_by_inverse_layer_idx\": false,\n",
            "  \"scale_attn_weights\": true,\n",
            "  \"summary_activation\": null,\n",
            "  \"summary_first_dropout\": 0.1,\n",
            "  \"summary_proj_to_labels\": true,\n",
            "  \"summary_type\": \"cls_index\",\n",
            "  \"summary_use_proj\": true,\n",
            "  \"transformers_version\": \"4.44.2\",\n",
            "  \"use_cache\": true,\n",
            "  \"vocab_size\": 50257\n",
            "}\n",
            "\n"
          ]
        }
      ],
      "source": [
        "# download the GPT2 Config from HF\n",
        "\n",
        "configuration = GPT2Config()\n",
        "pprint(configuration)"
      ]
    },
    {
      "cell_type": "markdown",
      "id": "f316a28c-d906-45df-ba09-4661b083bcaf",
      "metadata": {
        "editable": true,
        "tags": [],
        "id": "f316a28c-d906-45df-ba09-4661b083bcaf"
      },
      "source": [
        "Now, we can **build the model** with the Language Modelling head with the weights **initialized randomly**"
      ]
    },
    {
      "cell_type": "code",
      "execution_count": null,
      "id": "b52143c4-4a6c-477e-bcf2-f26b1759a5be",
      "metadata": {
        "editable": true,
        "tags": [],
        "id": "b52143c4-4a6c-477e-bcf2-f26b1759a5be"
      },
      "outputs": [],
      "source": [
        "# build the model by passing it the GPT2 config\n",
        "model = GPT2LMHeadModel(configuration)"
      ]
    },
    {
      "cell_type": "code",
      "execution_count": null,
      "id": "7acc6202-6152-4c4f-ba22-e99d95ad9701",
      "metadata": {
        "editable": true,
        "tags": [],
        "id": "7acc6202-6152-4c4f-ba22-e99d95ad9701",
        "outputId": "18f5345b-2715-4cd6-f1d5-61e7405de6c6",
        "colab": {
          "base_uri": "https://localhost:8080/"
        }
      },
      "outputs": [
        {
          "output_type": "stream",
          "name": "stdout",
          "text": [
            "GPT2LMHeadModel(\n",
            "  (transformer): GPT2Model(\n",
            "    (wte): Embedding(50257, 768)\n",
            "    (wpe): Embedding(1024, 768)\n",
            "    (drop): Dropout(p=0.1, inplace=False)\n",
            "    (h): ModuleList(\n",
            "      (0-11): 12 x GPT2Block(\n",
            "        (ln_1): LayerNorm((768,), eps=1e-05, elementwise_affine=True)\n",
            "        (attn): GPT2SdpaAttention(\n",
            "          (c_attn): Conv1D()\n",
            "          (c_proj): Conv1D()\n",
            "          (attn_dropout): Dropout(p=0.1, inplace=False)\n",
            "          (resid_dropout): Dropout(p=0.1, inplace=False)\n",
            "        )\n",
            "        (ln_2): LayerNorm((768,), eps=1e-05, elementwise_affine=True)\n",
            "        (mlp): GPT2MLP(\n",
            "          (c_fc): Conv1D()\n",
            "          (c_proj): Conv1D()\n",
            "          (act): NewGELUActivation()\n",
            "          (dropout): Dropout(p=0.1, inplace=False)\n",
            "        )\n",
            "      )\n",
            "    )\n",
            "    (ln_f): LayerNorm((768,), eps=1e-05, elementwise_affine=True)\n",
            "  )\n",
            "  (lm_head): Linear(in_features=768, out_features=50257, bias=False)\n",
            ")\n"
          ]
        }
      ],
      "source": [
        "print(model)"
      ]
    },
    {
      "cell_type": "markdown",
      "id": "cf3c31e3-e782-488e-bcf6-20507faf44d9",
      "metadata": {
        "editable": true,
        "tags": [],
        "id": "cf3c31e3-e782-488e-bcf6-20507faf44d9"
      },
      "source": [
        "**Quick Check:** vocab size: 50257, embedding dim: 768, learnable position embedding (pe), uses Scaled Dot Product Attention (SDPA)"
      ]
    },
    {
      "cell_type": "markdown",
      "id": "969e19f6-063c-47c4-aefd-f40d8dadce45",
      "metadata": {
        "editable": true,
        "tags": [],
        "id": "969e19f6-063c-47c4-aefd-f40d8dadce45"
      },
      "source": [
        "Finally, let's **count the number of Parameters** in this GPT2 Model:"
      ]
    },
    {
      "cell_type": "code",
      "execution_count": null,
      "id": "a0540169-cc4b-49f8-a2d2-2634c44c7f79",
      "metadata": {
        "editable": true,
        "tags": [],
        "id": "a0540169-cc4b-49f8-a2d2-2634c44c7f79",
        "outputId": "1427a871-f0d3-4911-c8d8-000ec0d23abb",
        "colab": {
          "base_uri": "https://localhost:8080/"
        }
      },
      "outputs": [
        {
          "output_type": "stream",
          "name": "stdout",
          "text": [
            "Number of Parameters:124.44M\n"
          ]
        }
      ],
      "source": [
        "num_parameters = 0\n",
        "for param in model.parameters():\n",
        "    num_parameters += param.numel()\n",
        "print(f'Number of Parameters:{num_parameters/10**6:.2f}M')"
      ]
    },
    {
      "cell_type": "markdown",
      "id": "5597d0d2-f1eb-4e37-8e1a-9ea34cd42acc",
      "metadata": {
        "editable": true,
        "tags": [],
        "id": "5597d0d2-f1eb-4e37-8e1a-9ea34cd42acc"
      },
      "source": [
        "<h1 style=\"color:Tomato;\"> Train the Model </h1>"
      ]
    },
    {
      "cell_type": "markdown",
      "id": "1aaec482-0201-4a69-b31a-3c67841177e0",
      "metadata": {
        "editable": true,
        "tags": [],
        "id": "1aaec482-0201-4a69-b31a-3c67841177e0"
      },
      "source": [
        "Training a model requires the following sequence of operations as shown in the figure below:"
      ]
    },
    {
      "cell_type": "markdown",
      "id": "77fafdf1-b933-4364-aea1-132335390372",
      "metadata": {
        "editable": true,
        "tags": [],
        "id": "77fafdf1-b933-4364-aea1-132335390372"
      },
      "source": [
        "<img src=\"https://raw.githubusercontent.com/Arunprakash-A/Modern-NLP-with-Hugging-Face/refs/heads/main/Notebooks/images/training_loop.png\">"
      ]
    },
    {
      "cell_type": "markdown",
      "id": "32949427-e70f-42b8-8b18-69a61d78961d",
      "metadata": {
        "editable": true,
        "tags": [],
        "id": "32949427-e70f-42b8-8b18-69a61d78961d"
      },
      "source": [
        "**Training Pipeline:**\n",
        "\n",
        "1. Get a batch of samples.\n",
        "2. Make predictions.\n",
        "3. Compute loss.\n",
        "4. Compute gradients.\n",
        "5. Choose a learning rate scheduler.\n",
        "6. Choose an optimizer and set its hyperparameters.\n",
        "7. Update the weights.\n",
        "8. repeat until a criterion is met (convergence, compute credits, time,etc.,)"
      ]
    },
    {
      "cell_type": "markdown",
      "id": "efb22161-85e5-4c05-b92d-3508d299c822",
      "metadata": {
        "editable": true,
        "tags": [],
        "id": "efb22161-85e5-4c05-b92d-3508d299c822"
      },
      "source": [
        "Apart from these steps, we may need to set parameters for [efficient training](https://huggingface.co/docs/transformers/v4.29.1/en/perf_train_gpu_one) strategies in both single and multi-GPU settings, as well as perform experiment tracking and logging."
      ]
    },
    {
      "cell_type": "markdown",
      "id": "7c2466df-7dfb-45ab-b92a-dec7336c46c9",
      "metadata": {
        "editable": true,
        "tags": [],
        "id": "7c2466df-7dfb-45ab-b92a-dec7336c46c9"
      },
      "source": [
        "We use [wandb](https://wandb.ai) for experiment tracking."
      ]
    },
    {
      "cell_type": "markdown",
      "id": "6a522606-c002-4cb3-98fd-f7dcdb26b69f",
      "metadata": {
        "editable": true,
        "tags": [],
        "id": "6a522606-c002-4cb3-98fd-f7dcdb26b69f"
      },
      "source": [
        "```python\n",
        "wandb.init(\n",
        "    project=\"DLP-GPT2-Node-1\",     \n",
        "    config={\n",
        "        \"batch_size\":16,        \n",
        "        \"dataset\": \"Bookcorpus-74M\",\n",
        "    },\n",
        ")\n",
        "```"
      ]
    },
    {
      "cell_type": "markdown",
      "id": "d751ac83-23b2-413a-8cb0-98250c28b9a7",
      "metadata": {
        "editable": true,
        "tags": [],
        "id": "d751ac83-23b2-413a-8cb0-98250c28b9a7"
      },
      "source": [
        "All these training complexities are managed by two functions from the Transformers library: **`TrainingArguments`** and **`Trainer`**."
      ]
    },
    {
      "cell_type": "markdown",
      "id": "3fa81302-7b50-4664-b08e-e10cf8b82bde",
      "metadata": {
        "editable": true,
        "tags": [],
        "id": "3fa81302-7b50-4664-b08e-e10cf8b82bde"
      },
      "source": [
        "Let's look at a few **important arguments**:"
      ]
    },
    {
      "cell_type": "markdown",
      "id": "d4afe7f9-40ea-4c72-afed-09841cbddf58",
      "metadata": {
        "editable": true,
        "tags": [],
        "id": "d4afe7f9-40ea-4c72-afed-09841cbddf58"
      },
      "source": [
        "- `eval_steps`: For eg: compute validation loss every 500 steps.<br>\n",
        "- `per_device_train_batch_size`: 8 samples (requires about 27 GB of memory). <br>\n",
        "- `per_device_eval_batch_size` : 8 samples (can be larger since gradients are not computed).<br>\n",
        "- `tf32`: whether or not to use the tf32 datatype (for matrix multiplication) to increase computation speed.<br>\n",
        "- `bf16`: whether or not to use the bf16 (high dynamic range) for mixed precision training.<br>\n",
        "- `fp16`: whether or not to use the fp16 (low dynamic range) for mixed precision training. <br>\n",
        "- `num_train_epochs`: 1 (budget is the bottleneck)<br>\n",
        "- `save_steps`: Fo eg: store model checkpoints every 1000 steps (after processing 8 million tokens).\n",
        "    - Saves the state of the model after every `x` steps. Its a good idea to save the state so that in case there's some error during the training, you can restore the model state and continue training from the last checkpoint instead of starting from scratch."
      ]
    },
    {
      "cell_type": "code",
      "execution_count": null,
      "id": "704291aa-fb8e-4f44-82e0-8a6aac04b8ea",
      "metadata": {
        "editable": true,
        "tags": [],
        "id": "704291aa-fb8e-4f44-82e0-8a6aac04b8ea"
      },
      "outputs": [],
      "source": [
        "training_args = TrainingArguments( output_dir='out',\n",
        "                                  eval_strategy=\"steps\",\n",
        "                                  eval_steps=500,\n",
        "                                  num_train_epochs=1,\n",
        "                                  per_device_train_batch_size=8,\n",
        "                                  per_device_eval_batch_size=8,\n",
        "                                  bf16=False,\n",
        "                                  fp16=False,\n",
        "                                  tf32=False,\n",
        "                                  adam_beta1=0.9,\n",
        "                                  adam_beta2=0.999,\n",
        "                                  learning_rate=2e-5,\n",
        "                                  weight_decay=0.01,\n",
        "                                  gradient_accumulation_steps=1,\n",
        "                                  logging_strategy=\"steps\",\n",
        "                                  logging_steps = 500,\n",
        "                                  save_steps=1000,\n",
        "                                  save_total_limit=15,\n",
        "                                  report_to='wandb',\n",
        "                                 )\n"
      ]
    },
    {
      "cell_type": "markdown",
      "id": "5642c0af-3909-45ad-bf66-366459151dfd",
      "metadata": {
        "editable": true,
        "tags": [],
        "id": "5642c0af-3909-45ad-bf66-366459151dfd"
      },
      "source": [
        "Finally, let's use the **`Trainer`** API to set up the entire training pipeline:"
      ]
    },
    {
      "cell_type": "code",
      "execution_count": null,
      "id": "8a2315f2-e173-46bf-92a1-f0c931e0007d",
      "metadata": {
        "editable": true,
        "tags": [],
        "id": "8a2315f2-e173-46bf-92a1-f0c931e0007d"
      },
      "outputs": [],
      "source": [
        "trainer = Trainer(model=model,\n",
        "                 args = training_args,\n",
        "                 train_dataset=ds_split[\"train\"],\n",
        "                 eval_dataset= ds_split[\"test\"],\n",
        "                 data_collator = data_collator)"
      ]
    },
    {
      "cell_type": "markdown",
      "id": "5833996e-3d5a-458e-9466-d08e7adad214",
      "metadata": {
        "editable": true,
        "tags": [],
        "id": "5833996e-3d5a-458e-9466-d08e7adad214"
      },
      "source": [
        "Just call `.train()` method, sit back, and watch for OOM error :-)"
      ]
    },
    {
      "cell_type": "markdown",
      "id": "8c206648-42b6-48e3-9a81-3d88ad6c74fb",
      "metadata": {
        "editable": true,
        "tags": [],
        "id": "8c206648-42b6-48e3-9a81-3d88ad6c74fb"
      },
      "source": [
        "```python\n",
        "results = trainer.train()\n",
        "```"
      ]
    },
    {
      "cell_type": "markdown",
      "id": "00d31c8f-ff58-4593-a97f-1faabaf28757",
      "metadata": {
        "editable": true,
        "tags": [],
        "id": "00d31c8f-ff58-4593-a97f-1faabaf28757"
      },
      "source": [
        "<img src=\"https://raw.githubusercontent.com/Arunprakash-A/Modern-NLP-with-Hugging-Face/refs/heads/main/Notebooks/images/sample_out.png\">"
      ]
    },
    {
      "cell_type": "markdown",
      "id": "ec64543a-a447-45a6-a7a5-ae1a59089d12",
      "metadata": {
        "editable": true,
        "tags": [],
        "id": "ec64543a-a447-45a6-a7a5-ae1a59089d12"
      },
      "source": [
        "We ran the model on three different GPUs: <br>\n",
        "1. V100 with **32 GB** (no support for: tf32, bf16)\n",
        "2. 2xL4 **48 GB** (supports bf16,tf32)\n",
        "3. A node with A100 **80 GB** (supports bf16, tf32)"
      ]
    },
    {
      "cell_type": "markdown",
      "id": "0826c8bc-74f3-4493-9531-add5c17f1c6d",
      "metadata": {
        "editable": true,
        "tags": [],
        "id": "0826c8bc-74f3-4493-9531-add5c17f1c6d"
      },
      "source": [
        "<h1 style=\"color:Tomato;\"> Efficient Training </h1>"
      ]
    },
    {
      "cell_type": "markdown",
      "id": "54dd8b1b-ba41-404e-a0e4-5fb708d84eea",
      "metadata": {
        "editable": true,
        "tags": [],
        "id": "54dd8b1b-ba41-404e-a0e4-5fb708d84eea"
      },
      "source": [
        "We know that increasing the batch size helps achieve faster convergence. However, for a given GPU, how can we increase the batch size without raising an OOM error?"
      ]
    },
    {
      "cell_type": "markdown",
      "id": "c54d0830-1d7e-4a2a-8a9a-bc56a2a84d8d",
      "metadata": {
        "editable": true,
        "tags": [],
        "id": "c54d0830-1d7e-4a2a-8a9a-bc56a2a84d8d"
      },
      "source": [
        "**How can we increase computation speed?**"
      ]
    },
    {
      "cell_type": "markdown",
      "id": "f3935ca4-b977-47b0-b2c9-9168f848e60f",
      "metadata": {
        "editable": true,
        "tags": [],
        "id": "f3935ca4-b977-47b0-b2c9-9168f848e60f"
      },
      "source": [
        "Setting following arguments help us achieve these objectives <br>\n",
        "`tf32`: whether or not to use the tf32 datatype (for matrix multiplication) to increase computation speed.<br>\n",
        "`bf16`: whether or not to use bf16 (high dynamic range) for mixed precision training.<br>\n",
        "`fp16`: whether or not to use fp16 (low dynamic range) for mixed precision training. <br>\n",
        "`gradient_accumulation_steps`: Use gradient accumulation for increased batch size"
      ]
    },
    {
      "cell_type": "markdown",
      "id": "750370e4-3dc1-41b6-8ab5-d36f3fbd1ba9",
      "metadata": {
        "editable": true,
        "tags": [],
        "id": "750370e4-3dc1-41b6-8ab5-d36f3fbd1ba9"
      },
      "source": [
        "We will not go into the details; you may refer to this [page]((https://huggingface.co/docs/transformers/v4.29.1/en/perf_train_gpu_one)) on HF."
      ]
    },
    {
      "cell_type": "markdown",
      "id": "42190397-8a5c-4c12-a1a4-19fd57b5797a",
      "metadata": {
        "editable": true,
        "tags": [],
        "id": "42190397-8a5c-4c12-a1a4-19fd57b5797a"
      },
      "source": [
        "However, we have used a combination of these arguments to demonstrate how they are helpful."
      ]
    },
    {
      "cell_type": "markdown",
      "id": "0bf58fb1-49ef-4b44-9861-a3023e922258",
      "metadata": {
        "editable": true,
        "tags": [],
        "id": "0bf58fb1-49ef-4b44-9861-a3023e922258"
      },
      "source": [
        "<h1 style=\"color:Tomato;\"> Experiment Tracking with WandB </h1>"
      ]
    },
    {
      "cell_type": "code",
      "execution_count": null,
      "id": "06f96694-c969-4df2-881a-ebe31659b327",
      "metadata": {
        "editable": true,
        "tags": [],
        "id": "06f96694-c969-4df2-881a-ebe31659b327",
        "outputId": "5c8116f5-c7b3-484d-d325-a33985abdbaf",
        "colab": {
          "base_uri": "https://localhost:8080/",
          "height": 621
        }
      },
      "outputs": [
        {
          "output_type": "execute_result",
          "data": {
            "text/plain": [
              "<IPython.lib.display.IFrame at 0x7d01eb82e320>"
            ],
            "text/html": [
              "\n",
              "        <iframe\n",
              "            width=\"100%\"\n",
              "            height=\"600\"\n",
              "            src=\"https://wandb.ai/a-arun283-iit-madras/DLP-GPT2-Node-1/reports/DLP-PreTraining-GPT-2--Vmlldzo5NTgxMTUx\"\n",
              "            frameborder=\"0\"\n",
              "            allowfullscreen\n",
              "            \n",
              "        ></iframe>\n",
              "        "
            ]
          },
          "metadata": {},
          "execution_count": 25
        }
      ],
      "source": [
        "from IPython.display import IFrame\n",
        "IFrame(\"https://wandb.ai/a-arun283-iit-madras/DLP-GPT2-Node-1/reports/DLP-PreTraining-GPT-2--Vmlldzo5NTgxMTUx\", width=\"100%\", height=600)"
      ]
    },
    {
      "cell_type": "markdown",
      "id": "b080e6b2-97d8-4d08-82af-cce9f1d62ccf",
      "metadata": {
        "editable": true,
        "tags": [],
        "id": "b080e6b2-97d8-4d08-82af-cce9f1d62ccf"
      },
      "source": [
        "<h1 style=\"color:Tomato;\"> Text Generation </h1>"
      ]
    },
    {
      "cell_type": "markdown",
      "id": "f80e1580-6246-4cf5-85c4-5128de1fc54a",
      "metadata": {
        "editable": true,
        "tags": [],
        "id": "f80e1580-6246-4cf5-85c4-5128de1fc54a"
      },
      "source": [
        "We can load the model with the pretrained weights, which now come from different checkpoints stored in the `out/checkpoint-xxxx/` directory. For example: checkpoint-1000 contains the model after 1000 steps and so on"
      ]
    },
    {
      "cell_type": "markdown",
      "source": [
        "Let's test the model after 1000 steps. By this time, it has seen 131 Million tokens.\n",
        "\n",
        "Let's first download the model checkpoints after 1000 steps from google drive as provided by the instructors:"
      ],
      "metadata": {
        "id": "yIRLx109Vsbq"
      },
      "id": "yIRLx109Vsbq"
    },
    {
      "cell_type": "code",
      "source": [
        "!gdown 1WHnGCeUC3bgZC2SMmesJgZtPaWC_wboR"
      ],
      "metadata": {
        "id": "Pdaa8PlYF5px",
        "outputId": "59f61144-578c-4ede-b465-2a8dd74540b8",
        "colab": {
          "base_uri": "https://localhost:8080/"
        }
      },
      "id": "Pdaa8PlYF5px",
      "execution_count": 24,
      "outputs": [
        {
          "output_type": "stream",
          "name": "stdout",
          "text": [
            "Downloading...\n",
            "From (original): https://drive.google.com/uc?id=1WHnGCeUC3bgZC2SMmesJgZtPaWC_wboR\n",
            "From (redirected): https://drive.google.com/uc?id=1WHnGCeUC3bgZC2SMmesJgZtPaWC_wboR&confirm=t&uuid=66a8c8ba-06a9-4413-a509-ca6961bc9fa0\n",
            "To: /content/checkpoint-1000.zip\n",
            "100% 1.37G/1.37G [00:17<00:00, 77.5MB/s]\n"
          ]
        }
      ]
    },
    {
      "cell_type": "code",
      "source": [
        "# unzip /content/checkpoint-1000.zip to /content/out/\n",
        "!mkdir /content/out/\n",
        "!unzip /content/checkpoint-1000.zip -d /content/out/"
      ],
      "metadata": {
        "id": "z7wB2JdLGDI7",
        "outputId": "bcd1f5be-434d-4bad-8c2f-6f68b1be8057",
        "colab": {
          "base_uri": "https://localhost:8080/"
        }
      },
      "id": "z7wB2JdLGDI7",
      "execution_count": 35,
      "outputs": [
        {
          "output_type": "stream",
          "name": "stdout",
          "text": [
            "mkdir: cannot create directory ‘/content/out/’: File exists\n",
            "Archive:  /content/checkpoint-1000.zip\n",
            "  inflating: /content/out/checkpoint-1000/trainer_state.json  \n",
            "  inflating: /content/out/checkpoint-1000/generation_config.json  \n",
            "  inflating: /content/out/checkpoint-1000/scheduler.pt  \n",
            "  inflating: /content/out/checkpoint-1000/rng_state.pth  \n",
            "  inflating: /content/out/checkpoint-1000/config.json  \n",
            "  inflating: /content/out/checkpoint-1000/model.safetensors  \n",
            "  inflating: /content/out/checkpoint-1000/training_args.bin  \n",
            "  inflating: /content/out/checkpoint-1000/optimizer.pt  \n"
          ]
        }
      ]
    },
    {
      "cell_type": "markdown",
      "source": [
        "Load the model from the checkpoints:"
      ],
      "metadata": {
        "id": "gcGISPmCH0H-"
      },
      "id": "gcGISPmCH0H-"
    },
    {
      "cell_type": "code",
      "execution_count": 36,
      "id": "fe8d4391-89fd-49a5-8bf9-85f05f9830cf",
      "metadata": {
        "editable": true,
        "tags": [],
        "id": "fe8d4391-89fd-49a5-8bf9-85f05f9830cf"
      },
      "outputs": [],
      "source": [
        "#after seeing 128(bs)*1024(n_ctxt)*1000(steps)=131 million tokens\n",
        "model = GPT2LMHeadModel.from_pretrained('/content/out/checkpoint-1000/')"
      ]
    },
    {
      "cell_type": "markdown",
      "id": "477b37f2-150e-4041-8c04-c6b37f1a3cee",
      "metadata": {
        "editable": true,
        "tags": [],
        "id": "477b37f2-150e-4041-8c04-c6b37f1a3cee"
      },
      "source": [
        "**Note:** We must ensure that the input to the model is a PyTorch tensor.\n",
        "\n",
        "Let's try prompting this model now. First we'll need to **tokenize** it before passing the input to the model. **We need to pass the token_ids and attention mask to the model**:"
      ]
    },
    {
      "cell_type": "code",
      "execution_count": 37,
      "id": "e0bb789f-3c51-4fa0-b209-9e61ea30998e",
      "metadata": {
        "editable": true,
        "tags": [],
        "id": "e0bb789f-3c51-4fa0-b209-9e61ea30998e",
        "outputId": "56a27363-8702-4004-fcb6-d1345557e3da",
        "colab": {
          "base_uri": "https://localhost:8080/"
        }
      },
      "outputs": [
        {
          "output_type": "stream",
          "name": "stdout",
          "text": [
            "{'input_ids': tensor([[1616,  514,  423,  257, 1257, 1909,   13, 1867,  466,  345,  910,   30]]), 'attention_mask': tensor([[1, 1, 1, 1, 1, 1, 1, 1, 1, 1, 1, 1]])}\n"
          ]
        }
      ],
      "source": [
        "prompt = \"let us have a fun today. What do you say?\"\n",
        "inputs = tokenizer(prompt, return_tensors='pt', padding=True) # return torch tensor\n",
        "print(inputs)"
      ]
    },
    {
      "cell_type": "markdown",
      "id": "8bb0472e-424d-45f5-ab54-68f8cfae376c",
      "metadata": {
        "editable": true,
        "tags": [],
        "id": "8bb0472e-424d-45f5-ab54-68f8cfae376c"
      },
      "source": [
        "* Generate `100` tokens\n",
        "* Use `top-p` decoding strategy. Refer to Week 3 of [Introduction to Large Language Models](http://www.cse.iitm.ac.in/~miteshk/llm-course.html) for more information on various decoding strategies.\n",
        "* You may visit the [documentation](https://huggingface.co/docs/transformers/v4.45.1/en/generation_strategies#text-generation-strategies) to explore all available decoding strategies in HF"
      ]
    },
    {
      "cell_type": "markdown",
      "id": "15c0e1c4-6e75-4b63-9887-f501539fa296",
      "metadata": {
        "editable": true,
        "tags": [],
        "id": "15c0e1c4-6e75-4b63-9887-f501539fa296"
      },
      "source": [
        "We can call `.generate()` method of the model and pass the inputs (**inputs unpack all the keys (`input_ids`,`attention_mask`,..))"
      ]
    },
    {
      "cell_type": "code",
      "execution_count": 38,
      "id": "9e325493-748f-4a16-add3-dd9ed47c04ff",
      "metadata": {
        "editable": true,
        "tags": [],
        "id": "9e325493-748f-4a16-add3-dd9ed47c04ff",
        "outputId": "20c8c4c0-8aea-4206-e25c-7ea3a61b3e56",
        "colab": {
          "base_uri": "https://localhost:8080/"
        }
      },
      "outputs": [
        {
          "output_type": "stream",
          "name": "stderr",
          "text": [
            "Setting `pad_token_id` to `eos_token_id`:50256 for open-end generation.\n"
          ]
        },
        {
          "output_type": "stream",
          "name": "stdout",
          "text": [
            "tensor([[ 1616,   514,   423,   257,  1257,  1909,    13,  1867,   466,   345,\n",
            "           910,    30, 10148, 15506,   345,   760,   345,   765,   284,   466,\n",
            "           326,  5633, 10148, 15506,  1312,   460,   466,   326,   764,    72,\n",
            "           705,    76,   407,  1016,   284,   466,   299,   470,   765,   345,\n",
            "           284,   651,   284,   651,   534,  3956,   837,   475,  1312,   705,\n",
            "            82,   587,   523,  1312,   705,    76,   407,   284,   651,   340,\n",
            "           503,   286,   345,   764,    72,   760,   326,   837,  1312,   466,\n",
            "           299,   470,   765,   284,   307,   764,   270,   373,   287,   262,\n",
            "           835,   340,   764,   392,  1312,   423,   587,   257,  1310,   981,\n",
            "           340,   837,  1312,   705,    76,   407,  1016,   284,   651,   284,\n",
            "           651,   262,  3420,   764,   270,   373,   299,   470,   588,   257,\n",
            "          1310,   517]])\n"
          ]
        }
      ],
      "source": [
        "outputs = model.generate(**inputs, max_new_tokens=100, do_sample=True, top_k=10, top_p=0.95)\n",
        "print(outputs)"
      ]
    },
    {
      "cell_type": "markdown",
      "id": "e7507644-3575-49d0-abc0-a39a91f4445e",
      "metadata": {
        "editable": true,
        "tags": [],
        "id": "e7507644-3575-49d0-abc0-a39a91f4445e"
      },
      "source": [
        "First, we need to convert the predicted token_ids back to tokens, and then to words using the tokenizer's decoder."
      ]
    },
    {
      "cell_type": "code",
      "execution_count": 40,
      "id": "62014bf2-f6af-4556-9c7f-dea329b1bf90",
      "metadata": {
        "editable": true,
        "tags": [],
        "id": "62014bf2-f6af-4556-9c7f-dea329b1bf90",
        "outputId": "a3cb9aeb-ca25-430c-ea61-5e49821d9e5b",
        "colab": {
          "base_uri": "https://localhost:8080/"
        }
      },
      "outputs": [
        {
          "output_type": "execute_result",
          "data": {
            "text/plain": [
              "[\"let us have a fun today. What do you say? ''`` you know you want to do that? ''`` i can do that.i'm not going to don't want you to get to get your brother, but i's been so i'm not to get it out of you.i know that, i don't want to be.it was in the way it.and i have been a little while it, i'm not going to get to get the door.it wasn't like a little more\"]"
            ]
          },
          "metadata": {},
          "execution_count": 40
        }
      ],
      "source": [
        "tokenizer.batch_decode(outputs, skip_special_tokens=True)"
      ]
    },
    {
      "cell_type": "markdown",
      "source": [
        "As you can see, the generated output is pretty bad. Its not very coherent and doesn't make much sense."
      ],
      "metadata": {
        "id": "ScMhfnZuWLV0"
      },
      "id": "ScMhfnZuWLV0"
    },
    {
      "cell_type": "markdown",
      "id": "ab31fe4a-f4f2-4703-bea7-799b7938356f",
      "metadata": {
        "editable": true,
        "tags": [],
        "id": "ab31fe4a-f4f2-4703-bea7-799b7938356f"
      },
      "source": [
        "**Checkpoint-4000:** (After 4000 steps; after seeing 520 million tokens)"
      ]
    },
    {
      "cell_type": "code",
      "execution_count": null,
      "id": "d486618d-2e12-4a14-bd48-a1739a6cdcb3",
      "metadata": {
        "editable": true,
        "tags": [],
        "id": "d486618d-2e12-4a14-bd48-a1739a6cdcb3",
        "outputId": "1ff190cc-7a5f-495f-d119-ac3596aa6a18"
      },
      "outputs": [
        {
          "name": "stderr",
          "output_type": "stream",
          "text": [
            "Setting `pad_token_id` to `eos_token_id`:50256 for open-end generation.\n"
          ]
        },
        {
          "data": {
            "text/plain": [
              "[\"let us have a fun today. What do you say? ''`` what's going on? ''i'm a little bit, but it's all i'm sure i'm not going to know.`` what's going on? ''i ask, trying to get up with it.`` don't think of anything, '' i say, looking at him.`` i'm not going to be a big deal. ''he's still trying to make me feel the way out of my mouth.`` and i '\"]"
            ]
          },
          "execution_count": 28,
          "metadata": {},
          "output_type": "execute_result"
        }
      ],
      "source": [
        "model =GPT2LMHeadModel.from_pretrained('out/checkpoint-4000/')\n",
        "prompt = \"let us have a fun today. What do you say?\"\n",
        "inputs = tokenizer(prompt,return_tensors='pt',padding=True)\n",
        "outputs = model.generate(**inputs, max_new_tokens=100, do_sample=True, top_k=10, top_p=0.95)\n",
        "tokenizer.batch_decode(outputs, skip_special_tokens=True)"
      ]
    },
    {
      "cell_type": "markdown",
      "id": "e8ace163-024d-4fed-88b8-f784681ad8b6",
      "metadata": {
        "editable": true,
        "tags": [],
        "id": "e8ace163-024d-4fed-88b8-f784681ad8b6"
      },
      "source": [
        "**Checkpoint-8000:** (after seeing all the 1 billion tokens)"
      ]
    },
    {
      "cell_type": "code",
      "execution_count": null,
      "id": "a959370f-58d7-4cde-9827-fccb3eb4495a",
      "metadata": {
        "editable": true,
        "tags": [],
        "id": "a959370f-58d7-4cde-9827-fccb3eb4495a",
        "outputId": "06abcd2d-ea87-4988-8c81-fb1f904cf184"
      },
      "outputs": [
        {
          "name": "stderr",
          "output_type": "stream",
          "text": [
            "Setting `pad_token_id` to `eos_token_id`:50256 for open-end generation.\n"
          ]
        },
        {
          "data": {
            "text/plain": [
              "[\"let us have a fun today. What do you say? ''`` i know, '' i answered.`` i don't know how to start with you. ''`` i'm not going to have to tell you the truth. ''i nodded, trying to make a face of a smile.i didn't care if she was being an ass**le.i knew how long i 'd been in my life when i 'd been a man, and i had to make the right thing up to her.`` what? ''`` what\"]"
            ]
          },
          "execution_count": 29,
          "metadata": {},
          "output_type": "execute_result"
        }
      ],
      "source": [
        "model =GPT2LMHeadModel.from_pretrained('out/checkpoint-8185/')\n",
        "prompt = \"let us have a fun today. What do you say?\"\n",
        "inputs = tokenizer(prompt,return_tensors='pt',padding=True)\n",
        "outputs = model.generate(**inputs, max_new_tokens=100, do_sample=True, top_k=10, top_p=0.95)\n",
        "tokenizer.batch_decode(outputs, skip_special_tokens=True)"
      ]
    },
    {
      "cell_type": "markdown",
      "source": [
        "The generated text is much better than before. Its not really answering the prompt in a way you'd expect but its at least generating somewhat coherent outputs."
      ],
      "metadata": {
        "id": "02yB5M_FWb0_"
      },
      "id": "02yB5M_FWb0_"
    }
  ],
  "metadata": {
    "kernelspec": {
      "display_name": "Python 3 (ipykernel)",
      "language": "python",
      "name": "python3"
    },
    "language_info": {
      "codemirror_mode": {
        "name": "ipython",
        "version": 3
      },
      "file_extension": ".py",
      "mimetype": "text/x-python",
      "name": "python",
      "nbconvert_exporter": "python",
      "pygments_lexer": "ipython3",
      "version": "3.10.12"
    },
    "colab": {
      "provenance": [],
      "include_colab_link": true
    },
    "widgets": {
      "application/vnd.jupyter.widget-state+json": {
        "68cf5b4d2fed4f6d889d8a657fb57504": {
          "model_module": "@jupyter-widgets/controls",
          "model_name": "HBoxModel",
          "model_module_version": "1.5.0",
          "state": {
            "_dom_classes": [],
            "_model_module": "@jupyter-widgets/controls",
            "_model_module_version": "1.5.0",
            "_model_name": "HBoxModel",
            "_view_count": null,
            "_view_module": "@jupyter-widgets/controls",
            "_view_module_version": "1.5.0",
            "_view_name": "HBoxView",
            "box_style": "",
            "children": [
              "IPY_MODEL_0c68f6dbfc9a4c50a5b7ec3be93e4f12",
              "IPY_MODEL_06179f74070d490d996f061327aeb6b9",
              "IPY_MODEL_3adabf90fefc42a080b3cc326f2361cd"
            ],
            "layout": "IPY_MODEL_47d016ce401e48f4b1722eef1f71ac1f"
          }
        },
        "0c68f6dbfc9a4c50a5b7ec3be93e4f12": {
          "model_module": "@jupyter-widgets/controls",
          "model_name": "HTMLModel",
          "model_module_version": "1.5.0",
          "state": {
            "_dom_classes": [],
            "_model_module": "@jupyter-widgets/controls",
            "_model_module_version": "1.5.0",
            "_model_name": "HTMLModel",
            "_view_count": null,
            "_view_module": "@jupyter-widgets/controls",
            "_view_module_version": "1.5.0",
            "_view_name": "HTMLView",
            "description": "",
            "description_tooltip": null,
            "layout": "IPY_MODEL_bed7d9d81cf949a8945f4d5238d81cc4",
            "placeholder": "​",
            "style": "IPY_MODEL_a64c9f781438483d9ca5a11cf5cae783",
            "value": "tokenizer_config.json: 100%"
          }
        },
        "06179f74070d490d996f061327aeb6b9": {
          "model_module": "@jupyter-widgets/controls",
          "model_name": "FloatProgressModel",
          "model_module_version": "1.5.0",
          "state": {
            "_dom_classes": [],
            "_model_module": "@jupyter-widgets/controls",
            "_model_module_version": "1.5.0",
            "_model_name": "FloatProgressModel",
            "_view_count": null,
            "_view_module": "@jupyter-widgets/controls",
            "_view_module_version": "1.5.0",
            "_view_name": "ProgressView",
            "bar_style": "success",
            "description": "",
            "description_tooltip": null,
            "layout": "IPY_MODEL_c242aafec55c4cf4b326d5af836da7d0",
            "max": 26,
            "min": 0,
            "orientation": "horizontal",
            "style": "IPY_MODEL_7021d3a33e8545e98f7e6d15a694c133",
            "value": 26
          }
        },
        "3adabf90fefc42a080b3cc326f2361cd": {
          "model_module": "@jupyter-widgets/controls",
          "model_name": "HTMLModel",
          "model_module_version": "1.5.0",
          "state": {
            "_dom_classes": [],
            "_model_module": "@jupyter-widgets/controls",
            "_model_module_version": "1.5.0",
            "_model_name": "HTMLModel",
            "_view_count": null,
            "_view_module": "@jupyter-widgets/controls",
            "_view_module_version": "1.5.0",
            "_view_name": "HTMLView",
            "description": "",
            "description_tooltip": null,
            "layout": "IPY_MODEL_0cfe2c8f6339433ab5e124dc32bffe85",
            "placeholder": "​",
            "style": "IPY_MODEL_6eaf9071559e4031acc19791a104a63a",
            "value": " 26.0/26.0 [00:00&lt;00:00, 895B/s]"
          }
        },
        "47d016ce401e48f4b1722eef1f71ac1f": {
          "model_module": "@jupyter-widgets/base",
          "model_name": "LayoutModel",
          "model_module_version": "1.2.0",
          "state": {
            "_model_module": "@jupyter-widgets/base",
            "_model_module_version": "1.2.0",
            "_model_name": "LayoutModel",
            "_view_count": null,
            "_view_module": "@jupyter-widgets/base",
            "_view_module_version": "1.2.0",
            "_view_name": "LayoutView",
            "align_content": null,
            "align_items": null,
            "align_self": null,
            "border": null,
            "bottom": null,
            "display": null,
            "flex": null,
            "flex_flow": null,
            "grid_area": null,
            "grid_auto_columns": null,
            "grid_auto_flow": null,
            "grid_auto_rows": null,
            "grid_column": null,
            "grid_gap": null,
            "grid_row": null,
            "grid_template_areas": null,
            "grid_template_columns": null,
            "grid_template_rows": null,
            "height": null,
            "justify_content": null,
            "justify_items": null,
            "left": null,
            "margin": null,
            "max_height": null,
            "max_width": null,
            "min_height": null,
            "min_width": null,
            "object_fit": null,
            "object_position": null,
            "order": null,
            "overflow": null,
            "overflow_x": null,
            "overflow_y": null,
            "padding": null,
            "right": null,
            "top": null,
            "visibility": null,
            "width": null
          }
        },
        "bed7d9d81cf949a8945f4d5238d81cc4": {
          "model_module": "@jupyter-widgets/base",
          "model_name": "LayoutModel",
          "model_module_version": "1.2.0",
          "state": {
            "_model_module": "@jupyter-widgets/base",
            "_model_module_version": "1.2.0",
            "_model_name": "LayoutModel",
            "_view_count": null,
            "_view_module": "@jupyter-widgets/base",
            "_view_module_version": "1.2.0",
            "_view_name": "LayoutView",
            "align_content": null,
            "align_items": null,
            "align_self": null,
            "border": null,
            "bottom": null,
            "display": null,
            "flex": null,
            "flex_flow": null,
            "grid_area": null,
            "grid_auto_columns": null,
            "grid_auto_flow": null,
            "grid_auto_rows": null,
            "grid_column": null,
            "grid_gap": null,
            "grid_row": null,
            "grid_template_areas": null,
            "grid_template_columns": null,
            "grid_template_rows": null,
            "height": null,
            "justify_content": null,
            "justify_items": null,
            "left": null,
            "margin": null,
            "max_height": null,
            "max_width": null,
            "min_height": null,
            "min_width": null,
            "object_fit": null,
            "object_position": null,
            "order": null,
            "overflow": null,
            "overflow_x": null,
            "overflow_y": null,
            "padding": null,
            "right": null,
            "top": null,
            "visibility": null,
            "width": null
          }
        },
        "a64c9f781438483d9ca5a11cf5cae783": {
          "model_module": "@jupyter-widgets/controls",
          "model_name": "DescriptionStyleModel",
          "model_module_version": "1.5.0",
          "state": {
            "_model_module": "@jupyter-widgets/controls",
            "_model_module_version": "1.5.0",
            "_model_name": "DescriptionStyleModel",
            "_view_count": null,
            "_view_module": "@jupyter-widgets/base",
            "_view_module_version": "1.2.0",
            "_view_name": "StyleView",
            "description_width": ""
          }
        },
        "c242aafec55c4cf4b326d5af836da7d0": {
          "model_module": "@jupyter-widgets/base",
          "model_name": "LayoutModel",
          "model_module_version": "1.2.0",
          "state": {
            "_model_module": "@jupyter-widgets/base",
            "_model_module_version": "1.2.0",
            "_model_name": "LayoutModel",
            "_view_count": null,
            "_view_module": "@jupyter-widgets/base",
            "_view_module_version": "1.2.0",
            "_view_name": "LayoutView",
            "align_content": null,
            "align_items": null,
            "align_self": null,
            "border": null,
            "bottom": null,
            "display": null,
            "flex": null,
            "flex_flow": null,
            "grid_area": null,
            "grid_auto_columns": null,
            "grid_auto_flow": null,
            "grid_auto_rows": null,
            "grid_column": null,
            "grid_gap": null,
            "grid_row": null,
            "grid_template_areas": null,
            "grid_template_columns": null,
            "grid_template_rows": null,
            "height": null,
            "justify_content": null,
            "justify_items": null,
            "left": null,
            "margin": null,
            "max_height": null,
            "max_width": null,
            "min_height": null,
            "min_width": null,
            "object_fit": null,
            "object_position": null,
            "order": null,
            "overflow": null,
            "overflow_x": null,
            "overflow_y": null,
            "padding": null,
            "right": null,
            "top": null,
            "visibility": null,
            "width": null
          }
        },
        "7021d3a33e8545e98f7e6d15a694c133": {
          "model_module": "@jupyter-widgets/controls",
          "model_name": "ProgressStyleModel",
          "model_module_version": "1.5.0",
          "state": {
            "_model_module": "@jupyter-widgets/controls",
            "_model_module_version": "1.5.0",
            "_model_name": "ProgressStyleModel",
            "_view_count": null,
            "_view_module": "@jupyter-widgets/base",
            "_view_module_version": "1.2.0",
            "_view_name": "StyleView",
            "bar_color": null,
            "description_width": ""
          }
        },
        "0cfe2c8f6339433ab5e124dc32bffe85": {
          "model_module": "@jupyter-widgets/base",
          "model_name": "LayoutModel",
          "model_module_version": "1.2.0",
          "state": {
            "_model_module": "@jupyter-widgets/base",
            "_model_module_version": "1.2.0",
            "_model_name": "LayoutModel",
            "_view_count": null,
            "_view_module": "@jupyter-widgets/base",
            "_view_module_version": "1.2.0",
            "_view_name": "LayoutView",
            "align_content": null,
            "align_items": null,
            "align_self": null,
            "border": null,
            "bottom": null,
            "display": null,
            "flex": null,
            "flex_flow": null,
            "grid_area": null,
            "grid_auto_columns": null,
            "grid_auto_flow": null,
            "grid_auto_rows": null,
            "grid_column": null,
            "grid_gap": null,
            "grid_row": null,
            "grid_template_areas": null,
            "grid_template_columns": null,
            "grid_template_rows": null,
            "height": null,
            "justify_content": null,
            "justify_items": null,
            "left": null,
            "margin": null,
            "max_height": null,
            "max_width": null,
            "min_height": null,
            "min_width": null,
            "object_fit": null,
            "object_position": null,
            "order": null,
            "overflow": null,
            "overflow_x": null,
            "overflow_y": null,
            "padding": null,
            "right": null,
            "top": null,
            "visibility": null,
            "width": null
          }
        },
        "6eaf9071559e4031acc19791a104a63a": {
          "model_module": "@jupyter-widgets/controls",
          "model_name": "DescriptionStyleModel",
          "model_module_version": "1.5.0",
          "state": {
            "_model_module": "@jupyter-widgets/controls",
            "_model_module_version": "1.5.0",
            "_model_name": "DescriptionStyleModel",
            "_view_count": null,
            "_view_module": "@jupyter-widgets/base",
            "_view_module_version": "1.2.0",
            "_view_name": "StyleView",
            "description_width": ""
          }
        },
        "837f25eb01f8476fb7f37eb94f651d00": {
          "model_module": "@jupyter-widgets/controls",
          "model_name": "HBoxModel",
          "model_module_version": "1.5.0",
          "state": {
            "_dom_classes": [],
            "_model_module": "@jupyter-widgets/controls",
            "_model_module_version": "1.5.0",
            "_model_name": "HBoxModel",
            "_view_count": null,
            "_view_module": "@jupyter-widgets/controls",
            "_view_module_version": "1.5.0",
            "_view_name": "HBoxView",
            "box_style": "",
            "children": [
              "IPY_MODEL_e90d696889ac4c17b81ccf1e0a07919f",
              "IPY_MODEL_29668e9292fd441883aea5f57b497836",
              "IPY_MODEL_0a4073d9bfa6437dab0cce96043b9088"
            ],
            "layout": "IPY_MODEL_542e1b6d9b7a482d8a42005ac2341948"
          }
        },
        "e90d696889ac4c17b81ccf1e0a07919f": {
          "model_module": "@jupyter-widgets/controls",
          "model_name": "HTMLModel",
          "model_module_version": "1.5.0",
          "state": {
            "_dom_classes": [],
            "_model_module": "@jupyter-widgets/controls",
            "_model_module_version": "1.5.0",
            "_model_name": "HTMLModel",
            "_view_count": null,
            "_view_module": "@jupyter-widgets/controls",
            "_view_module_version": "1.5.0",
            "_view_name": "HTMLView",
            "description": "",
            "description_tooltip": null,
            "layout": "IPY_MODEL_f4f1b032f19c475db29508ce6f9770b0",
            "placeholder": "​",
            "style": "IPY_MODEL_19525db421ce4795b2036e484379db36",
            "value": "config.json: 100%"
          }
        },
        "29668e9292fd441883aea5f57b497836": {
          "model_module": "@jupyter-widgets/controls",
          "model_name": "FloatProgressModel",
          "model_module_version": "1.5.0",
          "state": {
            "_dom_classes": [],
            "_model_module": "@jupyter-widgets/controls",
            "_model_module_version": "1.5.0",
            "_model_name": "FloatProgressModel",
            "_view_count": null,
            "_view_module": "@jupyter-widgets/controls",
            "_view_module_version": "1.5.0",
            "_view_name": "ProgressView",
            "bar_style": "success",
            "description": "",
            "description_tooltip": null,
            "layout": "IPY_MODEL_e2f9744740184051becb18c3f3aefc21",
            "max": 665,
            "min": 0,
            "orientation": "horizontal",
            "style": "IPY_MODEL_27b4b90e3e59425e935514abb64a3c60",
            "value": 665
          }
        },
        "0a4073d9bfa6437dab0cce96043b9088": {
          "model_module": "@jupyter-widgets/controls",
          "model_name": "HTMLModel",
          "model_module_version": "1.5.0",
          "state": {
            "_dom_classes": [],
            "_model_module": "@jupyter-widgets/controls",
            "_model_module_version": "1.5.0",
            "_model_name": "HTMLModel",
            "_view_count": null,
            "_view_module": "@jupyter-widgets/controls",
            "_view_module_version": "1.5.0",
            "_view_name": "HTMLView",
            "description": "",
            "description_tooltip": null,
            "layout": "IPY_MODEL_5b8bf5bb83ac4cc1864b925252c801d8",
            "placeholder": "​",
            "style": "IPY_MODEL_bb4644fcfd6d4f2e8462c4d80a0b8bdf",
            "value": " 665/665 [00:00&lt;00:00, 17.9kB/s]"
          }
        },
        "542e1b6d9b7a482d8a42005ac2341948": {
          "model_module": "@jupyter-widgets/base",
          "model_name": "LayoutModel",
          "model_module_version": "1.2.0",
          "state": {
            "_model_module": "@jupyter-widgets/base",
            "_model_module_version": "1.2.0",
            "_model_name": "LayoutModel",
            "_view_count": null,
            "_view_module": "@jupyter-widgets/base",
            "_view_module_version": "1.2.0",
            "_view_name": "LayoutView",
            "align_content": null,
            "align_items": null,
            "align_self": null,
            "border": null,
            "bottom": null,
            "display": null,
            "flex": null,
            "flex_flow": null,
            "grid_area": null,
            "grid_auto_columns": null,
            "grid_auto_flow": null,
            "grid_auto_rows": null,
            "grid_column": null,
            "grid_gap": null,
            "grid_row": null,
            "grid_template_areas": null,
            "grid_template_columns": null,
            "grid_template_rows": null,
            "height": null,
            "justify_content": null,
            "justify_items": null,
            "left": null,
            "margin": null,
            "max_height": null,
            "max_width": null,
            "min_height": null,
            "min_width": null,
            "object_fit": null,
            "object_position": null,
            "order": null,
            "overflow": null,
            "overflow_x": null,
            "overflow_y": null,
            "padding": null,
            "right": null,
            "top": null,
            "visibility": null,
            "width": null
          }
        },
        "f4f1b032f19c475db29508ce6f9770b0": {
          "model_module": "@jupyter-widgets/base",
          "model_name": "LayoutModel",
          "model_module_version": "1.2.0",
          "state": {
            "_model_module": "@jupyter-widgets/base",
            "_model_module_version": "1.2.0",
            "_model_name": "LayoutModel",
            "_view_count": null,
            "_view_module": "@jupyter-widgets/base",
            "_view_module_version": "1.2.0",
            "_view_name": "LayoutView",
            "align_content": null,
            "align_items": null,
            "align_self": null,
            "border": null,
            "bottom": null,
            "display": null,
            "flex": null,
            "flex_flow": null,
            "grid_area": null,
            "grid_auto_columns": null,
            "grid_auto_flow": null,
            "grid_auto_rows": null,
            "grid_column": null,
            "grid_gap": null,
            "grid_row": null,
            "grid_template_areas": null,
            "grid_template_columns": null,
            "grid_template_rows": null,
            "height": null,
            "justify_content": null,
            "justify_items": null,
            "left": null,
            "margin": null,
            "max_height": null,
            "max_width": null,
            "min_height": null,
            "min_width": null,
            "object_fit": null,
            "object_position": null,
            "order": null,
            "overflow": null,
            "overflow_x": null,
            "overflow_y": null,
            "padding": null,
            "right": null,
            "top": null,
            "visibility": null,
            "width": null
          }
        },
        "19525db421ce4795b2036e484379db36": {
          "model_module": "@jupyter-widgets/controls",
          "model_name": "DescriptionStyleModel",
          "model_module_version": "1.5.0",
          "state": {
            "_model_module": "@jupyter-widgets/controls",
            "_model_module_version": "1.5.0",
            "_model_name": "DescriptionStyleModel",
            "_view_count": null,
            "_view_module": "@jupyter-widgets/base",
            "_view_module_version": "1.2.0",
            "_view_name": "StyleView",
            "description_width": ""
          }
        },
        "e2f9744740184051becb18c3f3aefc21": {
          "model_module": "@jupyter-widgets/base",
          "model_name": "LayoutModel",
          "model_module_version": "1.2.0",
          "state": {
            "_model_module": "@jupyter-widgets/base",
            "_model_module_version": "1.2.0",
            "_model_name": "LayoutModel",
            "_view_count": null,
            "_view_module": "@jupyter-widgets/base",
            "_view_module_version": "1.2.0",
            "_view_name": "LayoutView",
            "align_content": null,
            "align_items": null,
            "align_self": null,
            "border": null,
            "bottom": null,
            "display": null,
            "flex": null,
            "flex_flow": null,
            "grid_area": null,
            "grid_auto_columns": null,
            "grid_auto_flow": null,
            "grid_auto_rows": null,
            "grid_column": null,
            "grid_gap": null,
            "grid_row": null,
            "grid_template_areas": null,
            "grid_template_columns": null,
            "grid_template_rows": null,
            "height": null,
            "justify_content": null,
            "justify_items": null,
            "left": null,
            "margin": null,
            "max_height": null,
            "max_width": null,
            "min_height": null,
            "min_width": null,
            "object_fit": null,
            "object_position": null,
            "order": null,
            "overflow": null,
            "overflow_x": null,
            "overflow_y": null,
            "padding": null,
            "right": null,
            "top": null,
            "visibility": null,
            "width": null
          }
        },
        "27b4b90e3e59425e935514abb64a3c60": {
          "model_module": "@jupyter-widgets/controls",
          "model_name": "ProgressStyleModel",
          "model_module_version": "1.5.0",
          "state": {
            "_model_module": "@jupyter-widgets/controls",
            "_model_module_version": "1.5.0",
            "_model_name": "ProgressStyleModel",
            "_view_count": null,
            "_view_module": "@jupyter-widgets/base",
            "_view_module_version": "1.2.0",
            "_view_name": "StyleView",
            "bar_color": null,
            "description_width": ""
          }
        },
        "5b8bf5bb83ac4cc1864b925252c801d8": {
          "model_module": "@jupyter-widgets/base",
          "model_name": "LayoutModel",
          "model_module_version": "1.2.0",
          "state": {
            "_model_module": "@jupyter-widgets/base",
            "_model_module_version": "1.2.0",
            "_model_name": "LayoutModel",
            "_view_count": null,
            "_view_module": "@jupyter-widgets/base",
            "_view_module_version": "1.2.0",
            "_view_name": "LayoutView",
            "align_content": null,
            "align_items": null,
            "align_self": null,
            "border": null,
            "bottom": null,
            "display": null,
            "flex": null,
            "flex_flow": null,
            "grid_area": null,
            "grid_auto_columns": null,
            "grid_auto_flow": null,
            "grid_auto_rows": null,
            "grid_column": null,
            "grid_gap": null,
            "grid_row": null,
            "grid_template_areas": null,
            "grid_template_columns": null,
            "grid_template_rows": null,
            "height": null,
            "justify_content": null,
            "justify_items": null,
            "left": null,
            "margin": null,
            "max_height": null,
            "max_width": null,
            "min_height": null,
            "min_width": null,
            "object_fit": null,
            "object_position": null,
            "order": null,
            "overflow": null,
            "overflow_x": null,
            "overflow_y": null,
            "padding": null,
            "right": null,
            "top": null,
            "visibility": null,
            "width": null
          }
        },
        "bb4644fcfd6d4f2e8462c4d80a0b8bdf": {
          "model_module": "@jupyter-widgets/controls",
          "model_name": "DescriptionStyleModel",
          "model_module_version": "1.5.0",
          "state": {
            "_model_module": "@jupyter-widgets/controls",
            "_model_module_version": "1.5.0",
            "_model_name": "DescriptionStyleModel",
            "_view_count": null,
            "_view_module": "@jupyter-widgets/base",
            "_view_module_version": "1.2.0",
            "_view_name": "StyleView",
            "description_width": ""
          }
        },
        "5e7d886328c3400995a6f3b8038bc8a8": {
          "model_module": "@jupyter-widgets/controls",
          "model_name": "HBoxModel",
          "model_module_version": "1.5.0",
          "state": {
            "_dom_classes": [],
            "_model_module": "@jupyter-widgets/controls",
            "_model_module_version": "1.5.0",
            "_model_name": "HBoxModel",
            "_view_count": null,
            "_view_module": "@jupyter-widgets/controls",
            "_view_module_version": "1.5.0",
            "_view_name": "HBoxView",
            "box_style": "",
            "children": [
              "IPY_MODEL_cae341dc835147e69c0bcb353bbdbff4",
              "IPY_MODEL_d6591d05681149ccb582ce0180e43f55",
              "IPY_MODEL_922a6920a7e74e9084a0d0672600d166"
            ],
            "layout": "IPY_MODEL_6935254a483649f8b023d6bfa239591c"
          }
        },
        "cae341dc835147e69c0bcb353bbdbff4": {
          "model_module": "@jupyter-widgets/controls",
          "model_name": "HTMLModel",
          "model_module_version": "1.5.0",
          "state": {
            "_dom_classes": [],
            "_model_module": "@jupyter-widgets/controls",
            "_model_module_version": "1.5.0",
            "_model_name": "HTMLModel",
            "_view_count": null,
            "_view_module": "@jupyter-widgets/controls",
            "_view_module_version": "1.5.0",
            "_view_name": "HTMLView",
            "description": "",
            "description_tooltip": null,
            "layout": "IPY_MODEL_82ddd900061b44059b387fdc3e415bae",
            "placeholder": "​",
            "style": "IPY_MODEL_5c48f00c1160423cbaabde6cbe2aa815",
            "value": "vocab.json: 100%"
          }
        },
        "d6591d05681149ccb582ce0180e43f55": {
          "model_module": "@jupyter-widgets/controls",
          "model_name": "FloatProgressModel",
          "model_module_version": "1.5.0",
          "state": {
            "_dom_classes": [],
            "_model_module": "@jupyter-widgets/controls",
            "_model_module_version": "1.5.0",
            "_model_name": "FloatProgressModel",
            "_view_count": null,
            "_view_module": "@jupyter-widgets/controls",
            "_view_module_version": "1.5.0",
            "_view_name": "ProgressView",
            "bar_style": "success",
            "description": "",
            "description_tooltip": null,
            "layout": "IPY_MODEL_28ecda594aac49de9643a574356008a4",
            "max": 1042301,
            "min": 0,
            "orientation": "horizontal",
            "style": "IPY_MODEL_33752ad37dc345d2988d4b7eba16e5c0",
            "value": 1042301
          }
        },
        "922a6920a7e74e9084a0d0672600d166": {
          "model_module": "@jupyter-widgets/controls",
          "model_name": "HTMLModel",
          "model_module_version": "1.5.0",
          "state": {
            "_dom_classes": [],
            "_model_module": "@jupyter-widgets/controls",
            "_model_module_version": "1.5.0",
            "_model_name": "HTMLModel",
            "_view_count": null,
            "_view_module": "@jupyter-widgets/controls",
            "_view_module_version": "1.5.0",
            "_view_name": "HTMLView",
            "description": "",
            "description_tooltip": null,
            "layout": "IPY_MODEL_c9d3d5a1cacf4db2acdf4f0d02ec6c02",
            "placeholder": "​",
            "style": "IPY_MODEL_92a8fafce7404fd5baa7fa54376cb2e1",
            "value": " 1.04M/1.04M [00:00&lt;00:00, 6.56MB/s]"
          }
        },
        "6935254a483649f8b023d6bfa239591c": {
          "model_module": "@jupyter-widgets/base",
          "model_name": "LayoutModel",
          "model_module_version": "1.2.0",
          "state": {
            "_model_module": "@jupyter-widgets/base",
            "_model_module_version": "1.2.0",
            "_model_name": "LayoutModel",
            "_view_count": null,
            "_view_module": "@jupyter-widgets/base",
            "_view_module_version": "1.2.0",
            "_view_name": "LayoutView",
            "align_content": null,
            "align_items": null,
            "align_self": null,
            "border": null,
            "bottom": null,
            "display": null,
            "flex": null,
            "flex_flow": null,
            "grid_area": null,
            "grid_auto_columns": null,
            "grid_auto_flow": null,
            "grid_auto_rows": null,
            "grid_column": null,
            "grid_gap": null,
            "grid_row": null,
            "grid_template_areas": null,
            "grid_template_columns": null,
            "grid_template_rows": null,
            "height": null,
            "justify_content": null,
            "justify_items": null,
            "left": null,
            "margin": null,
            "max_height": null,
            "max_width": null,
            "min_height": null,
            "min_width": null,
            "object_fit": null,
            "object_position": null,
            "order": null,
            "overflow": null,
            "overflow_x": null,
            "overflow_y": null,
            "padding": null,
            "right": null,
            "top": null,
            "visibility": null,
            "width": null
          }
        },
        "82ddd900061b44059b387fdc3e415bae": {
          "model_module": "@jupyter-widgets/base",
          "model_name": "LayoutModel",
          "model_module_version": "1.2.0",
          "state": {
            "_model_module": "@jupyter-widgets/base",
            "_model_module_version": "1.2.0",
            "_model_name": "LayoutModel",
            "_view_count": null,
            "_view_module": "@jupyter-widgets/base",
            "_view_module_version": "1.2.0",
            "_view_name": "LayoutView",
            "align_content": null,
            "align_items": null,
            "align_self": null,
            "border": null,
            "bottom": null,
            "display": null,
            "flex": null,
            "flex_flow": null,
            "grid_area": null,
            "grid_auto_columns": null,
            "grid_auto_flow": null,
            "grid_auto_rows": null,
            "grid_column": null,
            "grid_gap": null,
            "grid_row": null,
            "grid_template_areas": null,
            "grid_template_columns": null,
            "grid_template_rows": null,
            "height": null,
            "justify_content": null,
            "justify_items": null,
            "left": null,
            "margin": null,
            "max_height": null,
            "max_width": null,
            "min_height": null,
            "min_width": null,
            "object_fit": null,
            "object_position": null,
            "order": null,
            "overflow": null,
            "overflow_x": null,
            "overflow_y": null,
            "padding": null,
            "right": null,
            "top": null,
            "visibility": null,
            "width": null
          }
        },
        "5c48f00c1160423cbaabde6cbe2aa815": {
          "model_module": "@jupyter-widgets/controls",
          "model_name": "DescriptionStyleModel",
          "model_module_version": "1.5.0",
          "state": {
            "_model_module": "@jupyter-widgets/controls",
            "_model_module_version": "1.5.0",
            "_model_name": "DescriptionStyleModel",
            "_view_count": null,
            "_view_module": "@jupyter-widgets/base",
            "_view_module_version": "1.2.0",
            "_view_name": "StyleView",
            "description_width": ""
          }
        },
        "28ecda594aac49de9643a574356008a4": {
          "model_module": "@jupyter-widgets/base",
          "model_name": "LayoutModel",
          "model_module_version": "1.2.0",
          "state": {
            "_model_module": "@jupyter-widgets/base",
            "_model_module_version": "1.2.0",
            "_model_name": "LayoutModel",
            "_view_count": null,
            "_view_module": "@jupyter-widgets/base",
            "_view_module_version": "1.2.0",
            "_view_name": "LayoutView",
            "align_content": null,
            "align_items": null,
            "align_self": null,
            "border": null,
            "bottom": null,
            "display": null,
            "flex": null,
            "flex_flow": null,
            "grid_area": null,
            "grid_auto_columns": null,
            "grid_auto_flow": null,
            "grid_auto_rows": null,
            "grid_column": null,
            "grid_gap": null,
            "grid_row": null,
            "grid_template_areas": null,
            "grid_template_columns": null,
            "grid_template_rows": null,
            "height": null,
            "justify_content": null,
            "justify_items": null,
            "left": null,
            "margin": null,
            "max_height": null,
            "max_width": null,
            "min_height": null,
            "min_width": null,
            "object_fit": null,
            "object_position": null,
            "order": null,
            "overflow": null,
            "overflow_x": null,
            "overflow_y": null,
            "padding": null,
            "right": null,
            "top": null,
            "visibility": null,
            "width": null
          }
        },
        "33752ad37dc345d2988d4b7eba16e5c0": {
          "model_module": "@jupyter-widgets/controls",
          "model_name": "ProgressStyleModel",
          "model_module_version": "1.5.0",
          "state": {
            "_model_module": "@jupyter-widgets/controls",
            "_model_module_version": "1.5.0",
            "_model_name": "ProgressStyleModel",
            "_view_count": null,
            "_view_module": "@jupyter-widgets/base",
            "_view_module_version": "1.2.0",
            "_view_name": "StyleView",
            "bar_color": null,
            "description_width": ""
          }
        },
        "c9d3d5a1cacf4db2acdf4f0d02ec6c02": {
          "model_module": "@jupyter-widgets/base",
          "model_name": "LayoutModel",
          "model_module_version": "1.2.0",
          "state": {
            "_model_module": "@jupyter-widgets/base",
            "_model_module_version": "1.2.0",
            "_model_name": "LayoutModel",
            "_view_count": null,
            "_view_module": "@jupyter-widgets/base",
            "_view_module_version": "1.2.0",
            "_view_name": "LayoutView",
            "align_content": null,
            "align_items": null,
            "align_self": null,
            "border": null,
            "bottom": null,
            "display": null,
            "flex": null,
            "flex_flow": null,
            "grid_area": null,
            "grid_auto_columns": null,
            "grid_auto_flow": null,
            "grid_auto_rows": null,
            "grid_column": null,
            "grid_gap": null,
            "grid_row": null,
            "grid_template_areas": null,
            "grid_template_columns": null,
            "grid_template_rows": null,
            "height": null,
            "justify_content": null,
            "justify_items": null,
            "left": null,
            "margin": null,
            "max_height": null,
            "max_width": null,
            "min_height": null,
            "min_width": null,
            "object_fit": null,
            "object_position": null,
            "order": null,
            "overflow": null,
            "overflow_x": null,
            "overflow_y": null,
            "padding": null,
            "right": null,
            "top": null,
            "visibility": null,
            "width": null
          }
        },
        "92a8fafce7404fd5baa7fa54376cb2e1": {
          "model_module": "@jupyter-widgets/controls",
          "model_name": "DescriptionStyleModel",
          "model_module_version": "1.5.0",
          "state": {
            "_model_module": "@jupyter-widgets/controls",
            "_model_module_version": "1.5.0",
            "_model_name": "DescriptionStyleModel",
            "_view_count": null,
            "_view_module": "@jupyter-widgets/base",
            "_view_module_version": "1.2.0",
            "_view_name": "StyleView",
            "description_width": ""
          }
        },
        "39c07128ff76405cb378c87a9e9047e4": {
          "model_module": "@jupyter-widgets/controls",
          "model_name": "HBoxModel",
          "model_module_version": "1.5.0",
          "state": {
            "_dom_classes": [],
            "_model_module": "@jupyter-widgets/controls",
            "_model_module_version": "1.5.0",
            "_model_name": "HBoxModel",
            "_view_count": null,
            "_view_module": "@jupyter-widgets/controls",
            "_view_module_version": "1.5.0",
            "_view_name": "HBoxView",
            "box_style": "",
            "children": [
              "IPY_MODEL_2ffcad24715a451fa8b2910995fd256b",
              "IPY_MODEL_5307dfcfe8b84794a8b38f1ff8e6f7fc",
              "IPY_MODEL_8273a6259d984ac2817e7675d59cb846"
            ],
            "layout": "IPY_MODEL_ad94e4b9ffe4432285258829db42265d"
          }
        },
        "2ffcad24715a451fa8b2910995fd256b": {
          "model_module": "@jupyter-widgets/controls",
          "model_name": "HTMLModel",
          "model_module_version": "1.5.0",
          "state": {
            "_dom_classes": [],
            "_model_module": "@jupyter-widgets/controls",
            "_model_module_version": "1.5.0",
            "_model_name": "HTMLModel",
            "_view_count": null,
            "_view_module": "@jupyter-widgets/controls",
            "_view_module_version": "1.5.0",
            "_view_name": "HTMLView",
            "description": "",
            "description_tooltip": null,
            "layout": "IPY_MODEL_d716a08586eb4347bcfde3d610101079",
            "placeholder": "​",
            "style": "IPY_MODEL_a66a9750f73b4326af8bbc0790254b13",
            "value": "merges.txt: 100%"
          }
        },
        "5307dfcfe8b84794a8b38f1ff8e6f7fc": {
          "model_module": "@jupyter-widgets/controls",
          "model_name": "FloatProgressModel",
          "model_module_version": "1.5.0",
          "state": {
            "_dom_classes": [],
            "_model_module": "@jupyter-widgets/controls",
            "_model_module_version": "1.5.0",
            "_model_name": "FloatProgressModel",
            "_view_count": null,
            "_view_module": "@jupyter-widgets/controls",
            "_view_module_version": "1.5.0",
            "_view_name": "ProgressView",
            "bar_style": "success",
            "description": "",
            "description_tooltip": null,
            "layout": "IPY_MODEL_696cc9a13c494e2893d18ff60c2082c2",
            "max": 456318,
            "min": 0,
            "orientation": "horizontal",
            "style": "IPY_MODEL_bb424844a7604117b75cad68944b96d8",
            "value": 456318
          }
        },
        "8273a6259d984ac2817e7675d59cb846": {
          "model_module": "@jupyter-widgets/controls",
          "model_name": "HTMLModel",
          "model_module_version": "1.5.0",
          "state": {
            "_dom_classes": [],
            "_model_module": "@jupyter-widgets/controls",
            "_model_module_version": "1.5.0",
            "_model_name": "HTMLModel",
            "_view_count": null,
            "_view_module": "@jupyter-widgets/controls",
            "_view_module_version": "1.5.0",
            "_view_name": "HTMLView",
            "description": "",
            "description_tooltip": null,
            "layout": "IPY_MODEL_7f33f2cab73d4c1b9c3fbcf274416fd0",
            "placeholder": "​",
            "style": "IPY_MODEL_e04ca8a88c2040259fe533ca42ef4296",
            "value": " 456k/456k [00:00&lt;00:00, 8.14MB/s]"
          }
        },
        "ad94e4b9ffe4432285258829db42265d": {
          "model_module": "@jupyter-widgets/base",
          "model_name": "LayoutModel",
          "model_module_version": "1.2.0",
          "state": {
            "_model_module": "@jupyter-widgets/base",
            "_model_module_version": "1.2.0",
            "_model_name": "LayoutModel",
            "_view_count": null,
            "_view_module": "@jupyter-widgets/base",
            "_view_module_version": "1.2.0",
            "_view_name": "LayoutView",
            "align_content": null,
            "align_items": null,
            "align_self": null,
            "border": null,
            "bottom": null,
            "display": null,
            "flex": null,
            "flex_flow": null,
            "grid_area": null,
            "grid_auto_columns": null,
            "grid_auto_flow": null,
            "grid_auto_rows": null,
            "grid_column": null,
            "grid_gap": null,
            "grid_row": null,
            "grid_template_areas": null,
            "grid_template_columns": null,
            "grid_template_rows": null,
            "height": null,
            "justify_content": null,
            "justify_items": null,
            "left": null,
            "margin": null,
            "max_height": null,
            "max_width": null,
            "min_height": null,
            "min_width": null,
            "object_fit": null,
            "object_position": null,
            "order": null,
            "overflow": null,
            "overflow_x": null,
            "overflow_y": null,
            "padding": null,
            "right": null,
            "top": null,
            "visibility": null,
            "width": null
          }
        },
        "d716a08586eb4347bcfde3d610101079": {
          "model_module": "@jupyter-widgets/base",
          "model_name": "LayoutModel",
          "model_module_version": "1.2.0",
          "state": {
            "_model_module": "@jupyter-widgets/base",
            "_model_module_version": "1.2.0",
            "_model_name": "LayoutModel",
            "_view_count": null,
            "_view_module": "@jupyter-widgets/base",
            "_view_module_version": "1.2.0",
            "_view_name": "LayoutView",
            "align_content": null,
            "align_items": null,
            "align_self": null,
            "border": null,
            "bottom": null,
            "display": null,
            "flex": null,
            "flex_flow": null,
            "grid_area": null,
            "grid_auto_columns": null,
            "grid_auto_flow": null,
            "grid_auto_rows": null,
            "grid_column": null,
            "grid_gap": null,
            "grid_row": null,
            "grid_template_areas": null,
            "grid_template_columns": null,
            "grid_template_rows": null,
            "height": null,
            "justify_content": null,
            "justify_items": null,
            "left": null,
            "margin": null,
            "max_height": null,
            "max_width": null,
            "min_height": null,
            "min_width": null,
            "object_fit": null,
            "object_position": null,
            "order": null,
            "overflow": null,
            "overflow_x": null,
            "overflow_y": null,
            "padding": null,
            "right": null,
            "top": null,
            "visibility": null,
            "width": null
          }
        },
        "a66a9750f73b4326af8bbc0790254b13": {
          "model_module": "@jupyter-widgets/controls",
          "model_name": "DescriptionStyleModel",
          "model_module_version": "1.5.0",
          "state": {
            "_model_module": "@jupyter-widgets/controls",
            "_model_module_version": "1.5.0",
            "_model_name": "DescriptionStyleModel",
            "_view_count": null,
            "_view_module": "@jupyter-widgets/base",
            "_view_module_version": "1.2.0",
            "_view_name": "StyleView",
            "description_width": ""
          }
        },
        "696cc9a13c494e2893d18ff60c2082c2": {
          "model_module": "@jupyter-widgets/base",
          "model_name": "LayoutModel",
          "model_module_version": "1.2.0",
          "state": {
            "_model_module": "@jupyter-widgets/base",
            "_model_module_version": "1.2.0",
            "_model_name": "LayoutModel",
            "_view_count": null,
            "_view_module": "@jupyter-widgets/base",
            "_view_module_version": "1.2.0",
            "_view_name": "LayoutView",
            "align_content": null,
            "align_items": null,
            "align_self": null,
            "border": null,
            "bottom": null,
            "display": null,
            "flex": null,
            "flex_flow": null,
            "grid_area": null,
            "grid_auto_columns": null,
            "grid_auto_flow": null,
            "grid_auto_rows": null,
            "grid_column": null,
            "grid_gap": null,
            "grid_row": null,
            "grid_template_areas": null,
            "grid_template_columns": null,
            "grid_template_rows": null,
            "height": null,
            "justify_content": null,
            "justify_items": null,
            "left": null,
            "margin": null,
            "max_height": null,
            "max_width": null,
            "min_height": null,
            "min_width": null,
            "object_fit": null,
            "object_position": null,
            "order": null,
            "overflow": null,
            "overflow_x": null,
            "overflow_y": null,
            "padding": null,
            "right": null,
            "top": null,
            "visibility": null,
            "width": null
          }
        },
        "bb424844a7604117b75cad68944b96d8": {
          "model_module": "@jupyter-widgets/controls",
          "model_name": "ProgressStyleModel",
          "model_module_version": "1.5.0",
          "state": {
            "_model_module": "@jupyter-widgets/controls",
            "_model_module_version": "1.5.0",
            "_model_name": "ProgressStyleModel",
            "_view_count": null,
            "_view_module": "@jupyter-widgets/base",
            "_view_module_version": "1.2.0",
            "_view_name": "StyleView",
            "bar_color": null,
            "description_width": ""
          }
        },
        "7f33f2cab73d4c1b9c3fbcf274416fd0": {
          "model_module": "@jupyter-widgets/base",
          "model_name": "LayoutModel",
          "model_module_version": "1.2.0",
          "state": {
            "_model_module": "@jupyter-widgets/base",
            "_model_module_version": "1.2.0",
            "_model_name": "LayoutModel",
            "_view_count": null,
            "_view_module": "@jupyter-widgets/base",
            "_view_module_version": "1.2.0",
            "_view_name": "LayoutView",
            "align_content": null,
            "align_items": null,
            "align_self": null,
            "border": null,
            "bottom": null,
            "display": null,
            "flex": null,
            "flex_flow": null,
            "grid_area": null,
            "grid_auto_columns": null,
            "grid_auto_flow": null,
            "grid_auto_rows": null,
            "grid_column": null,
            "grid_gap": null,
            "grid_row": null,
            "grid_template_areas": null,
            "grid_template_columns": null,
            "grid_template_rows": null,
            "height": null,
            "justify_content": null,
            "justify_items": null,
            "left": null,
            "margin": null,
            "max_height": null,
            "max_width": null,
            "min_height": null,
            "min_width": null,
            "object_fit": null,
            "object_position": null,
            "order": null,
            "overflow": null,
            "overflow_x": null,
            "overflow_y": null,
            "padding": null,
            "right": null,
            "top": null,
            "visibility": null,
            "width": null
          }
        },
        "e04ca8a88c2040259fe533ca42ef4296": {
          "model_module": "@jupyter-widgets/controls",
          "model_name": "DescriptionStyleModel",
          "model_module_version": "1.5.0",
          "state": {
            "_model_module": "@jupyter-widgets/controls",
            "_model_module_version": "1.5.0",
            "_model_name": "DescriptionStyleModel",
            "_view_count": null,
            "_view_module": "@jupyter-widgets/base",
            "_view_module_version": "1.2.0",
            "_view_name": "StyleView",
            "description_width": ""
          }
        },
        "2f5df72467b9459e87196b1948ec2127": {
          "model_module": "@jupyter-widgets/controls",
          "model_name": "HBoxModel",
          "model_module_version": "1.5.0",
          "state": {
            "_dom_classes": [],
            "_model_module": "@jupyter-widgets/controls",
            "_model_module_version": "1.5.0",
            "_model_name": "HBoxModel",
            "_view_count": null,
            "_view_module": "@jupyter-widgets/controls",
            "_view_module_version": "1.5.0",
            "_view_name": "HBoxView",
            "box_style": "",
            "children": [
              "IPY_MODEL_6a719d5cc4b644bd8a7bd0e388d70edc",
              "IPY_MODEL_99e3b613952f42bbb32a4d0ae3cdb32f",
              "IPY_MODEL_b6a391e9698d45d79537a3028d5d2c06"
            ],
            "layout": "IPY_MODEL_f7bf35a4d790432baa473e0072fb272a"
          }
        },
        "6a719d5cc4b644bd8a7bd0e388d70edc": {
          "model_module": "@jupyter-widgets/controls",
          "model_name": "HTMLModel",
          "model_module_version": "1.5.0",
          "state": {
            "_dom_classes": [],
            "_model_module": "@jupyter-widgets/controls",
            "_model_module_version": "1.5.0",
            "_model_name": "HTMLModel",
            "_view_count": null,
            "_view_module": "@jupyter-widgets/controls",
            "_view_module_version": "1.5.0",
            "_view_name": "HTMLView",
            "description": "",
            "description_tooltip": null,
            "layout": "IPY_MODEL_074c1530b365497f924cf1a110d68505",
            "placeholder": "​",
            "style": "IPY_MODEL_c5f7d1bf7a294a32b72a3e2c505e8c03",
            "value": "tokenizer.json: 100%"
          }
        },
        "99e3b613952f42bbb32a4d0ae3cdb32f": {
          "model_module": "@jupyter-widgets/controls",
          "model_name": "FloatProgressModel",
          "model_module_version": "1.5.0",
          "state": {
            "_dom_classes": [],
            "_model_module": "@jupyter-widgets/controls",
            "_model_module_version": "1.5.0",
            "_model_name": "FloatProgressModel",
            "_view_count": null,
            "_view_module": "@jupyter-widgets/controls",
            "_view_module_version": "1.5.0",
            "_view_name": "ProgressView",
            "bar_style": "success",
            "description": "",
            "description_tooltip": null,
            "layout": "IPY_MODEL_873de73737c3409aafd3305e23e07509",
            "max": 1355256,
            "min": 0,
            "orientation": "horizontal",
            "style": "IPY_MODEL_a114c6dfd4ab4bdf987cda856112f40f",
            "value": 1355256
          }
        },
        "b6a391e9698d45d79537a3028d5d2c06": {
          "model_module": "@jupyter-widgets/controls",
          "model_name": "HTMLModel",
          "model_module_version": "1.5.0",
          "state": {
            "_dom_classes": [],
            "_model_module": "@jupyter-widgets/controls",
            "_model_module_version": "1.5.0",
            "_model_name": "HTMLModel",
            "_view_count": null,
            "_view_module": "@jupyter-widgets/controls",
            "_view_module_version": "1.5.0",
            "_view_name": "HTMLView",
            "description": "",
            "description_tooltip": null,
            "layout": "IPY_MODEL_f54034e63a2c499ab93167d7f808dac1",
            "placeholder": "​",
            "style": "IPY_MODEL_211e77190f894c82b94a5ad2d6ae45f7",
            "value": " 1.36M/1.36M [00:00&lt;00:00, 13.4MB/s]"
          }
        },
        "f7bf35a4d790432baa473e0072fb272a": {
          "model_module": "@jupyter-widgets/base",
          "model_name": "LayoutModel",
          "model_module_version": "1.2.0",
          "state": {
            "_model_module": "@jupyter-widgets/base",
            "_model_module_version": "1.2.0",
            "_model_name": "LayoutModel",
            "_view_count": null,
            "_view_module": "@jupyter-widgets/base",
            "_view_module_version": "1.2.0",
            "_view_name": "LayoutView",
            "align_content": null,
            "align_items": null,
            "align_self": null,
            "border": null,
            "bottom": null,
            "display": null,
            "flex": null,
            "flex_flow": null,
            "grid_area": null,
            "grid_auto_columns": null,
            "grid_auto_flow": null,
            "grid_auto_rows": null,
            "grid_column": null,
            "grid_gap": null,
            "grid_row": null,
            "grid_template_areas": null,
            "grid_template_columns": null,
            "grid_template_rows": null,
            "height": null,
            "justify_content": null,
            "justify_items": null,
            "left": null,
            "margin": null,
            "max_height": null,
            "max_width": null,
            "min_height": null,
            "min_width": null,
            "object_fit": null,
            "object_position": null,
            "order": null,
            "overflow": null,
            "overflow_x": null,
            "overflow_y": null,
            "padding": null,
            "right": null,
            "top": null,
            "visibility": null,
            "width": null
          }
        },
        "074c1530b365497f924cf1a110d68505": {
          "model_module": "@jupyter-widgets/base",
          "model_name": "LayoutModel",
          "model_module_version": "1.2.0",
          "state": {
            "_model_module": "@jupyter-widgets/base",
            "_model_module_version": "1.2.0",
            "_model_name": "LayoutModel",
            "_view_count": null,
            "_view_module": "@jupyter-widgets/base",
            "_view_module_version": "1.2.0",
            "_view_name": "LayoutView",
            "align_content": null,
            "align_items": null,
            "align_self": null,
            "border": null,
            "bottom": null,
            "display": null,
            "flex": null,
            "flex_flow": null,
            "grid_area": null,
            "grid_auto_columns": null,
            "grid_auto_flow": null,
            "grid_auto_rows": null,
            "grid_column": null,
            "grid_gap": null,
            "grid_row": null,
            "grid_template_areas": null,
            "grid_template_columns": null,
            "grid_template_rows": null,
            "height": null,
            "justify_content": null,
            "justify_items": null,
            "left": null,
            "margin": null,
            "max_height": null,
            "max_width": null,
            "min_height": null,
            "min_width": null,
            "object_fit": null,
            "object_position": null,
            "order": null,
            "overflow": null,
            "overflow_x": null,
            "overflow_y": null,
            "padding": null,
            "right": null,
            "top": null,
            "visibility": null,
            "width": null
          }
        },
        "c5f7d1bf7a294a32b72a3e2c505e8c03": {
          "model_module": "@jupyter-widgets/controls",
          "model_name": "DescriptionStyleModel",
          "model_module_version": "1.5.0",
          "state": {
            "_model_module": "@jupyter-widgets/controls",
            "_model_module_version": "1.5.0",
            "_model_name": "DescriptionStyleModel",
            "_view_count": null,
            "_view_module": "@jupyter-widgets/base",
            "_view_module_version": "1.2.0",
            "_view_name": "StyleView",
            "description_width": ""
          }
        },
        "873de73737c3409aafd3305e23e07509": {
          "model_module": "@jupyter-widgets/base",
          "model_name": "LayoutModel",
          "model_module_version": "1.2.0",
          "state": {
            "_model_module": "@jupyter-widgets/base",
            "_model_module_version": "1.2.0",
            "_model_name": "LayoutModel",
            "_view_count": null,
            "_view_module": "@jupyter-widgets/base",
            "_view_module_version": "1.2.0",
            "_view_name": "LayoutView",
            "align_content": null,
            "align_items": null,
            "align_self": null,
            "border": null,
            "bottom": null,
            "display": null,
            "flex": null,
            "flex_flow": null,
            "grid_area": null,
            "grid_auto_columns": null,
            "grid_auto_flow": null,
            "grid_auto_rows": null,
            "grid_column": null,
            "grid_gap": null,
            "grid_row": null,
            "grid_template_areas": null,
            "grid_template_columns": null,
            "grid_template_rows": null,
            "height": null,
            "justify_content": null,
            "justify_items": null,
            "left": null,
            "margin": null,
            "max_height": null,
            "max_width": null,
            "min_height": null,
            "min_width": null,
            "object_fit": null,
            "object_position": null,
            "order": null,
            "overflow": null,
            "overflow_x": null,
            "overflow_y": null,
            "padding": null,
            "right": null,
            "top": null,
            "visibility": null,
            "width": null
          }
        },
        "a114c6dfd4ab4bdf987cda856112f40f": {
          "model_module": "@jupyter-widgets/controls",
          "model_name": "ProgressStyleModel",
          "model_module_version": "1.5.0",
          "state": {
            "_model_module": "@jupyter-widgets/controls",
            "_model_module_version": "1.5.0",
            "_model_name": "ProgressStyleModel",
            "_view_count": null,
            "_view_module": "@jupyter-widgets/base",
            "_view_module_version": "1.2.0",
            "_view_name": "StyleView",
            "bar_color": null,
            "description_width": ""
          }
        },
        "f54034e63a2c499ab93167d7f808dac1": {
          "model_module": "@jupyter-widgets/base",
          "model_name": "LayoutModel",
          "model_module_version": "1.2.0",
          "state": {
            "_model_module": "@jupyter-widgets/base",
            "_model_module_version": "1.2.0",
            "_model_name": "LayoutModel",
            "_view_count": null,
            "_view_module": "@jupyter-widgets/base",
            "_view_module_version": "1.2.0",
            "_view_name": "LayoutView",
            "align_content": null,
            "align_items": null,
            "align_self": null,
            "border": null,
            "bottom": null,
            "display": null,
            "flex": null,
            "flex_flow": null,
            "grid_area": null,
            "grid_auto_columns": null,
            "grid_auto_flow": null,
            "grid_auto_rows": null,
            "grid_column": null,
            "grid_gap": null,
            "grid_row": null,
            "grid_template_areas": null,
            "grid_template_columns": null,
            "grid_template_rows": null,
            "height": null,
            "justify_content": null,
            "justify_items": null,
            "left": null,
            "margin": null,
            "max_height": null,
            "max_width": null,
            "min_height": null,
            "min_width": null,
            "object_fit": null,
            "object_position": null,
            "order": null,
            "overflow": null,
            "overflow_x": null,
            "overflow_y": null,
            "padding": null,
            "right": null,
            "top": null,
            "visibility": null,
            "width": null
          }
        },
        "211e77190f894c82b94a5ad2d6ae45f7": {
          "model_module": "@jupyter-widgets/controls",
          "model_name": "DescriptionStyleModel",
          "model_module_version": "1.5.0",
          "state": {
            "_model_module": "@jupyter-widgets/controls",
            "_model_module_version": "1.5.0",
            "_model_name": "DescriptionStyleModel",
            "_view_count": null,
            "_view_module": "@jupyter-widgets/base",
            "_view_module_version": "1.2.0",
            "_view_name": "StyleView",
            "description_width": ""
          }
        },
        "2f2517ae57ba4325b10d85d00f0722df": {
          "model_module": "@jupyter-widgets/controls",
          "model_name": "HBoxModel",
          "model_module_version": "1.5.0",
          "state": {
            "_dom_classes": [],
            "_model_module": "@jupyter-widgets/controls",
            "_model_module_version": "1.5.0",
            "_model_name": "HBoxModel",
            "_view_count": null,
            "_view_module": "@jupyter-widgets/controls",
            "_view_module_version": "1.5.0",
            "_view_name": "HBoxView",
            "box_style": "",
            "children": [
              "IPY_MODEL_90080931bc384dd38b9b2c571bf6e08d",
              "IPY_MODEL_6b18c6573e0245d68c718e486045abc1",
              "IPY_MODEL_f557861acc824250bb39d0b640d8c0dc"
            ],
            "layout": "IPY_MODEL_14d148a89a7042f1b444a1ec317cf395"
          }
        },
        "90080931bc384dd38b9b2c571bf6e08d": {
          "model_module": "@jupyter-widgets/controls",
          "model_name": "HTMLModel",
          "model_module_version": "1.5.0",
          "state": {
            "_dom_classes": [],
            "_model_module": "@jupyter-widgets/controls",
            "_model_module_version": "1.5.0",
            "_model_name": "HTMLModel",
            "_view_count": null,
            "_view_module": "@jupyter-widgets/controls",
            "_view_module_version": "1.5.0",
            "_view_name": "HTMLView",
            "description": "",
            "description_tooltip": null,
            "layout": "IPY_MODEL_549b1f1e1a7541b4a28f4aeb7590245c",
            "placeholder": "​",
            "style": "IPY_MODEL_9e5f307bb7da4835b817664c9e2e898a",
            "value": "Map: 100%"
          }
        },
        "6b18c6573e0245d68c718e486045abc1": {
          "model_module": "@jupyter-widgets/controls",
          "model_name": "FloatProgressModel",
          "model_module_version": "1.5.0",
          "state": {
            "_dom_classes": [],
            "_model_module": "@jupyter-widgets/controls",
            "_model_module_version": "1.5.0",
            "_model_name": "FloatProgressModel",
            "_view_count": null,
            "_view_module": "@jupyter-widgets/controls",
            "_view_module_version": "1.5.0",
            "_view_name": "ProgressView",
            "bar_style": "success",
            "description": "",
            "description_tooltip": null,
            "layout": "IPY_MODEL_5dbed9792c8f4babb9e5a9d63edca9f3",
            "max": 74004228,
            "min": 0,
            "orientation": "horizontal",
            "style": "IPY_MODEL_cf805515e2514525bac317cdecb2c2b8",
            "value": 74004228
          }
        },
        "f557861acc824250bb39d0b640d8c0dc": {
          "model_module": "@jupyter-widgets/controls",
          "model_name": "HTMLModel",
          "model_module_version": "1.5.0",
          "state": {
            "_dom_classes": [],
            "_model_module": "@jupyter-widgets/controls",
            "_model_module_version": "1.5.0",
            "_model_name": "HTMLModel",
            "_view_count": null,
            "_view_module": "@jupyter-widgets/controls",
            "_view_module_version": "1.5.0",
            "_view_name": "HTMLView",
            "description": "",
            "description_tooltip": null,
            "layout": "IPY_MODEL_468f194d4a5e46f6be30436f05ca13a5",
            "placeholder": "​",
            "style": "IPY_MODEL_1410f97e95384a0092ba0a58c355dd18",
            "value": " 74004228/74004228 [2:56:15&lt;00:00, 6592.85 examples/s]"
          }
        },
        "14d148a89a7042f1b444a1ec317cf395": {
          "model_module": "@jupyter-widgets/base",
          "model_name": "LayoutModel",
          "model_module_version": "1.2.0",
          "state": {
            "_model_module": "@jupyter-widgets/base",
            "_model_module_version": "1.2.0",
            "_model_name": "LayoutModel",
            "_view_count": null,
            "_view_module": "@jupyter-widgets/base",
            "_view_module_version": "1.2.0",
            "_view_name": "LayoutView",
            "align_content": null,
            "align_items": null,
            "align_self": null,
            "border": null,
            "bottom": null,
            "display": null,
            "flex": null,
            "flex_flow": null,
            "grid_area": null,
            "grid_auto_columns": null,
            "grid_auto_flow": null,
            "grid_auto_rows": null,
            "grid_column": null,
            "grid_gap": null,
            "grid_row": null,
            "grid_template_areas": null,
            "grid_template_columns": null,
            "grid_template_rows": null,
            "height": null,
            "justify_content": null,
            "justify_items": null,
            "left": null,
            "margin": null,
            "max_height": null,
            "max_width": null,
            "min_height": null,
            "min_width": null,
            "object_fit": null,
            "object_position": null,
            "order": null,
            "overflow": null,
            "overflow_x": null,
            "overflow_y": null,
            "padding": null,
            "right": null,
            "top": null,
            "visibility": null,
            "width": null
          }
        },
        "549b1f1e1a7541b4a28f4aeb7590245c": {
          "model_module": "@jupyter-widgets/base",
          "model_name": "LayoutModel",
          "model_module_version": "1.2.0",
          "state": {
            "_model_module": "@jupyter-widgets/base",
            "_model_module_version": "1.2.0",
            "_model_name": "LayoutModel",
            "_view_count": null,
            "_view_module": "@jupyter-widgets/base",
            "_view_module_version": "1.2.0",
            "_view_name": "LayoutView",
            "align_content": null,
            "align_items": null,
            "align_self": null,
            "border": null,
            "bottom": null,
            "display": null,
            "flex": null,
            "flex_flow": null,
            "grid_area": null,
            "grid_auto_columns": null,
            "grid_auto_flow": null,
            "grid_auto_rows": null,
            "grid_column": null,
            "grid_gap": null,
            "grid_row": null,
            "grid_template_areas": null,
            "grid_template_columns": null,
            "grid_template_rows": null,
            "height": null,
            "justify_content": null,
            "justify_items": null,
            "left": null,
            "margin": null,
            "max_height": null,
            "max_width": null,
            "min_height": null,
            "min_width": null,
            "object_fit": null,
            "object_position": null,
            "order": null,
            "overflow": null,
            "overflow_x": null,
            "overflow_y": null,
            "padding": null,
            "right": null,
            "top": null,
            "visibility": null,
            "width": null
          }
        },
        "9e5f307bb7da4835b817664c9e2e898a": {
          "model_module": "@jupyter-widgets/controls",
          "model_name": "DescriptionStyleModel",
          "model_module_version": "1.5.0",
          "state": {
            "_model_module": "@jupyter-widgets/controls",
            "_model_module_version": "1.5.0",
            "_model_name": "DescriptionStyleModel",
            "_view_count": null,
            "_view_module": "@jupyter-widgets/base",
            "_view_module_version": "1.2.0",
            "_view_name": "StyleView",
            "description_width": ""
          }
        },
        "5dbed9792c8f4babb9e5a9d63edca9f3": {
          "model_module": "@jupyter-widgets/base",
          "model_name": "LayoutModel",
          "model_module_version": "1.2.0",
          "state": {
            "_model_module": "@jupyter-widgets/base",
            "_model_module_version": "1.2.0",
            "_model_name": "LayoutModel",
            "_view_count": null,
            "_view_module": "@jupyter-widgets/base",
            "_view_module_version": "1.2.0",
            "_view_name": "LayoutView",
            "align_content": null,
            "align_items": null,
            "align_self": null,
            "border": null,
            "bottom": null,
            "display": null,
            "flex": null,
            "flex_flow": null,
            "grid_area": null,
            "grid_auto_columns": null,
            "grid_auto_flow": null,
            "grid_auto_rows": null,
            "grid_column": null,
            "grid_gap": null,
            "grid_row": null,
            "grid_template_areas": null,
            "grid_template_columns": null,
            "grid_template_rows": null,
            "height": null,
            "justify_content": null,
            "justify_items": null,
            "left": null,
            "margin": null,
            "max_height": null,
            "max_width": null,
            "min_height": null,
            "min_width": null,
            "object_fit": null,
            "object_position": null,
            "order": null,
            "overflow": null,
            "overflow_x": null,
            "overflow_y": null,
            "padding": null,
            "right": null,
            "top": null,
            "visibility": null,
            "width": null
          }
        },
        "cf805515e2514525bac317cdecb2c2b8": {
          "model_module": "@jupyter-widgets/controls",
          "model_name": "ProgressStyleModel",
          "model_module_version": "1.5.0",
          "state": {
            "_model_module": "@jupyter-widgets/controls",
            "_model_module_version": "1.5.0",
            "_model_name": "ProgressStyleModel",
            "_view_count": null,
            "_view_module": "@jupyter-widgets/base",
            "_view_module_version": "1.2.0",
            "_view_name": "StyleView",
            "bar_color": null,
            "description_width": ""
          }
        },
        "468f194d4a5e46f6be30436f05ca13a5": {
          "model_module": "@jupyter-widgets/base",
          "model_name": "LayoutModel",
          "model_module_version": "1.2.0",
          "state": {
            "_model_module": "@jupyter-widgets/base",
            "_model_module_version": "1.2.0",
            "_model_name": "LayoutModel",
            "_view_count": null,
            "_view_module": "@jupyter-widgets/base",
            "_view_module_version": "1.2.0",
            "_view_name": "LayoutView",
            "align_content": null,
            "align_items": null,
            "align_self": null,
            "border": null,
            "bottom": null,
            "display": null,
            "flex": null,
            "flex_flow": null,
            "grid_area": null,
            "grid_auto_columns": null,
            "grid_auto_flow": null,
            "grid_auto_rows": null,
            "grid_column": null,
            "grid_gap": null,
            "grid_row": null,
            "grid_template_areas": null,
            "grid_template_columns": null,
            "grid_template_rows": null,
            "height": null,
            "justify_content": null,
            "justify_items": null,
            "left": null,
            "margin": null,
            "max_height": null,
            "max_width": null,
            "min_height": null,
            "min_width": null,
            "object_fit": null,
            "object_position": null,
            "order": null,
            "overflow": null,
            "overflow_x": null,
            "overflow_y": null,
            "padding": null,
            "right": null,
            "top": null,
            "visibility": null,
            "width": null
          }
        },
        "1410f97e95384a0092ba0a58c355dd18": {
          "model_module": "@jupyter-widgets/controls",
          "model_name": "DescriptionStyleModel",
          "model_module_version": "1.5.0",
          "state": {
            "_model_module": "@jupyter-widgets/controls",
            "_model_module_version": "1.5.0",
            "_model_name": "DescriptionStyleModel",
            "_view_count": null,
            "_view_module": "@jupyter-widgets/base",
            "_view_module_version": "1.2.0",
            "_view_name": "StyleView",
            "description_width": ""
          }
        }
      }
    }
  },
  "nbformat": 4,
  "nbformat_minor": 5
}