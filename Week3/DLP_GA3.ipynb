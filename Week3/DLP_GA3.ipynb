{
  "nbformat": 4,
  "nbformat_minor": 0,
  "metadata": {
    "colab": {
      "provenance": [],
      "gpuType": "T4",
      "authorship_tag": "ABX9TyNEmJkL6ArZlq0wDmDgsj1v",
      "include_colab_link": true
    },
    "kernelspec": {
      "name": "python3",
      "display_name": "Python 3"
    },
    "language_info": {
      "name": "python"
    },
    "widgets": {
      "application/vnd.jupyter.widget-state+json": {
        "f4c5d953c3ec4e508d1e2cbb2b9f1935": {
          "model_module": "@jupyter-widgets/controls",
          "model_name": "HBoxModel",
          "model_module_version": "1.5.0",
          "state": {
            "_dom_classes": [],
            "_model_module": "@jupyter-widgets/controls",
            "_model_module_version": "1.5.0",
            "_model_name": "HBoxModel",
            "_view_count": null,
            "_view_module": "@jupyter-widgets/controls",
            "_view_module_version": "1.5.0",
            "_view_name": "HBoxView",
            "box_style": "",
            "children": [
              "IPY_MODEL_f989ef84705d43d9a326da643015be35",
              "IPY_MODEL_ba40c2c04c1945c0be1ce2cb220c9ecc",
              "IPY_MODEL_39fa718ff61a43fa95648af049b32cf4"
            ],
            "layout": "IPY_MODEL_b62bef6729d1490c82629a75454cb99b"
          }
        },
        "f989ef84705d43d9a326da643015be35": {
          "model_module": "@jupyter-widgets/controls",
          "model_name": "HTMLModel",
          "model_module_version": "1.5.0",
          "state": {
            "_dom_classes": [],
            "_model_module": "@jupyter-widgets/controls",
            "_model_module_version": "1.5.0",
            "_model_name": "HTMLModel",
            "_view_count": null,
            "_view_module": "@jupyter-widgets/controls",
            "_view_module_version": "1.5.0",
            "_view_name": "HTMLView",
            "description": "",
            "description_tooltip": null,
            "layout": "IPY_MODEL_655d13e513b7419ab3d38017d8863167",
            "placeholder": "​",
            "style": "IPY_MODEL_132e6dc382a74abbb5ec27b63fd1492a",
            "value": "Map: 100%"
          }
        },
        "ba40c2c04c1945c0be1ce2cb220c9ecc": {
          "model_module": "@jupyter-widgets/controls",
          "model_name": "FloatProgressModel",
          "model_module_version": "1.5.0",
          "state": {
            "_dom_classes": [],
            "_model_module": "@jupyter-widgets/controls",
            "_model_module_version": "1.5.0",
            "_model_name": "FloatProgressModel",
            "_view_count": null,
            "_view_module": "@jupyter-widgets/controls",
            "_view_module_version": "1.5.0",
            "_view_name": "ProgressView",
            "bar_style": "success",
            "description": "",
            "description_tooltip": null,
            "layout": "IPY_MODEL_cb0a0d094be440e3808e550b9abcd90a",
            "max": 700000,
            "min": 0,
            "orientation": "horizontal",
            "style": "IPY_MODEL_10e66d81014b46468539a093e3a2d10f",
            "value": 700000
          }
        },
        "39fa718ff61a43fa95648af049b32cf4": {
          "model_module": "@jupyter-widgets/controls",
          "model_name": "HTMLModel",
          "model_module_version": "1.5.0",
          "state": {
            "_dom_classes": [],
            "_model_module": "@jupyter-widgets/controls",
            "_model_module_version": "1.5.0",
            "_model_name": "HTMLModel",
            "_view_count": null,
            "_view_module": "@jupyter-widgets/controls",
            "_view_module_version": "1.5.0",
            "_view_name": "HTMLView",
            "description": "",
            "description_tooltip": null,
            "layout": "IPY_MODEL_a1b33716d7aa4c35a80abd4e01312da6",
            "placeholder": "​",
            "style": "IPY_MODEL_5b5f87904f2a48c59c44a799542b8917",
            "value": " 700000/700000 [00:50&lt;00:00, 15892.72 examples/s]"
          }
        },
        "b62bef6729d1490c82629a75454cb99b": {
          "model_module": "@jupyter-widgets/base",
          "model_name": "LayoutModel",
          "model_module_version": "1.2.0",
          "state": {
            "_model_module": "@jupyter-widgets/base",
            "_model_module_version": "1.2.0",
            "_model_name": "LayoutModel",
            "_view_count": null,
            "_view_module": "@jupyter-widgets/base",
            "_view_module_version": "1.2.0",
            "_view_name": "LayoutView",
            "align_content": null,
            "align_items": null,
            "align_self": null,
            "border": null,
            "bottom": null,
            "display": null,
            "flex": null,
            "flex_flow": null,
            "grid_area": null,
            "grid_auto_columns": null,
            "grid_auto_flow": null,
            "grid_auto_rows": null,
            "grid_column": null,
            "grid_gap": null,
            "grid_row": null,
            "grid_template_areas": null,
            "grid_template_columns": null,
            "grid_template_rows": null,
            "height": null,
            "justify_content": null,
            "justify_items": null,
            "left": null,
            "margin": null,
            "max_height": null,
            "max_width": null,
            "min_height": null,
            "min_width": null,
            "object_fit": null,
            "object_position": null,
            "order": null,
            "overflow": null,
            "overflow_x": null,
            "overflow_y": null,
            "padding": null,
            "right": null,
            "top": null,
            "visibility": null,
            "width": null
          }
        },
        "655d13e513b7419ab3d38017d8863167": {
          "model_module": "@jupyter-widgets/base",
          "model_name": "LayoutModel",
          "model_module_version": "1.2.0",
          "state": {
            "_model_module": "@jupyter-widgets/base",
            "_model_module_version": "1.2.0",
            "_model_name": "LayoutModel",
            "_view_count": null,
            "_view_module": "@jupyter-widgets/base",
            "_view_module_version": "1.2.0",
            "_view_name": "LayoutView",
            "align_content": null,
            "align_items": null,
            "align_self": null,
            "border": null,
            "bottom": null,
            "display": null,
            "flex": null,
            "flex_flow": null,
            "grid_area": null,
            "grid_auto_columns": null,
            "grid_auto_flow": null,
            "grid_auto_rows": null,
            "grid_column": null,
            "grid_gap": null,
            "grid_row": null,
            "grid_template_areas": null,
            "grid_template_columns": null,
            "grid_template_rows": null,
            "height": null,
            "justify_content": null,
            "justify_items": null,
            "left": null,
            "margin": null,
            "max_height": null,
            "max_width": null,
            "min_height": null,
            "min_width": null,
            "object_fit": null,
            "object_position": null,
            "order": null,
            "overflow": null,
            "overflow_x": null,
            "overflow_y": null,
            "padding": null,
            "right": null,
            "top": null,
            "visibility": null,
            "width": null
          }
        },
        "132e6dc382a74abbb5ec27b63fd1492a": {
          "model_module": "@jupyter-widgets/controls",
          "model_name": "DescriptionStyleModel",
          "model_module_version": "1.5.0",
          "state": {
            "_model_module": "@jupyter-widgets/controls",
            "_model_module_version": "1.5.0",
            "_model_name": "DescriptionStyleModel",
            "_view_count": null,
            "_view_module": "@jupyter-widgets/base",
            "_view_module_version": "1.2.0",
            "_view_name": "StyleView",
            "description_width": ""
          }
        },
        "cb0a0d094be440e3808e550b9abcd90a": {
          "model_module": "@jupyter-widgets/base",
          "model_name": "LayoutModel",
          "model_module_version": "1.2.0",
          "state": {
            "_model_module": "@jupyter-widgets/base",
            "_model_module_version": "1.2.0",
            "_model_name": "LayoutModel",
            "_view_count": null,
            "_view_module": "@jupyter-widgets/base",
            "_view_module_version": "1.2.0",
            "_view_name": "LayoutView",
            "align_content": null,
            "align_items": null,
            "align_self": null,
            "border": null,
            "bottom": null,
            "display": null,
            "flex": null,
            "flex_flow": null,
            "grid_area": null,
            "grid_auto_columns": null,
            "grid_auto_flow": null,
            "grid_auto_rows": null,
            "grid_column": null,
            "grid_gap": null,
            "grid_row": null,
            "grid_template_areas": null,
            "grid_template_columns": null,
            "grid_template_rows": null,
            "height": null,
            "justify_content": null,
            "justify_items": null,
            "left": null,
            "margin": null,
            "max_height": null,
            "max_width": null,
            "min_height": null,
            "min_width": null,
            "object_fit": null,
            "object_position": null,
            "order": null,
            "overflow": null,
            "overflow_x": null,
            "overflow_y": null,
            "padding": null,
            "right": null,
            "top": null,
            "visibility": null,
            "width": null
          }
        },
        "10e66d81014b46468539a093e3a2d10f": {
          "model_module": "@jupyter-widgets/controls",
          "model_name": "ProgressStyleModel",
          "model_module_version": "1.5.0",
          "state": {
            "_model_module": "@jupyter-widgets/controls",
            "_model_module_version": "1.5.0",
            "_model_name": "ProgressStyleModel",
            "_view_count": null,
            "_view_module": "@jupyter-widgets/base",
            "_view_module_version": "1.2.0",
            "_view_name": "StyleView",
            "bar_color": null,
            "description_width": ""
          }
        },
        "a1b33716d7aa4c35a80abd4e01312da6": {
          "model_module": "@jupyter-widgets/base",
          "model_name": "LayoutModel",
          "model_module_version": "1.2.0",
          "state": {
            "_model_module": "@jupyter-widgets/base",
            "_model_module_version": "1.2.0",
            "_model_name": "LayoutModel",
            "_view_count": null,
            "_view_module": "@jupyter-widgets/base",
            "_view_module_version": "1.2.0",
            "_view_name": "LayoutView",
            "align_content": null,
            "align_items": null,
            "align_self": null,
            "border": null,
            "bottom": null,
            "display": null,
            "flex": null,
            "flex_flow": null,
            "grid_area": null,
            "grid_auto_columns": null,
            "grid_auto_flow": null,
            "grid_auto_rows": null,
            "grid_column": null,
            "grid_gap": null,
            "grid_row": null,
            "grid_template_areas": null,
            "grid_template_columns": null,
            "grid_template_rows": null,
            "height": null,
            "justify_content": null,
            "justify_items": null,
            "left": null,
            "margin": null,
            "max_height": null,
            "max_width": null,
            "min_height": null,
            "min_width": null,
            "object_fit": null,
            "object_position": null,
            "order": null,
            "overflow": null,
            "overflow_x": null,
            "overflow_y": null,
            "padding": null,
            "right": null,
            "top": null,
            "visibility": null,
            "width": null
          }
        },
        "5b5f87904f2a48c59c44a799542b8917": {
          "model_module": "@jupyter-widgets/controls",
          "model_name": "DescriptionStyleModel",
          "model_module_version": "1.5.0",
          "state": {
            "_model_module": "@jupyter-widgets/controls",
            "_model_module_version": "1.5.0",
            "_model_name": "DescriptionStyleModel",
            "_view_count": null,
            "_view_module": "@jupyter-widgets/base",
            "_view_module_version": "1.2.0",
            "_view_name": "StyleView",
            "description_width": ""
          }
        },
        "b31d3e790dde453eb8b274b730456628": {
          "model_module": "@jupyter-widgets/controls",
          "model_name": "HBoxModel",
          "model_module_version": "1.5.0",
          "state": {
            "_dom_classes": [],
            "_model_module": "@jupyter-widgets/controls",
            "_model_module_version": "1.5.0",
            "_model_name": "HBoxModel",
            "_view_count": null,
            "_view_module": "@jupyter-widgets/controls",
            "_view_module_version": "1.5.0",
            "_view_name": "HBoxView",
            "box_style": "",
            "children": [
              "IPY_MODEL_6ac631f91b3d420dba9dc22d20a35459",
              "IPY_MODEL_28b95e9d84ca43cd83c4fe73e5479f5c",
              "IPY_MODEL_80c409df1d91460997c93f3941517cea"
            ],
            "layout": "IPY_MODEL_6762a5eb5bbb401e817a81bd3992ab45"
          }
        },
        "6ac631f91b3d420dba9dc22d20a35459": {
          "model_module": "@jupyter-widgets/controls",
          "model_name": "HTMLModel",
          "model_module_version": "1.5.0",
          "state": {
            "_dom_classes": [],
            "_model_module": "@jupyter-widgets/controls",
            "_model_module_version": "1.5.0",
            "_model_name": "HTMLModel",
            "_view_count": null,
            "_view_module": "@jupyter-widgets/controls",
            "_view_module_version": "1.5.0",
            "_view_name": "HTMLView",
            "description": "",
            "description_tooltip": null,
            "layout": "IPY_MODEL_df81946f99c94478955c2a2fab234109",
            "placeholder": "​",
            "style": "IPY_MODEL_eb88cda09a7f4424830e62c190bf231d",
            "value": ""
          }
        },
        "28b95e9d84ca43cd83c4fe73e5479f5c": {
          "model_module": "@jupyter-widgets/controls",
          "model_name": "FloatProgressModel",
          "model_module_version": "1.5.0",
          "state": {
            "_dom_classes": [],
            "_model_module": "@jupyter-widgets/controls",
            "_model_module_version": "1.5.0",
            "_model_name": "FloatProgressModel",
            "_view_count": null,
            "_view_module": "@jupyter-widgets/controls",
            "_view_module_version": "1.5.0",
            "_view_name": "ProgressView",
            "bar_style": "success",
            "description": "",
            "description_tooltip": null,
            "layout": "IPY_MODEL_bd486a995d49485bbfff3ca7b3187ef4",
            "max": 1,
            "min": 0,
            "orientation": "horizontal",
            "style": "IPY_MODEL_3a6c91eb806f4e70bceb23225f2e74d1",
            "value": 0
          }
        },
        "80c409df1d91460997c93f3941517cea": {
          "model_module": "@jupyter-widgets/controls",
          "model_name": "HTMLModel",
          "model_module_version": "1.5.0",
          "state": {
            "_dom_classes": [],
            "_model_module": "@jupyter-widgets/controls",
            "_model_module_version": "1.5.0",
            "_model_name": "HTMLModel",
            "_view_count": null,
            "_view_module": "@jupyter-widgets/controls",
            "_view_module_version": "1.5.0",
            "_view_name": "HTMLView",
            "description": "",
            "description_tooltip": null,
            "layout": "IPY_MODEL_3e8f8b7e5bba4a239116e10c226198c2",
            "placeholder": "​",
            "style": "IPY_MODEL_79bc1061c49949f090e3668d18cbebf1",
            "value": " 0/0 [00:00&lt;?, ?it/s]"
          }
        },
        "6762a5eb5bbb401e817a81bd3992ab45": {
          "model_module": "@jupyter-widgets/base",
          "model_name": "LayoutModel",
          "model_module_version": "1.2.0",
          "state": {
            "_model_module": "@jupyter-widgets/base",
            "_model_module_version": "1.2.0",
            "_model_name": "LayoutModel",
            "_view_count": null,
            "_view_module": "@jupyter-widgets/base",
            "_view_module_version": "1.2.0",
            "_view_name": "LayoutView",
            "align_content": null,
            "align_items": null,
            "align_self": null,
            "border": null,
            "bottom": null,
            "display": null,
            "flex": null,
            "flex_flow": null,
            "grid_area": null,
            "grid_auto_columns": null,
            "grid_auto_flow": null,
            "grid_auto_rows": null,
            "grid_column": null,
            "grid_gap": null,
            "grid_row": null,
            "grid_template_areas": null,
            "grid_template_columns": null,
            "grid_template_rows": null,
            "height": null,
            "justify_content": null,
            "justify_items": null,
            "left": null,
            "margin": null,
            "max_height": null,
            "max_width": null,
            "min_height": null,
            "min_width": null,
            "object_fit": null,
            "object_position": null,
            "order": null,
            "overflow": null,
            "overflow_x": null,
            "overflow_y": null,
            "padding": null,
            "right": null,
            "top": null,
            "visibility": null,
            "width": null
          }
        },
        "df81946f99c94478955c2a2fab234109": {
          "model_module": "@jupyter-widgets/base",
          "model_name": "LayoutModel",
          "model_module_version": "1.2.0",
          "state": {
            "_model_module": "@jupyter-widgets/base",
            "_model_module_version": "1.2.0",
            "_model_name": "LayoutModel",
            "_view_count": null,
            "_view_module": "@jupyter-widgets/base",
            "_view_module_version": "1.2.0",
            "_view_name": "LayoutView",
            "align_content": null,
            "align_items": null,
            "align_self": null,
            "border": null,
            "bottom": null,
            "display": null,
            "flex": null,
            "flex_flow": null,
            "grid_area": null,
            "grid_auto_columns": null,
            "grid_auto_flow": null,
            "grid_auto_rows": null,
            "grid_column": null,
            "grid_gap": null,
            "grid_row": null,
            "grid_template_areas": null,
            "grid_template_columns": null,
            "grid_template_rows": null,
            "height": null,
            "justify_content": null,
            "justify_items": null,
            "left": null,
            "margin": null,
            "max_height": null,
            "max_width": null,
            "min_height": null,
            "min_width": null,
            "object_fit": null,
            "object_position": null,
            "order": null,
            "overflow": null,
            "overflow_x": null,
            "overflow_y": null,
            "padding": null,
            "right": null,
            "top": null,
            "visibility": null,
            "width": null
          }
        },
        "eb88cda09a7f4424830e62c190bf231d": {
          "model_module": "@jupyter-widgets/controls",
          "model_name": "DescriptionStyleModel",
          "model_module_version": "1.5.0",
          "state": {
            "_model_module": "@jupyter-widgets/controls",
            "_model_module_version": "1.5.0",
            "_model_name": "DescriptionStyleModel",
            "_view_count": null,
            "_view_module": "@jupyter-widgets/base",
            "_view_module_version": "1.2.0",
            "_view_name": "StyleView",
            "description_width": ""
          }
        },
        "bd486a995d49485bbfff3ca7b3187ef4": {
          "model_module": "@jupyter-widgets/base",
          "model_name": "LayoutModel",
          "model_module_version": "1.2.0",
          "state": {
            "_model_module": "@jupyter-widgets/base",
            "_model_module_version": "1.2.0",
            "_model_name": "LayoutModel",
            "_view_count": null,
            "_view_module": "@jupyter-widgets/base",
            "_view_module_version": "1.2.0",
            "_view_name": "LayoutView",
            "align_content": null,
            "align_items": null,
            "align_self": null,
            "border": null,
            "bottom": null,
            "display": null,
            "flex": null,
            "flex_flow": null,
            "grid_area": null,
            "grid_auto_columns": null,
            "grid_auto_flow": null,
            "grid_auto_rows": null,
            "grid_column": null,
            "grid_gap": null,
            "grid_row": null,
            "grid_template_areas": null,
            "grid_template_columns": null,
            "grid_template_rows": null,
            "height": null,
            "justify_content": null,
            "justify_items": null,
            "left": null,
            "margin": null,
            "max_height": null,
            "max_width": null,
            "min_height": null,
            "min_width": null,
            "object_fit": null,
            "object_position": null,
            "order": null,
            "overflow": null,
            "overflow_x": null,
            "overflow_y": null,
            "padding": null,
            "right": null,
            "top": null,
            "visibility": null,
            "width": "20px"
          }
        },
        "3a6c91eb806f4e70bceb23225f2e74d1": {
          "model_module": "@jupyter-widgets/controls",
          "model_name": "ProgressStyleModel",
          "model_module_version": "1.5.0",
          "state": {
            "_model_module": "@jupyter-widgets/controls",
            "_model_module_version": "1.5.0",
            "_model_name": "ProgressStyleModel",
            "_view_count": null,
            "_view_module": "@jupyter-widgets/base",
            "_view_module_version": "1.2.0",
            "_view_name": "StyleView",
            "bar_color": null,
            "description_width": ""
          }
        },
        "3e8f8b7e5bba4a239116e10c226198c2": {
          "model_module": "@jupyter-widgets/base",
          "model_name": "LayoutModel",
          "model_module_version": "1.2.0",
          "state": {
            "_model_module": "@jupyter-widgets/base",
            "_model_module_version": "1.2.0",
            "_model_name": "LayoutModel",
            "_view_count": null,
            "_view_module": "@jupyter-widgets/base",
            "_view_module_version": "1.2.0",
            "_view_name": "LayoutView",
            "align_content": null,
            "align_items": null,
            "align_self": null,
            "border": null,
            "bottom": null,
            "display": null,
            "flex": null,
            "flex_flow": null,
            "grid_area": null,
            "grid_auto_columns": null,
            "grid_auto_flow": null,
            "grid_auto_rows": null,
            "grid_column": null,
            "grid_gap": null,
            "grid_row": null,
            "grid_template_areas": null,
            "grid_template_columns": null,
            "grid_template_rows": null,
            "height": null,
            "justify_content": null,
            "justify_items": null,
            "left": null,
            "margin": null,
            "max_height": null,
            "max_width": null,
            "min_height": null,
            "min_width": null,
            "object_fit": null,
            "object_position": null,
            "order": null,
            "overflow": null,
            "overflow_x": null,
            "overflow_y": null,
            "padding": null,
            "right": null,
            "top": null,
            "visibility": null,
            "width": null
          }
        },
        "79bc1061c49949f090e3668d18cbebf1": {
          "model_module": "@jupyter-widgets/controls",
          "model_name": "DescriptionStyleModel",
          "model_module_version": "1.5.0",
          "state": {
            "_model_module": "@jupyter-widgets/controls",
            "_model_module_version": "1.5.0",
            "_model_name": "DescriptionStyleModel",
            "_view_count": null,
            "_view_module": "@jupyter-widgets/base",
            "_view_module_version": "1.2.0",
            "_view_name": "StyleView",
            "description_width": ""
          }
        },
        "9efa78dc9b4f4490ab9c9af3c2f64139": {
          "model_module": "@jupyter-widgets/controls",
          "model_name": "HBoxModel",
          "model_module_version": "1.5.0",
          "state": {
            "_dom_classes": [],
            "_model_module": "@jupyter-widgets/controls",
            "_model_module_version": "1.5.0",
            "_model_name": "HBoxModel",
            "_view_count": null,
            "_view_module": "@jupyter-widgets/controls",
            "_view_module_version": "1.5.0",
            "_view_name": "HBoxView",
            "box_style": "",
            "children": [
              "IPY_MODEL_00c5556de5e34a038049ea6f6fbdb034",
              "IPY_MODEL_459cf5093967444181523f1131a5a7ed",
              "IPY_MODEL_24394c2ba2fe4cc6828ff68f8cfb967d"
            ],
            "layout": "IPY_MODEL_8dc1317e3ae848a1b779bfc0826f6ee8"
          }
        },
        "00c5556de5e34a038049ea6f6fbdb034": {
          "model_module": "@jupyter-widgets/controls",
          "model_name": "HTMLModel",
          "model_module_version": "1.5.0",
          "state": {
            "_dom_classes": [],
            "_model_module": "@jupyter-widgets/controls",
            "_model_module_version": "1.5.0",
            "_model_name": "HTMLModel",
            "_view_count": null,
            "_view_module": "@jupyter-widgets/controls",
            "_view_module_version": "1.5.0",
            "_view_name": "HTMLView",
            "description": "",
            "description_tooltip": null,
            "layout": "IPY_MODEL_4c1063d9c4934d8c9162d45a200c221b",
            "placeholder": "​",
            "style": "IPY_MODEL_91568c125e15416e8be6211a2e17e716",
            "value": "tokenizer_config.json: 100%"
          }
        },
        "459cf5093967444181523f1131a5a7ed": {
          "model_module": "@jupyter-widgets/controls",
          "model_name": "FloatProgressModel",
          "model_module_version": "1.5.0",
          "state": {
            "_dom_classes": [],
            "_model_module": "@jupyter-widgets/controls",
            "_model_module_version": "1.5.0",
            "_model_name": "FloatProgressModel",
            "_view_count": null,
            "_view_module": "@jupyter-widgets/controls",
            "_view_module_version": "1.5.0",
            "_view_name": "ProgressView",
            "bar_style": "success",
            "description": "",
            "description_tooltip": null,
            "layout": "IPY_MODEL_c0b631486c4449fb9f6b9ca1ae3636d7",
            "max": 48,
            "min": 0,
            "orientation": "horizontal",
            "style": "IPY_MODEL_86768443b04548d78843d35d645b3d43",
            "value": 48
          }
        },
        "24394c2ba2fe4cc6828ff68f8cfb967d": {
          "model_module": "@jupyter-widgets/controls",
          "model_name": "HTMLModel",
          "model_module_version": "1.5.0",
          "state": {
            "_dom_classes": [],
            "_model_module": "@jupyter-widgets/controls",
            "_model_module_version": "1.5.0",
            "_model_name": "HTMLModel",
            "_view_count": null,
            "_view_module": "@jupyter-widgets/controls",
            "_view_module_version": "1.5.0",
            "_view_name": "HTMLView",
            "description": "",
            "description_tooltip": null,
            "layout": "IPY_MODEL_17a006feb9344734972db68cfb94911c",
            "placeholder": "​",
            "style": "IPY_MODEL_e5ef11e7c4024061b5579de54436b189",
            "value": " 48.0/48.0 [00:00&lt;00:00, 2.51kB/s]"
          }
        },
        "8dc1317e3ae848a1b779bfc0826f6ee8": {
          "model_module": "@jupyter-widgets/base",
          "model_name": "LayoutModel",
          "model_module_version": "1.2.0",
          "state": {
            "_model_module": "@jupyter-widgets/base",
            "_model_module_version": "1.2.0",
            "_model_name": "LayoutModel",
            "_view_count": null,
            "_view_module": "@jupyter-widgets/base",
            "_view_module_version": "1.2.0",
            "_view_name": "LayoutView",
            "align_content": null,
            "align_items": null,
            "align_self": null,
            "border": null,
            "bottom": null,
            "display": null,
            "flex": null,
            "flex_flow": null,
            "grid_area": null,
            "grid_auto_columns": null,
            "grid_auto_flow": null,
            "grid_auto_rows": null,
            "grid_column": null,
            "grid_gap": null,
            "grid_row": null,
            "grid_template_areas": null,
            "grid_template_columns": null,
            "grid_template_rows": null,
            "height": null,
            "justify_content": null,
            "justify_items": null,
            "left": null,
            "margin": null,
            "max_height": null,
            "max_width": null,
            "min_height": null,
            "min_width": null,
            "object_fit": null,
            "object_position": null,
            "order": null,
            "overflow": null,
            "overflow_x": null,
            "overflow_y": null,
            "padding": null,
            "right": null,
            "top": null,
            "visibility": null,
            "width": null
          }
        },
        "4c1063d9c4934d8c9162d45a200c221b": {
          "model_module": "@jupyter-widgets/base",
          "model_name": "LayoutModel",
          "model_module_version": "1.2.0",
          "state": {
            "_model_module": "@jupyter-widgets/base",
            "_model_module_version": "1.2.0",
            "_model_name": "LayoutModel",
            "_view_count": null,
            "_view_module": "@jupyter-widgets/base",
            "_view_module_version": "1.2.0",
            "_view_name": "LayoutView",
            "align_content": null,
            "align_items": null,
            "align_self": null,
            "border": null,
            "bottom": null,
            "display": null,
            "flex": null,
            "flex_flow": null,
            "grid_area": null,
            "grid_auto_columns": null,
            "grid_auto_flow": null,
            "grid_auto_rows": null,
            "grid_column": null,
            "grid_gap": null,
            "grid_row": null,
            "grid_template_areas": null,
            "grid_template_columns": null,
            "grid_template_rows": null,
            "height": null,
            "justify_content": null,
            "justify_items": null,
            "left": null,
            "margin": null,
            "max_height": null,
            "max_width": null,
            "min_height": null,
            "min_width": null,
            "object_fit": null,
            "object_position": null,
            "order": null,
            "overflow": null,
            "overflow_x": null,
            "overflow_y": null,
            "padding": null,
            "right": null,
            "top": null,
            "visibility": null,
            "width": null
          }
        },
        "91568c125e15416e8be6211a2e17e716": {
          "model_module": "@jupyter-widgets/controls",
          "model_name": "DescriptionStyleModel",
          "model_module_version": "1.5.0",
          "state": {
            "_model_module": "@jupyter-widgets/controls",
            "_model_module_version": "1.5.0",
            "_model_name": "DescriptionStyleModel",
            "_view_count": null,
            "_view_module": "@jupyter-widgets/base",
            "_view_module_version": "1.2.0",
            "_view_name": "StyleView",
            "description_width": ""
          }
        },
        "c0b631486c4449fb9f6b9ca1ae3636d7": {
          "model_module": "@jupyter-widgets/base",
          "model_name": "LayoutModel",
          "model_module_version": "1.2.0",
          "state": {
            "_model_module": "@jupyter-widgets/base",
            "_model_module_version": "1.2.0",
            "_model_name": "LayoutModel",
            "_view_count": null,
            "_view_module": "@jupyter-widgets/base",
            "_view_module_version": "1.2.0",
            "_view_name": "LayoutView",
            "align_content": null,
            "align_items": null,
            "align_self": null,
            "border": null,
            "bottom": null,
            "display": null,
            "flex": null,
            "flex_flow": null,
            "grid_area": null,
            "grid_auto_columns": null,
            "grid_auto_flow": null,
            "grid_auto_rows": null,
            "grid_column": null,
            "grid_gap": null,
            "grid_row": null,
            "grid_template_areas": null,
            "grid_template_columns": null,
            "grid_template_rows": null,
            "height": null,
            "justify_content": null,
            "justify_items": null,
            "left": null,
            "margin": null,
            "max_height": null,
            "max_width": null,
            "min_height": null,
            "min_width": null,
            "object_fit": null,
            "object_position": null,
            "order": null,
            "overflow": null,
            "overflow_x": null,
            "overflow_y": null,
            "padding": null,
            "right": null,
            "top": null,
            "visibility": null,
            "width": null
          }
        },
        "86768443b04548d78843d35d645b3d43": {
          "model_module": "@jupyter-widgets/controls",
          "model_name": "ProgressStyleModel",
          "model_module_version": "1.5.0",
          "state": {
            "_model_module": "@jupyter-widgets/controls",
            "_model_module_version": "1.5.0",
            "_model_name": "ProgressStyleModel",
            "_view_count": null,
            "_view_module": "@jupyter-widgets/base",
            "_view_module_version": "1.2.0",
            "_view_name": "StyleView",
            "bar_color": null,
            "description_width": ""
          }
        },
        "17a006feb9344734972db68cfb94911c": {
          "model_module": "@jupyter-widgets/base",
          "model_name": "LayoutModel",
          "model_module_version": "1.2.0",
          "state": {
            "_model_module": "@jupyter-widgets/base",
            "_model_module_version": "1.2.0",
            "_model_name": "LayoutModel",
            "_view_count": null,
            "_view_module": "@jupyter-widgets/base",
            "_view_module_version": "1.2.0",
            "_view_name": "LayoutView",
            "align_content": null,
            "align_items": null,
            "align_self": null,
            "border": null,
            "bottom": null,
            "display": null,
            "flex": null,
            "flex_flow": null,
            "grid_area": null,
            "grid_auto_columns": null,
            "grid_auto_flow": null,
            "grid_auto_rows": null,
            "grid_column": null,
            "grid_gap": null,
            "grid_row": null,
            "grid_template_areas": null,
            "grid_template_columns": null,
            "grid_template_rows": null,
            "height": null,
            "justify_content": null,
            "justify_items": null,
            "left": null,
            "margin": null,
            "max_height": null,
            "max_width": null,
            "min_height": null,
            "min_width": null,
            "object_fit": null,
            "object_position": null,
            "order": null,
            "overflow": null,
            "overflow_x": null,
            "overflow_y": null,
            "padding": null,
            "right": null,
            "top": null,
            "visibility": null,
            "width": null
          }
        },
        "e5ef11e7c4024061b5579de54436b189": {
          "model_module": "@jupyter-widgets/controls",
          "model_name": "DescriptionStyleModel",
          "model_module_version": "1.5.0",
          "state": {
            "_model_module": "@jupyter-widgets/controls",
            "_model_module_version": "1.5.0",
            "_model_name": "DescriptionStyleModel",
            "_view_count": null,
            "_view_module": "@jupyter-widgets/base",
            "_view_module_version": "1.2.0",
            "_view_name": "StyleView",
            "description_width": ""
          }
        },
        "ff2578ad16754dffab59632c1cfb6b5b": {
          "model_module": "@jupyter-widgets/controls",
          "model_name": "HBoxModel",
          "model_module_version": "1.5.0",
          "state": {
            "_dom_classes": [],
            "_model_module": "@jupyter-widgets/controls",
            "_model_module_version": "1.5.0",
            "_model_name": "HBoxModel",
            "_view_count": null,
            "_view_module": "@jupyter-widgets/controls",
            "_view_module_version": "1.5.0",
            "_view_name": "HBoxView",
            "box_style": "",
            "children": [
              "IPY_MODEL_dd371c6a5a434c5e8f6d6ea55d56f1f2",
              "IPY_MODEL_d8d97fb0a86147f0822850ab8e9ecf5d",
              "IPY_MODEL_efa177a2232e4ef39b568bc45ed68a15"
            ],
            "layout": "IPY_MODEL_63a2fad0f36e4a47a34009f081daf199"
          }
        },
        "dd371c6a5a434c5e8f6d6ea55d56f1f2": {
          "model_module": "@jupyter-widgets/controls",
          "model_name": "HTMLModel",
          "model_module_version": "1.5.0",
          "state": {
            "_dom_classes": [],
            "_model_module": "@jupyter-widgets/controls",
            "_model_module_version": "1.5.0",
            "_model_name": "HTMLModel",
            "_view_count": null,
            "_view_module": "@jupyter-widgets/controls",
            "_view_module_version": "1.5.0",
            "_view_name": "HTMLView",
            "description": "",
            "description_tooltip": null,
            "layout": "IPY_MODEL_a1b69de9022f4a208ba85b1ddd303f56",
            "placeholder": "​",
            "style": "IPY_MODEL_3ee9aace492141758710e6af48b556c3",
            "value": "config.json: 100%"
          }
        },
        "d8d97fb0a86147f0822850ab8e9ecf5d": {
          "model_module": "@jupyter-widgets/controls",
          "model_name": "FloatProgressModel",
          "model_module_version": "1.5.0",
          "state": {
            "_dom_classes": [],
            "_model_module": "@jupyter-widgets/controls",
            "_model_module_version": "1.5.0",
            "_model_name": "FloatProgressModel",
            "_view_count": null,
            "_view_module": "@jupyter-widgets/controls",
            "_view_module_version": "1.5.0",
            "_view_name": "ProgressView",
            "bar_style": "success",
            "description": "",
            "description_tooltip": null,
            "layout": "IPY_MODEL_e40b45825c7040989fd0fba1a785a883",
            "max": 570,
            "min": 0,
            "orientation": "horizontal",
            "style": "IPY_MODEL_2329669d6c8444f6beb2102871d1c42c",
            "value": 570
          }
        },
        "efa177a2232e4ef39b568bc45ed68a15": {
          "model_module": "@jupyter-widgets/controls",
          "model_name": "HTMLModel",
          "model_module_version": "1.5.0",
          "state": {
            "_dom_classes": [],
            "_model_module": "@jupyter-widgets/controls",
            "_model_module_version": "1.5.0",
            "_model_name": "HTMLModel",
            "_view_count": null,
            "_view_module": "@jupyter-widgets/controls",
            "_view_module_version": "1.5.0",
            "_view_name": "HTMLView",
            "description": "",
            "description_tooltip": null,
            "layout": "IPY_MODEL_2e23aeec19164309b8be486675daa6cc",
            "placeholder": "​",
            "style": "IPY_MODEL_94df3b23f2154be18b56b780fc1f64f5",
            "value": " 570/570 [00:00&lt;00:00, 30.8kB/s]"
          }
        },
        "63a2fad0f36e4a47a34009f081daf199": {
          "model_module": "@jupyter-widgets/base",
          "model_name": "LayoutModel",
          "model_module_version": "1.2.0",
          "state": {
            "_model_module": "@jupyter-widgets/base",
            "_model_module_version": "1.2.0",
            "_model_name": "LayoutModel",
            "_view_count": null,
            "_view_module": "@jupyter-widgets/base",
            "_view_module_version": "1.2.0",
            "_view_name": "LayoutView",
            "align_content": null,
            "align_items": null,
            "align_self": null,
            "border": null,
            "bottom": null,
            "display": null,
            "flex": null,
            "flex_flow": null,
            "grid_area": null,
            "grid_auto_columns": null,
            "grid_auto_flow": null,
            "grid_auto_rows": null,
            "grid_column": null,
            "grid_gap": null,
            "grid_row": null,
            "grid_template_areas": null,
            "grid_template_columns": null,
            "grid_template_rows": null,
            "height": null,
            "justify_content": null,
            "justify_items": null,
            "left": null,
            "margin": null,
            "max_height": null,
            "max_width": null,
            "min_height": null,
            "min_width": null,
            "object_fit": null,
            "object_position": null,
            "order": null,
            "overflow": null,
            "overflow_x": null,
            "overflow_y": null,
            "padding": null,
            "right": null,
            "top": null,
            "visibility": null,
            "width": null
          }
        },
        "a1b69de9022f4a208ba85b1ddd303f56": {
          "model_module": "@jupyter-widgets/base",
          "model_name": "LayoutModel",
          "model_module_version": "1.2.0",
          "state": {
            "_model_module": "@jupyter-widgets/base",
            "_model_module_version": "1.2.0",
            "_model_name": "LayoutModel",
            "_view_count": null,
            "_view_module": "@jupyter-widgets/base",
            "_view_module_version": "1.2.0",
            "_view_name": "LayoutView",
            "align_content": null,
            "align_items": null,
            "align_self": null,
            "border": null,
            "bottom": null,
            "display": null,
            "flex": null,
            "flex_flow": null,
            "grid_area": null,
            "grid_auto_columns": null,
            "grid_auto_flow": null,
            "grid_auto_rows": null,
            "grid_column": null,
            "grid_gap": null,
            "grid_row": null,
            "grid_template_areas": null,
            "grid_template_columns": null,
            "grid_template_rows": null,
            "height": null,
            "justify_content": null,
            "justify_items": null,
            "left": null,
            "margin": null,
            "max_height": null,
            "max_width": null,
            "min_height": null,
            "min_width": null,
            "object_fit": null,
            "object_position": null,
            "order": null,
            "overflow": null,
            "overflow_x": null,
            "overflow_y": null,
            "padding": null,
            "right": null,
            "top": null,
            "visibility": null,
            "width": null
          }
        },
        "3ee9aace492141758710e6af48b556c3": {
          "model_module": "@jupyter-widgets/controls",
          "model_name": "DescriptionStyleModel",
          "model_module_version": "1.5.0",
          "state": {
            "_model_module": "@jupyter-widgets/controls",
            "_model_module_version": "1.5.0",
            "_model_name": "DescriptionStyleModel",
            "_view_count": null,
            "_view_module": "@jupyter-widgets/base",
            "_view_module_version": "1.2.0",
            "_view_name": "StyleView",
            "description_width": ""
          }
        },
        "e40b45825c7040989fd0fba1a785a883": {
          "model_module": "@jupyter-widgets/base",
          "model_name": "LayoutModel",
          "model_module_version": "1.2.0",
          "state": {
            "_model_module": "@jupyter-widgets/base",
            "_model_module_version": "1.2.0",
            "_model_name": "LayoutModel",
            "_view_count": null,
            "_view_module": "@jupyter-widgets/base",
            "_view_module_version": "1.2.0",
            "_view_name": "LayoutView",
            "align_content": null,
            "align_items": null,
            "align_self": null,
            "border": null,
            "bottom": null,
            "display": null,
            "flex": null,
            "flex_flow": null,
            "grid_area": null,
            "grid_auto_columns": null,
            "grid_auto_flow": null,
            "grid_auto_rows": null,
            "grid_column": null,
            "grid_gap": null,
            "grid_row": null,
            "grid_template_areas": null,
            "grid_template_columns": null,
            "grid_template_rows": null,
            "height": null,
            "justify_content": null,
            "justify_items": null,
            "left": null,
            "margin": null,
            "max_height": null,
            "max_width": null,
            "min_height": null,
            "min_width": null,
            "object_fit": null,
            "object_position": null,
            "order": null,
            "overflow": null,
            "overflow_x": null,
            "overflow_y": null,
            "padding": null,
            "right": null,
            "top": null,
            "visibility": null,
            "width": null
          }
        },
        "2329669d6c8444f6beb2102871d1c42c": {
          "model_module": "@jupyter-widgets/controls",
          "model_name": "ProgressStyleModel",
          "model_module_version": "1.5.0",
          "state": {
            "_model_module": "@jupyter-widgets/controls",
            "_model_module_version": "1.5.0",
            "_model_name": "ProgressStyleModel",
            "_view_count": null,
            "_view_module": "@jupyter-widgets/base",
            "_view_module_version": "1.2.0",
            "_view_name": "StyleView",
            "bar_color": null,
            "description_width": ""
          }
        },
        "2e23aeec19164309b8be486675daa6cc": {
          "model_module": "@jupyter-widgets/base",
          "model_name": "LayoutModel",
          "model_module_version": "1.2.0",
          "state": {
            "_model_module": "@jupyter-widgets/base",
            "_model_module_version": "1.2.0",
            "_model_name": "LayoutModel",
            "_view_count": null,
            "_view_module": "@jupyter-widgets/base",
            "_view_module_version": "1.2.0",
            "_view_name": "LayoutView",
            "align_content": null,
            "align_items": null,
            "align_self": null,
            "border": null,
            "bottom": null,
            "display": null,
            "flex": null,
            "flex_flow": null,
            "grid_area": null,
            "grid_auto_columns": null,
            "grid_auto_flow": null,
            "grid_auto_rows": null,
            "grid_column": null,
            "grid_gap": null,
            "grid_row": null,
            "grid_template_areas": null,
            "grid_template_columns": null,
            "grid_template_rows": null,
            "height": null,
            "justify_content": null,
            "justify_items": null,
            "left": null,
            "margin": null,
            "max_height": null,
            "max_width": null,
            "min_height": null,
            "min_width": null,
            "object_fit": null,
            "object_position": null,
            "order": null,
            "overflow": null,
            "overflow_x": null,
            "overflow_y": null,
            "padding": null,
            "right": null,
            "top": null,
            "visibility": null,
            "width": null
          }
        },
        "94df3b23f2154be18b56b780fc1f64f5": {
          "model_module": "@jupyter-widgets/controls",
          "model_name": "DescriptionStyleModel",
          "model_module_version": "1.5.0",
          "state": {
            "_model_module": "@jupyter-widgets/controls",
            "_model_module_version": "1.5.0",
            "_model_name": "DescriptionStyleModel",
            "_view_count": null,
            "_view_module": "@jupyter-widgets/base",
            "_view_module_version": "1.2.0",
            "_view_name": "StyleView",
            "description_width": ""
          }
        },
        "0052e17dd7f14c4bbec78c0a6c2bea7d": {
          "model_module": "@jupyter-widgets/controls",
          "model_name": "HBoxModel",
          "model_module_version": "1.5.0",
          "state": {
            "_dom_classes": [],
            "_model_module": "@jupyter-widgets/controls",
            "_model_module_version": "1.5.0",
            "_model_name": "HBoxModel",
            "_view_count": null,
            "_view_module": "@jupyter-widgets/controls",
            "_view_module_version": "1.5.0",
            "_view_name": "HBoxView",
            "box_style": "",
            "children": [
              "IPY_MODEL_db056739583740e8a990b072f1326e37",
              "IPY_MODEL_254b77d7f1d54237850b7e4739066fe9",
              "IPY_MODEL_897a1014437f44888840f3467ee0ce17"
            ],
            "layout": "IPY_MODEL_8f797187aff64f819f7209012fb1e858"
          }
        },
        "db056739583740e8a990b072f1326e37": {
          "model_module": "@jupyter-widgets/controls",
          "model_name": "HTMLModel",
          "model_module_version": "1.5.0",
          "state": {
            "_dom_classes": [],
            "_model_module": "@jupyter-widgets/controls",
            "_model_module_version": "1.5.0",
            "_model_name": "HTMLModel",
            "_view_count": null,
            "_view_module": "@jupyter-widgets/controls",
            "_view_module_version": "1.5.0",
            "_view_name": "HTMLView",
            "description": "",
            "description_tooltip": null,
            "layout": "IPY_MODEL_f8241d96380b4ccd98a686a4757fc55f",
            "placeholder": "​",
            "style": "IPY_MODEL_b9a54efb21794b74b10a716528fb1ba0",
            "value": "vocab.txt: 100%"
          }
        },
        "254b77d7f1d54237850b7e4739066fe9": {
          "model_module": "@jupyter-widgets/controls",
          "model_name": "FloatProgressModel",
          "model_module_version": "1.5.0",
          "state": {
            "_dom_classes": [],
            "_model_module": "@jupyter-widgets/controls",
            "_model_module_version": "1.5.0",
            "_model_name": "FloatProgressModel",
            "_view_count": null,
            "_view_module": "@jupyter-widgets/controls",
            "_view_module_version": "1.5.0",
            "_view_name": "ProgressView",
            "bar_style": "success",
            "description": "",
            "description_tooltip": null,
            "layout": "IPY_MODEL_14d2c04d264c4dcd88dcfd346e201fac",
            "max": 231508,
            "min": 0,
            "orientation": "horizontal",
            "style": "IPY_MODEL_0341309439264aaba3d61ca20833ba87",
            "value": 231508
          }
        },
        "897a1014437f44888840f3467ee0ce17": {
          "model_module": "@jupyter-widgets/controls",
          "model_name": "HTMLModel",
          "model_module_version": "1.5.0",
          "state": {
            "_dom_classes": [],
            "_model_module": "@jupyter-widgets/controls",
            "_model_module_version": "1.5.0",
            "_model_name": "HTMLModel",
            "_view_count": null,
            "_view_module": "@jupyter-widgets/controls",
            "_view_module_version": "1.5.0",
            "_view_name": "HTMLView",
            "description": "",
            "description_tooltip": null,
            "layout": "IPY_MODEL_aadb59a589ab408f85f836eabd3522d5",
            "placeholder": "​",
            "style": "IPY_MODEL_24a513ce692f4a4591ae83a600054afb",
            "value": " 232k/232k [00:00&lt;00:00, 535kB/s]"
          }
        },
        "8f797187aff64f819f7209012fb1e858": {
          "model_module": "@jupyter-widgets/base",
          "model_name": "LayoutModel",
          "model_module_version": "1.2.0",
          "state": {
            "_model_module": "@jupyter-widgets/base",
            "_model_module_version": "1.2.0",
            "_model_name": "LayoutModel",
            "_view_count": null,
            "_view_module": "@jupyter-widgets/base",
            "_view_module_version": "1.2.0",
            "_view_name": "LayoutView",
            "align_content": null,
            "align_items": null,
            "align_self": null,
            "border": null,
            "bottom": null,
            "display": null,
            "flex": null,
            "flex_flow": null,
            "grid_area": null,
            "grid_auto_columns": null,
            "grid_auto_flow": null,
            "grid_auto_rows": null,
            "grid_column": null,
            "grid_gap": null,
            "grid_row": null,
            "grid_template_areas": null,
            "grid_template_columns": null,
            "grid_template_rows": null,
            "height": null,
            "justify_content": null,
            "justify_items": null,
            "left": null,
            "margin": null,
            "max_height": null,
            "max_width": null,
            "min_height": null,
            "min_width": null,
            "object_fit": null,
            "object_position": null,
            "order": null,
            "overflow": null,
            "overflow_x": null,
            "overflow_y": null,
            "padding": null,
            "right": null,
            "top": null,
            "visibility": null,
            "width": null
          }
        },
        "f8241d96380b4ccd98a686a4757fc55f": {
          "model_module": "@jupyter-widgets/base",
          "model_name": "LayoutModel",
          "model_module_version": "1.2.0",
          "state": {
            "_model_module": "@jupyter-widgets/base",
            "_model_module_version": "1.2.0",
            "_model_name": "LayoutModel",
            "_view_count": null,
            "_view_module": "@jupyter-widgets/base",
            "_view_module_version": "1.2.0",
            "_view_name": "LayoutView",
            "align_content": null,
            "align_items": null,
            "align_self": null,
            "border": null,
            "bottom": null,
            "display": null,
            "flex": null,
            "flex_flow": null,
            "grid_area": null,
            "grid_auto_columns": null,
            "grid_auto_flow": null,
            "grid_auto_rows": null,
            "grid_column": null,
            "grid_gap": null,
            "grid_row": null,
            "grid_template_areas": null,
            "grid_template_columns": null,
            "grid_template_rows": null,
            "height": null,
            "justify_content": null,
            "justify_items": null,
            "left": null,
            "margin": null,
            "max_height": null,
            "max_width": null,
            "min_height": null,
            "min_width": null,
            "object_fit": null,
            "object_position": null,
            "order": null,
            "overflow": null,
            "overflow_x": null,
            "overflow_y": null,
            "padding": null,
            "right": null,
            "top": null,
            "visibility": null,
            "width": null
          }
        },
        "b9a54efb21794b74b10a716528fb1ba0": {
          "model_module": "@jupyter-widgets/controls",
          "model_name": "DescriptionStyleModel",
          "model_module_version": "1.5.0",
          "state": {
            "_model_module": "@jupyter-widgets/controls",
            "_model_module_version": "1.5.0",
            "_model_name": "DescriptionStyleModel",
            "_view_count": null,
            "_view_module": "@jupyter-widgets/base",
            "_view_module_version": "1.2.0",
            "_view_name": "StyleView",
            "description_width": ""
          }
        },
        "14d2c04d264c4dcd88dcfd346e201fac": {
          "model_module": "@jupyter-widgets/base",
          "model_name": "LayoutModel",
          "model_module_version": "1.2.0",
          "state": {
            "_model_module": "@jupyter-widgets/base",
            "_model_module_version": "1.2.0",
            "_model_name": "LayoutModel",
            "_view_count": null,
            "_view_module": "@jupyter-widgets/base",
            "_view_module_version": "1.2.0",
            "_view_name": "LayoutView",
            "align_content": null,
            "align_items": null,
            "align_self": null,
            "border": null,
            "bottom": null,
            "display": null,
            "flex": null,
            "flex_flow": null,
            "grid_area": null,
            "grid_auto_columns": null,
            "grid_auto_flow": null,
            "grid_auto_rows": null,
            "grid_column": null,
            "grid_gap": null,
            "grid_row": null,
            "grid_template_areas": null,
            "grid_template_columns": null,
            "grid_template_rows": null,
            "height": null,
            "justify_content": null,
            "justify_items": null,
            "left": null,
            "margin": null,
            "max_height": null,
            "max_width": null,
            "min_height": null,
            "min_width": null,
            "object_fit": null,
            "object_position": null,
            "order": null,
            "overflow": null,
            "overflow_x": null,
            "overflow_y": null,
            "padding": null,
            "right": null,
            "top": null,
            "visibility": null,
            "width": null
          }
        },
        "0341309439264aaba3d61ca20833ba87": {
          "model_module": "@jupyter-widgets/controls",
          "model_name": "ProgressStyleModel",
          "model_module_version": "1.5.0",
          "state": {
            "_model_module": "@jupyter-widgets/controls",
            "_model_module_version": "1.5.0",
            "_model_name": "ProgressStyleModel",
            "_view_count": null,
            "_view_module": "@jupyter-widgets/base",
            "_view_module_version": "1.2.0",
            "_view_name": "StyleView",
            "bar_color": null,
            "description_width": ""
          }
        },
        "aadb59a589ab408f85f836eabd3522d5": {
          "model_module": "@jupyter-widgets/base",
          "model_name": "LayoutModel",
          "model_module_version": "1.2.0",
          "state": {
            "_model_module": "@jupyter-widgets/base",
            "_model_module_version": "1.2.0",
            "_model_name": "LayoutModel",
            "_view_count": null,
            "_view_module": "@jupyter-widgets/base",
            "_view_module_version": "1.2.0",
            "_view_name": "LayoutView",
            "align_content": null,
            "align_items": null,
            "align_self": null,
            "border": null,
            "bottom": null,
            "display": null,
            "flex": null,
            "flex_flow": null,
            "grid_area": null,
            "grid_auto_columns": null,
            "grid_auto_flow": null,
            "grid_auto_rows": null,
            "grid_column": null,
            "grid_gap": null,
            "grid_row": null,
            "grid_template_areas": null,
            "grid_template_columns": null,
            "grid_template_rows": null,
            "height": null,
            "justify_content": null,
            "justify_items": null,
            "left": null,
            "margin": null,
            "max_height": null,
            "max_width": null,
            "min_height": null,
            "min_width": null,
            "object_fit": null,
            "object_position": null,
            "order": null,
            "overflow": null,
            "overflow_x": null,
            "overflow_y": null,
            "padding": null,
            "right": null,
            "top": null,
            "visibility": null,
            "width": null
          }
        },
        "24a513ce692f4a4591ae83a600054afb": {
          "model_module": "@jupyter-widgets/controls",
          "model_name": "DescriptionStyleModel",
          "model_module_version": "1.5.0",
          "state": {
            "_model_module": "@jupyter-widgets/controls",
            "_model_module_version": "1.5.0",
            "_model_name": "DescriptionStyleModel",
            "_view_count": null,
            "_view_module": "@jupyter-widgets/base",
            "_view_module_version": "1.2.0",
            "_view_name": "StyleView",
            "description_width": ""
          }
        },
        "8bda177ecd454c8ebd67b4cf82f89565": {
          "model_module": "@jupyter-widgets/controls",
          "model_name": "HBoxModel",
          "model_module_version": "1.5.0",
          "state": {
            "_dom_classes": [],
            "_model_module": "@jupyter-widgets/controls",
            "_model_module_version": "1.5.0",
            "_model_name": "HBoxModel",
            "_view_count": null,
            "_view_module": "@jupyter-widgets/controls",
            "_view_module_version": "1.5.0",
            "_view_name": "HBoxView",
            "box_style": "",
            "children": [
              "IPY_MODEL_38a5213b48684fe39a2da28930773aaa",
              "IPY_MODEL_eaa2313dc09344b59ff68e02cda9bf2b",
              "IPY_MODEL_096d70d7bac9411796a9307f0593bec6"
            ],
            "layout": "IPY_MODEL_807a9020e571472b818404b33a30bb66"
          }
        },
        "38a5213b48684fe39a2da28930773aaa": {
          "model_module": "@jupyter-widgets/controls",
          "model_name": "HTMLModel",
          "model_module_version": "1.5.0",
          "state": {
            "_dom_classes": [],
            "_model_module": "@jupyter-widgets/controls",
            "_model_module_version": "1.5.0",
            "_model_name": "HTMLModel",
            "_view_count": null,
            "_view_module": "@jupyter-widgets/controls",
            "_view_module_version": "1.5.0",
            "_view_name": "HTMLView",
            "description": "",
            "description_tooltip": null,
            "layout": "IPY_MODEL_92b4af149aaf449d9a02a891bb6e8cd4",
            "placeholder": "​",
            "style": "IPY_MODEL_99ff1694f82c4b5c8c0f56cbfe1ae7ed",
            "value": "tokenizer.json: 100%"
          }
        },
        "eaa2313dc09344b59ff68e02cda9bf2b": {
          "model_module": "@jupyter-widgets/controls",
          "model_name": "FloatProgressModel",
          "model_module_version": "1.5.0",
          "state": {
            "_dom_classes": [],
            "_model_module": "@jupyter-widgets/controls",
            "_model_module_version": "1.5.0",
            "_model_name": "FloatProgressModel",
            "_view_count": null,
            "_view_module": "@jupyter-widgets/controls",
            "_view_module_version": "1.5.0",
            "_view_name": "ProgressView",
            "bar_style": "success",
            "description": "",
            "description_tooltip": null,
            "layout": "IPY_MODEL_f99f923f8e1c4e87a04718c0174e5502",
            "max": 466062,
            "min": 0,
            "orientation": "horizontal",
            "style": "IPY_MODEL_089950db91fa4e609226c8a15345e22b",
            "value": 466062
          }
        },
        "096d70d7bac9411796a9307f0593bec6": {
          "model_module": "@jupyter-widgets/controls",
          "model_name": "HTMLModel",
          "model_module_version": "1.5.0",
          "state": {
            "_dom_classes": [],
            "_model_module": "@jupyter-widgets/controls",
            "_model_module_version": "1.5.0",
            "_model_name": "HTMLModel",
            "_view_count": null,
            "_view_module": "@jupyter-widgets/controls",
            "_view_module_version": "1.5.0",
            "_view_name": "HTMLView",
            "description": "",
            "description_tooltip": null,
            "layout": "IPY_MODEL_604d8b9669d24751b2e1d96b6bd00534",
            "placeholder": "​",
            "style": "IPY_MODEL_f0a2881005d345db9fa765e7a3022908",
            "value": " 466k/466k [00:00&lt;00:00, 2.16MB/s]"
          }
        },
        "807a9020e571472b818404b33a30bb66": {
          "model_module": "@jupyter-widgets/base",
          "model_name": "LayoutModel",
          "model_module_version": "1.2.0",
          "state": {
            "_model_module": "@jupyter-widgets/base",
            "_model_module_version": "1.2.0",
            "_model_name": "LayoutModel",
            "_view_count": null,
            "_view_module": "@jupyter-widgets/base",
            "_view_module_version": "1.2.0",
            "_view_name": "LayoutView",
            "align_content": null,
            "align_items": null,
            "align_self": null,
            "border": null,
            "bottom": null,
            "display": null,
            "flex": null,
            "flex_flow": null,
            "grid_area": null,
            "grid_auto_columns": null,
            "grid_auto_flow": null,
            "grid_auto_rows": null,
            "grid_column": null,
            "grid_gap": null,
            "grid_row": null,
            "grid_template_areas": null,
            "grid_template_columns": null,
            "grid_template_rows": null,
            "height": null,
            "justify_content": null,
            "justify_items": null,
            "left": null,
            "margin": null,
            "max_height": null,
            "max_width": null,
            "min_height": null,
            "min_width": null,
            "object_fit": null,
            "object_position": null,
            "order": null,
            "overflow": null,
            "overflow_x": null,
            "overflow_y": null,
            "padding": null,
            "right": null,
            "top": null,
            "visibility": null,
            "width": null
          }
        },
        "92b4af149aaf449d9a02a891bb6e8cd4": {
          "model_module": "@jupyter-widgets/base",
          "model_name": "LayoutModel",
          "model_module_version": "1.2.0",
          "state": {
            "_model_module": "@jupyter-widgets/base",
            "_model_module_version": "1.2.0",
            "_model_name": "LayoutModel",
            "_view_count": null,
            "_view_module": "@jupyter-widgets/base",
            "_view_module_version": "1.2.0",
            "_view_name": "LayoutView",
            "align_content": null,
            "align_items": null,
            "align_self": null,
            "border": null,
            "bottom": null,
            "display": null,
            "flex": null,
            "flex_flow": null,
            "grid_area": null,
            "grid_auto_columns": null,
            "grid_auto_flow": null,
            "grid_auto_rows": null,
            "grid_column": null,
            "grid_gap": null,
            "grid_row": null,
            "grid_template_areas": null,
            "grid_template_columns": null,
            "grid_template_rows": null,
            "height": null,
            "justify_content": null,
            "justify_items": null,
            "left": null,
            "margin": null,
            "max_height": null,
            "max_width": null,
            "min_height": null,
            "min_width": null,
            "object_fit": null,
            "object_position": null,
            "order": null,
            "overflow": null,
            "overflow_x": null,
            "overflow_y": null,
            "padding": null,
            "right": null,
            "top": null,
            "visibility": null,
            "width": null
          }
        },
        "99ff1694f82c4b5c8c0f56cbfe1ae7ed": {
          "model_module": "@jupyter-widgets/controls",
          "model_name": "DescriptionStyleModel",
          "model_module_version": "1.5.0",
          "state": {
            "_model_module": "@jupyter-widgets/controls",
            "_model_module_version": "1.5.0",
            "_model_name": "DescriptionStyleModel",
            "_view_count": null,
            "_view_module": "@jupyter-widgets/base",
            "_view_module_version": "1.2.0",
            "_view_name": "StyleView",
            "description_width": ""
          }
        },
        "f99f923f8e1c4e87a04718c0174e5502": {
          "model_module": "@jupyter-widgets/base",
          "model_name": "LayoutModel",
          "model_module_version": "1.2.0",
          "state": {
            "_model_module": "@jupyter-widgets/base",
            "_model_module_version": "1.2.0",
            "_model_name": "LayoutModel",
            "_view_count": null,
            "_view_module": "@jupyter-widgets/base",
            "_view_module_version": "1.2.0",
            "_view_name": "LayoutView",
            "align_content": null,
            "align_items": null,
            "align_self": null,
            "border": null,
            "bottom": null,
            "display": null,
            "flex": null,
            "flex_flow": null,
            "grid_area": null,
            "grid_auto_columns": null,
            "grid_auto_flow": null,
            "grid_auto_rows": null,
            "grid_column": null,
            "grid_gap": null,
            "grid_row": null,
            "grid_template_areas": null,
            "grid_template_columns": null,
            "grid_template_rows": null,
            "height": null,
            "justify_content": null,
            "justify_items": null,
            "left": null,
            "margin": null,
            "max_height": null,
            "max_width": null,
            "min_height": null,
            "min_width": null,
            "object_fit": null,
            "object_position": null,
            "order": null,
            "overflow": null,
            "overflow_x": null,
            "overflow_y": null,
            "padding": null,
            "right": null,
            "top": null,
            "visibility": null,
            "width": null
          }
        },
        "089950db91fa4e609226c8a15345e22b": {
          "model_module": "@jupyter-widgets/controls",
          "model_name": "ProgressStyleModel",
          "model_module_version": "1.5.0",
          "state": {
            "_model_module": "@jupyter-widgets/controls",
            "_model_module_version": "1.5.0",
            "_model_name": "ProgressStyleModel",
            "_view_count": null,
            "_view_module": "@jupyter-widgets/base",
            "_view_module_version": "1.2.0",
            "_view_name": "StyleView",
            "bar_color": null,
            "description_width": ""
          }
        },
        "604d8b9669d24751b2e1d96b6bd00534": {
          "model_module": "@jupyter-widgets/base",
          "model_name": "LayoutModel",
          "model_module_version": "1.2.0",
          "state": {
            "_model_module": "@jupyter-widgets/base",
            "_model_module_version": "1.2.0",
            "_model_name": "LayoutModel",
            "_view_count": null,
            "_view_module": "@jupyter-widgets/base",
            "_view_module_version": "1.2.0",
            "_view_name": "LayoutView",
            "align_content": null,
            "align_items": null,
            "align_self": null,
            "border": null,
            "bottom": null,
            "display": null,
            "flex": null,
            "flex_flow": null,
            "grid_area": null,
            "grid_auto_columns": null,
            "grid_auto_flow": null,
            "grid_auto_rows": null,
            "grid_column": null,
            "grid_gap": null,
            "grid_row": null,
            "grid_template_areas": null,
            "grid_template_columns": null,
            "grid_template_rows": null,
            "height": null,
            "justify_content": null,
            "justify_items": null,
            "left": null,
            "margin": null,
            "max_height": null,
            "max_width": null,
            "min_height": null,
            "min_width": null,
            "object_fit": null,
            "object_position": null,
            "order": null,
            "overflow": null,
            "overflow_x": null,
            "overflow_y": null,
            "padding": null,
            "right": null,
            "top": null,
            "visibility": null,
            "width": null
          }
        },
        "f0a2881005d345db9fa765e7a3022908": {
          "model_module": "@jupyter-widgets/controls",
          "model_name": "DescriptionStyleModel",
          "model_module_version": "1.5.0",
          "state": {
            "_model_module": "@jupyter-widgets/controls",
            "_model_module_version": "1.5.0",
            "_model_name": "DescriptionStyleModel",
            "_view_count": null,
            "_view_module": "@jupyter-widgets/base",
            "_view_module_version": "1.2.0",
            "_view_name": "StyleView",
            "description_width": ""
          }
        },
        "09895c6649034e29b0c98da79f2924c1": {
          "model_module": "@jupyter-widgets/controls",
          "model_name": "HBoxModel",
          "model_module_version": "1.5.0",
          "state": {
            "_dom_classes": [],
            "_model_module": "@jupyter-widgets/controls",
            "_model_module_version": "1.5.0",
            "_model_name": "HBoxModel",
            "_view_count": null,
            "_view_module": "@jupyter-widgets/controls",
            "_view_module_version": "1.5.0",
            "_view_name": "HBoxView",
            "box_style": "",
            "children": [
              "IPY_MODEL_56191a43febd443994b2050d4cb976e8",
              "IPY_MODEL_90b682384ec34178965b624d963fa932",
              "IPY_MODEL_43260cf6c8f9446d86963307b6c1df55"
            ],
            "layout": "IPY_MODEL_7426ccabb46f453985784ad8b8da290f"
          }
        },
        "56191a43febd443994b2050d4cb976e8": {
          "model_module": "@jupyter-widgets/controls",
          "model_name": "HTMLModel",
          "model_module_version": "1.5.0",
          "state": {
            "_dom_classes": [],
            "_model_module": "@jupyter-widgets/controls",
            "_model_module_version": "1.5.0",
            "_model_name": "HTMLModel",
            "_view_count": null,
            "_view_module": "@jupyter-widgets/controls",
            "_view_module_version": "1.5.0",
            "_view_name": "HTMLView",
            "description": "",
            "description_tooltip": null,
            "layout": "IPY_MODEL_6857ce8c0d8a4660a11398c9349330cb",
            "placeholder": "​",
            "style": "IPY_MODEL_6ae4dabe82cb42549f29979ba3e7e32d",
            "value": "Map: 100%"
          }
        },
        "90b682384ec34178965b624d963fa932": {
          "model_module": "@jupyter-widgets/controls",
          "model_name": "FloatProgressModel",
          "model_module_version": "1.5.0",
          "state": {
            "_dom_classes": [],
            "_model_module": "@jupyter-widgets/controls",
            "_model_module_version": "1.5.0",
            "_model_name": "FloatProgressModel",
            "_view_count": null,
            "_view_module": "@jupyter-widgets/controls",
            "_view_module_version": "1.5.0",
            "_view_name": "ProgressView",
            "bar_style": "success",
            "description": "",
            "description_tooltip": null,
            "layout": "IPY_MODEL_2e86951506e4420fbf0d815a020b271c",
            "max": 700000,
            "min": 0,
            "orientation": "horizontal",
            "style": "IPY_MODEL_c3503208bd03415aa1b36bceca06e44b",
            "value": 700000
          }
        },
        "43260cf6c8f9446d86963307b6c1df55": {
          "model_module": "@jupyter-widgets/controls",
          "model_name": "HTMLModel",
          "model_module_version": "1.5.0",
          "state": {
            "_dom_classes": [],
            "_model_module": "@jupyter-widgets/controls",
            "_model_module_version": "1.5.0",
            "_model_name": "HTMLModel",
            "_view_count": null,
            "_view_module": "@jupyter-widgets/controls",
            "_view_module_version": "1.5.0",
            "_view_name": "HTMLView",
            "description": "",
            "description_tooltip": null,
            "layout": "IPY_MODEL_0b9f983ac2c240f38c27ede9cddd0242",
            "placeholder": "​",
            "style": "IPY_MODEL_6b21a08a9ffe409da4f60e86dee04acd",
            "value": " 700000/700000 [11:45&lt;00:00, 923.75 examples/s]"
          }
        },
        "7426ccabb46f453985784ad8b8da290f": {
          "model_module": "@jupyter-widgets/base",
          "model_name": "LayoutModel",
          "model_module_version": "1.2.0",
          "state": {
            "_model_module": "@jupyter-widgets/base",
            "_model_module_version": "1.2.0",
            "_model_name": "LayoutModel",
            "_view_count": null,
            "_view_module": "@jupyter-widgets/base",
            "_view_module_version": "1.2.0",
            "_view_name": "LayoutView",
            "align_content": null,
            "align_items": null,
            "align_self": null,
            "border": null,
            "bottom": null,
            "display": null,
            "flex": null,
            "flex_flow": null,
            "grid_area": null,
            "grid_auto_columns": null,
            "grid_auto_flow": null,
            "grid_auto_rows": null,
            "grid_column": null,
            "grid_gap": null,
            "grid_row": null,
            "grid_template_areas": null,
            "grid_template_columns": null,
            "grid_template_rows": null,
            "height": null,
            "justify_content": null,
            "justify_items": null,
            "left": null,
            "margin": null,
            "max_height": null,
            "max_width": null,
            "min_height": null,
            "min_width": null,
            "object_fit": null,
            "object_position": null,
            "order": null,
            "overflow": null,
            "overflow_x": null,
            "overflow_y": null,
            "padding": null,
            "right": null,
            "top": null,
            "visibility": null,
            "width": null
          }
        },
        "6857ce8c0d8a4660a11398c9349330cb": {
          "model_module": "@jupyter-widgets/base",
          "model_name": "LayoutModel",
          "model_module_version": "1.2.0",
          "state": {
            "_model_module": "@jupyter-widgets/base",
            "_model_module_version": "1.2.0",
            "_model_name": "LayoutModel",
            "_view_count": null,
            "_view_module": "@jupyter-widgets/base",
            "_view_module_version": "1.2.0",
            "_view_name": "LayoutView",
            "align_content": null,
            "align_items": null,
            "align_self": null,
            "border": null,
            "bottom": null,
            "display": null,
            "flex": null,
            "flex_flow": null,
            "grid_area": null,
            "grid_auto_columns": null,
            "grid_auto_flow": null,
            "grid_auto_rows": null,
            "grid_column": null,
            "grid_gap": null,
            "grid_row": null,
            "grid_template_areas": null,
            "grid_template_columns": null,
            "grid_template_rows": null,
            "height": null,
            "justify_content": null,
            "justify_items": null,
            "left": null,
            "margin": null,
            "max_height": null,
            "max_width": null,
            "min_height": null,
            "min_width": null,
            "object_fit": null,
            "object_position": null,
            "order": null,
            "overflow": null,
            "overflow_x": null,
            "overflow_y": null,
            "padding": null,
            "right": null,
            "top": null,
            "visibility": null,
            "width": null
          }
        },
        "6ae4dabe82cb42549f29979ba3e7e32d": {
          "model_module": "@jupyter-widgets/controls",
          "model_name": "DescriptionStyleModel",
          "model_module_version": "1.5.0",
          "state": {
            "_model_module": "@jupyter-widgets/controls",
            "_model_module_version": "1.5.0",
            "_model_name": "DescriptionStyleModel",
            "_view_count": null,
            "_view_module": "@jupyter-widgets/base",
            "_view_module_version": "1.2.0",
            "_view_name": "StyleView",
            "description_width": ""
          }
        },
        "2e86951506e4420fbf0d815a020b271c": {
          "model_module": "@jupyter-widgets/base",
          "model_name": "LayoutModel",
          "model_module_version": "1.2.0",
          "state": {
            "_model_module": "@jupyter-widgets/base",
            "_model_module_version": "1.2.0",
            "_model_name": "LayoutModel",
            "_view_count": null,
            "_view_module": "@jupyter-widgets/base",
            "_view_module_version": "1.2.0",
            "_view_name": "LayoutView",
            "align_content": null,
            "align_items": null,
            "align_self": null,
            "border": null,
            "bottom": null,
            "display": null,
            "flex": null,
            "flex_flow": null,
            "grid_area": null,
            "grid_auto_columns": null,
            "grid_auto_flow": null,
            "grid_auto_rows": null,
            "grid_column": null,
            "grid_gap": null,
            "grid_row": null,
            "grid_template_areas": null,
            "grid_template_columns": null,
            "grid_template_rows": null,
            "height": null,
            "justify_content": null,
            "justify_items": null,
            "left": null,
            "margin": null,
            "max_height": null,
            "max_width": null,
            "min_height": null,
            "min_width": null,
            "object_fit": null,
            "object_position": null,
            "order": null,
            "overflow": null,
            "overflow_x": null,
            "overflow_y": null,
            "padding": null,
            "right": null,
            "top": null,
            "visibility": null,
            "width": null
          }
        },
        "c3503208bd03415aa1b36bceca06e44b": {
          "model_module": "@jupyter-widgets/controls",
          "model_name": "ProgressStyleModel",
          "model_module_version": "1.5.0",
          "state": {
            "_model_module": "@jupyter-widgets/controls",
            "_model_module_version": "1.5.0",
            "_model_name": "ProgressStyleModel",
            "_view_count": null,
            "_view_module": "@jupyter-widgets/base",
            "_view_module_version": "1.2.0",
            "_view_name": "StyleView",
            "bar_color": null,
            "description_width": ""
          }
        },
        "0b9f983ac2c240f38c27ede9cddd0242": {
          "model_module": "@jupyter-widgets/base",
          "model_name": "LayoutModel",
          "model_module_version": "1.2.0",
          "state": {
            "_model_module": "@jupyter-widgets/base",
            "_model_module_version": "1.2.0",
            "_model_name": "LayoutModel",
            "_view_count": null,
            "_view_module": "@jupyter-widgets/base",
            "_view_module_version": "1.2.0",
            "_view_name": "LayoutView",
            "align_content": null,
            "align_items": null,
            "align_self": null,
            "border": null,
            "bottom": null,
            "display": null,
            "flex": null,
            "flex_flow": null,
            "grid_area": null,
            "grid_auto_columns": null,
            "grid_auto_flow": null,
            "grid_auto_rows": null,
            "grid_column": null,
            "grid_gap": null,
            "grid_row": null,
            "grid_template_areas": null,
            "grid_template_columns": null,
            "grid_template_rows": null,
            "height": null,
            "justify_content": null,
            "justify_items": null,
            "left": null,
            "margin": null,
            "max_height": null,
            "max_width": null,
            "min_height": null,
            "min_width": null,
            "object_fit": null,
            "object_position": null,
            "order": null,
            "overflow": null,
            "overflow_x": null,
            "overflow_y": null,
            "padding": null,
            "right": null,
            "top": null,
            "visibility": null,
            "width": null
          }
        },
        "6b21a08a9ffe409da4f60e86dee04acd": {
          "model_module": "@jupyter-widgets/controls",
          "model_name": "DescriptionStyleModel",
          "model_module_version": "1.5.0",
          "state": {
            "_model_module": "@jupyter-widgets/controls",
            "_model_module_version": "1.5.0",
            "_model_name": "DescriptionStyleModel",
            "_view_count": null,
            "_view_module": "@jupyter-widgets/base",
            "_view_module_version": "1.2.0",
            "_view_name": "StyleView",
            "description_width": ""
          }
        }
      }
    },
    "accelerator": "GPU"
  },
  "cells": [
    {
      "cell_type": "markdown",
      "metadata": {
        "id": "view-in-github",
        "colab_type": "text"
      },
      "source": [
        "<a href=\"https://colab.research.google.com/github/dxvsh/LearningPytorch/blob/main/Week3/DLP_GA3.ipynb\" target=\"_parent\"><img src=\"https://colab.research.google.com/assets/colab-badge.svg\" alt=\"Open In Colab\"/></a>"
      ]
    },
    {
      "cell_type": "markdown",
      "source": [
        "## DLP GA3"
      ],
      "metadata": {
        "id": "TmufGA9EzFdK"
      }
    },
    {
      "cell_type": "code",
      "source": [
        "!pip install datasets > /dev/null"
      ],
      "metadata": {
        "id": "bH-vff3wzb7y"
      },
      "execution_count": 1,
      "outputs": []
    },
    {
      "cell_type": "code",
      "source": [
        "from datasets import load_dataset, get_dataset_config_info, get_dataset_config_names, get_dataset_split_names\n",
        "from pprint import pprint\n",
        "import matplotlib.pyplot as plt"
      ],
      "metadata": {
        "id": "t69Lv8EUzpQm"
      },
      "execution_count": 2,
      "outputs": []
    },
    {
      "cell_type": "markdown",
      "source": [
        "**Q1.** Download the Yelp review dataset `“Yelp/yelp_review_full”`. Split each sample by calling the string method `“.split()”` and choose the correct statements about the dataset.\n",
        "- [ ] A. The dataset contains close to 99 million words\n",
        "- [x] B. There are more than 300 samples that contain a single word\n",
        "- [ ] C. There are less than 300 samples that contain only a single word\n",
        "- [x] D. “Cheesy-melty-roasted-cauliflower-with-fresh-bread-crumbs-on top.\\\\nTo-die-for.” is one of the single words in the dataset\n",
        "- [x] E. The average length of a sample is 134.1\n",
        "- [x]  F. The distribution of the length of the samples is right skewed"
      ],
      "metadata": {
        "id": "eaRLCkn5zHnq"
      }
    },
    {
      "cell_type": "code",
      "execution_count": 4,
      "metadata": {
        "colab": {
          "base_uri": "https://localhost:8080/"
        },
        "id": "ldLxyXMstv-J",
        "outputId": "2cc1c4ca-a6b6-41a3-d1bf-b581d1b601da"
      },
      "outputs": [
        {
          "output_type": "execute_result",
          "data": {
            "text/plain": [
              "['train', 'test']"
            ]
          },
          "metadata": {},
          "execution_count": 4
        }
      ],
      "source": [
        "get_dataset_split_names('yelp/yelp_review_full')"
      ]
    },
    {
      "cell_type": "code",
      "source": [
        "yelp_review_full = load_dataset('yelp/yelp_review_full', split='all')"
      ],
      "metadata": {
        "id": "2KwuqOrR0I_M"
      },
      "execution_count": 7,
      "outputs": []
    },
    {
      "cell_type": "code",
      "source": [
        "yelp_review_full"
      ],
      "metadata": {
        "colab": {
          "base_uri": "https://localhost:8080/"
        },
        "id": "IbEpYxK_7vwk",
        "outputId": "18d0c03b-188e-4058-9106-26344a991ef7"
      },
      "execution_count": 8,
      "outputs": [
        {
          "output_type": "execute_result",
          "data": {
            "text/plain": [
              "Dataset({\n",
              "    features: ['label', 'text'],\n",
              "    num_rows: 700000\n",
              "})"
            ]
          },
          "metadata": {},
          "execution_count": 8
        }
      ]
    },
    {
      "cell_type": "markdown",
      "source": [
        "This dataset contains reviews from Yelp. There's the review text and the label which denotes the rating of the review. Each review has a rating/label between 0 to 4 (from awful to great)\n",
        "\n",
        "Let's check a random sample"
      ],
      "metadata": {
        "id": "FIHs5ZvP9_Tt"
      }
    },
    {
      "cell_type": "code",
      "source": [
        "yelp_review_full[100_000]"
      ],
      "metadata": {
        "colab": {
          "base_uri": "https://localhost:8080/"
        },
        "id": "0Yt4YTgi72cr",
        "outputId": "7b39ca20-caf4-49c4-a83e-4eb9bd28db9d"
      },
      "execution_count": 9,
      "outputs": [
        {
          "output_type": "execute_result",
          "data": {
            "text/plain": [
              "{'label': 1,\n",
              " 'text': \"Had the honey hot wings, it wasn't bad, just mediocre. My search for a mom and pop great hot wings. So far no one has come close to Buffalo Wild Wings, but they're a franchise :( anyone knows of great hot wings, please let me know?\"}"
            ]
          },
          "metadata": {},
          "execution_count": 9
        }
      ]
    },
    {
      "cell_type": "code",
      "source": [
        "def count_words(sample):\n",
        "    sample['word_count'] = len(sample['text'].split())\n",
        "    return sample\n",
        "\n",
        "yelp_word_counts = yelp_review_full.map(count_words)"
      ],
      "metadata": {
        "colab": {
          "base_uri": "https://localhost:8080/",
          "height": 49,
          "referenced_widgets": [
            "f4c5d953c3ec4e508d1e2cbb2b9f1935",
            "f989ef84705d43d9a326da643015be35",
            "ba40c2c04c1945c0be1ce2cb220c9ecc",
            "39fa718ff61a43fa95648af049b32cf4",
            "b62bef6729d1490c82629a75454cb99b",
            "655d13e513b7419ab3d38017d8863167",
            "132e6dc382a74abbb5ec27b63fd1492a",
            "cb0a0d094be440e3808e550b9abcd90a",
            "10e66d81014b46468539a093e3a2d10f",
            "a1b33716d7aa4c35a80abd4e01312da6",
            "5b5f87904f2a48c59c44a799542b8917"
          ]
        },
        "id": "k768sK3Q9j3A",
        "outputId": "228f27e9-8e65-4dda-9142-be2c5cd28c43"
      },
      "execution_count": 10,
      "outputs": [
        {
          "output_type": "display_data",
          "data": {
            "text/plain": [
              "Map:   0%|          | 0/700000 [00:00<?, ? examples/s]"
            ],
            "application/vnd.jupyter.widget-view+json": {
              "version_major": 2,
              "version_minor": 0,
              "model_id": "f4c5d953c3ec4e508d1e2cbb2b9f1935"
            }
          },
          "metadata": {}
        }
      ]
    },
    {
      "cell_type": "code",
      "source": [
        "yelp_word_counts[100_000]"
      ],
      "metadata": {
        "colab": {
          "base_uri": "https://localhost:8080/"
        },
        "id": "5dSQnoPj_oBj",
        "outputId": "a4f25211-6ccf-459a-dbf3-b3e4abf149e0"
      },
      "execution_count": 11,
      "outputs": [
        {
          "output_type": "execute_result",
          "data": {
            "text/plain": [
              "{'label': 1,\n",
              " 'text': \"Had the honey hot wings, it wasn't bad, just mediocre. My search for a mom and pop great hot wings. So far no one has come close to Buffalo Wild Wings, but they're a franchise :( anyone knows of great hot wings, please let me know?\",\n",
              " 'word_count': 46}"
            ]
          },
          "metadata": {},
          "execution_count": 11
        }
      ]
    },
    {
      "cell_type": "code",
      "source": [
        "sum(yelp_word_counts['word_count']) / 10**6"
      ],
      "metadata": {
        "colab": {
          "base_uri": "https://localhost:8080/"
        },
        "id": "d1cI6EpA_8eq",
        "outputId": "4cbdc658-7ed2-424e-e0c7-36d8b40d1c6c"
      },
      "execution_count": 12,
      "outputs": [
        {
          "output_type": "execute_result",
          "data": {
            "text/plain": [
              "93.878307"
            ]
          },
          "metadata": {},
          "execution_count": 12
        }
      ]
    },
    {
      "cell_type": "markdown",
      "source": [
        "So, the entire dataset has close to 94M words not 99. Option A is incorrect."
      ],
      "metadata": {
        "id": "NjaUayS7BKGl"
      }
    },
    {
      "cell_type": "code",
      "source": [
        "sum([x for x in yelp_word_counts['word_count'] if x == 1])"
      ],
      "metadata": {
        "colab": {
          "base_uri": "https://localhost:8080/"
        },
        "id": "E8TshwVGAW2P",
        "outputId": "fe0aeb80-fa42-454c-c603-588e512fdead"
      },
      "execution_count": 13,
      "outputs": [
        {
          "output_type": "execute_result",
          "data": {
            "text/plain": [
              "355"
            ]
          },
          "metadata": {},
          "execution_count": 13
        }
      ]
    },
    {
      "cell_type": "markdown",
      "source": [
        "Option B is correct, there are more than 300 samples that contain just a single word"
      ],
      "metadata": {
        "id": "5KGDT7d8CFiL"
      }
    },
    {
      "cell_type": "markdown",
      "source": [
        "Option D is correct as well. I saw in the HF DB viewer that there's a sample with the text:\n",
        "\n",
        "`Cheesy-melty-roasted-cauliflower-with-fresh-bread-crumbs-on-top.\\nTo-die-for.`"
      ],
      "metadata": {
        "id": "NQyFz0BbDceK"
      }
    },
    {
      "cell_type": "code",
      "source": [
        "from statistics import mean\n",
        "mean(yelp_word_counts['word_count'])"
      ],
      "metadata": {
        "colab": {
          "base_uri": "https://localhost:8080/"
        },
        "id": "_QJkyzbjBfAd",
        "outputId": "141cbfdb-5b0c-48c3-9e95-48a3126a556b"
      },
      "execution_count": 14,
      "outputs": [
        {
          "output_type": "execute_result",
          "data": {
            "text/plain": [
              "134.11186714285714"
            ]
          },
          "metadata": {},
          "execution_count": 14
        }
      ]
    },
    {
      "cell_type": "markdown",
      "source": [
        "Option E is correct as well. The average length of a sample is 134.1"
      ],
      "metadata": {
        "id": "RsiSmlojDwX5"
      }
    },
    {
      "cell_type": "code",
      "source": [
        "# To check the skewness of the distribution we can make a histogram\n",
        "\n",
        "plt.figure(figsize=(10, 5))\n",
        "plt.hist(yelp_word_counts['word_count'], bins=100)\n",
        "plt.xlabel('Sequence Length of samples')\n",
        "plt.ylabel('Count')\n",
        "plt.title('Distribution of Word Counts')\n",
        "plt.grid()\n",
        "plt.show()"
      ],
      "metadata": {
        "colab": {
          "base_uri": "https://localhost:8080/",
          "height": 487
        },
        "id": "exOgmCAVFCv8",
        "outputId": "32fca09d-dd4a-4f24-b6cb-fb1c32396107"
      },
      "execution_count": 15,
      "outputs": [
        {
          "output_type": "display_data",
          "data": {
            "text/plain": [
              "<Figure size 1000x500 with 1 Axes>"
            ],
            "image/png": "[encoded data removed]"
          },
          "metadata": {}
        }
      ]
    },
    {
      "cell_type": "markdown",
      "source": [
        "So, option F is correct. The distribution of the length of the samples is indeed skewed to the right."
      ],
      "metadata": {
        "id": "EldlT80MGwGF"
      }
    },
    {
      "cell_type": "markdown",
      "source": [
        "**Q2.** Load the “bert-base-uncased” pre-trained tokenizer and choose the correct statements about the tokenizer.\n",
        "- [x] A. The tokenizer is used for the BERT model with the context length of 512\n",
        "- [x] B. The tokenizer has 5 special tokens\n",
        "- [ ] C. Tokenizing a sample that contains more than 512 words would result in truncation of all tokens beyond the length 512\n",
        "- [ ] D. Tokenizer inserts all the special tokens when it processes a single sample as an input\n",
        "- [x] E. Tokenizer inserts `[CLS]` and `[SEP]` special tokens when it processes a single sample as an input\n",
        "- [ ] F. Tokenizer inserts only `[CLS]` special token when it processes a single sample as an input"
      ],
      "metadata": {
        "id": "e1GoPgjnHKlJ"
      }
    },
    {
      "cell_type": "code",
      "source": [
        "from transformers import AutoTokenizer\n",
        "\n",
        "bert_tokenizer = AutoTokenizer.from_pretrained('bert-base-uncased')"
      ],
      "metadata": {
        "id": "hsp35wANFhqh",
        "colab": {
          "base_uri": "https://localhost:8080/",
          "height": 249,
          "referenced_widgets": [
            "b31d3e790dde453eb8b274b730456628",
            "6ac631f91b3d420dba9dc22d20a35459",
            "28b95e9d84ca43cd83c4fe73e5479f5c",
            "80c409df1d91460997c93f3941517cea",
            "6762a5eb5bbb401e817a81bd3992ab45",
            "df81946f99c94478955c2a2fab234109",
            "eb88cda09a7f4424830e62c190bf231d",
            "bd486a995d49485bbfff3ca7b3187ef4",
            "3a6c91eb806f4e70bceb23225f2e74d1",
            "3e8f8b7e5bba4a239116e10c226198c2",
            "79bc1061c49949f090e3668d18cbebf1",
            "9efa78dc9b4f4490ab9c9af3c2f64139",
            "00c5556de5e34a038049ea6f6fbdb034",
            "459cf5093967444181523f1131a5a7ed",
            "24394c2ba2fe4cc6828ff68f8cfb967d",
            "8dc1317e3ae848a1b779bfc0826f6ee8",
            "4c1063d9c4934d8c9162d45a200c221b",
            "91568c125e15416e8be6211a2e17e716",
            "c0b631486c4449fb9f6b9ca1ae3636d7",
            "86768443b04548d78843d35d645b3d43",
            "17a006feb9344734972db68cfb94911c",
            "e5ef11e7c4024061b5579de54436b189",
            "ff2578ad16754dffab59632c1cfb6b5b",
            "dd371c6a5a434c5e8f6d6ea55d56f1f2",
            "d8d97fb0a86147f0822850ab8e9ecf5d",
            "efa177a2232e4ef39b568bc45ed68a15",
            "63a2fad0f36e4a47a34009f081daf199",
            "a1b69de9022f4a208ba85b1ddd303f56",
            "3ee9aace492141758710e6af48b556c3",
            "e40b45825c7040989fd0fba1a785a883",
            "2329669d6c8444f6beb2102871d1c42c",
            "2e23aeec19164309b8be486675daa6cc",
            "94df3b23f2154be18b56b780fc1f64f5",
            "0052e17dd7f14c4bbec78c0a6c2bea7d",
            "db056739583740e8a990b072f1326e37",
            "254b77d7f1d54237850b7e4739066fe9",
            "897a1014437f44888840f3467ee0ce17",
            "8f797187aff64f819f7209012fb1e858",
            "f8241d96380b4ccd98a686a4757fc55f",
            "b9a54efb21794b74b10a716528fb1ba0",
            "14d2c04d264c4dcd88dcfd346e201fac",
            "0341309439264aaba3d61ca20833ba87",
            "aadb59a589ab408f85f836eabd3522d5",
            "24a513ce692f4a4591ae83a600054afb",
            "8bda177ecd454c8ebd67b4cf82f89565",
            "38a5213b48684fe39a2da28930773aaa",
            "eaa2313dc09344b59ff68e02cda9bf2b",
            "096d70d7bac9411796a9307f0593bec6",
            "807a9020e571472b818404b33a30bb66",
            "92b4af149aaf449d9a02a891bb6e8cd4",
            "99ff1694f82c4b5c8c0f56cbfe1ae7ed",
            "f99f923f8e1c4e87a04718c0174e5502",
            "089950db91fa4e609226c8a15345e22b",
            "604d8b9669d24751b2e1d96b6bd00534",
            "f0a2881005d345db9fa765e7a3022908"
          ]
        },
        "outputId": "73146668-c68e-4c4a-a84d-a86da08900d1"
      },
      "execution_count": 16,
      "outputs": [
        {
          "output_type": "stream",
          "name": "stderr",
          "text": [
            "The cache for model files in Transformers v4.22.0 has been updated. Migrating your old cache. This is a one-time only operation. You can interrupt this and resume the migration later on by calling `transformers.utils.move_cache()`.\n"
          ]
        },
        {
          "output_type": "display_data",
          "data": {
            "text/plain": [
              "0it [00:00, ?it/s]"
            ],
            "application/vnd.jupyter.widget-view+json": {
              "version_major": 2,
              "version_minor": 0,
              "model_id": "b31d3e790dde453eb8b274b730456628"
            }
          },
          "metadata": {}
        },
        {
          "output_type": "display_data",
          "data": {
            "text/plain": [
              "tokenizer_config.json:   0%|          | 0.00/48.0 [00:00<?, ?B/s]"
            ],
            "application/vnd.jupyter.widget-view+json": {
              "version_major": 2,
              "version_minor": 0,
              "model_id": "9efa78dc9b4f4490ab9c9af3c2f64139"
            }
          },
          "metadata": {}
        },
        {
          "output_type": "display_data",
          "data": {
            "text/plain": [
              "config.json:   0%|          | 0.00/570 [00:00<?, ?B/s]"
            ],
            "application/vnd.jupyter.widget-view+json": {
              "version_major": 2,
              "version_minor": 0,
              "model_id": "ff2578ad16754dffab59632c1cfb6b5b"
            }
          },
          "metadata": {}
        },
        {
          "output_type": "display_data",
          "data": {
            "text/plain": [
              "vocab.txt:   0%|          | 0.00/232k [00:00<?, ?B/s]"
            ],
            "application/vnd.jupyter.widget-view+json": {
              "version_major": 2,
              "version_minor": 0,
              "model_id": "0052e17dd7f14c4bbec78c0a6c2bea7d"
            }
          },
          "metadata": {}
        },
        {
          "output_type": "display_data",
          "data": {
            "text/plain": [
              "tokenizer.json:   0%|          | 0.00/466k [00:00<?, ?B/s]"
            ],
            "application/vnd.jupyter.widget-view+json": {
              "version_major": 2,
              "version_minor": 0,
              "model_id": "8bda177ecd454c8ebd67b4cf82f89565"
            }
          },
          "metadata": {}
        },
        {
          "output_type": "stream",
          "name": "stderr",
          "text": [
            "/usr/local/lib/python3.10/dist-packages/transformers/tokenization_utils_base.py:1601: FutureWarning: `clean_up_tokenization_spaces` was not set. It will be set to `True` by default. This behavior will be depracted in transformers v4.45, and will be then set to `False` by default. For more details check this issue: https://github.com/huggingface/transformers/issues/31884\n",
            "  warnings.warn(\n"
          ]
        }
      ]
    },
    {
      "cell_type": "code",
      "source": [
        "bert_tokenizer.model_max_length"
      ],
      "metadata": {
        "colab": {
          "base_uri": "https://localhost:8080/"
        },
        "id": "6WY_gOMAUTkv",
        "outputId": "f9a7d4a2-c6f4-48d6-c99e-65457b3b6648"
      },
      "execution_count": 17,
      "outputs": [
        {
          "output_type": "execute_result",
          "data": {
            "text/plain": [
              "512"
            ]
          },
          "metadata": {},
          "execution_count": 17
        }
      ]
    },
    {
      "cell_type": "markdown",
      "source": [
        "So, the context length of the model is 512 tokens. Option A is correct."
      ],
      "metadata": {
        "id": "OaFn3Pi8WN_p"
      }
    },
    {
      "cell_type": "code",
      "source": [
        "bert_tokenizer.special_tokens_map"
      ],
      "metadata": {
        "colab": {
          "base_uri": "https://localhost:8080/"
        },
        "id": "BN6XOV9CUbMI",
        "outputId": "fed97579-c79e-4716-e7dd-204664b3d5ef"
      },
      "execution_count": 18,
      "outputs": [
        {
          "output_type": "execute_result",
          "data": {
            "text/plain": [
              "{'unk_token': '[UNK]',\n",
              " 'sep_token': '[SEP]',\n",
              " 'pad_token': '[PAD]',\n",
              " 'cls_token': '[CLS]',\n",
              " 'mask_token': '[MASK]'}"
            ]
          },
          "metadata": {},
          "execution_count": 18
        }
      ]
    },
    {
      "cell_type": "markdown",
      "source": [
        "The bert tokenizer has 5 special tokens. `UNK`, `SEP`, `PAD`, `CLS` and `MASK`. Option B is also correct."
      ],
      "metadata": {
        "id": "4kHey_q7WdZh"
      }
    },
    {
      "cell_type": "code",
      "source": [
        "text = \"After a morning of Thrift Store hunting, a friend and I were thinking of lunch, and he suggested Emil's after he'd seen Chris Sebak do a bit on it and had tried it a time or two before, and I had not. He said they had a decent Reuben, but to be prepared to step back in time.\\n\\nWell, seeing as how I'm kind of addicted to late 40's and early 50's, and the whole Rat Pack scene, stepping back in time is a welcomed change in da burgh...as long as it doesn't involve 1979, which I can see all around me every day.\\n\\nAnd yet another shot at finding a decent Reuben in da burgh...well, that's like hunting the Holy Grail. So looking under one more bush certainly wouldn't hurt.\\n\\nSo off we go right at lunchtime in the middle of...where exactly were we? At first I thought we were lost, driving around a handful of very rather dismal looking blocks in what looked like a neighborhood that had been blighted by the building of a highway. And then...AHA! Here it is! And yep, there it was. This little unassuming building with an add-on entrance with what looked like a very old hand painted sign stating quite simply 'Emil's. \\n\\nWe walked in the front door, and entered another world. Another time, and another place. Oh, and any Big Burrito/Sousa foodies might as well stop reading now. I wouldn't want to see you walk in, roll your eyes and say 'Reaaaaaalllly?'\\n\\nThis is about as old world bar/lounge/restaurant as it gets. Plain, with a dark wood bar on one side, plain white walls with no yinzer pics, good sturdy chairs and actual white linens on the tables. This is the kind of neighborhood dive that I could see Frank and Dino pulling a few tables together for some poker, a fish sammich, and some cheap scotch. And THAT is exactly what I love.\\n\\nOh...but good food counts too. \\n\\nWe each had a Reuben, and my friend had a side of fries. The Reubens were decent, but not NY awesome. A little too thick on the bread, but overall, tasty and definitely filling. Not too skimpy on the meat. I seriously CRAVE a true, good NY Reuben, but since I can't afford to travel right now, what I find in da burgh will have to do. But as we sat and ate, burgers came out to an adjoining table. Those were some big thick burgers. A steak went past for the table behind us. That was HUGE! And when we asked about it, the waitress said 'Yeah, it's huge and really good, and he only charges $12.99 for it, ain't that nuts?' Another table of five came in, and wham. Fish sandwiches PILED with breaded fish that looked amazing. Yeah, I want that, that, that and THAT!\\n\\nMy friend also mentioned that they have a Chicken Parm special one day of the week that is only served UNTIL 4 pm, and that it is fantastic. If only I could GET there on that week day before 4...\\n\\nThe waitress did a good job, especially since there was quite a growing crowd at lunchtime on a Saturday, and only one of her. She kept up and was very friendly. \\n\\nThey only have Pepsi products, so I had a brewed iced tea, which was very fresh, and she did pop by to ask about refills as often as she could. As the lunch hour went on, they were getting busy.\\n\\nEmil's is no frills, good portions, very reasonable prices, VERY comfortable neighborhood hole in the wall...kind of like Cheers, but in a blue collar neighborhood in the 1950's. Fan-freakin-tastic! I could feel at home here.\\n\\nYou definitely want to hit Mapquest or plug in your GPS though. I am not sure that I could find it again on my own...it really is a hidden gem. I will be making my friend take me back until I can memorize where the heck it is.\\n\\nAddendum: 2nd visit for the fish sandwich. Excellent. Truly. A pound of fish on a fish-shaped bun (as opposed to da burgh's seemingly popular hamburger bun). The fish was flavorful, the batter excellent, and for just $8. This may have been the best fish sandwich I've yet to have in da burgh.\"\n",
        "print(len(text.split()))\n",
        "\n",
        "output = bert_tokenizer.encode(text)\n",
        "len(output)"
      ],
      "metadata": {
        "colab": {
          "base_uri": "https://localhost:8080/"
        },
        "id": "-p6ZDbq_YT9p",
        "outputId": "3697ac1f-96bb-4cd3-80b2-7f342596e835"
      },
      "execution_count": 19,
      "outputs": [
        {
          "output_type": "stream",
          "name": "stderr",
          "text": [
            "Token indices sequence length is longer than the specified maximum sequence length for this model (966 > 512). Running this sequence through the model will result in indexing errors\n"
          ]
        },
        {
          "output_type": "stream",
          "name": "stdout",
          "text": [
            "722\n"
          ]
        },
        {
          "output_type": "execute_result",
          "data": {
            "text/plain": [
              "966"
            ]
          },
          "metadata": {},
          "execution_count": 19
        }
      ]
    },
    {
      "cell_type": "code",
      "source": [
        "# pprint(output, compact=True)"
      ],
      "metadata": {
        "id": "CDaU5IUg-7Nb"
      },
      "execution_count": 20,
      "outputs": []
    },
    {
      "cell_type": "markdown",
      "source": [
        "The above sample text has 722 whitespace separated words but still it got properly tokenized (into 966 tokens) so its not like if the sample is greater than 512 words it'll get truncated after 512 words. But I think if we passed this tokenized result to the BERT model, then it will truncated it at 512 tokens and will not process any further tokens.\n",
        "\n",
        "so C is incorrect."
      ],
      "metadata": {
        "id": "mLpMXxHU-USE"
      }
    },
    {
      "cell_type": "code",
      "source": [
        "sample = yelp_review_full[100_000]['text']\n",
        "sample"
      ],
      "metadata": {
        "colab": {
          "base_uri": "https://localhost:8080/",
          "height": 53
        },
        "id": "SHM2rFekbh3F",
        "outputId": "f6bfe600-2608-4e78-b2ca-d51bd0469683"
      },
      "execution_count": 21,
      "outputs": [
        {
          "output_type": "execute_result",
          "data": {
            "text/plain": [
              "\"Had the honey hot wings, it wasn't bad, just mediocre. My search for a mom and pop great hot wings. So far no one has come close to Buffalo Wild Wings, but they're a franchise :( anyone knows of great hot wings, please let me know?\""
            ],
            "application/vnd.google.colaboratory.intrinsic+json": {
              "type": "string"
            }
          },
          "metadata": {},
          "execution_count": 21
        }
      ]
    },
    {
      "cell_type": "code",
      "source": [
        "tokenized_text = bert_tokenizer.encode(sample)\n",
        "\n",
        "bert_tokenizer.decode(tokenized_text)"
      ],
      "metadata": {
        "colab": {
          "base_uri": "https://localhost:8080/",
          "height": 53
        },
        "id": "sMTVB0sRcgPz",
        "outputId": "bf8003dc-f8ae-4462-be24-14a508ad386a"
      },
      "execution_count": 22,
      "outputs": [
        {
          "output_type": "execute_result",
          "data": {
            "text/plain": [
              "\"[CLS] had the honey hot wings, it wasn't bad, just mediocre. my search for a mom and pop great hot wings. so far no one has come close to buffalo wild wings, but they're a franchise : ( anyone knows of great hot wings, please let me know? [SEP]\""
            ],
            "application/vnd.google.colaboratory.intrinsic+json": {
              "type": "string"
            }
          },
          "metadata": {},
          "execution_count": 22
        }
      ]
    },
    {
      "cell_type": "markdown",
      "source": [
        "As we can see, the tokenizer added the `CLS` and `SEP` special tokens when it processes a single sample as input.\n",
        "\n",
        "E is correct. D and F are incorrect."
      ],
      "metadata": {
        "id": "kVrEf0r0Aqs_"
      }
    },
    {
      "cell_type": "markdown",
      "source": [
        "**Q3.** Use “BertConfig” and “BertForMaskedLM” to construct the default (original) BERT model. Choose the correct statements\n",
        "- [x] A. The model has 12 Bert layers\n",
        "- [ ] B. The model has 6 Bert layers\n",
        "- [x] C. The model uses absolute position embeddings\n",
        "- [x] D. The word embedding (token embedding) layer has about 23 million learnable parameters\n",
        "- [x] E. The total number of parameters in the model is close to 110 million"
      ],
      "metadata": {
        "id": "jx33BOAw6wat"
      }
    },
    {
      "cell_type": "code",
      "source": [
        "from transformers import BertConfig, BertForMaskedLM\n",
        "\n",
        "bert_config = BertConfig()\n",
        "bert_model = BertForMaskedLM(bert_config)"
      ],
      "metadata": {
        "id": "kCZ3Q0sszLz8"
      },
      "execution_count": 23,
      "outputs": []
    },
    {
      "cell_type": "code",
      "source": [
        "bert_config"
      ],
      "metadata": {
        "colab": {
          "base_uri": "https://localhost:8080/"
        },
        "id": "CZIxOGLBQveR",
        "outputId": "ce820acc-b62e-4f16-e7de-7527d5705973"
      },
      "execution_count": 24,
      "outputs": [
        {
          "output_type": "execute_result",
          "data": {
            "text/plain": [
              "BertConfig {\n",
              "  \"attention_probs_dropout_prob\": 0.1,\n",
              "  \"classifier_dropout\": null,\n",
              "  \"hidden_act\": \"gelu\",\n",
              "  \"hidden_dropout_prob\": 0.1,\n",
              "  \"hidden_size\": 768,\n",
              "  \"initializer_range\": 0.02,\n",
              "  \"intermediate_size\": 3072,\n",
              "  \"layer_norm_eps\": 1e-12,\n",
              "  \"max_position_embeddings\": 512,\n",
              "  \"model_type\": \"bert\",\n",
              "  \"num_attention_heads\": 12,\n",
              "  \"num_hidden_layers\": 12,\n",
              "  \"pad_token_id\": 0,\n",
              "  \"position_embedding_type\": \"absolute\",\n",
              "  \"transformers_version\": \"4.44.2\",\n",
              "  \"type_vocab_size\": 2,\n",
              "  \"use_cache\": true,\n",
              "  \"vocab_size\": 30522\n",
              "}"
            ]
          },
          "metadata": {},
          "execution_count": 24
        }
      ]
    },
    {
      "cell_type": "code",
      "source": [
        "bert_config.num_hidden_layers"
      ],
      "metadata": {
        "colab": {
          "base_uri": "https://localhost:8080/"
        },
        "id": "0RH-9HLVSYHK",
        "outputId": "dbb6d316-19a9-45fc-bc28-43f08c2de2be"
      },
      "execution_count": 25,
      "outputs": [
        {
          "output_type": "execute_result",
          "data": {
            "text/plain": [
              "12"
            ]
          },
          "metadata": {},
          "execution_count": 25
        }
      ]
    },
    {
      "cell_type": "markdown",
      "source": [
        "So option A. is correct. There are 12 Bert/Hidden Layers"
      ],
      "metadata": {
        "id": "FGMdrdBjSiq9"
      }
    },
    {
      "cell_type": "code",
      "source": [
        "bert_config.position_embedding_type"
      ],
      "metadata": {
        "colab": {
          "base_uri": "https://localhost:8080/",
          "height": 35
        },
        "id": "yAl-KcKcSpOK",
        "outputId": "a20942cc-f6ff-456d-80fe-a527cd444fb0"
      },
      "execution_count": 26,
      "outputs": [
        {
          "output_type": "execute_result",
          "data": {
            "text/plain": [
              "'absolute'"
            ],
            "application/vnd.google.colaboratory.intrinsic+json": {
              "type": "string"
            }
          },
          "metadata": {},
          "execution_count": 26
        }
      ]
    },
    {
      "cell_type": "markdown",
      "source": [
        "I don't know what \"position_embedding\" is but this also seems to be correct. Option C is correct."
      ],
      "metadata": {
        "id": "MQik_tj_SsTw"
      }
    },
    {
      "cell_type": "code",
      "source": [
        "# Let's find how many learnable parameters does the word embedding (token embedding) layer has\n",
        "bert_model.get_input_embeddings()"
      ],
      "metadata": {
        "colab": {
          "base_uri": "https://localhost:8080/"
        },
        "id": "YBWJZsr8K_4v",
        "outputId": "6a68a4df-d440-4f57-fe0e-442b67a3bd56"
      },
      "execution_count": 27,
      "outputs": [
        {
          "output_type": "execute_result",
          "data": {
            "text/plain": [
              "Embedding(30522, 768, padding_idx=0)"
            ]
          },
          "metadata": {},
          "execution_count": 27
        }
      ]
    },
    {
      "cell_type": "code",
      "source": [
        "# Embedding dimensions are 30522x768\n",
        "\n",
        "(30522*768)/10**6"
      ],
      "metadata": {
        "colab": {
          "base_uri": "https://localhost:8080/"
        },
        "id": "Xg5SBNoJS8dc",
        "outputId": "92a930f2-d6c9-450b-9498-27d6369fddcd"
      },
      "execution_count": 28,
      "outputs": [
        {
          "output_type": "execute_result",
          "data": {
            "text/plain": [
              "23.440896"
            ]
          },
          "metadata": {},
          "execution_count": 28
        }
      ]
    },
    {
      "cell_type": "markdown",
      "source": [
        "Option D. is also correct. The word embedding layer has about 23 million parameters."
      ],
      "metadata": {
        "id": "DQJP5l3DTQWy"
      }
    },
    {
      "cell_type": "code",
      "source": [
        "bert_model.num_parameters()"
      ],
      "metadata": {
        "colab": {
          "base_uri": "https://localhost:8080/"
        },
        "id": "GKtOoTqKRx5l",
        "outputId": "7b33edcc-2506-4622-9430-97806a5656b7"
      },
      "execution_count": 29,
      "outputs": [
        {
          "output_type": "execute_result",
          "data": {
            "text/plain": [
              "109514298"
            ]
          },
          "metadata": {},
          "execution_count": 29
        }
      ]
    },
    {
      "cell_type": "markdown",
      "source": [
        "Option E is also correct. The total number of parameters in the model is close to 110M"
      ],
      "metadata": {
        "id": "XwfHxFRtTlKw"
      }
    },
    {
      "cell_type": "markdown",
      "source": [
        "**Q4.** Double the context length from 512 to 1024 (you can change it in the configuration). Count the number of parameters and enter the change in the number of parameters (in millions) compared to the default configuration.\n",
        "\n",
        "A. To hange the context length, we'll need to use the `max_position_embeddings` param.\n",
        "\n",
        "According to the docs:\n",
        "\n",
        "> `max_position_embeddings` : The maximum sequence length that this model might ever be used with. Typically set this to something large just in case (e.g., 512 or 1024 or 2048). The default is 512."
      ],
      "metadata": {
        "id": "JupfrzdrSCmJ"
      }
    },
    {
      "cell_type": "code",
      "source": [
        "bert_config = BertConfig(max_position_embeddings=1024)\n",
        "bert_model = BertForMaskedLM(bert_config)"
      ],
      "metadata": {
        "id": "F6KKCpAsSEq5"
      },
      "execution_count": 30,
      "outputs": []
    },
    {
      "cell_type": "code",
      "source": [
        "bert_model.num_parameters()"
      ],
      "metadata": {
        "colab": {
          "base_uri": "https://localhost:8080/"
        },
        "id": "6ZHdCGxPUxMN",
        "outputId": "872398f6-8b2a-412e-bd37-9cb4d993c874"
      },
      "execution_count": 31,
      "outputs": [
        {
          "output_type": "execute_result",
          "data": {
            "text/plain": [
              "109907514"
            ]
          },
          "metadata": {},
          "execution_count": 31
        }
      ]
    },
    {
      "cell_type": "markdown",
      "source": [
        "By increasing the context length, the model parameters have increased from 109514298 to 109907514.\n",
        "\n",
        "Roughly an increase of **0.4** Million over the default config."
      ],
      "metadata": {
        "id": "ZIr5PrGrV2Cy"
      }
    },
    {
      "cell_type": "code",
      "source": [
        "# change : Num params in the new config - Num params in the old config\n",
        "(109907514 - 109514298)/10**6"
      ],
      "metadata": {
        "colab": {
          "base_uri": "https://localhost:8080/"
        },
        "id": "BU9u6rmsVLIn",
        "outputId": "035fa09d-da8d-47ab-8640-fd89afe73c70"
      },
      "execution_count": 32,
      "outputs": [
        {
          "output_type": "execute_result",
          "data": {
            "text/plain": [
              "0.393216"
            ]
          },
          "metadata": {},
          "execution_count": 32
        }
      ]
    },
    {
      "cell_type": "code",
      "source": [
        "yelp_review_full"
      ],
      "metadata": {
        "colab": {
          "base_uri": "https://localhost:8080/"
        },
        "id": "F9djOHRab9Xl",
        "outputId": "e86714ec-3ac3-4768-903e-3d2c3e2be88d"
      },
      "execution_count": 33,
      "outputs": [
        {
          "output_type": "execute_result",
          "data": {
            "text/plain": [
              "Dataset({\n",
              "    features: ['label', 'text'],\n",
              "    num_rows: 700000\n",
              "})"
            ]
          },
          "metadata": {},
          "execution_count": 33
        }
      ]
    },
    {
      "cell_type": "markdown",
      "source": [
        "**Q5.** Pack (chunk) the samples such that the length of all the samples in the dataset is 512 (for efficient training). Define a mapping function that implements the following procedure\n",
        "\n",
        " 1. Take a batch of 1000 samples\n",
        " 2. Tokenize it to get input IDs and attention mask\n",
        " 3. Concatenate all the input IDs\n",
        " 4. Chunk the concatenated IDs into a size of 512\n",
        " 5. Drop the last chunk if its length is less than 512\n",
        " 6. Pack all the chunks\n",
        " 7. Iterate over all the batches in the dataset\n",
        "\n",
        "Store the resulting dataset in the variable `ds_chunked`. Enter the total number of samples in the new dataset.\n",
        "\n",
        "**Note**: the batch size should be kept at 1000 while calling `ds.map()` for the answer to match."
      ],
      "metadata": {
        "id": "C_R54lKGad_8"
      }
    },
    {
      "cell_type": "code",
      "source": [
        "sample = yelp_review_full[100_000]['text']\n",
        "sample"
      ],
      "metadata": {
        "colab": {
          "base_uri": "https://localhost:8080/",
          "height": 53
        },
        "id": "o0RKPnJ3kmWB",
        "outputId": "3fd3a856-1ca3-4bad-ec8c-29c77af7b432"
      },
      "execution_count": 34,
      "outputs": [
        {
          "output_type": "execute_result",
          "data": {
            "text/plain": [
              "\"Had the honey hot wings, it wasn't bad, just mediocre. My search for a mom and pop great hot wings. So far no one has come close to Buffalo Wild Wings, but they're a franchise :( anyone knows of great hot wings, please let me know?\""
            ],
            "application/vnd.google.colaboratory.intrinsic+json": {
              "type": "string"
            }
          },
          "metadata": {},
          "execution_count": 34
        }
      ]
    },
    {
      "cell_type": "markdown",
      "source": [
        "Using the bert tokenizer on tokenize our sample gives us the token ids and attention mask like so:"
      ],
      "metadata": {
        "id": "9yinnQWbkzl4"
      }
    },
    {
      "cell_type": "code",
      "source": [
        "bert_tokenizer(sample)"
      ],
      "metadata": {
        "colab": {
          "base_uri": "https://localhost:8080/"
        },
        "id": "DqqAUXOTcYoq",
        "outputId": "bf5cacf1-12b8-4e10-ffe3-9917245fdd2a"
      },
      "execution_count": 35,
      "outputs": [
        {
          "output_type": "execute_result",
          "data": {
            "text/plain": [
              "{'input_ids': [101, 2018, 1996, 6861, 2980, 4777, 1010, 2009, 2347, 1005, 1056, 2919, 1010, 2074, 19960, 3695, 16748, 1012, 2026, 3945, 2005, 1037, 3566, 1998, 3769, 2307, 2980, 4777, 1012, 2061, 2521, 2053, 2028, 2038, 2272, 2485, 2000, 6901, 3748, 4777, 1010, 2021, 2027, 1005, 2128, 1037, 6329, 1024, 1006, 3087, 4282, 1997, 2307, 2980, 4777, 1010, 3531, 2292, 2033, 2113, 1029, 102], 'token_type_ids': [0, 0, 0, 0, 0, 0, 0, 0, 0, 0, 0, 0, 0, 0, 0, 0, 0, 0, 0, 0, 0, 0, 0, 0, 0, 0, 0, 0, 0, 0, 0, 0, 0, 0, 0, 0, 0, 0, 0, 0, 0, 0, 0, 0, 0, 0, 0, 0, 0, 0, 0, 0, 0, 0, 0, 0, 0, 0, 0, 0, 0, 0], 'attention_mask': [1, 1, 1, 1, 1, 1, 1, 1, 1, 1, 1, 1, 1, 1, 1, 1, 1, 1, 1, 1, 1, 1, 1, 1, 1, 1, 1, 1, 1, 1, 1, 1, 1, 1, 1, 1, 1, 1, 1, 1, 1, 1, 1, 1, 1, 1, 1, 1, 1, 1, 1, 1, 1, 1, 1, 1, 1, 1, 1, 1, 1, 1]}"
            ]
          },
          "metadata": {},
          "execution_count": 35
        }
      ]
    },
    {
      "cell_type": "markdown",
      "source": [
        "And if we pass the tokenizer a bunch of samples, it will also return us the token ids, attention masks for all the samples as a neat list of lists."
      ],
      "metadata": {
        "id": "tQxTnOHnR4nB"
      }
    },
    {
      "cell_type": "code",
      "source": [
        "# samples = yelp_review_full[:3]\n",
        "# bert_tokenizer(samples['text'])"
      ],
      "metadata": {
        "id": "4IeOGViuRtav"
      },
      "execution_count": 36,
      "outputs": []
    },
    {
      "cell_type": "code",
      "source": [
        "def chunk_and_pack(examples):\n",
        "  \"\"\"\n",
        "  First concatenates all the tokens and then chunks them into a size of 512.\n",
        "  This makes sure that each sample in the dataset has a length of 512.\n",
        "  \"\"\"\n",
        "\n",
        "  tokenized_inputs = bert_tokenizer(examples['text'])\n",
        "\n",
        "  # concatenate all the input_ids into one list\n",
        "  all_input_ids = sum(tokenized_inputs['input_ids'], [])\n",
        "\n",
        "  # chunking the concatenated ids into a size of 512\n",
        "  chunked_input_ids = [all_input_ids[i:i+512] for i in range(0, len(all_input_ids), 512)]\n",
        "\n",
        "  # Drop the last chunk if its length is less than 512\n",
        "  if len(chunked_input_ids[-1]) < 512:\n",
        "      chunked_input_ids = chunked_input_ids[:-1]\n",
        "\n",
        "  # create the attention mask\n",
        "  attention_masks = [[1] * 512 for chunk in chunked_input_ids]\n",
        "\n",
        "  packed_examples = {'input_ids': chunked_input_ids, 'attention_mask': attention_masks}\n",
        "  return packed_examples\n",
        "\n",
        "# Apply the chunk_and_pack function to the dataset in batches of 1000\n",
        "# Also make sure to remove all the columns in the dataset (in this case, label and text)\n",
        "# This is because the map function expects that number of samples should remain the same\n",
        "# after a map operation. If 1000 samples went in, 1000 should come out. But in this\n",
        "# case, that is not possible. We will always get a lower number of samples back after\n",
        "# concatenation. And map will give an error : \"Column named input_ids expected length 1000 but got length 368\"\n",
        "# or something like that. So we remove the columns in the dataset so that it doesn't expect any specific\n",
        "# number of columns.\n",
        "ds_chunked = yelp_review_full.map(chunk_and_pack, batched=True, batch_size=1000, remove_columns=['label', 'text'])"
      ],
      "metadata": {
        "id": "g5rxht6KVXmi",
        "colab": {
          "base_uri": "https://localhost:8080/",
          "height": 49,
          "referenced_widgets": [
            "09895c6649034e29b0c98da79f2924c1",
            "56191a43febd443994b2050d4cb976e8",
            "90b682384ec34178965b624d963fa932",
            "43260cf6c8f9446d86963307b6c1df55",
            "7426ccabb46f453985784ad8b8da290f",
            "6857ce8c0d8a4660a11398c9349330cb",
            "6ae4dabe82cb42549f29979ba3e7e32d",
            "2e86951506e4420fbf0d815a020b271c",
            "c3503208bd03415aa1b36bceca06e44b",
            "0b9f983ac2c240f38c27ede9cddd0242",
            "6b21a08a9ffe409da4f60e86dee04acd"
          ]
        },
        "outputId": "8d6f1a7e-86ae-42d0-c6d3-cc99655c7646"
      },
      "execution_count": 37,
      "outputs": [
        {
          "output_type": "display_data",
          "data": {
            "text/plain": [
              "Map:   0%|          | 0/700000 [00:00<?, ? examples/s]"
            ],
            "application/vnd.jupyter.widget-view+json": {
              "version_major": 2,
              "version_minor": 0,
              "model_id": "09895c6649034e29b0c98da79f2924c1"
            }
          },
          "metadata": {}
        }
      ]
    },
    {
      "cell_type": "code",
      "source": [
        "ds_chunked"
      ],
      "metadata": {
        "colab": {
          "base_uri": "https://localhost:8080/"
        },
        "id": "X1YwcXX-rMXB",
        "outputId": "676179b2-9b02-4a13-ea9f-6204b92fa56c"
      },
      "execution_count": 38,
      "outputs": [
        {
          "output_type": "execute_result",
          "data": {
            "text/plain": [
              "Dataset({\n",
              "    features: ['input_ids', 'attention_mask'],\n",
              "    num_rows: 246695\n",
              "})"
            ]
          },
          "metadata": {},
          "execution_count": 38
        }
      ]
    },
    {
      "cell_type": "markdown",
      "source": [
        "So the total number of samples in this new dataset is **246695**.\n",
        "\n",
        "We've gone from 700,000 samples of variable length to 246,695 samples each of length 512 words.\n",
        "\n",
        "Let's also check out a sample for good measure."
      ],
      "metadata": {
        "id": "FZaL8uBQYl3e"
      }
    },
    {
      "cell_type": "code",
      "source": [
        "# pprint(ds_chunked[1], compact=True)"
      ],
      "metadata": {
        "id": "0XyIS2EaXuDA"
      },
      "execution_count": 40,
      "outputs": []
    },
    {
      "cell_type": "markdown",
      "source": [
        "**Q6.** Split the new dataset into training and test sets with the `test_size=0.05` and `seed=42`. Use the appropriate data collator function for the MLM objective and set the masking probability to 0.2. Use the data loader from PyTorch to load a batch of samples, and enter the token ID corresponding to the unmasked token.\n",
        "\n",
        "> According to the instructors: we need to report the `label_id` of the unmasked token, *not* the token_id! The question statement had a mistake.\n",
        "\n",
        "\n",
        "**What is MLM?**\n",
        "\n",
        "Masked language modeling (MLM)\n",
        "A pretraining task where the model sees a corrupted version of the texts, usually done by masking some tokens randomly, and has to predict the original text."
      ],
      "metadata": {
        "id": "htDdY90PZqjq"
      }
    },
    {
      "cell_type": "code",
      "source": [
        "# Split the dataset into training and test sets\n",
        "train_test_splits = ds_chunked.train_test_split(test_size=0.05, seed=42)\n",
        "train_dataset = train_test_splits['train']\n",
        "test_dataset = train_test_splits['test']"
      ],
      "metadata": {
        "id": "KAhBVbTdomNl"
      },
      "execution_count": 41,
      "outputs": []
    },
    {
      "cell_type": "code",
      "source": [
        "from transformers import DataCollatorForLanguageModeling\n",
        "\n",
        "# Data collator for MLM\n",
        "data_collator = DataCollatorForLanguageModeling(\n",
        "    tokenizer=bert_tokenizer, mlm_probability=0.2\n",
        ")"
      ],
      "metadata": {
        "id": "sqieIenAouvn"
      },
      "execution_count": 44,
      "outputs": []
    },
    {
      "cell_type": "markdown",
      "source": [
        "Lets try using this collator and see how this masking thing works:\n",
        "\n",
        "Observe how it randomly masks tokens, and also note that it masks different tokens each time you re-run the cell!"
      ],
      "metadata": {
        "id": "ZuA8mPCufiXA"
      }
    },
    {
      "cell_type": "code",
      "source": [
        "samples = [train_dataset[0], train_dataset[1]]\n",
        "print(samples)\n",
        "\n",
        "for chunk in data_collator(samples)[\"input_ids\"]:\n",
        "    print(f\"\\n'>>> {bert_tokenizer.decode(chunk)}'\")"
      ],
      "metadata": {
        "colab": {
          "base_uri": "https://localhost:8080/"
        },
        "id": "q4K5FUiRejVY",
        "outputId": "589325a0-6fa0-41fe-e3de-90d461aaac8f"
      },
      "execution_count": 59,
      "outputs": [
        {
          "output_type": "stream",
          "name": "stdout",
          "text": [
            "[{'input_ids': [1010, 1045, 2052, 2031, 2056, 2009, 2001, 3294, 4276, 2009, 1010, 2021, 1996, 2833, 2347, 1005, 1056, 2130, 1032, 1000, 2307, 1012, 1032, 1000, 2054, 1037, 5949, 1010, 2021, 1045, 3984, 2008, 1005, 1055, 1996, 3891, 2017, 2202, 2005, 5782, 2000, 3046, 1037, 2367, 11281, 4825, 1012, 2074, 2138, 2009, 3504, 1998, 3849, 11281, 5121, 2515, 2025, 11302, 1037, 2307, 20560, 3325, 1012, 1032, 1050, 1032, 17953, 14083, 2021, 2025, 2560, 1010, 1996, 2326, 2001, 2035, 2058, 1996, 2173, 1012, 2748, 1996, 4825, 2001, 2200, 5697, 1010, 2021, 2256, 14903, 6051, 2066, 2027, 2020, 2770, 2105, 2007, 2037, 4641, 3013, 2125, 1012, 2005, 1037, 2986, 7759, 4825, 1998, 2008, 3976, 6415, 1010, 1045, 3517, 2062, 1012, 102, 101, 26114, 10166, 999, 11112, 3022, 2020, 12090, 999, 999, 1032, 1050, 1032, 1050, 17048, 2000, 5254, 2256, 2283, 2288, 2000, 2022, 4658, 1998, 4133, 2006, 1996, 29379, 3366, 7384, 2795, 1012, 2061, 1999, 2090, 7807, 1997, 2893, 2256, 2833, 2366, 2000, 2149, 1010, 2057, 2020, 2652, 1037, 6975, 2208, 1997, 29379, 3366, 7384, 1012, 2453, 1045, 5587, 2008, 1045, 4033, 1005, 1056, 2209, 1999, 2061, 2146, 1010, 2145, 3266, 2000, 2907, 2026, 9292, 2000, 4521, 1998, 1010, 2821, 2748, 1010, 2145, 3266, 2000, 2562, 4577, 1012, 1032, 1050, 1032, 22064, 2063, 2234, 2182, 2006, 1037, 5958, 3944, 1998, 2023, 2173, 2001, 10789, 1012, 2065, 2017, 2024, 6603, 1010, 1996, 29379, 3366, 7384, 2795, 2003, 2025, 2006, 1996, 2503, 1010, 2057, 2020, 2648, 1997, 1996, 4825, 1012, 2004, 2521, 2004, 11112, 3022, 2175, 1010, 2057, 2018, 1024, 1032, 1050, 1032, 17212, 6633, 6030, 7507, 9530, 25022, 12412, 2891, 1011, 10506, 2102, 16521, 1010, 10506, 2102, 2020, 14291, 2094, 2039, 1010, 2007, 4589, 25609, 1010, 8808, 1997, 2607, 2007, 14255, 9153, 23584, 12264, 1998, 2471, 2066, 1037, 4511, 11225, 1012, 1012, 1012, 9805, 2213, 999, 1032, 1050, 1032, 17212, 15094, 20518, 4017, 1011, 2026, 2034, 2051, 2667, 6643, 8411, 1010, 1045, 2064, 1005, 1056, 2360, 2008, 1045, 2001, 7622, 2138, 1996, 24857, 2001, 5881, 2000, 1996, 6090, 1998, 2057, 2179, 9731, 23704, 1996, 6090, 2000, 2131, 2242, 3031, 2256, 5127, 1012, 14894, 2001, 5791, 2045, 1010, 2017, 2071, 5510, 1996, 26852, 1998, 20130, 2802, 1012, 1032, 1050, 1032, 1050, 13469, 7895, 2015, 9530, 22889, 16782, 2139, 4199, 9363, 1011, 18168, 2290, 1010, 2023, 2001, 2026, 5440, 999, 999, 2023, 2003, 2025, 2115, 2009, 3723, 2978, 3723, 8040, 8095, 7361, 1012, 2009, 2003, 2048, 2312, 8040, 8095, 11923, 14894, 2098, 1999, 1037, 4199, 9363, 12901, 1012, 1016, 4109, 2123, 1005, 1056, 2614, 2066, 1037, 2843, 2005, 1002, 2324, 1012, 1012, 1012, 2021, 2175, 2005, 2009, 1012, 2009, 2471, 2435, 1996, 6287, 5974, 2524, 6820, 5910, 1012, 1032, 1050, 1032, 13316, 7231, 27165, 2015, 19817, 17190, 10446, 23266, 2139, 8292, 20683, 2139, 1061, 6986, 2080, 9530, 26509, 2022, 7507, 10199, 1011, 2023, 2001, 15960, 1998, 1042, 10448, 2063, 24665, 3022, 11942, 27165, 2015, 1010, 12984, 1999, 8808, 1012, 3100, 2027, 2018, 2033, 2012, 1042, 10448, 2063, 24665, 3022, 1010, 1045, 2359, 2000, 4521, 1996, 2878, 2518, 2000, 2870, 1012, 1045, 2001, 23704, 2673, 2125, 1997, 2008, 5127, 1012], 'attention_mask': [1, 1, 1, 1, 1, 1, 1, 1, 1, 1, 1, 1, 1, 1, 1, 1, 1, 1, 1, 1, 1, 1, 1, 1, 1, 1, 1, 1, 1, 1, 1, 1, 1, 1, 1, 1, 1, 1, 1, 1, 1, 1, 1, 1, 1, 1, 1, 1, 1, 1, 1, 1, 1, 1, 1, 1, 1, 1, 1, 1, 1, 1, 1, 1, 1, 1, 1, 1, 1, 1, 1, 1, 1, 1, 1, 1, 1, 1, 1, 1, 1, 1, 1, 1, 1, 1, 1, 1, 1, 1, 1, 1, 1, 1, 1, 1, 1, 1, 1, 1, 1, 1, 1, 1, 1, 1, 1, 1, 1, 1, 1, 1, 1, 1, 1, 1, 1, 1, 1, 1, 1, 1, 1, 1, 1, 1, 1, 1, 1, 1, 1, 1, 1, 1, 1, 1, 1, 1, 1, 1, 1, 1, 1, 1, 1, 1, 1, 1, 1, 1, 1, 1, 1, 1, 1, 1, 1, 1, 1, 1, 1, 1, 1, 1, 1, 1, 1, 1, 1, 1, 1, 1, 1, 1, 1, 1, 1, 1, 1, 1, 1, 1, 1, 1, 1, 1, 1, 1, 1, 1, 1, 1, 1, 1, 1, 1, 1, 1, 1, 1, 1, 1, 1, 1, 1, 1, 1, 1, 1, 1, 1, 1, 1, 1, 1, 1, 1, 1, 1, 1, 1, 1, 1, 1, 1, 1, 1, 1, 1, 1, 1, 1, 1, 1, 1, 1, 1, 1, 1, 1, 1, 1, 1, 1, 1, 1, 1, 1, 1, 1, 1, 1, 1, 1, 1, 1, 1, 1, 1, 1, 1, 1, 1, 1, 1, 1, 1, 1, 1, 1, 1, 1, 1, 1, 1, 1, 1, 1, 1, 1, 1, 1, 1, 1, 1, 1, 1, 1, 1, 1, 1, 1, 1, 1, 1, 1, 1, 1, 1, 1, 1, 1, 1, 1, 1, 1, 1, 1, 1, 1, 1, 1, 1, 1, 1, 1, 1, 1, 1, 1, 1, 1, 1, 1, 1, 1, 1, 1, 1, 1, 1, 1, 1, 1, 1, 1, 1, 1, 1, 1, 1, 1, 1, 1, 1, 1, 1, 1, 1, 1, 1, 1, 1, 1, 1, 1, 1, 1, 1, 1, 1, 1, 1, 1, 1, 1, 1, 1, 1, 1, 1, 1, 1, 1, 1, 1, 1, 1, 1, 1, 1, 1, 1, 1, 1, 1, 1, 1, 1, 1, 1, 1, 1, 1, 1, 1, 1, 1, 1, 1, 1, 1, 1, 1, 1, 1, 1, 1, 1, 1, 1, 1, 1, 1, 1, 1, 1, 1, 1, 1, 1, 1, 1, 1, 1, 1, 1, 1, 1, 1, 1, 1, 1, 1, 1, 1, 1, 1, 1, 1, 1, 1, 1, 1, 1, 1, 1, 1, 1, 1, 1, 1, 1, 1, 1, 1, 1, 1, 1, 1, 1, 1, 1, 1, 1, 1, 1, 1, 1, 1, 1, 1, 1, 1, 1, 1, 1, 1, 1, 1, 1, 1, 1, 1, 1, 1, 1, 1, 1, 1, 1, 1, 1, 1, 1, 1, 1, 1, 1, 1, 1, 1, 1, 1, 1, 1, 1, 1, 1, 1, 1, 1]}, {'input_ids': [2681, 3243, 1037, 2978, 2000, 2022, 9059, 1012, 2348, 2045, 2020, 6197, 1997, 14903, 6343, 2790, 2000, 2022, 2559, 2044, 1996, 6304, 1012, 2017, 2969, 3710, 2005, 8974, 2021, 2024, 2041, 1997, 6735, 2065, 2017, 2215, 2300, 2030, 28248, 5572, 1024, 2300, 2003, 2369, 1996, 4675, 1998, 1996, 5572, 2001, 18870, 2135, 4064, 1012, 1045, 2001, 5580, 1045, 2253, 2007, 1037, 2177, 2239, 1998, 2134, 1005, 1056, 3477, 2440, 3976, 102, 101, 2092, 1012, 2057, 2024, 2589, 2667, 2068, 2005, 10733, 1012, 2672, 2057, 2097, 2175, 2067, 2776, 1998, 3046, 2037, 5025, 2833, 2021, 1996, 10733, 2003, 2200, 2200, 20857, 1012, 1996, 2317, 10733, 1006, 26220, 24310, 2050, 1007, 12595, 2066, 1996, 2560, 14894, 2098, 10733, 4921, 2063, 2412, 2018, 1012, 102, 101, 10733, 2003, 2204, 2005, 2469, 999, 2326, 2003, 2025, 2200, 2204, 2065, 2017, 2024, 7759, 1999, 1012, 2065, 2017, 2024, 13063, 4287, 2041, 1010, 2022, 4810, 2000, 3524, 19511, 999, 2006, 2019, 2779, 2305, 2115, 10733, 2003, 2183, 2000, 2022, 2382, 1009, 8117, 2015, 2241, 2006, 2026, 3325, 1010, 1037, 5697, 2305, 2003, 1015, 1009, 2847, 999, 2065, 2017, 2428, 2215, 2070, 2204, 10733, 1010, 1998, 2031, 1996, 2051, 2000, 3524, 1010, 2507, 2009, 1037, 3046, 1012, 102, 101, 2042, 2746, 2182, 2144, 2027, 2441, 1012, 2307, 4825, 2448, 2011, 2307, 2155, 1012, 2467, 8966, 1012, 2200, 4845, 5379, 1012, 1045, 2031, 2196, 2018, 1037, 2919, 7954, 2182, 1012, 2026, 5440, 10733, 2003, 1996, 13055, 10733, 1012, 2074, 2066, 2026, 3566, 2081, 1999, 3304, 1012, 102, 101, 1045, 3246, 1045, 2064, 4339, 2023, 3319, 1059, 1013, 2041, 2852, 13669, 2075, 2035, 2058, 2870, 999, 7929, 1010, 1996, 19423, 2003, 1037, 1011, 1049, 1011, 1037, 1011, 1062, 1011, 1045, 1011, 1050, 1011, 1043, 999, 999, 999, 999, 999, 999, 999, 1996, 14902, 1998, 6949, 9961, 2003, 3962, 1011, 2006, 3819, 1998, 1045, 2097, 2022, 26369, 2023, 7058, 999, 999, 999, 1996, 20548, 9439, 2024, 19021, 2102, 2264, 2204, 999, 999, 2060, 5167, 2057, 12246, 5632, 1998, 2097, 2022, 13063, 2153, 2421, 1996, 7975, 19177, 17310, 2078, 1010, 8808, 16806, 10893, 1010, 1996, 6240, 18510, 1010, 1998, 1996, 10733, 1012, 1032, 1050, 1032, 9152, 2572, 2061, 5580, 2057, 2179, 2023, 2173, 1010, 1045, 1005, 2310, 2525, 2404, 2068, 2004, 1037, 2240, 8875, 1999, 2256, 7058, 5166, 999, 999, 999, 999, 999, 1024, 1011, 1007, 2562, 2039, 1996, 11813, 3737, 1998, 5510, 999, 999, 999, 102, 101, 2253, 2182, 2153, 1037, 3232, 1997, 2335, 1998, 2009, 2038, 5407, 4788, 1012, 2009, 3138, 5091, 2000, 2022, 8901, 1012, 1032, 1050, 1032, 22064, 2063, 3641, 1037, 10733, 1996, 2197, 2051, 2057, 2020, 2182, 1998, 1996, 19116, 2001, 20857, 1010, 1996, 10733, 2001, 14309, 2007, 21956, 1010, 2061, 2172, 2008, 2057, 2018, 2000, 2061, 4817, 2009, 2039, 2007, 20619, 2015, 1998, 1996, 2326, 2001, 4030, 1010, 19960, 3695, 16748, 1998, 16010, 1012, 1032, 1050, 1032, 22064, 2063, 2180, 1005, 1056, 2022, 2746, 2067, 1012, 6714, 10610, 1005, 1055, 2003, 2126, 2488, 1012, 102, 101, 2145, 2293, 1996, 2173, 2021, 1996, 2197, 2261, 2335, 1996, 10733, 2001, 2025, 2039, 2000, 2037, 13373, 1012, 3383, 2027, 2024], 'attention_mask': [1, 1, 1, 1, 1, 1, 1, 1, 1, 1, 1, 1, 1, 1, 1, 1, 1, 1, 1, 1, 1, 1, 1, 1, 1, 1, 1, 1, 1, 1, 1, 1, 1, 1, 1, 1, 1, 1, 1, 1, 1, 1, 1, 1, 1, 1, 1, 1, 1, 1, 1, 1, 1, 1, 1, 1, 1, 1, 1, 1, 1, 1, 1, 1, 1, 1, 1, 1, 1, 1, 1, 1, 1, 1, 1, 1, 1, 1, 1, 1, 1, 1, 1, 1, 1, 1, 1, 1, 1, 1, 1, 1, 1, 1, 1, 1, 1, 1, 1, 1, 1, 1, 1, 1, 1, 1, 1, 1, 1, 1, 1, 1, 1, 1, 1, 1, 1, 1, 1, 1, 1, 1, 1, 1, 1, 1, 1, 1, 1, 1, 1, 1, 1, 1, 1, 1, 1, 1, 1, 1, 1, 1, 1, 1, 1, 1, 1, 1, 1, 1, 1, 1, 1, 1, 1, 1, 1, 1, 1, 1, 1, 1, 1, 1, 1, 1, 1, 1, 1, 1, 1, 1, 1, 1, 1, 1, 1, 1, 1, 1, 1, 1, 1, 1, 1, 1, 1, 1, 1, 1, 1, 1, 1, 1, 1, 1, 1, 1, 1, 1, 1, 1, 1, 1, 1, 1, 1, 1, 1, 1, 1, 1, 1, 1, 1, 1, 1, 1, 1, 1, 1, 1, 1, 1, 1, 1, 1, 1, 1, 1, 1, 1, 1, 1, 1, 1, 1, 1, 1, 1, 1, 1, 1, 1, 1, 1, 1, 1, 1, 1, 1, 1, 1, 1, 1, 1, 1, 1, 1, 1, 1, 1, 1, 1, 1, 1, 1, 1, 1, 1, 1, 1, 1, 1, 1, 1, 1, 1, 1, 1, 1, 1, 1, 1, 1, 1, 1, 1, 1, 1, 1, 1, 1, 1, 1, 1, 1, 1, 1, 1, 1, 1, 1, 1, 1, 1, 1, 1, 1, 1, 1, 1, 1, 1, 1, 1, 1, 1, 1, 1, 1, 1, 1, 1, 1, 1, 1, 1, 1, 1, 1, 1, 1, 1, 1, 1, 1, 1, 1, 1, 1, 1, 1, 1, 1, 1, 1, 1, 1, 1, 1, 1, 1, 1, 1, 1, 1, 1, 1, 1, 1, 1, 1, 1, 1, 1, 1, 1, 1, 1, 1, 1, 1, 1, 1, 1, 1, 1, 1, 1, 1, 1, 1, 1, 1, 1, 1, 1, 1, 1, 1, 1, 1, 1, 1, 1, 1, 1, 1, 1, 1, 1, 1, 1, 1, 1, 1, 1, 1, 1, 1, 1, 1, 1, 1, 1, 1, 1, 1, 1, 1, 1, 1, 1, 1, 1, 1, 1, 1, 1, 1, 1, 1, 1, 1, 1, 1, 1, 1, 1, 1, 1, 1, 1, 1, 1, 1, 1, 1, 1, 1, 1, 1, 1, 1, 1, 1, 1, 1, 1, 1, 1, 1, 1, 1, 1, 1, 1, 1, 1, 1, 1, 1, 1, 1, 1, 1, 1, 1, 1, 1, 1, 1, 1, 1, 1, 1, 1, 1, 1, 1, 1, 1, 1, 1, 1, 1, 1, 1, 1, 1, 1, 1, 1, 1, 1, 1, 1, 1, 1, 1, 1]}]\n",
            "\n",
            "'>>> [MASK] i would have said it was completely worth it, but the food wasn't even \\ \" great. [MASK] \" what a [MASK],pps [MASK] guess that's the risk you take for wanting to try a [MASK] fancy restaurant. just because [MASK] [MASK] and seems fancy certainly does not guarantee a [MASK] [MASK] experience. \\ n [MASK] nlast but [MASK] least [MASK] the service was all over the place [MASK] yes the restaurant was very busy, but our servers acted like they were running around [MASK] their heads cut off paddy for a fine dining [MASK] and that price tag, i expected more. [SEP] [CLS] umm [MASK]! tapas were delicious!! \\ [MASK] \\ nnot to mention our party got to [MASK] cool [MASK] sit on the fooseball table [MASK] so [MASK] between breaks [MASK] getting our food served to us [MASK] webahn playing a competitive game of fooseball. might i add that i haven [MASK] t played in so long, still managed to hold my fork to eat [MASK] [MASK] oh yes, [MASK] managed to keep scoring. \\ n \\ [MASK]e came [MASK] oncano friday evening and this role was crowded. if [unused585] are wondering, the foose [MASK] table is not on the inside, we were outside of the [MASK]. as far as tapas go, we had : \\ n \\ nremolacha con citricos - beet salad, beet [MASK] cubed up [MASK] with orange slices [MASK] cheese of course with [MASK]stachio [MASK] [MASK] almost like a wine dressing... yum [MASK] \\ n \\ nrossejat - my dorset [MASK] trying pa [MASK] [MASK] i can't say [MASK] i was impressed because the pasta was stuck to the pan and we [MASK] ourselves scraping the pan to get something onto our plate. flavor was definitely there, you could taste the squid and shrimp throughout [MASK] \\ n [MASK] nvieiras con [MASK]asa de romesco - omg, this was my favorite [MASK]! this isefe your itty bitty scallop ） it is two large sc [MASK]ops flavored in a romesco sauce. 2 pieces [MASK]'t [MASK] like a lot for $ 18... [MASK] [MASK] for [MASK]. it almost [MASK] the barrymore hardrubs [MASK] \\ n \\ nc [MASK]lones tr [MASK]cionales de [MASK]rdo de [MASK] pato con salsa bechamel - this was pork and foie gras cane [MASK] [MASK] [MASK] cooked in [MASK]. [MASK] [MASK] had [MASK] at foie exilesas, i wanted to eat the [MASK] [MASK] [MASK] [MASK] [MASK] [MASK] was scraping everything off of [MASK] plate.'\n",
            "\n",
            "'>>> leave quite a bit to be desired. although there were tons of servers nobody seemed to belaya after the customers. you self serve for drinks [MASK] are out of luck if you want water or [MASK] tea : water is [MASK] the counter and [MASK] [MASK] was perpetually empty. i was glad [MASK] went with a groupon and didn't pay [MASK] price [SEP] [CLS] well. we are [MASK] trying them [MASK] cannes. maybe we will go [MASK] eventually and try their actual food but [MASK] pizza [MASK] [MASK] very [MASK] [MASK] the white [MASK] inmate riccota ) tasted like [MASK] least [MASK] [MASK] pizza ive [MASK] had. [SEP] [CLS] pizza is good for sure! service [MASK] not [MASK] good if you are dining in. if you are ordering carry [MASK], [MASK] prepared to wait [MASK]! on [MASK] average night your pizza is [MASK] to be 30 + mins based on my [MASK] [MASK] a busy night is 1 + hours! [MASK] you really want some good [MASK] [MASK] and have the time [MASK] wait, give it a [MASK]. [SEP] [CLS] been coming here [MASK] they opened. great restaurant run by great family [MASK] [MASK] [MASK]. very [MASK] friendly [MASK] i have never had [MASK] bad meal here. my [MASK] [MASK] [MASK] the grandma pizza [MASK] just like [MASK] mom made in 184. [SEP] [CLS] i hope i can write this review w / out drool [MASK] all over [MASK]! ok [MASK] the [MASK] is a - [MASK] - a - [MASK] - i - n [MASK] optional!!!!! [MASK]! the texture and creaminess is spot - on [MASK] and i will be craving this monthly!!! the garlic prohibition are bast east [MASK]! [MASK] other [MASK] we thoroughly [MASK] and will be [MASK] again include the chicken parma [MASK] [MASK], cheese ravioli, the meatballs, and the pizza [MASK] \\ n \\ ni am so glad we found this place, i've [MASK] put them as a line item [MASK] [MASK] monthly budget!!!!! : - [MASK] keep up the exceptional quality and taste! [MASK] [MASK] [SEP] [CLS] went here again a couple of [MASK] and it has tamil worse [MASK] it takes forever to be seated [MASK] \\ n \\ nw seton ordered [MASK] pizza the last [MASK] we were here and the crust [MASK] bland [MASK] the pizza was dripping with grease, so much that we had to soak it up with napkins and the service was slow, mediocre and unpleasant. \\ [MASK] \\ nwe won't [MASK] coming back. [MASK]ato's is way better. [SEP] [CLS] [MASK] love [MASK] place but the last few times the pizza was not up to their norm. perhaps they are'\n"
          ]
        }
      ]
    },
    {
      "cell_type": "code",
      "source": [
        "bert_tokenizer.mask_token_id"
      ],
      "metadata": {
        "colab": {
          "base_uri": "https://localhost:8080/"
        },
        "id": "aS5Ucb5oeTqF",
        "outputId": "b8ec6194-c9fb-4dd0-9d05-a9a24c49f3e0"
      },
      "execution_count": 70,
      "outputs": [
        {
          "output_type": "execute_result",
          "data": {
            "text/plain": [
              "103"
            ]
          },
          "metadata": {},
          "execution_count": 70
        }
      ]
    },
    {
      "cell_type": "markdown",
      "source": [
        "The token ID of the `[MASK]` token is 103 for bert. So the `MASK` token always has an ID of 103.\n",
        "\n",
        "What we need to do is to use the dataloader to load a batch of samples and report the `label_id` of the unmasked tokens."
      ],
      "metadata": {
        "id": "bEG3qK8Rij2l"
      }
    },
    {
      "cell_type": "code",
      "source": [
        "# PyTorch DataLoader\n",
        "from torch.utils.data import DataLoader\n",
        "\n",
        "# lets create a dataloader with a batch size of 1\n",
        "dataloader = DataLoader(\n",
        "    train_dataset, batch_size=1, collate_fn=data_collator\n",
        ")"
      ],
      "metadata": {
        "id": "-UgvwB7dZqOE"
      },
      "execution_count": 72,
      "outputs": []
    },
    {
      "cell_type": "markdown",
      "source": [
        "Now, lets use this dataloader to load a batch of samples."
      ],
      "metadata": {
        "id": "bPKD2HaJiz8q"
      }
    },
    {
      "cell_type": "code",
      "source": [
        "dataloader_iter = iter(dataloader)\n",
        "batch = next(dataloader_iter)\n",
        "print(batch)"
      ],
      "metadata": {
        "colab": {
          "base_uri": "https://localhost:8080/"
        },
        "id": "sl3fCqk5iCuI",
        "outputId": "b089d680-2c9c-4829-b200-f5b84717b6f7"
      },
      "execution_count": 66,
      "outputs": [
        {
          "output_type": "stream",
          "name": "stdout",
          "text": [
            "{'input_ids': tensor([[ 1010,  1045,  2052,  2031,  2056,  2009,  2001,  3294,  4276,  2009,\n",
            "          1010,  2021,  1996,   103,  2347,  1005,   103,  2130,  1032,  1000,\n",
            "          2307,  9338,  1032,  1000,  2054,   103,  5949,   103,  2021,  1045,\n",
            "          3984,   103,  1005,  1055,  1996,   103,  2017,  2202,  2005,  5782,\n",
            "          2000,  3046,   103,  2367, 11281,  4825,  1012,  2074,  2138,  2009,\n",
            "          3504,  1998,  3849, 11281,  5121,  2515,   103, 11302,  1037,  2307,\n",
            "         20560,  3325,  1012,  1032,  1050,  1032, 17953,   103,  2021,   103,\n",
            "          2560,  1010,  1996,   103,  2001,  2035,  2058,  1996,   103,  1012,\n",
            "          2748,  1996,  4825,  2001,  2200,  5697,  1010,  2021,  2256, 14903,\n",
            "          6051,  2066,  2027,  2020,  2770,  2105,  2007,  2037,  4641,   103,\n",
            "          2125,  1012,  2005,  1037,  2986,  7759,  4825,   103,  2008,  3976,\n",
            "          6415,  1010,  1045,  3517,  2062,  1012,   102,   101, 26114, 10166,\n",
            "           999,   103,  3022,  2020, 12090,   999,   103,  1032,  1050,  1032,\n",
            "          1050, 17048,  2000,  5254,  2256, 23600,  2288,   103,  2022,   103,\n",
            "          1998,  4133,   103,  1996, 29379,  3366,  7384,   103,  1012,  2061,\n",
            "          1999,  2090,  7807,  1997,  2893,  2256,  2833,   103,  2000,  2149,\n",
            "           103,   103,  2020,   103,  1037,  6975,   103,  1997, 29379,  3366,\n",
            "          7384,  1012,  2453,  1045,  5587,  2008,  1045,  4033,  1005,   103,\n",
            "          2209,  1999,  2061,  2146,  1010,  2145,  3266,  2000,  2907,  2026,\n",
            "           103,  2000,  4521,  1998,  1010,  2821,   103,  1010,  2145, 15267,\n",
            "           103,  2562,   103,   103,  1032,  1050,  1032, 22064,  2063,  2234,\n",
            "          2182,  2006,   103,  5958,  3944,  1998,  2023,  2173,   103,   103,\n",
            "          1012,  2065,   103,  2024,  6603,  1010,  1996, 29379,   103,  7384,\n",
            "           103,  2003,  2025,  2006,   103,  2503,  1010,  2057,  2020,  2648,\n",
            "          1997,  1996, 11740,  1012,   103,   103,  2004, 11112,  3022,  2175,\n",
            "          1010,  2057,  2018,  1024,  1032,  1050,   103, 18774,  6633,  6030,\n",
            "          7507,  9530, 25022, 12412,  2891,  1011, 10506,   103, 16521,  1010,\n",
            "         10506,   103,  2020, 14291,  2094,  2039,  1010,  2007,   103, 25609,\n",
            "          1010,   103,  1997,  2607,  2007, 14255,  9153, 23584, 12264,  1998,\n",
            "          2471,  2066,  1037,   103, 11225,  1012,  1012,   103,  9805,  2213,\n",
            "           999,   103,  1050,  1032, 17212, 15094, 20518,   103,  1011,  2026,\n",
            "          2034,  2051,  2667,  6643,  8411,   103,  1045,  2064,  1005,  1056,\n",
            "          2360,  2008,   103,  2001,  7622,  2138,  1996, 24857,   103,  5881,\n",
            "          2000,   103,   103,  1998,   103,  2179,  9731, 23704,  1996,  6090,\n",
            "          2000,  2131,   103,  3031,  2256,  5127,   103, 14894,  2001,  5791,\n",
            "          2045,  1010,  2017,  2071,  5510,  1996,   103,  1998, 20130,  2802,\n",
            "          1012,  1032,   103,  1032,  1050,   103,  7895,  2015,  9530, 22889,\n",
            "         16782,  2139,  4199,   103,  1011,   103,  2290,  1010,  2023,  2001,\n",
            "          2026,  5440,   999,   999,  2023,  2003,  2025,  2115,  2009,   103,\n",
            "          2978,  3723,  8040,  8095,  7361,   103,  2009,  2003,   103,   103,\n",
            "           103,  8095, 11923, 14894,  2098,   103,   103,   103,  9363, 12901,\n",
            "          1012,  1016,  4109,  2123,  1005,  1056,   103,  2066,   103,  2843,\n",
            "          2005,  1002,  2324,  1012,  1012,  1012,  2021,  2175,  2005,  2009,\n",
            "          1012,  2009,  2471,   103,  1996,  6287,  5974,  2524,  6820,  5910,\n",
            "          1012,  1032,  1050,  1032, 13316,  7231, 27165,  2015, 19817, 17190,\n",
            "         10446, 23266,  2139,  8292, 20683,  2139,  1061,  6986,  2080,  9530,\n",
            "         26509,   103,  7507, 10199,   103,  2023,  2001, 15960,  1998,  1042,\n",
            "         10448,  2063, 24665,  3022, 11942, 27165,  2015,  1010, 12984,  1999,\n",
            "           103,  1012,   103,  2027,  2018,  2033,  2012,  1042, 10448,  2063,\n",
            "         24665,  3022,  1010,  1045,  2359,  2000,  4521,  1996,   103,  2518,\n",
            "          2000,  2870,  1012,  1045,  2001, 23704,   103,  2125,  9489,   103,\n",
            "          5127,   103]]), 'attention_mask': tensor([[1, 1, 1, 1, 1, 1, 1, 1, 1, 1, 1, 1, 1, 1, 1, 1, 1, 1, 1, 1, 1, 1, 1, 1,\n",
            "         1, 1, 1, 1, 1, 1, 1, 1, 1, 1, 1, 1, 1, 1, 1, 1, 1, 1, 1, 1, 1, 1, 1, 1,\n",
            "         1, 1, 1, 1, 1, 1, 1, 1, 1, 1, 1, 1, 1, 1, 1, 1, 1, 1, 1, 1, 1, 1, 1, 1,\n",
            "         1, 1, 1, 1, 1, 1, 1, 1, 1, 1, 1, 1, 1, 1, 1, 1, 1, 1, 1, 1, 1, 1, 1, 1,\n",
            "         1, 1, 1, 1, 1, 1, 1, 1, 1, 1, 1, 1, 1, 1, 1, 1, 1, 1, 1, 1, 1, 1, 1, 1,\n",
            "         1, 1, 1, 1, 1, 1, 1, 1, 1, 1, 1, 1, 1, 1, 1, 1, 1, 1, 1, 1, 1, 1, 1, 1,\n",
            "         1, 1, 1, 1, 1, 1, 1, 1, 1, 1, 1, 1, 1, 1, 1, 1, 1, 1, 1, 1, 1, 1, 1, 1,\n",
            "         1, 1, 1, 1, 1, 1, 1, 1, 1, 1, 1, 1, 1, 1, 1, 1, 1, 1, 1, 1, 1, 1, 1, 1,\n",
            "         1, 1, 1, 1, 1, 1, 1, 1, 1, 1, 1, 1, 1, 1, 1, 1, 1, 1, 1, 1, 1, 1, 1, 1,\n",
            "         1, 1, 1, 1, 1, 1, 1, 1, 1, 1, 1, 1, 1, 1, 1, 1, 1, 1, 1, 1, 1, 1, 1, 1,\n",
            "         1, 1, 1, 1, 1, 1, 1, 1, 1, 1, 1, 1, 1, 1, 1, 1, 1, 1, 1, 1, 1, 1, 1, 1,\n",
            "         1, 1, 1, 1, 1, 1, 1, 1, 1, 1, 1, 1, 1, 1, 1, 1, 1, 1, 1, 1, 1, 1, 1, 1,\n",
            "         1, 1, 1, 1, 1, 1, 1, 1, 1, 1, 1, 1, 1, 1, 1, 1, 1, 1, 1, 1, 1, 1, 1, 1,\n",
            "         1, 1, 1, 1, 1, 1, 1, 1, 1, 1, 1, 1, 1, 1, 1, 1, 1, 1, 1, 1, 1, 1, 1, 1,\n",
            "         1, 1, 1, 1, 1, 1, 1, 1, 1, 1, 1, 1, 1, 1, 1, 1, 1, 1, 1, 1, 1, 1, 1, 1,\n",
            "         1, 1, 1, 1, 1, 1, 1, 1, 1, 1, 1, 1, 1, 1, 1, 1, 1, 1, 1, 1, 1, 1, 1, 1,\n",
            "         1, 1, 1, 1, 1, 1, 1, 1, 1, 1, 1, 1, 1, 1, 1, 1, 1, 1, 1, 1, 1, 1, 1, 1,\n",
            "         1, 1, 1, 1, 1, 1, 1, 1, 1, 1, 1, 1, 1, 1, 1, 1, 1, 1, 1, 1, 1, 1, 1, 1,\n",
            "         1, 1, 1, 1, 1, 1, 1, 1, 1, 1, 1, 1, 1, 1, 1, 1, 1, 1, 1, 1, 1, 1, 1, 1,\n",
            "         1, 1, 1, 1, 1, 1, 1, 1, 1, 1, 1, 1, 1, 1, 1, 1, 1, 1, 1, 1, 1, 1, 1, 1,\n",
            "         1, 1, 1, 1, 1, 1, 1, 1, 1, 1, 1, 1, 1, 1, 1, 1, 1, 1, 1, 1, 1, 1, 1, 1,\n",
            "         1, 1, 1, 1, 1, 1, 1, 1]]), 'labels': tensor([[ -100,  -100,  -100,  -100,  -100,  -100,  -100,  -100,  -100,  -100,\n",
            "          -100,  -100,  -100,  2833,  -100,  -100,  1056,  -100,  -100,  -100,\n",
            "          -100,  1012,  -100,  -100,  2054,  1037,  -100,  1010,  -100,  -100,\n",
            "          -100,  2008,  -100,  -100,  -100,  3891,  -100,  -100,  -100,  -100,\n",
            "          -100,  -100,  1037,  -100,  -100,  -100,  -100,  -100,  -100,  -100,\n",
            "          -100,  -100,  -100,  -100,  -100,  -100,  2025,  -100,  -100,  -100,\n",
            "          -100,  -100,  -100,  -100,  -100,  -100,  -100, 14083,  -100,  2025,\n",
            "          -100,  -100,  -100,  2326,  -100,  -100,  -100,  -100,  2173,  -100,\n",
            "          -100,  -100,  -100,  -100,  -100,  -100,  -100,  -100,  -100,  -100,\n",
            "          -100,  -100,  -100,  -100,  -100,  -100,  -100,  -100,  -100,  3013,\n",
            "          -100,  -100,  -100,  -100,  -100,  -100,  -100,  1998,  -100,  -100,\n",
            "          -100,  -100,  -100,  -100,  -100,  -100,  -100,  -100,  -100,  -100,\n",
            "          -100, 11112,  3022,  -100,  -100,  -100,   999,  -100,  -100,  -100,\n",
            "          -100,  -100,  -100,  -100,  -100,  2283,  -100,  2000,  -100,  4658,\n",
            "          -100,  -100,  2006,  -100,  -100,  -100,  -100,  2795,  -100,  -100,\n",
            "          -100,  -100,  -100,  -100,  -100,  -100,  -100,  2366,  -100,  -100,\n",
            "          1010,  2057,  -100,  2652,  -100,  -100,  2208,  -100,  -100,  -100,\n",
            "          -100,  -100,  -100,  -100,  -100,  -100,  -100,  -100,  -100,  1056,\n",
            "          -100,  1999,  -100,  -100,  -100,  -100,  -100,  -100,  -100,  -100,\n",
            "          9292,  -100,  -100,  -100,  -100,  -100,  2748,  -100,  -100,  3266,\n",
            "          2000,  -100,  4577,  1012,  -100,  -100,  -100,  -100,  -100,  -100,\n",
            "          -100,  -100,  1037,  -100,  -100,  -100,  -100,  -100,  2001, 10789,\n",
            "          -100,  -100,  2017,  -100,  -100,  1010,  -100,  -100,  3366,  -100,\n",
            "          2795,  -100,  -100,  -100,  1996,  -100,  -100,  -100,  -100,  -100,\n",
            "          -100,  1996,  4825,  -100,  2004,  2521,  -100,  -100,  -100,  -100,\n",
            "          1010,  -100,  -100,  -100,  -100,  -100,  1032, 17212,  -100,  -100,\n",
            "          -100,  -100,  -100,  -100,  -100,  -100,  -100,  2102,  -100,  -100,\n",
            "          -100,  2102,  -100,  -100,  -100,  -100,  -100,  -100,  4589,  -100,\n",
            "          -100,  8808,  -100,  -100,  -100,  -100,  -100,  -100,  -100,  -100,\n",
            "          -100,  -100,  -100,  4511,  -100,  -100,  -100,  1012,  -100,  -100,\n",
            "          -100,  1032,  -100,  -100,  -100,  -100,  -100,  4017,  -100,  -100,\n",
            "          -100,  -100,  -100,  6643,  -100,  1010,  -100,  -100,  -100,  -100,\n",
            "          -100,  -100,  1045,  -100,  -100,  -100,  -100,  -100,  2001,  -100,\n",
            "          -100,  1996,  6090,  -100,  2057,  -100,  -100,  -100,  -100,  -100,\n",
            "          -100,  -100,  2242,  -100,  -100,  -100,  1012,  -100,  -100,  -100,\n",
            "          2045,  -100,  -100,  -100,  -100,  -100, 26852,  -100,  -100,  -100,\n",
            "          -100,  -100,  1050,  -100,  -100, 13469,  -100,  -100,  -100,  -100,\n",
            "          -100,  -100,  -100,  9363,  -100, 18168,  -100,  -100,  -100,  -100,\n",
            "          -100,  -100,  -100,  -100,  -100,  -100,  -100,  -100,  -100,  3723,\n",
            "          -100,  -100,  -100,  -100,  -100,  1012,  -100,  -100,  2048,  2312,\n",
            "          8040,  -100,  -100,  -100,  -100,  1999,  1037,  4199,  -100,  -100,\n",
            "          -100,  -100,  -100,  -100,  -100,  -100,  2614,  -100,  1037,  2843,\n",
            "          -100,  -100,  -100,  -100,  -100,  -100,  -100,  -100,  -100,  -100,\n",
            "          -100,  -100,  -100,  2435,  -100,  -100,  -100,  -100,  -100,  -100,\n",
            "          -100,  -100,  -100,  1032,  -100,  -100,  -100,  -100,  -100,  -100,\n",
            "          -100,  -100,  -100,  -100,  -100,  -100,  -100,  -100,  -100,  -100,\n",
            "          -100,  2022,  -100,  -100,  1011,  -100,  -100,  -100,  -100,  -100,\n",
            "          -100,  -100,  -100,  -100,  -100,  -100,  -100,  -100,  -100,  -100,\n",
            "          8808,  -100,  3100,  -100,  -100,  2033,  -100,  -100,  -100,  -100,\n",
            "          -100,  -100,  -100,  -100,  -100,  -100,  -100,  -100,  2878,  -100,\n",
            "          -100,  -100,  -100,  -100,  -100,  -100,  2673,  -100,  1997,  2008,\n",
            "          -100,  1012]])}\n"
          ]
        }
      ]
    },
    {
      "cell_type": "markdown",
      "source": [
        "The HF docs say that all the unmasked tokens get a `label_id` of -100. Only the masked tokens have a different `label_id` (different random numbers). Do note that although the `label_id` is different for the mask token, all the mask tokens have the same `token_id` which is 103.\n",
        "\n",
        "We can see that in the above output as well in the labels column. Roughly all of the numbers are -100 (unmasked) and about 20% of the times, there are masked tokens occuring, just as we specified in the collator.\n",
        "\n",
        "So the answer is **-100** (label_id of the unmasked tokens)"
      ],
      "metadata": {
        "id": "qxFhTnbSjuP4"
      }
    },
    {
      "cell_type": "markdown",
      "source": [
        "**Q7.** Create a small BERT model by changing the following hyper-parameters and keeping the other hyper-parameters as is\n",
        " - num_hidden_layers = 6\n",
        " - hidden size: 384\n",
        " - intermediate_size: 1536\n",
        "\n",
        "and start training the model with a batch of size 8 for an epoch.\n",
        "\n",
        "What is the loss value at the end of the training?\n",
        "\n",
        "**Note**: You may optionally save the checkpoints for every N-th step.\n",
        "\n"
      ],
      "metadata": {
        "id": "r7_9b95QpgcP"
      }
    },
    {
      "cell_type": "code",
      "source": [
        "from transformers import TrainingArguments, Trainer"
      ],
      "metadata": {
        "id": "bxmeT2CVqohm"
      },
      "execution_count": null,
      "outputs": []
    },
    {
      "cell_type": "code",
      "source": [
        "bert_config = BertConfig(\n",
        "    num_hidden_layers=6,\n",
        "    hidden_size=384,\n",
        "    intermediate_size=1536\n",
        ")\n",
        "\n",
        "bert_model = BertForMaskedLM(bert_config)"
      ],
      "metadata": {
        "id": "sdgGjfhEifWP"
      },
      "execution_count": null,
      "outputs": []
    },
    {
      "cell_type": "code",
      "source": [
        "training_args = TrainingArguments(\n",
        "    output_dir='out',\n",
        "    save_steps=1000,\n",
        "    num_train_epochs=1,\n",
        "    per_device_train_batch_size=8,\n",
        "    per_device_eval_batch_size=8,\n",
        ")\n",
        "\n",
        "trainer = Trainer(\n",
        "    model=bert_model,\n",
        "    args=training_args,\n",
        "    train_dataset=train_dataset,\n",
        "    eval_dataset=test_dataset,\n",
        "    data_collator=data_collator)\n",
        "\n",
        "results = trainer.train()"
      ],
      "metadata": {
        "colab": {
          "base_uri": "https://localhost:8080/",
          "height": 1000
        },
        "id": "1vc8oxViqFd7",
        "outputId": "9c32e4ea-94fc-4f09-ceb1-09a494d6eb33"
      },
      "execution_count": null,
      "outputs": [
        {
          "output_type": "display_data",
          "data": {
            "text/plain": [
              "<IPython.core.display.HTML object>"
            ],
            "text/html": [
              "\n",
              "    <div>\n",
              "      \n",
              "      <progress value='29295' max='29295' style='width:300px; height:20px; vertical-align: middle;'></progress>\n",
              "      [29295/29295 1:59:57, Epoch 1/1]\n",
              "    </div>\n",
              "    <table border=\"1\" class=\"dataframe\">\n",
              "  <thead>\n",
              " <tr style=\"text-align: left;\">\n",
              "      <th>Step</th>\n",
              "      <th>Training Loss</th>\n",
              "    </tr>\n",
              "  </thead>\n",
              "  <tbody>\n",
              "    <tr>\n",
              "      <td>500</td>\n",
              "      <td>5.860700</td>\n",
              "    </tr>\n",
              "    <tr>\n",
              "      <td>1000</td>\n",
              "      <td>5.841600</td>\n",
              "    </tr>\n",
              "    <tr>\n",
              "      <td>1500</td>\n",
              "      <td>5.831000</td>\n",
              "    </tr>\n",
              "    <tr>\n",
              "      <td>2000</td>\n",
              "      <td>5.821500</td>\n",
              "    </tr>\n",
              "    <tr>\n",
              "      <td>2500</td>\n",
              "      <td>5.819600</td>\n",
              "    </tr>\n",
              "    <tr>\n",
              "      <td>3000</td>\n",
              "      <td>5.814700</td>\n",
              "    </tr>\n",
              "    <tr>\n",
              "      <td>3500</td>\n",
              "      <td>5.805900</td>\n",
              "    </tr>\n",
              "    <tr>\n",
              "      <td>4000</td>\n",
              "      <td>5.795500</td>\n",
              "    </tr>\n",
              "    <tr>\n",
              "      <td>4500</td>\n",
              "      <td>5.789300</td>\n",
              "    </tr>\n",
              "    <tr>\n",
              "      <td>5000</td>\n",
              "      <td>5.794100</td>\n",
              "    </tr>\n",
              "    <tr>\n",
              "      <td>5500</td>\n",
              "      <td>5.793400</td>\n",
              "    </tr>\n",
              "    <tr>\n",
              "      <td>6000</td>\n",
              "      <td>5.793700</td>\n",
              "    </tr>\n",
              "    <tr>\n",
              "      <td>6500</td>\n",
              "      <td>5.787900</td>\n",
              "    </tr>\n",
              "    <tr>\n",
              "      <td>7000</td>\n",
              "      <td>5.781300</td>\n",
              "    </tr>\n",
              "    <tr>\n",
              "      <td>7500</td>\n",
              "      <td>5.797700</td>\n",
              "    </tr>\n",
              "    <tr>\n",
              "      <td>8000</td>\n",
              "      <td>5.801600</td>\n",
              "    </tr>\n",
              "    <tr>\n",
              "      <td>8500</td>\n",
              "      <td>5.799700</td>\n",
              "    </tr>\n",
              "    <tr>\n",
              "      <td>9000</td>\n",
              "      <td>5.794900</td>\n",
              "    </tr>\n",
              "    <tr>\n",
              "      <td>9500</td>\n",
              "      <td>5.795700</td>\n",
              "    </tr>\n",
              "    <tr>\n",
              "      <td>10000</td>\n",
              "      <td>5.793500</td>\n",
              "    </tr>\n",
              "    <tr>\n",
              "      <td>10500</td>\n",
              "      <td>5.780400</td>\n",
              "    </tr>\n",
              "    <tr>\n",
              "      <td>11000</td>\n",
              "      <td>5.774900</td>\n",
              "    </tr>\n",
              "    <tr>\n",
              "      <td>11500</td>\n",
              "      <td>5.782500</td>\n",
              "    </tr>\n",
              "    <tr>\n",
              "      <td>12000</td>\n",
              "      <td>5.780500</td>\n",
              "    </tr>\n",
              "    <tr>\n",
              "      <td>12500</td>\n",
              "      <td>5.779500</td>\n",
              "    </tr>\n",
              "    <tr>\n",
              "      <td>13000</td>\n",
              "      <td>5.775600</td>\n",
              "    </tr>\n",
              "    <tr>\n",
              "      <td>13500</td>\n",
              "      <td>5.777400</td>\n",
              "    </tr>\n",
              "    <tr>\n",
              "      <td>14000</td>\n",
              "      <td>5.772100</td>\n",
              "    </tr>\n",
              "    <tr>\n",
              "      <td>14500</td>\n",
              "      <td>5.774000</td>\n",
              "    </tr>\n",
              "    <tr>\n",
              "      <td>15000</td>\n",
              "      <td>5.769900</td>\n",
              "    </tr>\n",
              "    <tr>\n",
              "      <td>15500</td>\n",
              "      <td>5.759900</td>\n",
              "    </tr>\n",
              "    <tr>\n",
              "      <td>16000</td>\n",
              "      <td>5.771100</td>\n",
              "    </tr>\n",
              "    <tr>\n",
              "      <td>16500</td>\n",
              "      <td>5.769000</td>\n",
              "    </tr>\n",
              "    <tr>\n",
              "      <td>17000</td>\n",
              "      <td>5.750900</td>\n",
              "    </tr>\n",
              "    <tr>\n",
              "      <td>17500</td>\n",
              "      <td>5.761400</td>\n",
              "    </tr>\n",
              "    <tr>\n",
              "      <td>18000</td>\n",
              "      <td>5.763200</td>\n",
              "    </tr>\n",
              "    <tr>\n",
              "      <td>18500</td>\n",
              "      <td>5.755300</td>\n",
              "    </tr>\n",
              "    <tr>\n",
              "      <td>19000</td>\n",
              "      <td>5.760700</td>\n",
              "    </tr>\n",
              "    <tr>\n",
              "      <td>19500</td>\n",
              "      <td>5.756000</td>\n",
              "    </tr>\n",
              "    <tr>\n",
              "      <td>20000</td>\n",
              "      <td>5.755100</td>\n",
              "    </tr>\n",
              "    <tr>\n",
              "      <td>20500</td>\n",
              "      <td>5.746600</td>\n",
              "    </tr>\n",
              "    <tr>\n",
              "      <td>21000</td>\n",
              "      <td>5.752800</td>\n",
              "    </tr>\n",
              "    <tr>\n",
              "      <td>21500</td>\n",
              "      <td>5.746600</td>\n",
              "    </tr>\n",
              "    <tr>\n",
              "      <td>22000</td>\n",
              "      <td>5.760200</td>\n",
              "    </tr>\n",
              "    <tr>\n",
              "      <td>22500</td>\n",
              "      <td>5.756200</td>\n",
              "    </tr>\n",
              "    <tr>\n",
              "      <td>23000</td>\n",
              "      <td>5.744600</td>\n",
              "    </tr>\n",
              "    <tr>\n",
              "      <td>23500</td>\n",
              "      <td>5.746300</td>\n",
              "    </tr>\n",
              "    <tr>\n",
              "      <td>24000</td>\n",
              "      <td>5.751200</td>\n",
              "    </tr>\n",
              "    <tr>\n",
              "      <td>24500</td>\n",
              "      <td>5.742500</td>\n",
              "    </tr>\n",
              "    <tr>\n",
              "      <td>25000</td>\n",
              "      <td>5.738500</td>\n",
              "    </tr>\n",
              "    <tr>\n",
              "      <td>25500</td>\n",
              "      <td>5.744300</td>\n",
              "    </tr>\n",
              "    <tr>\n",
              "      <td>26000</td>\n",
              "      <td>5.744400</td>\n",
              "    </tr>\n",
              "    <tr>\n",
              "      <td>26500</td>\n",
              "      <td>5.743300</td>\n",
              "    </tr>\n",
              "    <tr>\n",
              "      <td>27000</td>\n",
              "      <td>5.744200</td>\n",
              "    </tr>\n",
              "    <tr>\n",
              "      <td>27500</td>\n",
              "      <td>5.740000</td>\n",
              "    </tr>\n",
              "    <tr>\n",
              "      <td>28000</td>\n",
              "      <td>5.739400</td>\n",
              "    </tr>\n",
              "    <tr>\n",
              "      <td>28500</td>\n",
              "      <td>5.738500</td>\n",
              "    </tr>\n",
              "    <tr>\n",
              "      <td>29000</td>\n",
              "      <td>5.738600</td>\n",
              "    </tr>\n",
              "  </tbody>\n",
              "</table><p>"
            ]
          },
          "metadata": {}
        }
      ]
    },
    {
      "cell_type": "code",
      "source": [
        "results"
      ],
      "metadata": {
        "colab": {
          "base_uri": "https://localhost:8080/"
        },
        "id": "lNZSHY4SodA2",
        "outputId": "a3c1e636-4343-4b6d-edc5-5b2d632074bc"
      },
      "execution_count": null,
      "outputs": [
        {
          "output_type": "execute_result",
          "data": {
            "text/plain": [
              "TrainOutput(global_step=29295, training_loss=5.773834108716291, metrics={'train_runtime': 7198.2966, 'train_samples_per_second': 32.558, 'train_steps_per_second': 4.07, 'total_flos': 7794712146493440.0, 'train_loss': 5.773834108716291, 'epoch': 1.0})"
            ]
          },
          "metadata": {},
          "execution_count": 54
        }
      ]
    },
    {
      "cell_type": "code",
      "source": [
        "!zip -r /content/checkpoint-29295.zip /content/out/checkpoint-29295/"
      ],
      "metadata": {
        "colab": {
          "base_uri": "https://localhost:8080/"
        },
        "id": "5VLee214MnIy",
        "outputId": "1d049ac2-b709-452a-8172-af4ea94ec640"
      },
      "execution_count": null,
      "outputs": [
        {
          "output_type": "stream",
          "name": "stdout",
          "text": [
            "  adding: content/out/checkpoint-29295/ (stored 0%)\n",
            "  adding: content/out/checkpoint-29295/scheduler.pt (deflated 56%)\n",
            "  adding: content/out/checkpoint-29295/training_args.bin (deflated 52%)\n",
            "  adding: content/out/checkpoint-29295/optimizer.pt (deflated 8%)\n",
            "  adding: content/out/checkpoint-29295/config.json (deflated 47%)\n",
            "  adding: content/out/checkpoint-29295/rng_state.pth (deflated 25%)\n",
            "  adding: content/out/checkpoint-29295/model.safetensors (deflated 7%)\n",
            "  adding: content/out/checkpoint-29295/generation_config.json (deflated 8%)\n",
            "  adding: content/out/checkpoint-29295/trainer_state.json (deflated 75%)\n"
          ]
        }
      ]
    },
    {
      "cell_type": "markdown",
      "source": [
        "Load back the saved model checkpoints:"
      ],
      "metadata": {
        "id": "b8Uiawm14q2q"
      }
    },
    {
      "cell_type": "code",
      "source": [
        "!unzip checkpoint-29295.zip"
      ],
      "metadata": {
        "colab": {
          "base_uri": "https://localhost:8080/"
        },
        "id": "u4STbgyS4gyW",
        "outputId": "c8afc82e-c990-4c98-894d-21c89f70cc40"
      },
      "execution_count": 106,
      "outputs": [
        {
          "output_type": "stream",
          "name": "stdout",
          "text": [
            "Archive:  checkpoint-29295.zip\n",
            "   creating: checkpoint-29295/\n",
            "  inflating: checkpoint-29295/scheduler.pt  \n",
            "  inflating: checkpoint-29295/training_args.bin  \n",
            "  inflating: checkpoint-29295/optimizer.pt  \n",
            "  inflating: checkpoint-29295/config.json  \n",
            "  inflating: checkpoint-29295/rng_state.pth  \n",
            "  inflating: checkpoint-29295/model.safetensors  \n",
            "  inflating: checkpoint-29295/generation_config.json  \n",
            "  inflating: checkpoint-29295/trainer_state.json  \n"
          ]
        }
      ]
    },
    {
      "cell_type": "markdown",
      "source": [
        "**Q8.** Test whether the model can fill in the blank (masked words) with suitable words."
      ],
      "metadata": {
        "id": "plCFi7QG5qDr"
      }
    },
    {
      "cell_type": "code",
      "source": [
        "model = BertForMaskedLM.from_pretrained('/content/checkpoint-29295')\n",
        "\n",
        "text = \"This is really a [MASK] experience for all of [MASK]\"\n",
        "inputs = bert_tokenizer(text, return_tensors=\"pt\")\n",
        "token_logits = model(**inputs).logits\n",
        "\n",
        "# Find the location of [MASK] and extract its logits\n",
        "mask_token_index =   torch.where(inputs[\"input_ids\"] == bert_tokenizer.mask_token_id)[1]\n",
        "mask_token_logits = token_logits[0, mask_token_index, :]\n",
        "\n",
        "# Pick the [MASK] candidates with the highest logits\n",
        "top_5_tokens =   torch.topk(mask_token_logits, 5, dim=1).indices[0].tolist()\n",
        "\n",
        "for token in top_5_tokens:\n",
        "    print(f\"'>>> {text.replace(bert_tokenizer.mask_token, bert_tokenizer.decode([token]))}'\")"
      ],
      "metadata": {
        "colab": {
          "base_uri": "https://localhost:8080/"
        },
        "id": "T4kaTdI04wzN",
        "outputId": "060224d3-51cf-43d2-a3bb-9bba8b93ff6d"
      },
      "execution_count": 109,
      "outputs": [
        {
          "output_type": "stream",
          "name": "stdout",
          "text": [
            "'>>> This is really a . experience for all of .'\n",
            "'>>> This is really a the experience for all of the'\n",
            "'>>> This is really a and experience for all of and'\n",
            "'>>> This is really a i experience for all of i'\n",
            "'>>> This is really a a experience for all of a'\n"
          ]
        }
      ]
    },
    {
      "cell_type": "code",
      "source": [
        "for token in top_5_tokens:\n",
        "    print(bert_tokenizer.decode(token))"
      ],
      "metadata": {
        "colab": {
          "base_uri": "https://localhost:8080/"
        },
        "id": "2X_bgXBZ49vu",
        "outputId": "5798cd02-b46c-44c4-8852-7ac4d76dbc07"
      },
      "execution_count": 112,
      "outputs": [
        {
          "output_type": "stream",
          "name": "stdout",
          "text": [
            ".\n",
            "the\n",
            "and\n",
            "i\n",
            "a\n"
          ]
        }
      ]
    },
    {
      "cell_type": "markdown",
      "source": [
        "As you can see, the trained model is pretty awful at predicting the masked word!\n",
        "\n",
        "The original bert model works much better, though i can't get it to work correctly when there are multiple masked tokens in a sample."
      ],
      "metadata": {
        "id": "GoCnoJd35tux"
      }
    },
    {
      "cell_type": "code",
      "source": [
        "from transformers import pipeline\n",
        "\n",
        "unmasker = pipeline('fill-mask', model='google-bert/bert-base-uncased', top_k=5)\n",
        "unmasker(\"This is really a [MASK] experience\")"
      ],
      "metadata": {
        "colab": {
          "base_uri": "https://localhost:8080/"
        },
        "id": "uQi3hT065y4H",
        "outputId": "43b0ffa0-32e9-476d-9aff-ea226abe2c92"
      },
      "execution_count": 125,
      "outputs": [
        {
          "output_type": "stream",
          "name": "stderr",
          "text": [
            "Some weights of the model checkpoint at google-bert/bert-base-uncased were not used when initializing BertForMaskedLM: ['bert.pooler.dense.bias', 'bert.pooler.dense.weight', 'cls.seq_relationship.bias', 'cls.seq_relationship.weight']\n",
            "- This IS expected if you are initializing BertForMaskedLM from the checkpoint of a model trained on another task or with another architecture (e.g. initializing a BertForSequenceClassification model from a BertForPreTraining model).\n",
            "- This IS NOT expected if you are initializing BertForMaskedLM from the checkpoint of a model that you expect to be exactly identical (initializing a BertForSequenceClassification model from a BertForSequenceClassification model).\n",
            "Hardware accelerator e.g. GPU is available in the environment, but no `device` argument is passed to the `Pipeline` object. Model will be on CPU.\n"
          ]
        },
        {
          "output_type": "execute_result",
          "data": {
            "text/plain": [
              "[{'score': 0.17383423447608948,\n",
              "  'token': 2307,\n",
              "  'token_str': 'great',\n",
              "  'sequence': 'this is really a great experience'},\n",
              " {'score': 0.10434883832931519,\n",
              "  'token': 2204,\n",
              "  'token_str': 'good',\n",
              "  'sequence': 'this is really a good experience'},\n",
              " {'score': 0.07174485921859741,\n",
              "  'token': 6919,\n",
              "  'token_str': 'wonderful',\n",
              "  'sequence': 'this is really a wonderful experience'},\n",
              " {'score': 0.050753720104694366,\n",
              "  'token': 2047,\n",
              "  'token_str': 'new',\n",
              "  'sequence': 'this is really a new experience'},\n",
              " {'score': 0.04450811818242073,\n",
              "  'token': 4310,\n",
              "  'token_str': 'unique',\n",
              "  'sequence': 'this is really a unique experience'}]"
            ]
          },
          "metadata": {},
          "execution_count": 125
        }
      ]
    },
    {
      "cell_type": "markdown",
      "source": [
        "Can't get it to work right with multiple masked tokens for some reason. It just predicts for the first masked token, not the second one."
      ],
      "metadata": {
        "id": "a_2gcRBz85RT"
      }
    },
    {
      "cell_type": "code",
      "source": [
        "unmasker(\"This is really a [MASK] experience for all of [MASK]\", top_k = 4)"
      ],
      "metadata": {
        "colab": {
          "base_uri": "https://localhost:8080/"
        },
        "id": "anJ894uN8lGt",
        "outputId": "b9c60dab-8439-4629-f433-29ba04e9eee2"
      },
      "execution_count": 130,
      "outputs": [
        {
          "output_type": "execute_result",
          "data": {
            "text/plain": [
              "[[{'score': 0.22067567706108093,\n",
              "   'token': 2307,\n",
              "   'token_str': 'great',\n",
              "   'sequence': '[CLS] this is really a great experience for all of [MASK] [SEP]'},\n",
              "  {'score': 0.18271343410015106,\n",
              "   'token': 2047,\n",
              "   'token_str': 'new',\n",
              "   'sequence': '[CLS] this is really a new experience for all of [MASK] [SEP]'},\n",
              "  {'score': 0.10692112892866135,\n",
              "   'token': 2204,\n",
              "   'token_str': 'good',\n",
              "   'sequence': '[CLS] this is really a good experience for all of [MASK] [SEP]'},\n",
              "  {'score': 0.09378966689109802,\n",
              "   'token': 6919,\n",
              "   'token_str': 'wonderful',\n",
              "   'sequence': '[CLS] this is really a wonderful experience for all of [MASK] [SEP]'}],\n",
              " [{'score': 0.9546255469322205,\n",
              "   'token': 1012,\n",
              "   'token_str': '.',\n",
              "   'sequence': '[CLS] this is really a [MASK] experience for all of. [SEP]'},\n",
              "  {'score': 0.02276822179555893,\n",
              "   'token': 1025,\n",
              "   'token_str': ';',\n",
              "   'sequence': '[CLS] this is really a [MASK] experience for all of ; [SEP]'},\n",
              "  {'score': 0.02020999975502491,\n",
              "   'token': 999,\n",
              "   'token_str': '!',\n",
              "   'sequence': '[CLS] this is really a [MASK] experience for all of! [SEP]'},\n",
              "  {'score': 0.0014615285908803344,\n",
              "   'token': 1029,\n",
              "   'token_str': '?',\n",
              "   'sequence': '[CLS] this is really a [MASK] experience for all of? [SEP]'}]]"
            ]
          },
          "metadata": {},
          "execution_count": 130
        }
      ]
    }
  ]
}