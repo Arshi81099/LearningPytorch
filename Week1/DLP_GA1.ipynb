{
  "nbformat": 4,
  "nbformat_minor": 0,
  "metadata": {
    "colab": {
      "provenance": [],
      "authorship_tag": "ABX9TyMf0qeUJifxNNjtvrvUasx4",
      "include_colab_link": true
    },
    "kernelspec": {
      "name": "python3",
      "display_name": "Python 3"
    },
    "language_info": {
      "name": "python"
    },
    "widgets": {
      "application/vnd.jupyter.widget-state+json": {
        "823950c416e04eafa0f16bac2f8495e9": {
          "model_module": "@jupyter-widgets/controls",
          "model_name": "HBoxModel",
          "model_module_version": "1.5.0",
          "state": {
            "_dom_classes": [],
            "_model_module": "@jupyter-widgets/controls",
            "_model_module_version": "1.5.0",
            "_model_name": "HBoxModel",
            "_view_count": null,
            "_view_module": "@jupyter-widgets/controls",
            "_view_module_version": "1.5.0",
            "_view_name": "HBoxView",
            "box_style": "",
            "children": [
              "IPY_MODEL_dd5396b7fae243ecb37659f39bff4dde",
              "IPY_MODEL_337914c11e314aff9140913689c906ac",
              "IPY_MODEL_e34a388e7cf84fc69442fe9aadd6dfee"
            ],
            "layout": "IPY_MODEL_961e02f60773459693927813760e54bf"
          }
        },
        "dd5396b7fae243ecb37659f39bff4dde": {
          "model_module": "@jupyter-widgets/controls",
          "model_name": "HTMLModel",
          "model_module_version": "1.5.0",
          "state": {
            "_dom_classes": [],
            "_model_module": "@jupyter-widgets/controls",
            "_model_module_version": "1.5.0",
            "_model_name": "HTMLModel",
            "_view_count": null,
            "_view_module": "@jupyter-widgets/controls",
            "_view_module_version": "1.5.0",
            "_view_name": "HTMLView",
            "description": "",
            "description_tooltip": null,
            "layout": "IPY_MODEL_afe07feb2a2a4a9787e9b1e6f4b8378a",
            "placeholder": "​",
            "style": "IPY_MODEL_d7f042a459ba40068cbef6ba3a821cb7",
            "value": "Map: 100%"
          }
        },
        "337914c11e314aff9140913689c906ac": {
          "model_module": "@jupyter-widgets/controls",
          "model_name": "FloatProgressModel",
          "model_module_version": "1.5.0",
          "state": {
            "_dom_classes": [],
            "_model_module": "@jupyter-widgets/controls",
            "_model_module_version": "1.5.0",
            "_model_name": "FloatProgressModel",
            "_view_count": null,
            "_view_module": "@jupyter-widgets/controls",
            "_view_module_version": "1.5.0",
            "_view_name": "ProgressView",
            "bar_style": "success",
            "description": "",
            "description_tooltip": null,
            "layout": "IPY_MODEL_7f31557ddfbc473183794d30e2a59fd8",
            "max": 497882,
            "min": 0,
            "orientation": "horizontal",
            "style": "IPY_MODEL_05d8b3065a764e4a99790e0501888c61",
            "value": 497882
          }
        },
        "e34a388e7cf84fc69442fe9aadd6dfee": {
          "model_module": "@jupyter-widgets/controls",
          "model_name": "HTMLModel",
          "model_module_version": "1.5.0",
          "state": {
            "_dom_classes": [],
            "_model_module": "@jupyter-widgets/controls",
            "_model_module_version": "1.5.0",
            "_model_name": "HTMLModel",
            "_view_count": null,
            "_view_module": "@jupyter-widgets/controls",
            "_view_module_version": "1.5.0",
            "_view_name": "HTMLView",
            "description": "",
            "description_tooltip": null,
            "layout": "IPY_MODEL_26f5c217543a4dbbb3f6a11bcb758099",
            "placeholder": "​",
            "style": "IPY_MODEL_b752dc6e14b4474e87dcdbdb9a6dc049",
            "value": " 497882/497882 [00:46&lt;00:00, 12505.18 examples/s]"
          }
        },
        "961e02f60773459693927813760e54bf": {
          "model_module": "@jupyter-widgets/base",
          "model_name": "LayoutModel",
          "model_module_version": "1.2.0",
          "state": {
            "_model_module": "@jupyter-widgets/base",
            "_model_module_version": "1.2.0",
            "_model_name": "LayoutModel",
            "_view_count": null,
            "_view_module": "@jupyter-widgets/base",
            "_view_module_version": "1.2.0",
            "_view_name": "LayoutView",
            "align_content": null,
            "align_items": null,
            "align_self": null,
            "border": null,
            "bottom": null,
            "display": null,
            "flex": null,
            "flex_flow": null,
            "grid_area": null,
            "grid_auto_columns": null,
            "grid_auto_flow": null,
            "grid_auto_rows": null,
            "grid_column": null,
            "grid_gap": null,
            "grid_row": null,
            "grid_template_areas": null,
            "grid_template_columns": null,
            "grid_template_rows": null,
            "height": null,
            "justify_content": null,
            "justify_items": null,
            "left": null,
            "margin": null,
            "max_height": null,
            "max_width": null,
            "min_height": null,
            "min_width": null,
            "object_fit": null,
            "object_position": null,
            "order": null,
            "overflow": null,
            "overflow_x": null,
            "overflow_y": null,
            "padding": null,
            "right": null,
            "top": null,
            "visibility": null,
            "width": null
          }
        },
        "afe07feb2a2a4a9787e9b1e6f4b8378a": {
          "model_module": "@jupyter-widgets/base",
          "model_name": "LayoutModel",
          "model_module_version": "1.2.0",
          "state": {
            "_model_module": "@jupyter-widgets/base",
            "_model_module_version": "1.2.0",
            "_model_name": "LayoutModel",
            "_view_count": null,
            "_view_module": "@jupyter-widgets/base",
            "_view_module_version": "1.2.0",
            "_view_name": "LayoutView",
            "align_content": null,
            "align_items": null,
            "align_self": null,
            "border": null,
            "bottom": null,
            "display": null,
            "flex": null,
            "flex_flow": null,
            "grid_area": null,
            "grid_auto_columns": null,
            "grid_auto_flow": null,
            "grid_auto_rows": null,
            "grid_column": null,
            "grid_gap": null,
            "grid_row": null,
            "grid_template_areas": null,
            "grid_template_columns": null,
            "grid_template_rows": null,
            "height": null,
            "justify_content": null,
            "justify_items": null,
            "left": null,
            "margin": null,
            "max_height": null,
            "max_width": null,
            "min_height": null,
            "min_width": null,
            "object_fit": null,
            "object_position": null,
            "order": null,
            "overflow": null,
            "overflow_x": null,
            "overflow_y": null,
            "padding": null,
            "right": null,
            "top": null,
            "visibility": null,
            "width": null
          }
        },
        "d7f042a459ba40068cbef6ba3a821cb7": {
          "model_module": "@jupyter-widgets/controls",
          "model_name": "DescriptionStyleModel",
          "model_module_version": "1.5.0",
          "state": {
            "_model_module": "@jupyter-widgets/controls",
            "_model_module_version": "1.5.0",
            "_model_name": "DescriptionStyleModel",
            "_view_count": null,
            "_view_module": "@jupyter-widgets/base",
            "_view_module_version": "1.2.0",
            "_view_name": "StyleView",
            "description_width": ""
          }
        },
        "7f31557ddfbc473183794d30e2a59fd8": {
          "model_module": "@jupyter-widgets/base",
          "model_name": "LayoutModel",
          "model_module_version": "1.2.0",
          "state": {
            "_model_module": "@jupyter-widgets/base",
            "_model_module_version": "1.2.0",
            "_model_name": "LayoutModel",
            "_view_count": null,
            "_view_module": "@jupyter-widgets/base",
            "_view_module_version": "1.2.0",
            "_view_name": "LayoutView",
            "align_content": null,
            "align_items": null,
            "align_self": null,
            "border": null,
            "bottom": null,
            "display": null,
            "flex": null,
            "flex_flow": null,
            "grid_area": null,
            "grid_auto_columns": null,
            "grid_auto_flow": null,
            "grid_auto_rows": null,
            "grid_column": null,
            "grid_gap": null,
            "grid_row": null,
            "grid_template_areas": null,
            "grid_template_columns": null,
            "grid_template_rows": null,
            "height": null,
            "justify_content": null,
            "justify_items": null,
            "left": null,
            "margin": null,
            "max_height": null,
            "max_width": null,
            "min_height": null,
            "min_width": null,
            "object_fit": null,
            "object_position": null,
            "order": null,
            "overflow": null,
            "overflow_x": null,
            "overflow_y": null,
            "padding": null,
            "right": null,
            "top": null,
            "visibility": null,
            "width": null
          }
        },
        "05d8b3065a764e4a99790e0501888c61": {
          "model_module": "@jupyter-widgets/controls",
          "model_name": "ProgressStyleModel",
          "model_module_version": "1.5.0",
          "state": {
            "_model_module": "@jupyter-widgets/controls",
            "_model_module_version": "1.5.0",
            "_model_name": "ProgressStyleModel",
            "_view_count": null,
            "_view_module": "@jupyter-widgets/base",
            "_view_module_version": "1.2.0",
            "_view_name": "StyleView",
            "bar_color": null,
            "description_width": ""
          }
        },
        "26f5c217543a4dbbb3f6a11bcb758099": {
          "model_module": "@jupyter-widgets/base",
          "model_name": "LayoutModel",
          "model_module_version": "1.2.0",
          "state": {
            "_model_module": "@jupyter-widgets/base",
            "_model_module_version": "1.2.0",
            "_model_name": "LayoutModel",
            "_view_count": null,
            "_view_module": "@jupyter-widgets/base",
            "_view_module_version": "1.2.0",
            "_view_name": "LayoutView",
            "align_content": null,
            "align_items": null,
            "align_self": null,
            "border": null,
            "bottom": null,
            "display": null,
            "flex": null,
            "flex_flow": null,
            "grid_area": null,
            "grid_auto_columns": null,
            "grid_auto_flow": null,
            "grid_auto_rows": null,
            "grid_column": null,
            "grid_gap": null,
            "grid_row": null,
            "grid_template_areas": null,
            "grid_template_columns": null,
            "grid_template_rows": null,
            "height": null,
            "justify_content": null,
            "justify_items": null,
            "left": null,
            "margin": null,
            "max_height": null,
            "max_width": null,
            "min_height": null,
            "min_width": null,
            "object_fit": null,
            "object_position": null,
            "order": null,
            "overflow": null,
            "overflow_x": null,
            "overflow_y": null,
            "padding": null,
            "right": null,
            "top": null,
            "visibility": null,
            "width": null
          }
        },
        "b752dc6e14b4474e87dcdbdb9a6dc049": {
          "model_module": "@jupyter-widgets/controls",
          "model_name": "DescriptionStyleModel",
          "model_module_version": "1.5.0",
          "state": {
            "_model_module": "@jupyter-widgets/controls",
            "_model_module_version": "1.5.0",
            "_model_name": "DescriptionStyleModel",
            "_view_count": null,
            "_view_module": "@jupyter-widgets/base",
            "_view_module_version": "1.2.0",
            "_view_name": "StyleView",
            "description_width": ""
          }
        },
        "561eaa9b138b4a0c810d4d92775b8cba": {
          "model_module": "@jupyter-widgets/controls",
          "model_name": "HBoxModel",
          "model_module_version": "1.5.0",
          "state": {
            "_dom_classes": [],
            "_model_module": "@jupyter-widgets/controls",
            "_model_module_version": "1.5.0",
            "_model_name": "HBoxModel",
            "_view_count": null,
            "_view_module": "@jupyter-widgets/controls",
            "_view_module_version": "1.5.0",
            "_view_name": "HBoxView",
            "box_style": "",
            "children": [
              "IPY_MODEL_5735f204f6b5421698e828d17889bc2c",
              "IPY_MODEL_479d86f3fe2748c98d2a7b2bdfcfed8d",
              "IPY_MODEL_d00864b65c9846eb8e42dd3513ff3a69"
            ],
            "layout": "IPY_MODEL_853667b0e1484bc496dd43e2c17f7070"
          }
        },
        "5735f204f6b5421698e828d17889bc2c": {
          "model_module": "@jupyter-widgets/controls",
          "model_name": "HTMLModel",
          "model_module_version": "1.5.0",
          "state": {
            "_dom_classes": [],
            "_model_module": "@jupyter-widgets/controls",
            "_model_module_version": "1.5.0",
            "_model_name": "HTMLModel",
            "_view_count": null,
            "_view_module": "@jupyter-widgets/controls",
            "_view_module_version": "1.5.0",
            "_view_name": "HTMLView",
            "description": "",
            "description_tooltip": null,
            "layout": "IPY_MODEL_e9f0c148ec9545b4be609975813509cb",
            "placeholder": "​",
            "style": "IPY_MODEL_e41d0baf1181482a96339ff4079c81e2",
            "value": "Map: 100%"
          }
        },
        "479d86f3fe2748c98d2a7b2bdfcfed8d": {
          "model_module": "@jupyter-widgets/controls",
          "model_name": "FloatProgressModel",
          "model_module_version": "1.5.0",
          "state": {
            "_dom_classes": [],
            "_model_module": "@jupyter-widgets/controls",
            "_model_module_version": "1.5.0",
            "_model_name": "FloatProgressModel",
            "_view_count": null,
            "_view_module": "@jupyter-widgets/controls",
            "_view_module_version": "1.5.0",
            "_view_name": "ProgressView",
            "bar_style": "success",
            "description": "",
            "description_tooltip": null,
            "layout": "IPY_MODEL_a56914ca8c3a4948954fdaf1b86c5434",
            "max": 758,
            "min": 0,
            "orientation": "horizontal",
            "style": "IPY_MODEL_8df163074c49443783296651a337af91",
            "value": 758
          }
        },
        "d00864b65c9846eb8e42dd3513ff3a69": {
          "model_module": "@jupyter-widgets/controls",
          "model_name": "HTMLModel",
          "model_module_version": "1.5.0",
          "state": {
            "_dom_classes": [],
            "_model_module": "@jupyter-widgets/controls",
            "_model_module_version": "1.5.0",
            "_model_name": "HTMLModel",
            "_view_count": null,
            "_view_module": "@jupyter-widgets/controls",
            "_view_module_version": "1.5.0",
            "_view_name": "HTMLView",
            "description": "",
            "description_tooltip": null,
            "layout": "IPY_MODEL_bdd0115718ba42de958c513abe0038f5",
            "placeholder": "​",
            "style": "IPY_MODEL_198322fe65cc41e58564548b1e32237c",
            "value": " 758/758 [00:00&lt;00:00, 7571.09 examples/s]"
          }
        },
        "853667b0e1484bc496dd43e2c17f7070": {
          "model_module": "@jupyter-widgets/base",
          "model_name": "LayoutModel",
          "model_module_version": "1.2.0",
          "state": {
            "_model_module": "@jupyter-widgets/base",
            "_model_module_version": "1.2.0",
            "_model_name": "LayoutModel",
            "_view_count": null,
            "_view_module": "@jupyter-widgets/base",
            "_view_module_version": "1.2.0",
            "_view_name": "LayoutView",
            "align_content": null,
            "align_items": null,
            "align_self": null,
            "border": null,
            "bottom": null,
            "display": null,
            "flex": null,
            "flex_flow": null,
            "grid_area": null,
            "grid_auto_columns": null,
            "grid_auto_flow": null,
            "grid_auto_rows": null,
            "grid_column": null,
            "grid_gap": null,
            "grid_row": null,
            "grid_template_areas": null,
            "grid_template_columns": null,
            "grid_template_rows": null,
            "height": null,
            "justify_content": null,
            "justify_items": null,
            "left": null,
            "margin": null,
            "max_height": null,
            "max_width": null,
            "min_height": null,
            "min_width": null,
            "object_fit": null,
            "object_position": null,
            "order": null,
            "overflow": null,
            "overflow_x": null,
            "overflow_y": null,
            "padding": null,
            "right": null,
            "top": null,
            "visibility": null,
            "width": null
          }
        },
        "e9f0c148ec9545b4be609975813509cb": {
          "model_module": "@jupyter-widgets/base",
          "model_name": "LayoutModel",
          "model_module_version": "1.2.0",
          "state": {
            "_model_module": "@jupyter-widgets/base",
            "_model_module_version": "1.2.0",
            "_model_name": "LayoutModel",
            "_view_count": null,
            "_view_module": "@jupyter-widgets/base",
            "_view_module_version": "1.2.0",
            "_view_name": "LayoutView",
            "align_content": null,
            "align_items": null,
            "align_self": null,
            "border": null,
            "bottom": null,
            "display": null,
            "flex": null,
            "flex_flow": null,
            "grid_area": null,
            "grid_auto_columns": null,
            "grid_auto_flow": null,
            "grid_auto_rows": null,
            "grid_column": null,
            "grid_gap": null,
            "grid_row": null,
            "grid_template_areas": null,
            "grid_template_columns": null,
            "grid_template_rows": null,
            "height": null,
            "justify_content": null,
            "justify_items": null,
            "left": null,
            "margin": null,
            "max_height": null,
            "max_width": null,
            "min_height": null,
            "min_width": null,
            "object_fit": null,
            "object_position": null,
            "order": null,
            "overflow": null,
            "overflow_x": null,
            "overflow_y": null,
            "padding": null,
            "right": null,
            "top": null,
            "visibility": null,
            "width": null
          }
        },
        "e41d0baf1181482a96339ff4079c81e2": {
          "model_module": "@jupyter-widgets/controls",
          "model_name": "DescriptionStyleModel",
          "model_module_version": "1.5.0",
          "state": {
            "_model_module": "@jupyter-widgets/controls",
            "_model_module_version": "1.5.0",
            "_model_name": "DescriptionStyleModel",
            "_view_count": null,
            "_view_module": "@jupyter-widgets/base",
            "_view_module_version": "1.2.0",
            "_view_name": "StyleView",
            "description_width": ""
          }
        },
        "a56914ca8c3a4948954fdaf1b86c5434": {
          "model_module": "@jupyter-widgets/base",
          "model_name": "LayoutModel",
          "model_module_version": "1.2.0",
          "state": {
            "_model_module": "@jupyter-widgets/base",
            "_model_module_version": "1.2.0",
            "_model_name": "LayoutModel",
            "_view_count": null,
            "_view_module": "@jupyter-widgets/base",
            "_view_module_version": "1.2.0",
            "_view_name": "LayoutView",
            "align_content": null,
            "align_items": null,
            "align_self": null,
            "border": null,
            "bottom": null,
            "display": null,
            "flex": null,
            "flex_flow": null,
            "grid_area": null,
            "grid_auto_columns": null,
            "grid_auto_flow": null,
            "grid_auto_rows": null,
            "grid_column": null,
            "grid_gap": null,
            "grid_row": null,
            "grid_template_areas": null,
            "grid_template_columns": null,
            "grid_template_rows": null,
            "height": null,
            "justify_content": null,
            "justify_items": null,
            "left": null,
            "margin": null,
            "max_height": null,
            "max_width": null,
            "min_height": null,
            "min_width": null,
            "object_fit": null,
            "object_position": null,
            "order": null,
            "overflow": null,
            "overflow_x": null,
            "overflow_y": null,
            "padding": null,
            "right": null,
            "top": null,
            "visibility": null,
            "width": null
          }
        },
        "8df163074c49443783296651a337af91": {
          "model_module": "@jupyter-widgets/controls",
          "model_name": "ProgressStyleModel",
          "model_module_version": "1.5.0",
          "state": {
            "_model_module": "@jupyter-widgets/controls",
            "_model_module_version": "1.5.0",
            "_model_name": "ProgressStyleModel",
            "_view_count": null,
            "_view_module": "@jupyter-widgets/base",
            "_view_module_version": "1.2.0",
            "_view_name": "StyleView",
            "bar_color": null,
            "description_width": ""
          }
        },
        "bdd0115718ba42de958c513abe0038f5": {
          "model_module": "@jupyter-widgets/base",
          "model_name": "LayoutModel",
          "model_module_version": "1.2.0",
          "state": {
            "_model_module": "@jupyter-widgets/base",
            "_model_module_version": "1.2.0",
            "_model_name": "LayoutModel",
            "_view_count": null,
            "_view_module": "@jupyter-widgets/base",
            "_view_module_version": "1.2.0",
            "_view_name": "LayoutView",
            "align_content": null,
            "align_items": null,
            "align_self": null,
            "border": null,
            "bottom": null,
            "display": null,
            "flex": null,
            "flex_flow": null,
            "grid_area": null,
            "grid_auto_columns": null,
            "grid_auto_flow": null,
            "grid_auto_rows": null,
            "grid_column": null,
            "grid_gap": null,
            "grid_row": null,
            "grid_template_areas": null,
            "grid_template_columns": null,
            "grid_template_rows": null,
            "height": null,
            "justify_content": null,
            "justify_items": null,
            "left": null,
            "margin": null,
            "max_height": null,
            "max_width": null,
            "min_height": null,
            "min_width": null,
            "object_fit": null,
            "object_position": null,
            "order": null,
            "overflow": null,
            "overflow_x": null,
            "overflow_y": null,
            "padding": null,
            "right": null,
            "top": null,
            "visibility": null,
            "width": null
          }
        },
        "198322fe65cc41e58564548b1e32237c": {
          "model_module": "@jupyter-widgets/controls",
          "model_name": "DescriptionStyleModel",
          "model_module_version": "1.5.0",
          "state": {
            "_model_module": "@jupyter-widgets/controls",
            "_model_module_version": "1.5.0",
            "_model_name": "DescriptionStyleModel",
            "_view_count": null,
            "_view_module": "@jupyter-widgets/base",
            "_view_module_version": "1.2.0",
            "_view_name": "StyleView",
            "description_width": ""
          }
        },
        "81678d789f16481cb1ce65d7afb35721": {
          "model_module": "@jupyter-widgets/controls",
          "model_name": "HBoxModel",
          "model_module_version": "1.5.0",
          "state": {
            "_dom_classes": [],
            "_model_module": "@jupyter-widgets/controls",
            "_model_module_version": "1.5.0",
            "_model_name": "HBoxModel",
            "_view_count": null,
            "_view_module": "@jupyter-widgets/controls",
            "_view_module_version": "1.5.0",
            "_view_name": "HBoxView",
            "box_style": "",
            "children": [
              "IPY_MODEL_f369f249f5e54c9392a79d8933399c67",
              "IPY_MODEL_f0a574c8d0dd4cbfb2e81ea73aad7cb0",
              "IPY_MODEL_fac2fb70452e45ffb269918565011659"
            ],
            "layout": "IPY_MODEL_93b252e435f340dda2e38943030fdf21"
          }
        },
        "f369f249f5e54c9392a79d8933399c67": {
          "model_module": "@jupyter-widgets/controls",
          "model_name": "HTMLModel",
          "model_module_version": "1.5.0",
          "state": {
            "_dom_classes": [],
            "_model_module": "@jupyter-widgets/controls",
            "_model_module_version": "1.5.0",
            "_model_name": "HTMLModel",
            "_view_count": null,
            "_view_module": "@jupyter-widgets/controls",
            "_view_module_version": "1.5.0",
            "_view_name": "HTMLView",
            "description": "",
            "description_tooltip": null,
            "layout": "IPY_MODEL_d6d7ed2922d742adba264b4c1858a521",
            "placeholder": "​",
            "style": "IPY_MODEL_07a99556a4e042f8807ec40768077594",
            "value": "Map: 100%"
          }
        },
        "f0a574c8d0dd4cbfb2e81ea73aad7cb0": {
          "model_module": "@jupyter-widgets/controls",
          "model_name": "FloatProgressModel",
          "model_module_version": "1.5.0",
          "state": {
            "_dom_classes": [],
            "_model_module": "@jupyter-widgets/controls",
            "_model_module_version": "1.5.0",
            "_model_name": "FloatProgressModel",
            "_view_count": null,
            "_view_module": "@jupyter-widgets/controls",
            "_view_module_version": "1.5.0",
            "_view_name": "ProgressView",
            "bar_style": "success",
            "description": "",
            "description_tooltip": null,
            "layout": "IPY_MODEL_00a459ea98fb4e919fec28acfb004dfb",
            "max": 2795,
            "min": 0,
            "orientation": "horizontal",
            "style": "IPY_MODEL_972ab288ec954f32b387e1ec5b9e1ab7",
            "value": 2795
          }
        },
        "fac2fb70452e45ffb269918565011659": {
          "model_module": "@jupyter-widgets/controls",
          "model_name": "HTMLModel",
          "model_module_version": "1.5.0",
          "state": {
            "_dom_classes": [],
            "_model_module": "@jupyter-widgets/controls",
            "_model_module_version": "1.5.0",
            "_model_name": "HTMLModel",
            "_view_count": null,
            "_view_module": "@jupyter-widgets/controls",
            "_view_module_version": "1.5.0",
            "_view_name": "HTMLView",
            "description": "",
            "description_tooltip": null,
            "layout": "IPY_MODEL_838b7a8589514cd9b49bbb79c631e844",
            "placeholder": "​",
            "style": "IPY_MODEL_573ab2df3932411d836a4c3d67bcffe4",
            "value": " 2795/2795 [00:00&lt;00:00, 10949.82 examples/s]"
          }
        },
        "93b252e435f340dda2e38943030fdf21": {
          "model_module": "@jupyter-widgets/base",
          "model_name": "LayoutModel",
          "model_module_version": "1.2.0",
          "state": {
            "_model_module": "@jupyter-widgets/base",
            "_model_module_version": "1.2.0",
            "_model_name": "LayoutModel",
            "_view_count": null,
            "_view_module": "@jupyter-widgets/base",
            "_view_module_version": "1.2.0",
            "_view_name": "LayoutView",
            "align_content": null,
            "align_items": null,
            "align_self": null,
            "border": null,
            "bottom": null,
            "display": null,
            "flex": null,
            "flex_flow": null,
            "grid_area": null,
            "grid_auto_columns": null,
            "grid_auto_flow": null,
            "grid_auto_rows": null,
            "grid_column": null,
            "grid_gap": null,
            "grid_row": null,
            "grid_template_areas": null,
            "grid_template_columns": null,
            "grid_template_rows": null,
            "height": null,
            "justify_content": null,
            "justify_items": null,
            "left": null,
            "margin": null,
            "max_height": null,
            "max_width": null,
            "min_height": null,
            "min_width": null,
            "object_fit": null,
            "object_position": null,
            "order": null,
            "overflow": null,
            "overflow_x": null,
            "overflow_y": null,
            "padding": null,
            "right": null,
            "top": null,
            "visibility": null,
            "width": null
          }
        },
        "d6d7ed2922d742adba264b4c1858a521": {
          "model_module": "@jupyter-widgets/base",
          "model_name": "LayoutModel",
          "model_module_version": "1.2.0",
          "state": {
            "_model_module": "@jupyter-widgets/base",
            "_model_module_version": "1.2.0",
            "_model_name": "LayoutModel",
            "_view_count": null,
            "_view_module": "@jupyter-widgets/base",
            "_view_module_version": "1.2.0",
            "_view_name": "LayoutView",
            "align_content": null,
            "align_items": null,
            "align_self": null,
            "border": null,
            "bottom": null,
            "display": null,
            "flex": null,
            "flex_flow": null,
            "grid_area": null,
            "grid_auto_columns": null,
            "grid_auto_flow": null,
            "grid_auto_rows": null,
            "grid_column": null,
            "grid_gap": null,
            "grid_row": null,
            "grid_template_areas": null,
            "grid_template_columns": null,
            "grid_template_rows": null,
            "height": null,
            "justify_content": null,
            "justify_items": null,
            "left": null,
            "margin": null,
            "max_height": null,
            "max_width": null,
            "min_height": null,
            "min_width": null,
            "object_fit": null,
            "object_position": null,
            "order": null,
            "overflow": null,
            "overflow_x": null,
            "overflow_y": null,
            "padding": null,
            "right": null,
            "top": null,
            "visibility": null,
            "width": null
          }
        },
        "07a99556a4e042f8807ec40768077594": {
          "model_module": "@jupyter-widgets/controls",
          "model_name": "DescriptionStyleModel",
          "model_module_version": "1.5.0",
          "state": {
            "_model_module": "@jupyter-widgets/controls",
            "_model_module_version": "1.5.0",
            "_model_name": "DescriptionStyleModel",
            "_view_count": null,
            "_view_module": "@jupyter-widgets/base",
            "_view_module_version": "1.2.0",
            "_view_name": "StyleView",
            "description_width": ""
          }
        },
        "00a459ea98fb4e919fec28acfb004dfb": {
          "model_module": "@jupyter-widgets/base",
          "model_name": "LayoutModel",
          "model_module_version": "1.2.0",
          "state": {
            "_model_module": "@jupyter-widgets/base",
            "_model_module_version": "1.2.0",
            "_model_name": "LayoutModel",
            "_view_count": null,
            "_view_module": "@jupyter-widgets/base",
            "_view_module_version": "1.2.0",
            "_view_name": "LayoutView",
            "align_content": null,
            "align_items": null,
            "align_self": null,
            "border": null,
            "bottom": null,
            "display": null,
            "flex": null,
            "flex_flow": null,
            "grid_area": null,
            "grid_auto_columns": null,
            "grid_auto_flow": null,
            "grid_auto_rows": null,
            "grid_column": null,
            "grid_gap": null,
            "grid_row": null,
            "grid_template_areas": null,
            "grid_template_columns": null,
            "grid_template_rows": null,
            "height": null,
            "justify_content": null,
            "justify_items": null,
            "left": null,
            "margin": null,
            "max_height": null,
            "max_width": null,
            "min_height": null,
            "min_width": null,
            "object_fit": null,
            "object_position": null,
            "order": null,
            "overflow": null,
            "overflow_x": null,
            "overflow_y": null,
            "padding": null,
            "right": null,
            "top": null,
            "visibility": null,
            "width": null
          }
        },
        "972ab288ec954f32b387e1ec5b9e1ab7": {
          "model_module": "@jupyter-widgets/controls",
          "model_name": "ProgressStyleModel",
          "model_module_version": "1.5.0",
          "state": {
            "_model_module": "@jupyter-widgets/controls",
            "_model_module_version": "1.5.0",
            "_model_name": "ProgressStyleModel",
            "_view_count": null,
            "_view_module": "@jupyter-widgets/base",
            "_view_module_version": "1.2.0",
            "_view_name": "StyleView",
            "bar_color": null,
            "description_width": ""
          }
        },
        "838b7a8589514cd9b49bbb79c631e844": {
          "model_module": "@jupyter-widgets/base",
          "model_name": "LayoutModel",
          "model_module_version": "1.2.0",
          "state": {
            "_model_module": "@jupyter-widgets/base",
            "_model_module_version": "1.2.0",
            "_model_name": "LayoutModel",
            "_view_count": null,
            "_view_module": "@jupyter-widgets/base",
            "_view_module_version": "1.2.0",
            "_view_name": "LayoutView",
            "align_content": null,
            "align_items": null,
            "align_self": null,
            "border": null,
            "bottom": null,
            "display": null,
            "flex": null,
            "flex_flow": null,
            "grid_area": null,
            "grid_auto_columns": null,
            "grid_auto_flow": null,
            "grid_auto_rows": null,
            "grid_column": null,
            "grid_gap": null,
            "grid_row": null,
            "grid_template_areas": null,
            "grid_template_columns": null,
            "grid_template_rows": null,
            "height": null,
            "justify_content": null,
            "justify_items": null,
            "left": null,
            "margin": null,
            "max_height": null,
            "max_width": null,
            "min_height": null,
            "min_width": null,
            "object_fit": null,
            "object_position": null,
            "order": null,
            "overflow": null,
            "overflow_x": null,
            "overflow_y": null,
            "padding": null,
            "right": null,
            "top": null,
            "visibility": null,
            "width": null
          }
        },
        "573ab2df3932411d836a4c3d67bcffe4": {
          "model_module": "@jupyter-widgets/controls",
          "model_name": "DescriptionStyleModel",
          "model_module_version": "1.5.0",
          "state": {
            "_model_module": "@jupyter-widgets/controls",
            "_model_module_version": "1.5.0",
            "_model_name": "DescriptionStyleModel",
            "_view_count": null,
            "_view_module": "@jupyter-widgets/base",
            "_view_module_version": "1.2.0",
            "_view_name": "StyleView",
            "description_width": ""
          }
        },
        "f39eff32e5f44d9ba156372c06add4e6": {
          "model_module": "@jupyter-widgets/controls",
          "model_name": "HBoxModel",
          "model_module_version": "1.5.0",
          "state": {
            "_dom_classes": [],
            "_model_module": "@jupyter-widgets/controls",
            "_model_module_version": "1.5.0",
            "_model_name": "HBoxModel",
            "_view_count": null,
            "_view_module": "@jupyter-widgets/controls",
            "_view_module_version": "1.5.0",
            "_view_name": "HBoxView",
            "box_style": "",
            "children": [
              "IPY_MODEL_f13f1dc4ddf144e9b80ddba794ab05f2",
              "IPY_MODEL_180d815dd71046eda5f52d495ced9353",
              "IPY_MODEL_389095d7b3c54be2be734266e3b1d9fe"
            ],
            "layout": "IPY_MODEL_63b80e4e637343bc9c8646a2a8123539"
          }
        },
        "f13f1dc4ddf144e9b80ddba794ab05f2": {
          "model_module": "@jupyter-widgets/controls",
          "model_name": "HTMLModel",
          "model_module_version": "1.5.0",
          "state": {
            "_dom_classes": [],
            "_model_module": "@jupyter-widgets/controls",
            "_model_module_version": "1.5.0",
            "_model_name": "HTMLModel",
            "_view_count": null,
            "_view_module": "@jupyter-widgets/controls",
            "_view_module_version": "1.5.0",
            "_view_name": "HTMLView",
            "description": "",
            "description_tooltip": null,
            "layout": "IPY_MODEL_4f4c3652db6a488489cbd4ea3c18fda3",
            "placeholder": "​",
            "style": "IPY_MODEL_a8da65f5bc6b446c83511c206bcc9182",
            "value": "Map: 100%"
          }
        },
        "180d815dd71046eda5f52d495ced9353": {
          "model_module": "@jupyter-widgets/controls",
          "model_name": "FloatProgressModel",
          "model_module_version": "1.5.0",
          "state": {
            "_dom_classes": [],
            "_model_module": "@jupyter-widgets/controls",
            "_model_module_version": "1.5.0",
            "_model_name": "FloatProgressModel",
            "_view_count": null,
            "_view_module": "@jupyter-widgets/controls",
            "_view_module_version": "1.5.0",
            "_view_name": "ProgressView",
            "bar_style": "success",
            "description": "",
            "description_tooltip": null,
            "layout": "IPY_MODEL_fa0a8b67290c4ecdaf1a5b4c63821906",
            "max": 501435,
            "min": 0,
            "orientation": "horizontal",
            "style": "IPY_MODEL_c66b0b78c336416b85dadb3038a29ad3",
            "value": 501435
          }
        },
        "389095d7b3c54be2be734266e3b1d9fe": {
          "model_module": "@jupyter-widgets/controls",
          "model_name": "HTMLModel",
          "model_module_version": "1.5.0",
          "state": {
            "_dom_classes": [],
            "_model_module": "@jupyter-widgets/controls",
            "_model_module_version": "1.5.0",
            "_model_name": "HTMLModel",
            "_view_count": null,
            "_view_module": "@jupyter-widgets/controls",
            "_view_module_version": "1.5.0",
            "_view_name": "HTMLView",
            "description": "",
            "description_tooltip": null,
            "layout": "IPY_MODEL_f606cffd6c0d437e860ce275f2a4c38c",
            "placeholder": "​",
            "style": "IPY_MODEL_61e15e8c5ef84c02adffd375f16043f3",
            "value": " 501435/501435 [01:00&lt;00:00, 8842.11 examples/s]"
          }
        },
        "63b80e4e637343bc9c8646a2a8123539": {
          "model_module": "@jupyter-widgets/base",
          "model_name": "LayoutModel",
          "model_module_version": "1.2.0",
          "state": {
            "_model_module": "@jupyter-widgets/base",
            "_model_module_version": "1.2.0",
            "_model_name": "LayoutModel",
            "_view_count": null,
            "_view_module": "@jupyter-widgets/base",
            "_view_module_version": "1.2.0",
            "_view_name": "LayoutView",
            "align_content": null,
            "align_items": null,
            "align_self": null,
            "border": null,
            "bottom": null,
            "display": null,
            "flex": null,
            "flex_flow": null,
            "grid_area": null,
            "grid_auto_columns": null,
            "grid_auto_flow": null,
            "grid_auto_rows": null,
            "grid_column": null,
            "grid_gap": null,
            "grid_row": null,
            "grid_template_areas": null,
            "grid_template_columns": null,
            "grid_template_rows": null,
            "height": null,
            "justify_content": null,
            "justify_items": null,
            "left": null,
            "margin": null,
            "max_height": null,
            "max_width": null,
            "min_height": null,
            "min_width": null,
            "object_fit": null,
            "object_position": null,
            "order": null,
            "overflow": null,
            "overflow_x": null,
            "overflow_y": null,
            "padding": null,
            "right": null,
            "top": null,
            "visibility": null,
            "width": null
          }
        },
        "4f4c3652db6a488489cbd4ea3c18fda3": {
          "model_module": "@jupyter-widgets/base",
          "model_name": "LayoutModel",
          "model_module_version": "1.2.0",
          "state": {
            "_model_module": "@jupyter-widgets/base",
            "_model_module_version": "1.2.0",
            "_model_name": "LayoutModel",
            "_view_count": null,
            "_view_module": "@jupyter-widgets/base",
            "_view_module_version": "1.2.0",
            "_view_name": "LayoutView",
            "align_content": null,
            "align_items": null,
            "align_self": null,
            "border": null,
            "bottom": null,
            "display": null,
            "flex": null,
            "flex_flow": null,
            "grid_area": null,
            "grid_auto_columns": null,
            "grid_auto_flow": null,
            "grid_auto_rows": null,
            "grid_column": null,
            "grid_gap": null,
            "grid_row": null,
            "grid_template_areas": null,
            "grid_template_columns": null,
            "grid_template_rows": null,
            "height": null,
            "justify_content": null,
            "justify_items": null,
            "left": null,
            "margin": null,
            "max_height": null,
            "max_width": null,
            "min_height": null,
            "min_width": null,
            "object_fit": null,
            "object_position": null,
            "order": null,
            "overflow": null,
            "overflow_x": null,
            "overflow_y": null,
            "padding": null,
            "right": null,
            "top": null,
            "visibility": null,
            "width": null
          }
        },
        "a8da65f5bc6b446c83511c206bcc9182": {
          "model_module": "@jupyter-widgets/controls",
          "model_name": "DescriptionStyleModel",
          "model_module_version": "1.5.0",
          "state": {
            "_model_module": "@jupyter-widgets/controls",
            "_model_module_version": "1.5.0",
            "_model_name": "DescriptionStyleModel",
            "_view_count": null,
            "_view_module": "@jupyter-widgets/base",
            "_view_module_version": "1.2.0",
            "_view_name": "StyleView",
            "description_width": ""
          }
        },
        "fa0a8b67290c4ecdaf1a5b4c63821906": {
          "model_module": "@jupyter-widgets/base",
          "model_name": "LayoutModel",
          "model_module_version": "1.2.0",
          "state": {
            "_model_module": "@jupyter-widgets/base",
            "_model_module_version": "1.2.0",
            "_model_name": "LayoutModel",
            "_view_count": null,
            "_view_module": "@jupyter-widgets/base",
            "_view_module_version": "1.2.0",
            "_view_name": "LayoutView",
            "align_content": null,
            "align_items": null,
            "align_self": null,
            "border": null,
            "bottom": null,
            "display": null,
            "flex": null,
            "flex_flow": null,
            "grid_area": null,
            "grid_auto_columns": null,
            "grid_auto_flow": null,
            "grid_auto_rows": null,
            "grid_column": null,
            "grid_gap": null,
            "grid_row": null,
            "grid_template_areas": null,
            "grid_template_columns": null,
            "grid_template_rows": null,
            "height": null,
            "justify_content": null,
            "justify_items": null,
            "left": null,
            "margin": null,
            "max_height": null,
            "max_width": null,
            "min_height": null,
            "min_width": null,
            "object_fit": null,
            "object_position": null,
            "order": null,
            "overflow": null,
            "overflow_x": null,
            "overflow_y": null,
            "padding": null,
            "right": null,
            "top": null,
            "visibility": null,
            "width": null
          }
        },
        "c66b0b78c336416b85dadb3038a29ad3": {
          "model_module": "@jupyter-widgets/controls",
          "model_name": "ProgressStyleModel",
          "model_module_version": "1.5.0",
          "state": {
            "_model_module": "@jupyter-widgets/controls",
            "_model_module_version": "1.5.0",
            "_model_name": "ProgressStyleModel",
            "_view_count": null,
            "_view_module": "@jupyter-widgets/base",
            "_view_module_version": "1.2.0",
            "_view_name": "StyleView",
            "bar_color": null,
            "description_width": ""
          }
        },
        "f606cffd6c0d437e860ce275f2a4c38c": {
          "model_module": "@jupyter-widgets/base",
          "model_name": "LayoutModel",
          "model_module_version": "1.2.0",
          "state": {
            "_model_module": "@jupyter-widgets/base",
            "_model_module_version": "1.2.0",
            "_model_name": "LayoutModel",
            "_view_count": null,
            "_view_module": "@jupyter-widgets/base",
            "_view_module_version": "1.2.0",
            "_view_name": "LayoutView",
            "align_content": null,
            "align_items": null,
            "align_self": null,
            "border": null,
            "bottom": null,
            "display": null,
            "flex": null,
            "flex_flow": null,
            "grid_area": null,
            "grid_auto_columns": null,
            "grid_auto_flow": null,
            "grid_auto_rows": null,
            "grid_column": null,
            "grid_gap": null,
            "grid_row": null,
            "grid_template_areas": null,
            "grid_template_columns": null,
            "grid_template_rows": null,
            "height": null,
            "justify_content": null,
            "justify_items": null,
            "left": null,
            "margin": null,
            "max_height": null,
            "max_width": null,
            "min_height": null,
            "min_width": null,
            "object_fit": null,
            "object_position": null,
            "order": null,
            "overflow": null,
            "overflow_x": null,
            "overflow_y": null,
            "padding": null,
            "right": null,
            "top": null,
            "visibility": null,
            "width": null
          }
        },
        "61e15e8c5ef84c02adffd375f16043f3": {
          "model_module": "@jupyter-widgets/controls",
          "model_name": "DescriptionStyleModel",
          "model_module_version": "1.5.0",
          "state": {
            "_model_module": "@jupyter-widgets/controls",
            "_model_module_version": "1.5.0",
            "_model_name": "DescriptionStyleModel",
            "_view_count": null,
            "_view_module": "@jupyter-widgets/base",
            "_view_module_version": "1.2.0",
            "_view_name": "StyleView",
            "description_width": ""
          }
        },
        "1a0460531f73464a8ffc44eee1240f38": {
          "model_module": "@jupyter-widgets/controls",
          "model_name": "HBoxModel",
          "model_module_version": "1.5.0",
          "state": {
            "_dom_classes": [],
            "_model_module": "@jupyter-widgets/controls",
            "_model_module_version": "1.5.0",
            "_model_name": "HBoxModel",
            "_view_count": null,
            "_view_module": "@jupyter-widgets/controls",
            "_view_module_version": "1.5.0",
            "_view_name": "HBoxView",
            "box_style": "",
            "children": [
              "IPY_MODEL_13ff17828296456b8be1a18eeb14ec01",
              "IPY_MODEL_05c81b1e10e44df1926d7aaa5387b679",
              "IPY_MODEL_44e3cbde162746eca38d9ac654748488"
            ],
            "layout": "IPY_MODEL_7231adfa7de34a319f9491d136ccdf6e"
          }
        },
        "13ff17828296456b8be1a18eeb14ec01": {
          "model_module": "@jupyter-widgets/controls",
          "model_name": "HTMLModel",
          "model_module_version": "1.5.0",
          "state": {
            "_dom_classes": [],
            "_model_module": "@jupyter-widgets/controls",
            "_model_module_version": "1.5.0",
            "_model_name": "HTMLModel",
            "_view_count": null,
            "_view_module": "@jupyter-widgets/controls",
            "_view_module_version": "1.5.0",
            "_view_name": "HTMLView",
            "description": "",
            "description_tooltip": null,
            "layout": "IPY_MODEL_7d0d9991585446729ecb356e97438623",
            "placeholder": "​",
            "style": "IPY_MODEL_aa20651b6bd348d4b0d66724590ccf00",
            "value": "Filter: 100%"
          }
        },
        "05c81b1e10e44df1926d7aaa5387b679": {
          "model_module": "@jupyter-widgets/controls",
          "model_name": "FloatProgressModel",
          "model_module_version": "1.5.0",
          "state": {
            "_dom_classes": [],
            "_model_module": "@jupyter-widgets/controls",
            "_model_module_version": "1.5.0",
            "_model_name": "FloatProgressModel",
            "_view_count": null,
            "_view_module": "@jupyter-widgets/controls",
            "_view_module_version": "1.5.0",
            "_view_name": "ProgressView",
            "bar_style": "success",
            "description": "",
            "description_tooltip": null,
            "layout": "IPY_MODEL_0e0385082b4945af83ebc5bbbb94625a",
            "max": 501435,
            "min": 0,
            "orientation": "horizontal",
            "style": "IPY_MODEL_68d2864568b54977a22a6f4d97f90577",
            "value": 501435
          }
        },
        "44e3cbde162746eca38d9ac654748488": {
          "model_module": "@jupyter-widgets/controls",
          "model_name": "HTMLModel",
          "model_module_version": "1.5.0",
          "state": {
            "_dom_classes": [],
            "_model_module": "@jupyter-widgets/controls",
            "_model_module_version": "1.5.0",
            "_model_name": "HTMLModel",
            "_view_count": null,
            "_view_module": "@jupyter-widgets/controls",
            "_view_module_version": "1.5.0",
            "_view_name": "HTMLView",
            "description": "",
            "description_tooltip": null,
            "layout": "IPY_MODEL_c2a5e155e9594bc3a736232c78f6b2bd",
            "placeholder": "​",
            "style": "IPY_MODEL_91a23a6874854ebe8a7f726caa9eb5d0",
            "value": " 501435/501435 [00:02&lt;00:00, 168572.67 examples/s]"
          }
        },
        "7231adfa7de34a319f9491d136ccdf6e": {
          "model_module": "@jupyter-widgets/base",
          "model_name": "LayoutModel",
          "model_module_version": "1.2.0",
          "state": {
            "_model_module": "@jupyter-widgets/base",
            "_model_module_version": "1.2.0",
            "_model_name": "LayoutModel",
            "_view_count": null,
            "_view_module": "@jupyter-widgets/base",
            "_view_module_version": "1.2.0",
            "_view_name": "LayoutView",
            "align_content": null,
            "align_items": null,
            "align_self": null,
            "border": null,
            "bottom": null,
            "display": null,
            "flex": null,
            "flex_flow": null,
            "grid_area": null,
            "grid_auto_columns": null,
            "grid_auto_flow": null,
            "grid_auto_rows": null,
            "grid_column": null,
            "grid_gap": null,
            "grid_row": null,
            "grid_template_areas": null,
            "grid_template_columns": null,
            "grid_template_rows": null,
            "height": null,
            "justify_content": null,
            "justify_items": null,
            "left": null,
            "margin": null,
            "max_height": null,
            "max_width": null,
            "min_height": null,
            "min_width": null,
            "object_fit": null,
            "object_position": null,
            "order": null,
            "overflow": null,
            "overflow_x": null,
            "overflow_y": null,
            "padding": null,
            "right": null,
            "top": null,
            "visibility": null,
            "width": null
          }
        },
        "7d0d9991585446729ecb356e97438623": {
          "model_module": "@jupyter-widgets/base",
          "model_name": "LayoutModel",
          "model_module_version": "1.2.0",
          "state": {
            "_model_module": "@jupyter-widgets/base",
            "_model_module_version": "1.2.0",
            "_model_name": "LayoutModel",
            "_view_count": null,
            "_view_module": "@jupyter-widgets/base",
            "_view_module_version": "1.2.0",
            "_view_name": "LayoutView",
            "align_content": null,
            "align_items": null,
            "align_self": null,
            "border": null,
            "bottom": null,
            "display": null,
            "flex": null,
            "flex_flow": null,
            "grid_area": null,
            "grid_auto_columns": null,
            "grid_auto_flow": null,
            "grid_auto_rows": null,
            "grid_column": null,
            "grid_gap": null,
            "grid_row": null,
            "grid_template_areas": null,
            "grid_template_columns": null,
            "grid_template_rows": null,
            "height": null,
            "justify_content": null,
            "justify_items": null,
            "left": null,
            "margin": null,
            "max_height": null,
            "max_width": null,
            "min_height": null,
            "min_width": null,
            "object_fit": null,
            "object_position": null,
            "order": null,
            "overflow": null,
            "overflow_x": null,
            "overflow_y": null,
            "padding": null,
            "right": null,
            "top": null,
            "visibility": null,
            "width": null
          }
        },
        "aa20651b6bd348d4b0d66724590ccf00": {
          "model_module": "@jupyter-widgets/controls",
          "model_name": "DescriptionStyleModel",
          "model_module_version": "1.5.0",
          "state": {
            "_model_module": "@jupyter-widgets/controls",
            "_model_module_version": "1.5.0",
            "_model_name": "DescriptionStyleModel",
            "_view_count": null,
            "_view_module": "@jupyter-widgets/base",
            "_view_module_version": "1.2.0",
            "_view_name": "StyleView",
            "description_width": ""
          }
        },
        "0e0385082b4945af83ebc5bbbb94625a": {
          "model_module": "@jupyter-widgets/base",
          "model_name": "LayoutModel",
          "model_module_version": "1.2.0",
          "state": {
            "_model_module": "@jupyter-widgets/base",
            "_model_module_version": "1.2.0",
            "_model_name": "LayoutModel",
            "_view_count": null,
            "_view_module": "@jupyter-widgets/base",
            "_view_module_version": "1.2.0",
            "_view_name": "LayoutView",
            "align_content": null,
            "align_items": null,
            "align_self": null,
            "border": null,
            "bottom": null,
            "display": null,
            "flex": null,
            "flex_flow": null,
            "grid_area": null,
            "grid_auto_columns": null,
            "grid_auto_flow": null,
            "grid_auto_rows": null,
            "grid_column": null,
            "grid_gap": null,
            "grid_row": null,
            "grid_template_areas": null,
            "grid_template_columns": null,
            "grid_template_rows": null,
            "height": null,
            "justify_content": null,
            "justify_items": null,
            "left": null,
            "margin": null,
            "max_height": null,
            "max_width": null,
            "min_height": null,
            "min_width": null,
            "object_fit": null,
            "object_position": null,
            "order": null,
            "overflow": null,
            "overflow_x": null,
            "overflow_y": null,
            "padding": null,
            "right": null,
            "top": null,
            "visibility": null,
            "width": null
          }
        },
        "68d2864568b54977a22a6f4d97f90577": {
          "model_module": "@jupyter-widgets/controls",
          "model_name": "ProgressStyleModel",
          "model_module_version": "1.5.0",
          "state": {
            "_model_module": "@jupyter-widgets/controls",
            "_model_module_version": "1.5.0",
            "_model_name": "ProgressStyleModel",
            "_view_count": null,
            "_view_module": "@jupyter-widgets/base",
            "_view_module_version": "1.2.0",
            "_view_name": "StyleView",
            "bar_color": null,
            "description_width": ""
          }
        },
        "c2a5e155e9594bc3a736232c78f6b2bd": {
          "model_module": "@jupyter-widgets/base",
          "model_name": "LayoutModel",
          "model_module_version": "1.2.0",
          "state": {
            "_model_module": "@jupyter-widgets/base",
            "_model_module_version": "1.2.0",
            "_model_name": "LayoutModel",
            "_view_count": null,
            "_view_module": "@jupyter-widgets/base",
            "_view_module_version": "1.2.0",
            "_view_name": "LayoutView",
            "align_content": null,
            "align_items": null,
            "align_self": null,
            "border": null,
            "bottom": null,
            "display": null,
            "flex": null,
            "flex_flow": null,
            "grid_area": null,
            "grid_auto_columns": null,
            "grid_auto_flow": null,
            "grid_auto_rows": null,
            "grid_column": null,
            "grid_gap": null,
            "grid_row": null,
            "grid_template_areas": null,
            "grid_template_columns": null,
            "grid_template_rows": null,
            "height": null,
            "justify_content": null,
            "justify_items": null,
            "left": null,
            "margin": null,
            "max_height": null,
            "max_width": null,
            "min_height": null,
            "min_width": null,
            "object_fit": null,
            "object_position": null,
            "order": null,
            "overflow": null,
            "overflow_x": null,
            "overflow_y": null,
            "padding": null,
            "right": null,
            "top": null,
            "visibility": null,
            "width": null
          }
        },
        "91a23a6874854ebe8a7f726caa9eb5d0": {
          "model_module": "@jupyter-widgets/controls",
          "model_name": "DescriptionStyleModel",
          "model_module_version": "1.5.0",
          "state": {
            "_model_module": "@jupyter-widgets/controls",
            "_model_module_version": "1.5.0",
            "_model_name": "DescriptionStyleModel",
            "_view_count": null,
            "_view_module": "@jupyter-widgets/base",
            "_view_module_version": "1.2.0",
            "_view_name": "StyleView",
            "description_width": ""
          }
        },
        "3078599ef6f94b1eb9c597849d57c7ff": {
          "model_module": "@jupyter-widgets/controls",
          "model_name": "HBoxModel",
          "model_module_version": "1.5.0",
          "state": {
            "_dom_classes": [],
            "_model_module": "@jupyter-widgets/controls",
            "_model_module_version": "1.5.0",
            "_model_name": "HBoxModel",
            "_view_count": null,
            "_view_module": "@jupyter-widgets/controls",
            "_view_module_version": "1.5.0",
            "_view_name": "HBoxView",
            "box_style": "",
            "children": [
              "IPY_MODEL_3a4ea8786b8d42d7b96e9e5b59a1ad1a",
              "IPY_MODEL_72b9e784f8684ce1bf6c61f63f58814a",
              "IPY_MODEL_952700f4a2eb4ae0bbe457c66bf3f958"
            ],
            "layout": "IPY_MODEL_24550886dce240ef89e815ca9b3a91d6"
          }
        },
        "3a4ea8786b8d42d7b96e9e5b59a1ad1a": {
          "model_module": "@jupyter-widgets/controls",
          "model_name": "HTMLModel",
          "model_module_version": "1.5.0",
          "state": {
            "_dom_classes": [],
            "_model_module": "@jupyter-widgets/controls",
            "_model_module_version": "1.5.0",
            "_model_name": "HTMLModel",
            "_view_count": null,
            "_view_module": "@jupyter-widgets/controls",
            "_view_module_version": "1.5.0",
            "_view_name": "HTMLView",
            "description": "",
            "description_tooltip": null,
            "layout": "IPY_MODEL_2e84e3d084c84a5e8beef6fffc239281",
            "placeholder": "​",
            "style": "IPY_MODEL_52b1c7301f8d435281a683e774e0c8ba",
            "value": "Filter: 100%"
          }
        },
        "72b9e784f8684ce1bf6c61f63f58814a": {
          "model_module": "@jupyter-widgets/controls",
          "model_name": "FloatProgressModel",
          "model_module_version": "1.5.0",
          "state": {
            "_dom_classes": [],
            "_model_module": "@jupyter-widgets/controls",
            "_model_module_version": "1.5.0",
            "_model_name": "FloatProgressModel",
            "_view_count": null,
            "_view_module": "@jupyter-widgets/controls",
            "_view_module_version": "1.5.0",
            "_view_name": "ProgressView",
            "bar_style": "success",
            "description": "",
            "description_tooltip": null,
            "layout": "IPY_MODEL_2873227cecd3495ebad86247eed1b728",
            "max": 6684,
            "min": 0,
            "orientation": "horizontal",
            "style": "IPY_MODEL_a96c859e19ea40beb4472641699962f9",
            "value": 6684
          }
        },
        "952700f4a2eb4ae0bbe457c66bf3f958": {
          "model_module": "@jupyter-widgets/controls",
          "model_name": "HTMLModel",
          "model_module_version": "1.5.0",
          "state": {
            "_dom_classes": [],
            "_model_module": "@jupyter-widgets/controls",
            "_model_module_version": "1.5.0",
            "_model_name": "HTMLModel",
            "_view_count": null,
            "_view_module": "@jupyter-widgets/controls",
            "_view_module_version": "1.5.0",
            "_view_name": "HTMLView",
            "description": "",
            "description_tooltip": null,
            "layout": "IPY_MODEL_22025f407ec34120a5b23dd229409f9a",
            "placeholder": "​",
            "style": "IPY_MODEL_d8be3475dc974e59ad1eed96dc2f8db0",
            "value": " 6684/6684 [00:00&lt;00:00, 47557.68 examples/s]"
          }
        },
        "24550886dce240ef89e815ca9b3a91d6": {
          "model_module": "@jupyter-widgets/base",
          "model_name": "LayoutModel",
          "model_module_version": "1.2.0",
          "state": {
            "_model_module": "@jupyter-widgets/base",
            "_model_module_version": "1.2.0",
            "_model_name": "LayoutModel",
            "_view_count": null,
            "_view_module": "@jupyter-widgets/base",
            "_view_module_version": "1.2.0",
            "_view_name": "LayoutView",
            "align_content": null,
            "align_items": null,
            "align_self": null,
            "border": null,
            "bottom": null,
            "display": null,
            "flex": null,
            "flex_flow": null,
            "grid_area": null,
            "grid_auto_columns": null,
            "grid_auto_flow": null,
            "grid_auto_rows": null,
            "grid_column": null,
            "grid_gap": null,
            "grid_row": null,
            "grid_template_areas": null,
            "grid_template_columns": null,
            "grid_template_rows": null,
            "height": null,
            "justify_content": null,
            "justify_items": null,
            "left": null,
            "margin": null,
            "max_height": null,
            "max_width": null,
            "min_height": null,
            "min_width": null,
            "object_fit": null,
            "object_position": null,
            "order": null,
            "overflow": null,
            "overflow_x": null,
            "overflow_y": null,
            "padding": null,
            "right": null,
            "top": null,
            "visibility": null,
            "width": null
          }
        },
        "2e84e3d084c84a5e8beef6fffc239281": {
          "model_module": "@jupyter-widgets/base",
          "model_name": "LayoutModel",
          "model_module_version": "1.2.0",
          "state": {
            "_model_module": "@jupyter-widgets/base",
            "_model_module_version": "1.2.0",
            "_model_name": "LayoutModel",
            "_view_count": null,
            "_view_module": "@jupyter-widgets/base",
            "_view_module_version": "1.2.0",
            "_view_name": "LayoutView",
            "align_content": null,
            "align_items": null,
            "align_self": null,
            "border": null,
            "bottom": null,
            "display": null,
            "flex": null,
            "flex_flow": null,
            "grid_area": null,
            "grid_auto_columns": null,
            "grid_auto_flow": null,
            "grid_auto_rows": null,
            "grid_column": null,
            "grid_gap": null,
            "grid_row": null,
            "grid_template_areas": null,
            "grid_template_columns": null,
            "grid_template_rows": null,
            "height": null,
            "justify_content": null,
            "justify_items": null,
            "left": null,
            "margin": null,
            "max_height": null,
            "max_width": null,
            "min_height": null,
            "min_width": null,
            "object_fit": null,
            "object_position": null,
            "order": null,
            "overflow": null,
            "overflow_x": null,
            "overflow_y": null,
            "padding": null,
            "right": null,
            "top": null,
            "visibility": null,
            "width": null
          }
        },
        "52b1c7301f8d435281a683e774e0c8ba": {
          "model_module": "@jupyter-widgets/controls",
          "model_name": "DescriptionStyleModel",
          "model_module_version": "1.5.0",
          "state": {
            "_model_module": "@jupyter-widgets/controls",
            "_model_module_version": "1.5.0",
            "_model_name": "DescriptionStyleModel",
            "_view_count": null,
            "_view_module": "@jupyter-widgets/base",
            "_view_module_version": "1.2.0",
            "_view_name": "StyleView",
            "description_width": ""
          }
        },
        "2873227cecd3495ebad86247eed1b728": {
          "model_module": "@jupyter-widgets/base",
          "model_name": "LayoutModel",
          "model_module_version": "1.2.0",
          "state": {
            "_model_module": "@jupyter-widgets/base",
            "_model_module_version": "1.2.0",
            "_model_name": "LayoutModel",
            "_view_count": null,
            "_view_module": "@jupyter-widgets/base",
            "_view_module_version": "1.2.0",
            "_view_name": "LayoutView",
            "align_content": null,
            "align_items": null,
            "align_self": null,
            "border": null,
            "bottom": null,
            "display": null,
            "flex": null,
            "flex_flow": null,
            "grid_area": null,
            "grid_auto_columns": null,
            "grid_auto_flow": null,
            "grid_auto_rows": null,
            "grid_column": null,
            "grid_gap": null,
            "grid_row": null,
            "grid_template_areas": null,
            "grid_template_columns": null,
            "grid_template_rows": null,
            "height": null,
            "justify_content": null,
            "justify_items": null,
            "left": null,
            "margin": null,
            "max_height": null,
            "max_width": null,
            "min_height": null,
            "min_width": null,
            "object_fit": null,
            "object_position": null,
            "order": null,
            "overflow": null,
            "overflow_x": null,
            "overflow_y": null,
            "padding": null,
            "right": null,
            "top": null,
            "visibility": null,
            "width": null
          }
        },
        "a96c859e19ea40beb4472641699962f9": {
          "model_module": "@jupyter-widgets/controls",
          "model_name": "ProgressStyleModel",
          "model_module_version": "1.5.0",
          "state": {
            "_model_module": "@jupyter-widgets/controls",
            "_model_module_version": "1.5.0",
            "_model_name": "ProgressStyleModel",
            "_view_count": null,
            "_view_module": "@jupyter-widgets/base",
            "_view_module_version": "1.2.0",
            "_view_name": "StyleView",
            "bar_color": null,
            "description_width": ""
          }
        },
        "22025f407ec34120a5b23dd229409f9a": {
          "model_module": "@jupyter-widgets/base",
          "model_name": "LayoutModel",
          "model_module_version": "1.2.0",
          "state": {
            "_model_module": "@jupyter-widgets/base",
            "_model_module_version": "1.2.0",
            "_model_name": "LayoutModel",
            "_view_count": null,
            "_view_module": "@jupyter-widgets/base",
            "_view_module_version": "1.2.0",
            "_view_name": "LayoutView",
            "align_content": null,
            "align_items": null,
            "align_self": null,
            "border": null,
            "bottom": null,
            "display": null,
            "flex": null,
            "flex_flow": null,
            "grid_area": null,
            "grid_auto_columns": null,
            "grid_auto_flow": null,
            "grid_auto_rows": null,
            "grid_column": null,
            "grid_gap": null,
            "grid_row": null,
            "grid_template_areas": null,
            "grid_template_columns": null,
            "grid_template_rows": null,
            "height": null,
            "justify_content": null,
            "justify_items": null,
            "left": null,
            "margin": null,
            "max_height": null,
            "max_width": null,
            "min_height": null,
            "min_width": null,
            "object_fit": null,
            "object_position": null,
            "order": null,
            "overflow": null,
            "overflow_x": null,
            "overflow_y": null,
            "padding": null,
            "right": null,
            "top": null,
            "visibility": null,
            "width": null
          }
        },
        "d8be3475dc974e59ad1eed96dc2f8db0": {
          "model_module": "@jupyter-widgets/controls",
          "model_name": "DescriptionStyleModel",
          "model_module_version": "1.5.0",
          "state": {
            "_model_module": "@jupyter-widgets/controls",
            "_model_module_version": "1.5.0",
            "_model_name": "DescriptionStyleModel",
            "_view_count": null,
            "_view_module": "@jupyter-widgets/base",
            "_view_module_version": "1.2.0",
            "_view_name": "StyleView",
            "description_width": ""
          }
        }
      }
    }
  },
  "cells": [
    {
      "cell_type": "markdown",
      "metadata": {
        "id": "view-in-github",
        "colab_type": "text"
      },
      "source": [
        "<a href=\"https://colab.research.google.com/github/dxvsh/LearningPytorch/blob/main/Week1/DLP_GA1.ipynb\" target=\"_parent\"><img src=\"https://colab.research.google.com/assets/colab-badge.svg\" alt=\"Open In Colab\"/></a>"
      ]
    },
    {
      "cell_type": "markdown",
      "source": [
        "# DLP GA1"
      ],
      "metadata": {
        "id": "zQzF0MFbA1IO"
      }
    },
    {
      "cell_type": "code",
      "source": [
        "from pprint import pprint"
      ],
      "metadata": {
        "id": "qS5DYtK3IusQ"
      },
      "execution_count": 1,
      "outputs": []
    },
    {
      "cell_type": "code",
      "execution_count": 3,
      "metadata": {
        "id": "k5_GAcS9Afx0"
      },
      "outputs": [],
      "source": [
        "# install the datasets library\n",
        "!pip install datasets > /dev/null"
      ]
    },
    {
      "cell_type": "code",
      "source": [
        "import datasets\n",
        "from datasets import load_dataset, get_dataset_config_names, get_dataset_split_names, get_dataset_config_info"
      ],
      "metadata": {
        "id": "2jWKasd2BGPO"
      },
      "execution_count": 4,
      "outputs": []
    },
    {
      "cell_type": "markdown",
      "source": [
        "### **Q1.** (MSQ) Choose all the correct statements about the dataset at the following URL:\n",
        "\n",
        "https://huggingface.co/datasets/ai4bharat/naamapadam\n",
        "\n",
        "Naamapadam is a Named Entity Annotated dataset for 11 Indic languages.\n",
        "\n",
        "**Note**: We strongly recommend using the appropriate functions in the datasets module to obtain the dataset's information, rather than accessing that information directly from the hub.\n",
        "\n",
        "- [x] The dataset contains 11 configs(subsets)\n",
        "- [ ] The dataset contains 22 configs(subsets)\n",
        "- [x] The Hindi subset of the dataset contains 985787 training samples\n",
        "- [ ] The Tamil subset of the dataset contains a total of 985787 samples.\n",
        "- [x] The number of classes (labels,tags) is 7\n"
      ],
      "metadata": {
        "id": "A9pg3J8dB7Bc"
      }
    },
    {
      "cell_type": "code",
      "source": [
        "configs = get_dataset_config_names('ai4bharat/naamapadam')\n",
        "print(configs, len(configs))"
      ],
      "metadata": {
        "colab": {
          "base_uri": "https://localhost:8080/"
        },
        "id": "kIHjBsu0Gchq",
        "outputId": "f1318218-751f-41dc-8796-3b864f7cfcaf"
      },
      "execution_count": 6,
      "outputs": [
        {
          "output_type": "stream",
          "name": "stdout",
          "text": [
            "['as', 'bn', 'gu', 'hi', 'kn', 'ml', 'mr', 'or', 'pa', 'ta', 'te'] 11\n"
          ]
        }
      ]
    },
    {
      "cell_type": "markdown",
      "source": [
        "So, this dataset contains 11 configs/subsets"
      ],
      "metadata": {
        "id": "JzEl2BS5IB21"
      }
    },
    {
      "cell_type": "markdown",
      "source": [
        "Using the `get_dataset_config_info()` method, we can get the info on a specific config/subset of a dataset"
      ],
      "metadata": {
        "id": "pv3bb04yT1FN"
      }
    },
    {
      "cell_type": "code",
      "source": [
        "pprint(get_dataset_config_info('ai4bharat/naamapadam', 'hi').splits['train'])"
      ],
      "metadata": {
        "colab": {
          "base_uri": "https://localhost:8080/"
        },
        "id": "lrqn1dLSIj40",
        "outputId": "a4f6a7cb-35f6-4fba-f220-8f99ccd9796b"
      },
      "execution_count": 7,
      "outputs": [
        {
          "output_type": "stream",
          "name": "stdout",
          "text": [
            "SplitInfo(name='train',\n",
            "          num_bytes=529397194,\n",
            "          num_examples=985787,\n",
            "          shard_lengths=[931000, 54787],\n",
            "          dataset_name='naamapadam')\n"
          ]
        }
      ]
    },
    {
      "cell_type": "code",
      "source": [
        "pprint(get_dataset_config_info('ai4bharat/naamapadam', 'ta').splits['train'])"
      ],
      "metadata": {
        "colab": {
          "base_uri": "https://localhost:8080/"
        },
        "id": "MRCt7UmYLRss",
        "outputId": "64c93f95-1b17-4c56-a637-01609d0ee853"
      },
      "execution_count": 8,
      "outputs": [
        {
          "output_type": "stream",
          "name": "stdout",
          "text": [
            "SplitInfo(name='train',\n",
            "          num_bytes=186464659,\n",
            "          num_examples=497882,\n",
            "          shard_lengths=None,\n",
            "          dataset_name='naamapadam')\n"
          ]
        }
      ]
    },
    {
      "cell_type": "markdown",
      "source": [
        "The hindi subset contains 985787 samples in the training split not the tamil one"
      ],
      "metadata": {
        "id": "kXFo-FFfLoDH"
      }
    },
    {
      "cell_type": "code",
      "source": [
        "pprint(get_dataset_config_info('ai4bharat/naamapadam', 'hi').features)"
      ],
      "metadata": {
        "colab": {
          "base_uri": "https://localhost:8080/"
        },
        "id": "00Orhl0aU2hf",
        "outputId": "52bba44b-a50c-4771-8031-bce2ded24283"
      },
      "execution_count": 9,
      "outputs": [
        {
          "output_type": "stream",
          "name": "stdout",
          "text": [
            "{'ner_tags': Sequence(feature=ClassLabel(names=['O',\n",
            "                                                'B-PER',\n",
            "                                                'I-PER',\n",
            "                                                'B-ORG',\n",
            "                                                'I-ORG',\n",
            "                                                'B-LOC',\n",
            "                                                'I-LOC'],\n",
            "                                         id=None),\n",
            "                      length=-1,\n",
            "                      id=None),\n",
            " 'tokens': Sequence(feature=Value(dtype='string', id=None), length=-1, id=None)}\n"
          ]
        }
      ]
    },
    {
      "cell_type": "code",
      "source": [
        "# for config in configs:\n",
        "#     pprint(get_dataset_config_info('ai4bharat/naamapadam', config).features)"
      ],
      "metadata": {
        "id": "LaDxRxrZWpNV"
      },
      "execution_count": 8,
      "outputs": []
    },
    {
      "cell_type": "markdown",
      "source": [
        "If you run the above cell, you'll find that all the configs have the exact same features: `['O','B-PER','I-PER','B-ORG','I-ORG','B-LOC','I-LOC']`.\n",
        "\n",
        "According to Gemini, the possible labels could mean:\n",
        "\n",
        "- `O`: No special entity\n",
        "- `B-PER`: Beginning of a person's name\n",
        "- `I-PER`: Inside of a person's name\n",
        "- `B-ORG`: Beginning of an organization name\n",
        "- `I-ORG`: Inside of an organization name\n",
        "- `B-LOC`: Beginning of a location name\n",
        "- `I-LOC`: Inside of a location name\n",
        "\n",
        "This is a common format for named entity recognition (NER) tasks.\n",
        "\n",
        "So the number of classes is 7."
      ],
      "metadata": {
        "id": "JJtU_Jo_XBFt"
      }
    },
    {
      "cell_type": "markdown",
      "source": [
        "### **Q2.** (MSQ) Common data\n",
        "\n",
        "Download the Tamil sub-dataset from the following URL https://huggingface.co/datasets/ai4bharat/naamapadam, and store in a variable named “ds”.\n",
        "\n",
        "Find the location of the cache directory (one way to determine the cache directory location is by using a method from the Dataset class; please refer to the documentation). Which of the following files are in the cached directory corresponding to the downloaded dataset?\n",
        "\n",
        "\n",
        "- [x] naamapadam-train.arrow\n",
        "- [x] naamapadam-test.arrow\n",
        "- [x] naamapadam-validation.arrow\n",
        "- [ ] naamapadam-all.arrow\n",
        "- [ ] dataset_info.json\n"
      ],
      "metadata": {
        "id": "PnveArYDUSbE"
      }
    },
    {
      "cell_type": "code",
      "source": [
        "# load the tamil subset\n",
        "\n",
        "ds = load_dataset('ai4bharat/naamapadam', 'ta')"
      ],
      "metadata": {
        "id": "Kg7Z8yFNBR3z"
      },
      "execution_count": 11,
      "outputs": []
    },
    {
      "cell_type": "markdown",
      "source": [
        "After a dataset has been loaded, you can use the `cache_files` property on the dataset object and it will return a list of cached files associated with that dataset"
      ],
      "metadata": {
        "id": "95IujGGqbQqC"
      }
    },
    {
      "cell_type": "code",
      "source": [
        "ds.cache_files"
      ],
      "metadata": {
        "colab": {
          "base_uri": "https://localhost:8080/"
        },
        "id": "ZZCeX6-aZA6D",
        "outputId": "7da4180f-59e2-481c-b745-0265ed1de8be"
      },
      "execution_count": 12,
      "outputs": [
        {
          "output_type": "execute_result",
          "data": {
            "text/plain": [
              "{'train': [{'filename': '/root/.cache/huggingface/datasets/ai4bharat___naamapadam/ta/1.0.0/9d4f21ac57d11ed4f9ea64854fdc9f5618e61acc/naamapadam-train.arrow'}],\n",
              " 'test': [{'filename': '/root/.cache/huggingface/datasets/ai4bharat___naamapadam/ta/1.0.0/9d4f21ac57d11ed4f9ea64854fdc9f5618e61acc/naamapadam-test.arrow'}],\n",
              " 'validation': [{'filename': '/root/.cache/huggingface/datasets/ai4bharat___naamapadam/ta/1.0.0/9d4f21ac57d11ed4f9ea64854fdc9f5618e61acc/naamapadam-validation.arrow'}]}"
            ]
          },
          "metadata": {},
          "execution_count": 12
        }
      ]
    },
    {
      "cell_type": "markdown",
      "source": [
        "Another way of finding this:\n",
        "\n",
        "The default datasets cache directory is:  `~/.cache/huggingface/datasets`, so you can look inside it to find the cached files of a particular dataset"
      ],
      "metadata": {
        "id": "G278tIZZbqIa"
      }
    },
    {
      "cell_type": "code",
      "source": [
        "!ls -lh ~/.cache/huggingface/datasets/ai4bharat___naamapadam/ta/1.0.0/9d4f21ac57d11ed4f9ea64854fdc9f5618e61acc"
      ],
      "metadata": {
        "colab": {
          "base_uri": "https://localhost:8080/"
        },
        "id": "ih7p624dZCCY",
        "outputId": "6ae1e4da-311d-4150-a7cb-0aed8a1f4388"
      },
      "execution_count": 13,
      "outputs": [
        {
          "output_type": "stream",
          "name": "stdout",
          "text": [
            "total 180M\n",
            "-rw-r--r-- 1 root root 1.4K Sep 27 10:30 dataset_info.json\n",
            "-rw-r--r-- 1 root root   75 Sep 27 10:30 LICENSE\n",
            "-rw-r--r-- 1 root root 314K Sep 27 10:30 naamapadam-test.arrow\n",
            "-rw-r--r-- 1 root root 178M Sep 27 10:30 naamapadam-train.arrow\n",
            "-rw-r--r-- 1 root root 1.0M Sep 27 10:30 naamapadam-validation.arrow\n"
          ]
        }
      ]
    },
    {
      "cell_type": "markdown",
      "source": [
        "### **Q3.** What is the memory size of the downloaded dataset in MB?\n",
        "\n",
        "From the above, we can see that the dataset size for the tamil set is about `180M`.\n",
        "\n",
        "Let's also try to get this answer using python"
      ],
      "metadata": {
        "id": "A8YTihWicJFm"
      }
    },
    {
      "cell_type": "code",
      "source": [
        "ds.cache_files"
      ],
      "metadata": {
        "colab": {
          "base_uri": "https://localhost:8080/"
        },
        "id": "0gOR9S-leeRL",
        "outputId": "d4506019-7350-4e34-adc8-5a0c6b5123f1"
      },
      "execution_count": 14,
      "outputs": [
        {
          "output_type": "execute_result",
          "data": {
            "text/plain": [
              "{'train': [{'filename': '/root/.cache/huggingface/datasets/ai4bharat___naamapadam/ta/1.0.0/9d4f21ac57d11ed4f9ea64854fdc9f5618e61acc/naamapadam-train.arrow'}],\n",
              " 'test': [{'filename': '/root/.cache/huggingface/datasets/ai4bharat___naamapadam/ta/1.0.0/9d4f21ac57d11ed4f9ea64854fdc9f5618e61acc/naamapadam-test.arrow'}],\n",
              " 'validation': [{'filename': '/root/.cache/huggingface/datasets/ai4bharat___naamapadam/ta/1.0.0/9d4f21ac57d11ed4f9ea64854fdc9f5618e61acc/naamapadam-validation.arrow'}]}"
            ]
          },
          "metadata": {},
          "execution_count": 14
        }
      ]
    },
    {
      "cell_type": "code",
      "source": [
        "import os\n",
        "\n",
        "def get_total_dataset_size(dataset):\n",
        "    cache_files = [dataset.cache_files['train'][0]['filename'],\n",
        "                   dataset.cache_files['test'][0]['filename'],\n",
        "                   dataset.cache_files['validation'][0]['filename']]\n",
        "\n",
        "    total_size = sum(os.path.getsize(f) for f in cache_files)\n",
        "    size_in_mb = total_size / (1024 * 1024)\n",
        "    print(f\"Total size: {size_in_mb:.2f} MB\")\n",
        "\n",
        "get_total_dataset_size(ds)"
      ],
      "metadata": {
        "colab": {
          "base_uri": "https://localhost:8080/"
        },
        "id": "tc0v8h9NcPQ5",
        "outputId": "75e8eac7-1428-4a6c-9a07-3f38324b8b0a"
      },
      "execution_count": 15,
      "outputs": [
        {
          "output_type": "stream",
          "name": "stdout",
          "text": [
            "Total size: 179.29 MB\n"
          ]
        }
      ]
    },
    {
      "cell_type": "markdown",
      "source": [
        "So, its about `180M` in size"
      ],
      "metadata": {
        "id": "o8CMkdr6fk3M"
      }
    },
    {
      "cell_type": "markdown",
      "source": [
        "### **Q4.** Enter the number of training samples in the dataset."
      ],
      "metadata": {
        "id": "hl08AYI8cQFr"
      }
    },
    {
      "cell_type": "code",
      "source": [
        "ds"
      ],
      "metadata": {
        "colab": {
          "base_uri": "https://localhost:8080/"
        },
        "id": "uJcDnxschOcj",
        "outputId": "6565dd9e-d55d-4b74-a40c-a07f00dc3513"
      },
      "execution_count": 16,
      "outputs": [
        {
          "output_type": "execute_result",
          "data": {
            "text/plain": [
              "DatasetDict({\n",
              "    train: Dataset({\n",
              "        features: ['tokens', 'ner_tags'],\n",
              "        num_rows: 497882\n",
              "    })\n",
              "    test: Dataset({\n",
              "        features: ['tokens', 'ner_tags'],\n",
              "        num_rows: 758\n",
              "    })\n",
              "    validation: Dataset({\n",
              "        features: ['tokens', 'ner_tags'],\n",
              "        num_rows: 2795\n",
              "    })\n",
              "})"
            ]
          },
          "metadata": {},
          "execution_count": 16
        }
      ]
    },
    {
      "cell_type": "markdown",
      "source": [
        "There are `497882` samples in the training split, `758` in test and `2795` in val."
      ],
      "metadata": {
        "id": "tscuvBDxf0mU"
      }
    },
    {
      "cell_type": "code",
      "source": [
        "# lets check a random sample to see what it looks like\n",
        "ds['train'][30_000]"
      ],
      "metadata": {
        "colab": {
          "base_uri": "https://localhost:8080/"
        },
        "id": "i59HCQSjgz0d",
        "outputId": "07336b96-cd2a-4c1c-a310-266bc66f31e1"
      },
      "execution_count": 17,
      "outputs": [
        {
          "output_type": "execute_result",
          "data": {
            "text/plain": [
              "{'tokens': ['நிர்வாண',\n",
              "  'புகைப்படங்களை',\n",
              "  'இன்ஸ்டாகிராமில்',\n",
              "  'வெளியிட்டார்',\n",
              "  'இஷா',\n",
              "  '.'],\n",
              " 'ner_tags': [0, 0, 3, 0, 0, 0]}"
            ]
          },
          "metadata": {},
          "execution_count": 17
        }
      ]
    },
    {
      "cell_type": "markdown",
      "source": [
        "**Q5.** Create a new column named “num tokens”. Compute the number of tokens (words) in each sample and store the results in the newly created column. Reassign the modified dataset to the same variable “ds”. How many tokens (in millions) are there in the entire dataset?\n",
        "- [ ] 4\n",
        "- [ ] 5\n",
        "- [x] 6\n",
        "- [ ] 7\n"
      ],
      "metadata": {
        "id": "VulHqv0ccfbE"
      }
    },
    {
      "cell_type": "code",
      "source": [
        "def count_tokens(example):\n",
        "    example['num_tokens'] = len(example['tokens'])\n",
        "    return example\n",
        "\n",
        "ds = ds.map(count_tokens)"
      ],
      "metadata": {
        "colab": {
          "base_uri": "https://localhost:8080/",
          "height": 113,
          "referenced_widgets": [
            "823950c416e04eafa0f16bac2f8495e9",
            "dd5396b7fae243ecb37659f39bff4dde",
            "337914c11e314aff9140913689c906ac",
            "e34a388e7cf84fc69442fe9aadd6dfee",
            "961e02f60773459693927813760e54bf",
            "afe07feb2a2a4a9787e9b1e6f4b8378a",
            "d7f042a459ba40068cbef6ba3a821cb7",
            "7f31557ddfbc473183794d30e2a59fd8",
            "05d8b3065a764e4a99790e0501888c61",
            "26f5c217543a4dbbb3f6a11bcb758099",
            "b752dc6e14b4474e87dcdbdb9a6dc049",
            "561eaa9b138b4a0c810d4d92775b8cba",
            "5735f204f6b5421698e828d17889bc2c",
            "479d86f3fe2748c98d2a7b2bdfcfed8d",
            "d00864b65c9846eb8e42dd3513ff3a69",
            "853667b0e1484bc496dd43e2c17f7070",
            "e9f0c148ec9545b4be609975813509cb",
            "e41d0baf1181482a96339ff4079c81e2",
            "a56914ca8c3a4948954fdaf1b86c5434",
            "8df163074c49443783296651a337af91",
            "bdd0115718ba42de958c513abe0038f5",
            "198322fe65cc41e58564548b1e32237c",
            "81678d789f16481cb1ce65d7afb35721",
            "f369f249f5e54c9392a79d8933399c67",
            "f0a574c8d0dd4cbfb2e81ea73aad7cb0",
            "fac2fb70452e45ffb269918565011659",
            "93b252e435f340dda2e38943030fdf21",
            "d6d7ed2922d742adba264b4c1858a521",
            "07a99556a4e042f8807ec40768077594",
            "00a459ea98fb4e919fec28acfb004dfb",
            "972ab288ec954f32b387e1ec5b9e1ab7",
            "838b7a8589514cd9b49bbb79c631e844",
            "573ab2df3932411d836a4c3d67bcffe4"
          ]
        },
        "id": "fKANvAAfcpnC",
        "outputId": "8ddfb9ae-6928-4e4f-bc9b-ace2ea0c9c68"
      },
      "execution_count": 18,
      "outputs": [
        {
          "output_type": "display_data",
          "data": {
            "text/plain": [
              "Map:   0%|          | 0/497882 [00:00<?, ? examples/s]"
            ],
            "application/vnd.jupyter.widget-view+json": {
              "version_major": 2,
              "version_minor": 0,
              "model_id": "823950c416e04eafa0f16bac2f8495e9"
            }
          },
          "metadata": {}
        },
        {
          "output_type": "display_data",
          "data": {
            "text/plain": [
              "Map:   0%|          | 0/758 [00:00<?, ? examples/s]"
            ],
            "application/vnd.jupyter.widget-view+json": {
              "version_major": 2,
              "version_minor": 0,
              "model_id": "561eaa9b138b4a0c810d4d92775b8cba"
            }
          },
          "metadata": {}
        },
        {
          "output_type": "display_data",
          "data": {
            "text/plain": [
              "Map:   0%|          | 0/2795 [00:00<?, ? examples/s]"
            ],
            "application/vnd.jupyter.widget-view+json": {
              "version_major": 2,
              "version_minor": 0,
              "model_id": "81678d789f16481cb1ce65d7afb35721"
            }
          },
          "metadata": {}
        }
      ]
    },
    {
      "cell_type": "markdown",
      "source": [
        "This `count_tokens` function that takes an example from the dataset and adds a new column num_tokens with the number of tokens in the tokens column. Then, it uses the map function to apply this function to each example in the dataset.\n",
        "\n",
        "Let's check the dataset to make sure whether it really added a new column:"
      ],
      "metadata": {
        "id": "hKMFvZt0kNC2"
      }
    },
    {
      "cell_type": "code",
      "source": [
        "ds"
      ],
      "metadata": {
        "colab": {
          "base_uri": "https://localhost:8080/"
        },
        "id": "uCGoG6USj0s0",
        "outputId": "330b703e-bb1b-4ff0-e360-8ec34a36d4ee"
      },
      "execution_count": 19,
      "outputs": [
        {
          "output_type": "execute_result",
          "data": {
            "text/plain": [
              "DatasetDict({\n",
              "    train: Dataset({\n",
              "        features: ['tokens', 'ner_tags', 'num_tokens'],\n",
              "        num_rows: 497882\n",
              "    })\n",
              "    test: Dataset({\n",
              "        features: ['tokens', 'ner_tags', 'num_tokens'],\n",
              "        num_rows: 758\n",
              "    })\n",
              "    validation: Dataset({\n",
              "        features: ['tokens', 'ner_tags', 'num_tokens'],\n",
              "        num_rows: 2795\n",
              "    })\n",
              "})"
            ]
          },
          "metadata": {},
          "execution_count": 19
        }
      ]
    },
    {
      "cell_type": "markdown",
      "source": [
        "And looks like the new column was successfully added. Lets see a sample to make sure"
      ],
      "metadata": {
        "id": "lGneTn5oks57"
      }
    },
    {
      "cell_type": "code",
      "source": [
        "ds['train'][30_000]"
      ],
      "metadata": {
        "colab": {
          "base_uri": "https://localhost:8080/"
        },
        "id": "w2D_012vhhq2",
        "outputId": "85270de8-1c95-4ef8-b291-9b7f8bfdeb51"
      },
      "execution_count": 20,
      "outputs": [
        {
          "output_type": "execute_result",
          "data": {
            "text/plain": [
              "{'tokens': ['நிர்வாண',\n",
              "  'புகைப்படங்களை',\n",
              "  'இன்ஸ்டாகிராமில்',\n",
              "  'வெளியிட்டார்',\n",
              "  'இஷா',\n",
              "  '.'],\n",
              " 'ner_tags': [0, 0, 3, 0, 0, 0],\n",
              " 'num_tokens': 6}"
            ]
          },
          "metadata": {},
          "execution_count": 20
        }
      ]
    },
    {
      "cell_type": "code",
      "source": [
        "total_tokens = sum(ds['train']['num_tokens']) + sum(ds['test']['num_tokens']) + sum(ds['validation']['num_tokens'])\n",
        "total_tokens_in_millions = total_tokens / 1_000_000\n",
        "print(f\"Total tokens: {total_tokens_in_millions:.2f} million\")"
      ],
      "metadata": {
        "colab": {
          "base_uri": "https://localhost:8080/"
        },
        "id": "Na9jOBbHjlI_",
        "outputId": "03bfd378-d688-4aa0-ce79-8bddee28e018"
      },
      "execution_count": 21,
      "outputs": [
        {
          "output_type": "stream",
          "name": "stdout",
          "text": [
            "Total tokens: 6.00 million\n"
          ]
        }
      ]
    },
    {
      "cell_type": "markdown",
      "source": [
        "### **Q6.** The statement that the modified dataset increased the memory requirement about two fold is:\n",
        "\n",
        "- [ ] True\n",
        "- [x] False"
      ],
      "metadata": {
        "id": "ifpAeJSplErU"
      }
    },
    {
      "cell_type": "markdown",
      "source": [
        "If we again use `ls` to look at the cache directory, it seems that our modification created new cache files again but our memory requirement hasn't changed twofold. Its just that new cache files were created without removing the older ones that make it look like that"
      ],
      "metadata": {
        "id": "HkxSRZkhluhW"
      }
    },
    {
      "cell_type": "code",
      "source": [
        "!ls -lh ~/.cache/huggingface/datasets/ai4bharat___naamapadam/ta/1.0.0/9d4f21ac57d11ed4f9ea64854fdc9f5618e61acc"
      ],
      "metadata": {
        "colab": {
          "base_uri": "https://localhost:8080/"
        },
        "id": "8QID0mMBlJHC",
        "outputId": "c828c74e-0eda-4006-cabf-efc6cb49d4da"
      },
      "execution_count": 22,
      "outputs": [
        {
          "output_type": "stream",
          "name": "stdout",
          "text": [
            "total 363M\n",
            "-rw-r--r-- 1 root root 1.1M Sep 27 10:34 cache-1e5c1e90d25e5c48.arrow\n",
            "-rw-r--r-- 1 root root 320K Sep 27 10:34 cache-7a0835b47199f1f1.arrow\n",
            "-rw-r--r-- 1 root root 182M Sep 27 10:34 cache-bb530908781ec015.arrow\n",
            "-rw-r--r-- 1 root root 1.4K Sep 27 10:30 dataset_info.json\n",
            "-rw-r--r-- 1 root root   75 Sep 27 10:30 LICENSE\n",
            "-rw-r--r-- 1 root root 314K Sep 27 10:30 naamapadam-test.arrow\n",
            "-rw-r--r-- 1 root root 178M Sep 27 10:30 naamapadam-train.arrow\n",
            "-rw-r--r-- 1 root root 1.0M Sep 27 10:30 naamapadam-validation.arrow\n"
          ]
        }
      ]
    },
    {
      "cell_type": "markdown",
      "source": [
        "If we look at the `ds.cache_files` method, only the newly created cache files are the ones that are now associated with the dataset instead of all the files in the cache directory. The old ones don't contain our new modifications, they're just left there."
      ],
      "metadata": {
        "id": "qGtOLq4fmSEQ"
      }
    },
    {
      "cell_type": "code",
      "source": [
        "ds.cache_files"
      ],
      "metadata": {
        "colab": {
          "base_uri": "https://localhost:8080/"
        },
        "id": "NV5uAUvDlkC7",
        "outputId": "efb351c3-f676-482e-a4be-b790b6018539"
      },
      "execution_count": 23,
      "outputs": [
        {
          "output_type": "execute_result",
          "data": {
            "text/plain": [
              "{'train': [{'filename': '/root/.cache/huggingface/datasets/ai4bharat___naamapadam/ta/1.0.0/9d4f21ac57d11ed4f9ea64854fdc9f5618e61acc/cache-bb530908781ec015.arrow'}],\n",
              " 'test': [{'filename': '/root/.cache/huggingface/datasets/ai4bharat___naamapadam/ta/1.0.0/9d4f21ac57d11ed4f9ea64854fdc9f5618e61acc/cache-7a0835b47199f1f1.arrow'}],\n",
              " 'validation': [{'filename': '/root/.cache/huggingface/datasets/ai4bharat___naamapadam/ta/1.0.0/9d4f21ac57d11ed4f9ea64854fdc9f5618e61acc/cache-1e5c1e90d25e5c48.arrow'}]}"
            ]
          },
          "metadata": {},
          "execution_count": 23
        }
      ]
    },
    {
      "cell_type": "markdown",
      "source": [
        "The file size of these new files is pretty much the same as the old ones, there's not much of an increase, just a few MBs more"
      ],
      "metadata": {
        "id": "66SJdrr5pb3Q"
      }
    },
    {
      "cell_type": "code",
      "source": [
        "get_total_dataset_size(ds)"
      ],
      "metadata": {
        "colab": {
          "base_uri": "https://localhost:8080/"
        },
        "id": "H10MWyaapWho",
        "outputId": "85ec92fe-7c0e-4f0a-d0d5-5e139f63d83b"
      },
      "execution_count": 24,
      "outputs": [
        {
          "output_type": "stream",
          "name": "stdout",
          "text": [
            "Total size: 183.14 MB\n"
          ]
        }
      ]
    },
    {
      "cell_type": "markdown",
      "source": [
        "We can see that the size of the newly created files is just a little bit more than the old ones, it went from 179.2M to 183M\n",
        "\n",
        "So, the memory increase of the dataset is not twofold, its just that the disk usage is increasing because the old files are also lying around"
      ],
      "metadata": {
        "id": "20GgzC9ZpaOg"
      }
    },
    {
      "cell_type": "markdown",
      "source": [
        "**Q7.** Concatenate all the samples across the splits in the following order: [train:test:validation]. Currently, each sample contains a list of words (tokens). Create a sentence by joining the individual words (tokens) in each sample using a single white space as a delimiter and store the re\u0002sulting sample in a new column named “text”. Create a new dataset by removing the columns “ner tags” and “tokens”. Store the new dataset in the same variable “ds”. Enter the total number of samples in “ds”"
      ],
      "metadata": {
        "id": "WcBXEU_rp6-_"
      }
    },
    {
      "cell_type": "code",
      "source": [
        "# even if we don't do anything, the number of rows will still remain the same\n",
        "ds['train'].num_rows + ds['test'].num_rows + ds['validation'].num_rows"
      ],
      "metadata": {
        "colab": {
          "base_uri": "https://localhost:8080/"
        },
        "id": "9ZmWBi13z1Wo",
        "outputId": "db37b9b8-a05b-42fc-f92d-600079fcc8cb"
      },
      "execution_count": 25,
      "outputs": [
        {
          "output_type": "execute_result",
          "data": {
            "text/plain": [
              "501435"
            ]
          },
          "metadata": {},
          "execution_count": 25
        }
      ]
    },
    {
      "cell_type": "code",
      "source": [
        "# Concatenate the splits\n",
        "ds = datasets.concatenate_datasets([ds['train'], ds['test'], ds['validation']])\n",
        "\n",
        "# Create the 'text' column\n",
        "def create_text(example):\n",
        "    example['text'] = ' '.join(example['tokens'])\n",
        "    return example\n",
        "\n",
        "ds = ds.map(create_text)\n",
        "\n",
        "# Remove the 'ner_tags' and 'tokens' columns\n",
        "ds = ds.remove_columns(['ner_tags', 'tokens'])"
      ],
      "metadata": {
        "colab": {
          "base_uri": "https://localhost:8080/",
          "height": 49,
          "referenced_widgets": [
            "f39eff32e5f44d9ba156372c06add4e6",
            "f13f1dc4ddf144e9b80ddba794ab05f2",
            "180d815dd71046eda5f52d495ced9353",
            "389095d7b3c54be2be734266e3b1d9fe",
            "63b80e4e637343bc9c8646a2a8123539",
            "4f4c3652db6a488489cbd4ea3c18fda3",
            "a8da65f5bc6b446c83511c206bcc9182",
            "fa0a8b67290c4ecdaf1a5b4c63821906",
            "c66b0b78c336416b85dadb3038a29ad3",
            "f606cffd6c0d437e860ce275f2a4c38c",
            "61e15e8c5ef84c02adffd375f16043f3"
          ]
        },
        "id": "FqvgX5OipuMM",
        "outputId": "4517df45-1ed4-4fe6-84d1-4c3a4f1be996"
      },
      "execution_count": 26,
      "outputs": [
        {
          "output_type": "display_data",
          "data": {
            "text/plain": [
              "Map:   0%|          | 0/501435 [00:00<?, ? examples/s]"
            ],
            "application/vnd.jupyter.widget-view+json": {
              "version_major": 2,
              "version_minor": 0,
              "model_id": "f39eff32e5f44d9ba156372c06add4e6"
            }
          },
          "metadata": {}
        }
      ]
    },
    {
      "cell_type": "code",
      "source": [
        "ds"
      ],
      "metadata": {
        "colab": {
          "base_uri": "https://localhost:8080/"
        },
        "id": "Lzc-004-0hvq",
        "outputId": "c8c3b5eb-49fd-4a7a-ff5e-c4f63b2f97af"
      },
      "execution_count": 27,
      "outputs": [
        {
          "output_type": "execute_result",
          "data": {
            "text/plain": [
              "Dataset({\n",
              "    features: ['num_tokens', 'text'],\n",
              "    num_rows: 501435\n",
              "})"
            ]
          },
          "metadata": {},
          "execution_count": 27
        }
      ]
    },
    {
      "cell_type": "markdown",
      "source": [
        "So there are `501435` total samples. Lets also check whether our modification applied correctly and if the new column was succesfully created.\n"
      ],
      "metadata": {
        "id": "XzSNHB3h0pYE"
      }
    },
    {
      "cell_type": "code",
      "source": [
        "ds[30_000]"
      ],
      "metadata": {
        "colab": {
          "base_uri": "https://localhost:8080/"
        },
        "id": "YxUPVmov26Mg",
        "outputId": "041199d8-c55b-40bd-d8ab-0032df292311"
      },
      "execution_count": 28,
      "outputs": [
        {
          "output_type": "execute_result",
          "data": {
            "text/plain": [
              "{'num_tokens': 6,\n",
              " 'text': 'நிர்வாண புகைப்படங்களை இன்ஸ்டாகிராமில் வெளியிட்டார் இஷா .'}"
            ]
          },
          "metadata": {},
          "execution_count": 28
        }
      ]
    },
    {
      "cell_type": "markdown",
      "source": [
        "The text column now has a properly concatenated text of the tokens"
      ],
      "metadata": {
        "id": "RA4lFKIy3OD_"
      }
    },
    {
      "cell_type": "markdown",
      "source": [
        "**Q8.** Each modification to the dataset introduces new cache file in the cache directory, thereby increasing the disk space. The statement is\n",
        "- [x] True\n",
        "- [ ] False"
      ],
      "metadata": {
        "id": "ZyiJnzuk2UIO"
      }
    },
    {
      "cell_type": "code",
      "source": [
        "!ls -lh ~/.cache/huggingface/datasets/ai4bharat___naamapadam/ta/1.0.0/9d4f21ac57d11ed4f9ea64854fdc9f5618e61acc"
      ],
      "metadata": {
        "colab": {
          "base_uri": "https://localhost:8080/"
        },
        "id": "KZUcOPAD2dVJ",
        "outputId": "6224cafe-fd30-418d-ad75-872ab411ebb2"
      },
      "execution_count": 29,
      "outputs": [
        {
          "output_type": "stream",
          "name": "stdout",
          "text": [
            "total 660M\n",
            "-rw-r--r-- 1 root root 297M Sep 27 10:36 cache-05ab4ef9eb274dcf.arrow\n",
            "-rw-r--r-- 1 root root 1.1M Sep 27 10:34 cache-1e5c1e90d25e5c48.arrow\n",
            "-rw-r--r-- 1 root root 320K Sep 27 10:34 cache-7a0835b47199f1f1.arrow\n",
            "-rw-r--r-- 1 root root 182M Sep 27 10:34 cache-bb530908781ec015.arrow\n",
            "-rw-r--r-- 1 root root 1.4K Sep 27 10:30 dataset_info.json\n",
            "-rw-r--r-- 1 root root   75 Sep 27 10:30 LICENSE\n",
            "-rw-r--r-- 1 root root 314K Sep 27 10:30 naamapadam-test.arrow\n",
            "-rw-r--r-- 1 root root 178M Sep 27 10:30 naamapadam-train.arrow\n",
            "-rw-r--r-- 1 root root 1.0M Sep 27 10:30 naamapadam-validation.arrow\n"
          ]
        }
      ]
    },
    {
      "cell_type": "code",
      "source": [
        "ds.cache_files"
      ],
      "metadata": {
        "colab": {
          "base_uri": "https://localhost:8080/"
        },
        "id": "qichBn582MVG",
        "outputId": "0b91f93d-2ddd-499d-8943-5867dbdb98e2"
      },
      "execution_count": 30,
      "outputs": [
        {
          "output_type": "execute_result",
          "data": {
            "text/plain": [
              "[{'filename': '/root/.cache/huggingface/datasets/ai4bharat___naamapadam/ta/1.0.0/9d4f21ac57d11ed4f9ea64854fdc9f5618e61acc/cache-05ab4ef9eb274dcf.arrow'}]"
            ]
          },
          "metadata": {},
          "execution_count": 30
        }
      ]
    },
    {
      "cell_type": "markdown",
      "source": [
        "So as you can see, again a new separate cache file was created for the concatenated dataset that we created and the older ones are still left, so any modification that we make introduces new cache files and increases the disk space."
      ],
      "metadata": {
        "id": "ri88mQdv22SY"
      }
    },
    {
      "cell_type": "markdown",
      "source": [
        "**Q9.** Filter the dataset so that all the samples in the dataset should have at least six tokens (any symbol separated by a white space is considered a token). Enter the number of samples in the dataset after filtering. Enter the exact number. If the answer is 123456, enter it as 123456."
      ],
      "metadata": {
        "id": "_6Pt_m2f4RsN"
      }
    },
    {
      "cell_type": "code",
      "source": [
        "ds = ds.filter(lambda example: example['num_tokens']>=6)\n",
        "ds"
      ],
      "metadata": {
        "colab": {
          "base_uri": "https://localhost:8080/",
          "height": 118,
          "referenced_widgets": [
            "1a0460531f73464a8ffc44eee1240f38",
            "13ff17828296456b8be1a18eeb14ec01",
            "05c81b1e10e44df1926d7aaa5387b679",
            "44e3cbde162746eca38d9ac654748488",
            "7231adfa7de34a319f9491d136ccdf6e",
            "7d0d9991585446729ecb356e97438623",
            "aa20651b6bd348d4b0d66724590ccf00",
            "0e0385082b4945af83ebc5bbbb94625a",
            "68d2864568b54977a22a6f4d97f90577",
            "c2a5e155e9594bc3a736232c78f6b2bd",
            "91a23a6874854ebe8a7f726caa9eb5d0"
          ]
        },
        "id": "QqHqrLbw3dS1",
        "outputId": "2c40b6a5-4003-4991-ad60-2110b48348bd"
      },
      "execution_count": 31,
      "outputs": [
        {
          "output_type": "display_data",
          "data": {
            "text/plain": [
              "Filter:   0%|          | 0/501435 [00:00<?, ? examples/s]"
            ],
            "application/vnd.jupyter.widget-view+json": {
              "version_major": 2,
              "version_minor": 0,
              "model_id": "1a0460531f73464a8ffc44eee1240f38"
            }
          },
          "metadata": {}
        },
        {
          "output_type": "execute_result",
          "data": {
            "text/plain": [
              "Dataset({\n",
              "    features: ['num_tokens', 'text'],\n",
              "    num_rows: 370495\n",
              "})"
            ]
          },
          "metadata": {},
          "execution_count": 31
        }
      ]
    },
    {
      "cell_type": "markdown",
      "source": [
        "So there are `370495` samples which have atleast 6 tokens"
      ],
      "metadata": {
        "id": "2dQb0sR647nS"
      }
    },
    {
      "cell_type": "markdown",
      "source": [
        "**Q10.** Download all the splits of Tamil sub-dataset “inltkh.ta” of https://huggingface.co/datasets/ai4bharat/indic_glue .\n",
        "\n",
        "Filter the dataset so that each sample contains at least six words (separated by a single white space).Then Interleave the resultant dataset with the above filtered dataset of naamapadam. Take 80% of samples from naamapadam and 20% from indic glue. Enter the number of samples after interleaving the datasets\n",
        "\n",
        "Set the seed to 42 for interleaving."
      ],
      "metadata": {
        "id": "1SuCtvAv5I5_"
      }
    },
    {
      "cell_type": "code",
      "source": [
        "# get_dataset_config_names('ai4bharat/indic_glue')"
      ],
      "metadata": {
        "id": "Zk1tHNrY6SFP"
      },
      "execution_count": 32,
      "outputs": []
    },
    {
      "cell_type": "markdown",
      "source": [
        "Download all splits of Tamil sub dataset"
      ],
      "metadata": {
        "id": "XYstxBfU8AOm"
      }
    },
    {
      "cell_type": "code",
      "source": [
        "indic_glue_tamil = load_dataset('ai4bharat/indic_glue', 'inltkh.ta', split='train+test+validation')"
      ],
      "metadata": {
        "id": "Iw3g2I6b4-P4"
      },
      "execution_count": 34,
      "outputs": []
    },
    {
      "cell_type": "code",
      "source": [
        "indic_glue_tamil = indic_glue_tamil.filter(lambda example: len(example['text'].split())>=6)\n",
        "indic_glue_tamil"
      ],
      "metadata": {
        "colab": {
          "base_uri": "https://localhost:8080/",
          "height": 118,
          "referenced_widgets": [
            "3078599ef6f94b1eb9c597849d57c7ff",
            "3a4ea8786b8d42d7b96e9e5b59a1ad1a",
            "72b9e784f8684ce1bf6c61f63f58814a",
            "952700f4a2eb4ae0bbe457c66bf3f958",
            "24550886dce240ef89e815ca9b3a91d6",
            "2e84e3d084c84a5e8beef6fffc239281",
            "52b1c7301f8d435281a683e774e0c8ba",
            "2873227cecd3495ebad86247eed1b728",
            "a96c859e19ea40beb4472641699962f9",
            "22025f407ec34120a5b23dd229409f9a",
            "d8be3475dc974e59ad1eed96dc2f8db0"
          ]
        },
        "id": "YRfNt0An6usY",
        "outputId": "cfb3411c-e470-42e5-bb4d-86546eb51106"
      },
      "execution_count": 35,
      "outputs": [
        {
          "output_type": "display_data",
          "data": {
            "text/plain": [
              "Filter:   0%|          | 0/6684 [00:00<?, ? examples/s]"
            ],
            "application/vnd.jupyter.widget-view+json": {
              "version_major": 2,
              "version_minor": 0,
              "model_id": "3078599ef6f94b1eb9c597849d57c7ff"
            }
          },
          "metadata": {}
        },
        {
          "output_type": "execute_result",
          "data": {
            "text/plain": [
              "Dataset({\n",
              "    features: ['text', 'label'],\n",
              "    num_rows: 6416\n",
              "})"
            ]
          },
          "metadata": {},
          "execution_count": 35
        }
      ]
    },
    {
      "cell_type": "code",
      "source": [
        "from datasets import interleave_datasets\n",
        "\n",
        "interleaved_ds = interleave_datasets([ds, indic_glue_tamil], probabilities=[0.8, 0.2], seed=42)\n",
        "interleaved_ds"
      ],
      "metadata": {
        "colab": {
          "base_uri": "https://localhost:8080/"
        },
        "id": "95DwQDR07xYh",
        "outputId": "8fa78456-ad0f-4cb6-800d-e1913b5eec28"
      },
      "execution_count": 36,
      "outputs": [
        {
          "output_type": "execute_result",
          "data": {
            "text/plain": [
              "Dataset({\n",
              "    features: ['num_tokens', 'text', 'label'],\n",
              "    num_rows: 32290\n",
              "})"
            ]
          },
          "metadata": {},
          "execution_count": 36
        }
      ]
    },
    {
      "cell_type": "markdown",
      "source": [
        "There are `32290` samples after interleaving."
      ],
      "metadata": {
        "id": "6JE9XZeT-Rwh"
      }
    }
  ]
}